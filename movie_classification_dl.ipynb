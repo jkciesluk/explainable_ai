{
 "cells": [
  {
   "cell_type": "markdown",
   "metadata": {},
   "source": [
    "# Loading the data"
   ]
  },
  {
   "cell_type": "code",
   "execution_count": 36,
   "metadata": {},
   "outputs": [],
   "source": [
    "import io\n",
    "import pandas as pd\n",
    "import numpy as np\n",
    "from IPython.display import clear_output\n",
    "from tqdm.auto import tqdm\n",
    "from copy import deepcopy\n",
    "\n",
    "\n",
    "import torch\n",
    "import torch.nn.functional as F\n",
    "import torchvision\n",
    "import torchvision.transforms as transforms\n",
    "from sklearn.model_selection import train_test_split\n",
    "from sklearn.feature_extraction.text import TfidfVectorizer\n",
    "import torch.optim as optim\n",
    "from torch import nn\n",
    "from sklearn.calibration import LabelEncoder\n",
    "import torch.utils.data as data_utils\n",
    "from torch.utils.data import DataLoader, Dataset\n",
    "\n",
    "# set seed \n",
    "seed = 0\n",
    "torch.manual_seed(0)\n",
    "np.random.seed(0)\n",
    "device = torch.device('cuda' if torch.cuda.is_available() else 'cpu')\n"
   ]
  },
  {
   "cell_type": "code",
   "execution_count": 37,
   "metadata": {},
   "outputs": [],
   "source": [
    "# Read cleaned data from csv\n",
    "df = pd.read_csv('input/movie_data_tmbd_cleaned.csv', sep='|')"
   ]
  },
  {
   "cell_type": "code",
   "execution_count": 38,
   "metadata": {},
   "outputs": [
    {
     "name": "stdout",
     "output_type": "stream",
     "text": [
      "<class 'pandas.core.frame.DataFrame'>\n",
      "RangeIndex: 17112 entries, 0 to 17111\n",
      "Data columns (total 22 columns):\n",
      " #   Column                Non-Null Count  Dtype  \n",
      "---  ------                --------------  -----  \n",
      " 0   adult                 17112 non-null  int64  \n",
      " 1   budget                17112 non-null  int64  \n",
      " 2   genres                17072 non-null  object \n",
      " 3   original_language     17112 non-null  object \n",
      " 4   overview              17112 non-null  object \n",
      " 5   popularity            17112 non-null  float64\n",
      " 6   production_companies  15769 non-null  object \n",
      " 7   production_countries  16637 non-null  object \n",
      " 8   revenue               17112 non-null  int64  \n",
      " 9   runtime               17112 non-null  float64\n",
      " 10  spoken_languages      16971 non-null  object \n",
      " 11  status                17112 non-null  object \n",
      " 12  tagline               17112 non-null  object \n",
      " 13  video                 17112 non-null  int64  \n",
      " 14  vote_average          17112 non-null  float64\n",
      " 15  vote_count            17112 non-null  float64\n",
      " 16  cast                  17048 non-null  object \n",
      " 17  directors             17078 non-null  object \n",
      " 18  release_year          17112 non-null  int64  \n",
      " 19  release_month         17112 non-null  int64  \n",
      " 20  release_day           17112 non-null  int64  \n",
      " 21  category              17112 non-null  object \n",
      "dtypes: float64(4), int64(7), object(11)\n",
      "memory usage: 2.9+ MB\n",
      "None\n",
      "   adult    budget                                  genres original_language  \\\n",
      "0      0         0                                   Drama                en   \n",
      "1      0   7000000                                   Drama                en   \n",
      "2      0    600000  TV Movie,Science Fiction,Action,Horror                en   \n",
      "3      0         0                                  Comedy                en   \n",
      "4      0  15000000                                  Comedy                en   \n",
      "\n",
      "                                            overview  popularity  \\\n",
      "0  A group of 5 people find themselves trapped in...      11.082   \n",
      "1  In the early 70s, Cathy Rush becomes the head ...       8.506   \n",
      "2  When a fracking mishap accidentally rips apart...       6.943   \n",
      "3  Plucky and innocent Laci Cox is hired to teach...       7.311   \n",
      "4  After one short date, a brilliant crossword co...      13.802   \n",
      "\n",
      "                                production_companies  \\\n",
      "0  Vitamin A Films,Black Bear Studios,The Film Ho...   \n",
      "1                                       Quaker Media   \n",
      "2                          CineTel Films,CALUV Films   \n",
      "3                                      Tiberius Film   \n",
      "4  Fox 2000 Pictures,Dune Entertainment III,Forti...   \n",
      "\n",
      "       production_countries   revenue  runtime  ...  \\\n",
      "0  United States of America         0     88.0  ...   \n",
      "1  United States of America         0    102.0  ...   \n",
      "2  United States of America         0     84.0  ...   \n",
      "3  United States of America         0     92.0  ...   \n",
      "4  United States of America  40105542     99.0  ...   \n",
      "\n",
      "                                             tagline video vote_average  \\\n",
      "0  Five strangers are trapped in an elevator in t...     0          5.0   \n",
      "1         She dared to dream. They dared to believe.     0          5.0   \n",
      "2                         You Can Never Truly Escape     0          5.0   \n",
      "3                                            Unknown     0          5.0   \n",
      "4                               A Comedy That Clings     0          5.0   \n",
      "\n",
      "   vote_count                                               cast  \\\n",
      "0       128.0  Charlie Sheen,Whoopi Goldberg,Luis Guzmán,Gina...   \n",
      "1        23.0  Carla Gugino,Marley Shelton,Ellen Burstyn,Davi...   \n",
      "2        30.0  Dominique Swain,Traci Lords,Christine Nguyen,C...   \n",
      "3        22.0  Whitney Moore,Tom Arnold,Simon Rex,Lucius Bast...   \n",
      "4       669.0  Sandra Bullock,Thomas Haden Church,Bradley Coo...   \n",
      "\n",
      "       directors release_year release_month  release_day  category  \n",
      "0  Martin Guigui         2017             9            7       bad  \n",
      "1   Tim Chambers         2009            10           21       bad  \n",
      "2   Jim Wynorski         2015            11            4       bad  \n",
      "3  Andrew Drazek         2015             9            3       bad  \n",
      "4    Phil Traill         2009             3           19       bad  \n",
      "\n",
      "[5 rows x 22 columns]\n"
     ]
    }
   ],
   "source": [
    "# Print info about the data\n",
    "print(df.info())\n",
    "print(df.head())"
   ]
  },
  {
   "cell_type": "code",
   "execution_count": 39,
   "metadata": {},
   "outputs": [],
   "source": [
    "# Encode categorical variables\n",
    "label_encoder = LabelEncoder()\n",
    "df['category'] = label_encoder.fit_transform(df['category'])  # Replace with your target column"
   ]
  },
  {
   "cell_type": "code",
   "execution_count": 40,
   "metadata": {},
   "outputs": [],
   "source": [
    "\n",
    "# Initialize the TF-IDF Vectorizer\n",
    "tfidf_vectorizer = TfidfVectorizer()\n",
    "\n",
    "# Encode the overview and tagline columns\n",
    "overview_encoded = tfidf_vectorizer.fit_transform(df['overview']).toarray()\n",
    "overview_encoded_df = pd.DataFrame(overview_encoded, columns=tfidf_vectorizer.get_feature_names_out())\n",
    "\n",
    "tagline_encoded = tfidf_vectorizer.fit_transform(df['tagline']).toarray()\n",
    "tagline_encoded_df = pd.DataFrame(tagline_encoded, columns=tfidf_vectorizer.get_feature_names_out())\n"
   ]
  },
  {
   "cell_type": "markdown",
   "metadata": {},
   "source": [
    "## Encode cast"
   ]
  },
  {
   "cell_type": "code",
   "execution_count": 41,
   "metadata": {},
   "outputs": [],
   "source": [
    "# Get list of all unique names in df[`cast`]\n",
    "df['cast'] = df['cast'].replace(np.nan, '')\n",
    "unique_cast = df['cast'].str.split(',').explode()\n",
    "unique_cast.value_counts()\n",
    "# Take only actors that appeared in more than 10 movies\n",
    "top_cast = unique_cast.value_counts()[unique_cast.value_counts() > 10]\n",
    "\n",
    "df['cast'] = df['cast'].apply(lambda x: [i for i in x.split(',') if i in top_cast.index]).apply(lambda x: ','.join(x))"
   ]
  },
  {
   "cell_type": "code",
   "execution_count": 42,
   "metadata": {},
   "outputs": [
    {
     "name": "stdout",
     "output_type": "stream",
     "text": [
      "0        Charlie Sheen,Whoopi Goldberg,Luis Guzmán,Gina...\n",
      "1                Carla Gugino,Marley Shelton,Ellen Burstyn\n",
      "2                         Dominique Swain,Christine Nguyen\n",
      "3                     Tom Arnold,Simon Rex,Laura Cayouette\n",
      "4        Sandra Bullock,Thomas Haden Church,Bradley Coo...\n",
      "                               ...                        \n",
      "17107                            Larry Pine,Dakota Fanning\n",
      "17108                                                     \n",
      "17109                                              Gong Li\n",
      "17110                                                     \n",
      "17111    François Cluzet,Jane Seymour,Jean-François Bal...\n",
      "Name: cast, Length: 17112, dtype: object\n"
     ]
    }
   ],
   "source": [
    "print(df['cast'])"
   ]
  },
  {
   "cell_type": "markdown",
   "metadata": {},
   "source": [
    "## Encode production companies"
   ]
  },
  {
   "cell_type": "code",
   "execution_count": 52,
   "metadata": {},
   "outputs": [
    {
     "name": "stdout",
     "output_type": "stream",
     "text": [
      "0\n"
     ]
    }
   ],
   "source": [
    "df['production_companies'] = df['production_companies'].replace(np.nan, '')\n",
    "unique_production_companies = df['production_companies'].str.split(',').explode()\n",
    "unique_production_companies.value_counts()\n",
    "\n",
    "top_companies = unique_production_companies.value_counts()[unique_production_companies.value_counts() > 10]\n",
    "df['production_companies'] = df['production_companies'].apply(lambda x: [i for i in x.split(',') if i in top_companies.index]).apply(lambda x: ','.join(x))\n"
   ]
  },
  {
   "cell_type": "markdown",
   "metadata": {},
   "source": [
    "## Encode directors"
   ]
  },
  {
   "cell_type": "code",
   "execution_count": 58,
   "metadata": {},
   "outputs": [],
   "source": [
    "df['directors'] = df['directors'].replace(np.nan, '')\n",
    "unique_directors = df['directors'].str.split(',').explode()\n",
    "unique_directors.value_counts()\n",
    "\n",
    "top_directors = unique_directors.value_counts()[unique_directors.value_counts() > 10]\n",
    "df['directors'] = df['directors'].apply(lambda x: [i for i in x.split(',') if i in top_directors.index]).apply(lambda x: ','.join(x))"
   ]
  },
  {
   "cell_type": "code",
   "execution_count": 59,
   "metadata": {},
   "outputs": [
    {
     "name": "stdout",
     "output_type": "stream",
     "text": [
      "(17112, 20)\n",
      "(17112, 457)\n",
      "(17112, 136)\n",
      "(17112, 3283)\n",
      "(17112, 118)\n"
     ]
    }
   ],
   "source": [
    "from sklearn.preprocessing import MultiLabelBinarizer\n",
    "\n",
    "# Function to preprocess the column\n",
    "def preprocess_column(column):\n",
    "    # Split the strings into lists\n",
    "    return column.fillna('').str.split(',')\n",
    "\n",
    "# Function to encode a list column with MultiLabelBinarizer\n",
    "def encode_column(column):\n",
    "    mlb = MultiLabelBinarizer()\n",
    "    return mlb.fit_transform(preprocess_column(column)), mlb.classes_\n",
    "\n",
    "# Encoding list-based features\n",
    "genres_encoded, genres_classes = encode_column(df['genres'])\n",
    "production_companies_encoded, companies_classes = encode_column(df['production_companies'])\n",
    "production_countries_encoded, countries_classes = encode_column(df['production_countries'])\n",
    "cast_encoded, cast_classes = encode_column(df['cast'])\n",
    "directors_encoded, directors_classes = encode_column(df['directors'])\n",
    "\n",
    "# Create DataFrames for the encoded list columns\n",
    "genres_encoded_df = pd.DataFrame(genres_encoded, columns=genres_classes)\n",
    "production_companies_encoded_df = pd.DataFrame(production_companies_encoded, columns=companies_classes)\n",
    "production_countries_encoded_df = pd.DataFrame(production_countries_encoded, columns=countries_classes)\n",
    "cast_encoded_df = pd.DataFrame(cast_encoded, columns=cast_classes)\n",
    "directors_encoded_df = pd.DataFrame(directors_encoded, columns=directors_classes)\n",
    "\n",
    "print(genres_encoded_df.shape)\n",
    "print(production_companies_encoded_df.shape)\n",
    "print(production_countries_encoded_df.shape)\n",
    "print(cast_encoded_df.shape)\n",
    "print(directors_encoded_df.shape)\n"
   ]
  },
  {
   "cell_type": "code",
   "execution_count": 61,
   "metadata": {},
   "outputs": [],
   "source": [
    "unencoded_df = df[['adult', 'budget', 'popularity', 'runtime', 'vote_count', 'release_year', 'release_month', 'release_day']]\n",
    "final_df = pd.concat([overview_encoded_df, tagline_encoded_df, genres_encoded_df, cast_encoded_df, \n",
    "                      production_companies_encoded_df, production_countries_encoded_df, directors_encoded_df, unencoded_df], axis=1)"
   ]
  },
  {
   "cell_type": "markdown",
   "metadata": {},
   "source": [
    "# NN"
   ]
  },
  {
   "cell_type": "code",
   "execution_count": 62,
   "metadata": {},
   "outputs": [],
   "source": [
    "X = final_df\n",
    "Y = df['category']"
   ]
  },
  {
   "cell_type": "code",
   "execution_count": 63,
   "metadata": {},
   "outputs": [
    {
     "name": "stdout",
     "output_type": "stream",
     "text": [
      "(17112, 54096)\n",
      "(17112, 42219)\n"
     ]
    }
   ],
   "source": [
    "print(X.shape)\n",
    "print(overview_encoded_df.shape)"
   ]
  },
  {
   "cell_type": "code",
   "execution_count": 64,
   "metadata": {},
   "outputs": [],
   "source": [
    "# Split the dataset into training and testing sets\n",
    "X_train, X_test, Y_train, Y_test = train_test_split(X, Y, test_size=0.2, random_state=42)\n"
   ]
  },
  {
   "cell_type": "code",
   "execution_count": 65,
   "metadata": {},
   "outputs": [],
   "source": [
    "# Create a custom Dataset class\n",
    "class MovieDataset(Dataset):\n",
    "    def __init__(self, features, labels):\n",
    "        # Convert features to a NumPy array if it's a DataFrame\n",
    "        if isinstance(features, pd.DataFrame):\n",
    "            features = features.to_numpy()  # Convert DataFrame to NumPy array\n",
    "        \n",
    "        self.X = torch.tensor(features, dtype=torch.float32)  # Convert features to tensor\n",
    "        self.y = torch.tensor(labels, dtype=torch.long)       # Convert labels to tensor\n",
    "\n",
    "    def __len__(self):\n",
    "        return len(self.y)\n",
    "\n",
    "    def __getitem__(self, idx):\n",
    "        return self.X[idx], self.y[idx]\n",
    "\n",
    "# Assuming X_train and Y_train are your features and labels DataFrames\n",
    "# Convert Y_train to a NumPy array if it's also a DataFrame\n",
    "if isinstance(Y_train, pd.Series):\n",
    "    Y_train = Y_train.to_numpy()\n",
    "\n",
    "if isinstance(Y_test, pd.Series):\n",
    "    Y_test = Y_test.to_numpy()\n",
    "\n",
    "# Create Dataset objects\n",
    "train_dataset = MovieDataset(X_train, Y_train)\n",
    "test_dataset = MovieDataset(X_test, Y_test)\n",
    "\n",
    "# Create DataLoader objects\n",
    "train_loader = DataLoader(train_dataset, batch_size=32, shuffle=True)\n",
    "test_loader = DataLoader(test_dataset, batch_size=32, shuffle=False)\n"
   ]
  },
  {
   "cell_type": "code",
   "execution_count": 12,
   "metadata": {},
   "outputs": [],
   "source": [
    "import torch.nn as nn\n",
    "import torch.nn.functional as F\n",
    "\n",
    "class SimpleNN(nn.Module):\n",
    "    def __init__(self, input_size, num_classes):\n",
    "        super(SimpleNN, self).__init__()\n",
    "        self.fc1 = nn.Linear(input_size, 128)  # First hidden layer\n",
    "        self.fc2 = nn.Linear(128, 64)           # Second hidden layer\n",
    "        self.fc3 = nn.Linear(64, num_classes)   # Output layer\n",
    "\n",
    "    def forward(self, x):\n",
    "        x = F.relu(self.fc1(x))  # Activation function\n",
    "        x = F.relu(self.fc2(x))\n",
    "        x = self.fc3(x)\n",
    "        return x\n",
    "\n",
    "# Initialize the model\n",
    "input_size = X_train.shape[1]  # Number of input features\n",
    "num_classes = len(np.unique(Y_train))  # Number of classes in the target\n",
    "model = SimpleNN(input_size, num_classes)\n"
   ]
  },
  {
   "cell_type": "code",
   "execution_count": 66,
   "metadata": {},
   "outputs": [],
   "source": [
    "# Define the neural network\n",
    "class MovieClassifier(nn.Module):\n",
    "    def __init__(self, input_size, num_classes):\n",
    "        super(MovieClassifier, self).__init__()\n",
    "        self.fc1 = nn.Linear(input_size, 512)  # First hidden layer with 128 neurons\n",
    "        self.fc2 = nn.Linear(512, 128)           # Second hidden layer with 64 neurons\n",
    "        self.fc3 = nn.Linear(128, 64)            # Third hidden layer with 32 neurons\n",
    "        self.fc4 = nn.Linear(64, 16)            # Fourth hidden layer with 16 neurons\n",
    "        self.output = nn.Linear(16, num_classes) # Output layer\n",
    "\n",
    "        # Activation function\n",
    "        self.relu = nn.ReLU()\n",
    "        # Dropout layer for regularization\n",
    "        self.dropout = nn.Dropout(0.5)\n",
    "\n",
    "    def forward(self, x):\n",
    "        x = self.relu(self.fc1(x))\n",
    "        x = self.dropout(x)\n",
    "        x = self.relu(self.fc2(x))\n",
    "        x = self.dropout(x)\n",
    "        x = self.relu(self.fc3(x))\n",
    "        x = self.dropout(x)\n",
    "        x = self.relu(self.fc4(x))\n",
    "        x = self.output(x)  # Output layer (logits)\n",
    "        return x\n",
    "    \n",
    "# Initialize the model\n",
    "input_size = X_train.shape[1]  # Number of input features\n",
    "num_classes = len(np.unique(Y_train))  # Number of classes in the target\n",
    "model = MovieClassifier(input_size, num_classes)"
   ]
  },
  {
   "cell_type": "code",
   "execution_count": 67,
   "metadata": {},
   "outputs": [
    {
     "name": "stdout",
     "output_type": "stream",
     "text": [
      "Epoch [1/10], Loss: 37.6963\n",
      "Epoch [2/10], Loss: 1.3810\n",
      "Epoch [3/10], Loss: 1.3898\n",
      "Epoch [4/10], Loss: 1.3958\n",
      "Epoch [5/10], Loss: 1.3853\n",
      "Epoch [6/10], Loss: 1.3892\n",
      "Epoch [7/10], Loss: 1.3830\n",
      "Epoch [8/10], Loss: 1.3817\n",
      "Epoch [9/10], Loss: 1.3881\n",
      "Epoch [10/10], Loss: 1.3840\n"
     ]
    }
   ],
   "source": [
    "# Set the device\n",
    "model.to(device)\n",
    "\n",
    "# Define loss function and optimizer\n",
    "criterion = nn.CrossEntropyLoss()\n",
    "optimizer = torch.optim.Adam(model.parameters(), lr=0.001)\n",
    "\n",
    "# Training loop\n",
    "num_epochs = 10  # Set the number of epochs\n",
    "for epoch in range(num_epochs):\n",
    "    model.train()\n",
    "    for features, labels in train_loader:\n",
    "        features, labels = features.to(device), labels.to(device)\n",
    "\n",
    "        # Forward pass\n",
    "        outputs = model(features)\n",
    "        loss = criterion(outputs, labels)\n",
    "\n",
    "        # Backward pass and optimization\n",
    "        optimizer.zero_grad()\n",
    "        loss.backward()\n",
    "        optimizer.step()\n",
    "\n",
    "    print(f'Epoch [{epoch+1}/{num_epochs}], Loss: {loss.item():.4f}')\n"
   ]
  },
  {
   "cell_type": "code",
   "execution_count": 69,
   "metadata": {},
   "outputs": [
    {
     "data": {
      "image/png": "[encoded data removed]",
      "text/plain": [
       "<Figure size 1000x800 with 2 Axes>"
      ]
     },
     "metadata": {},
     "output_type": "display_data"
    }
   ],
   "source": [
    "# Print confusion matrix\n",
    "from sklearn.metrics import confusion_matrix\n",
    "import seaborn as sns\n",
    "import matplotlib.pyplot as plt\n",
    "\n",
    "model.eval()\n",
    "y_true = []\n",
    "y_pred = []\n",
    "\n",
    "with torch.no_grad():\n",
    "    for features, labels in test_loader:\n",
    "        features, labels = features.to(device), labels.to(device)\n",
    "        outputs = model(features)\n",
    "        _, predicted = torch.max(outputs.data, 1)  # Get the predicted class\n",
    "        y_true += labels.cpu().numpy().tolist()\n",
    "        y_pred += predicted.cpu().numpy().tolist()\n",
    "\n",
    "cm = confusion_matrix(y_true, y_pred)\n",
    "plt.figure(figsize=(10, 8))\n",
    "sns.heatmap(cm, annot=True, fmt='d', cmap='Blues')\n",
    "plt.xlabel('Predicted labels')\n",
    "plt.ylabel('True labels')\n",
    "plt.title('Confusion Matrix')\n",
    "plt.show()"
   ]
  },
  {
   "cell_type": "code",
   "execution_count": 73,
   "metadata": {},
   "outputs": [
    {
     "name": "stdout",
     "output_type": "stream",
     "text": [
      "True counts: [840 864 852 867]\n",
      "Predicted counts: [2301 1122]\n"
     ]
    }
   ],
   "source": [
    "# Get value counts from the test loader\n",
    "y_true = np.array(y_true)\n",
    "y_pred = np.array(y_pred)\n",
    "\n",
    "# Get the value counts\n",
    "true_counts = np.unique(y_true, return_counts=True)[1]\n",
    "pred_counts = np.unique(y_pred, return_counts=True)[1]\n",
    "print('True counts:', true_counts)\n",
    "print('Predicted counts:', pred_counts)"
   ]
  }
 ],
 "metadata": {
  "kernelspec": {
   "display_name": "Python 3",
   "language": "python",
   "name": "python3"
  },
  "language_info": {
   "codemirror_mode": {
    "name": "ipython",
    "version": 3
   },
   "file_extension": ".py",
   "mimetype": "text/x-python",
   "name": "python",
   "nbconvert_exporter": "python",
   "pygments_lexer": "ipython3",
   "version": "3.11.7"
  }
 },
 "nbformat": 4,
 "nbformat_minor": 2
}
