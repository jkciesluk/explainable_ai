{
 "cells": [
  {
   "cell_type": "markdown",
   "metadata": {},
   "source": [
    "# Loading the data"
   ]
  },
  {
   "cell_type": "code",
   "execution_count": 21,
   "metadata": {},
   "outputs": [],
   "source": [
    "import io\n",
    "import pandas as pd\n",
    "import numpy as np\n",
    "from IPython.display import clear_output\n",
    "from tqdm.auto import tqdm\n",
    "from copy import deepcopy\n",
    "\n",
    "\n",
    "import torch\n",
    "import torch.nn.functional as F\n",
    "import torchvision\n",
    "import torchvision.transforms as transforms\n",
    "from sklearn.model_selection import train_test_split\n",
    "from sklearn.feature_extraction.text import TfidfVectorizer\n",
    "import torch.optim as optim\n",
    "from torch import nn\n",
    "from sklearn.calibration import LabelEncoder\n",
    "import torch.utils.data as data_utils\n",
    "from torch.utils.data import DataLoader, Dataset\n",
    "\n",
    "# set seed \n",
    "seed = 0\n",
    "torch.manual_seed(0)\n",
    "np.random.seed(0)\n",
    "device = torch.device('cuda' if torch.cuda.is_available() else 'cpu')\n"
   ]
  },
  {
   "cell_type": "code",
   "execution_count": 2,
   "metadata": {},
   "outputs": [],
   "source": [
    "# Read cleaned data from csv\n",
    "df = pd.read_csv('input/movie_data_tmbd_cleaned.csv', sep='|')"
   ]
  },
  {
   "cell_type": "code",
   "execution_count": 3,
   "metadata": {},
   "outputs": [
    {
     "name": "stdout",
     "output_type": "stream",
     "text": [
      "<class 'pandas.core.frame.DataFrame'>\n",
      "RangeIndex: 17425 entries, 0 to 17424\n",
      "Data columns (total 22 columns):\n",
      " #   Column                Non-Null Count  Dtype  \n",
      "---  ------                --------------  -----  \n",
      " 0   adult                 17425 non-null  int64  \n",
      " 1   budget                17425 non-null  int64  \n",
      " 2   genres                17410 non-null  object \n",
      " 3   original_language     17425 non-null  object \n",
      " 4   overview              17425 non-null  object \n",
      " 5   popularity            17425 non-null  float64\n",
      " 6   production_companies  16811 non-null  object \n",
      " 7   production_countries  17253 non-null  object \n",
      " 8   revenue               17425 non-null  int64  \n",
      " 9   runtime               17425 non-null  float64\n",
      " 10  spoken_languages      17376 non-null  object \n",
      " 11  status                17425 non-null  object \n",
      " 12  tagline               17425 non-null  object \n",
      " 13  video                 17425 non-null  int64  \n",
      " 14  vote_average          17425 non-null  float64\n",
      " 15  vote_count            17425 non-null  float64\n",
      " 16  cast                  17404 non-null  object \n",
      " 17  directors             17415 non-null  object \n",
      " 18  release_year          17425 non-null  int64  \n",
      " 19  release_month         17425 non-null  int64  \n",
      " 20  release_day           17425 non-null  int64  \n",
      " 21  category              17425 non-null  object \n",
      "dtypes: float64(4), int64(7), object(11)\n",
      "memory usage: 2.9+ MB\n",
      "None\n",
      "   adult  budget         genres original_language  \\\n",
      "0      0       0  Drama,Western                en   \n",
      "1      0       0    Documentary                fr   \n",
      "2      0       0        History                it   \n",
      "3      0       0          Drama                en   \n",
      "4      0       0        Western                en   \n",
      "\n",
      "                                            overview  popularity  \\\n",
      "0  A fiercely independent cowboy arranges to have...       8.262   \n",
      "1  Documents the lives of infamous fakers Elmyr d...       7.830   \n",
      "2  While on holiday in Rhodes, Athenian war hero ...       9.668   \n",
      "3  In early 1960s London, barrister Melville Farr...       5.896   \n",
      "4  Respected black cavalry Sergeant Brax Rutledge...       6.003   \n",
      "\n",
      "                                production_companies  \\\n",
      "0                                   Joel Productions   \n",
      "1                                   SACI,Janus Films   \n",
      "2  Produzioni Atlas Consorziate,Procusa,Comptoir ...   \n",
      "3                                                NaN   \n",
      "4        John Ford Productions,Warner Bros. Pictures   \n",
      "\n",
      "       production_countries  revenue  runtime  ...  \\\n",
      "0  United States of America        0    107.0  ...   \n",
      "1       Germany,France,Iran        0     89.0  ...   \n",
      "2        Spain,France,Italy        0    127.0  ...   \n",
      "3            United Kingdom        0     90.0  ...   \n",
      "4  United States of America        0    111.0  ...   \n",
      "\n",
      "                                             tagline video vote_average  \\\n",
      "0               Life can never cage a man like this!     0          7.5   \n",
      "1                                            Unknown     0          7.5   \n",
      "2  A monster statue of bronze and stone...A fabul...     0          6.0   \n",
      "3  A Daring Picture About the World's Most Un-tal...     0          7.5   \n",
      "4  Forget all the suspense you have ever seen! Fo...     0          7.0   \n",
      "\n",
      "   vote_count                                               cast  \\\n",
      "0        70.0  Kirk Douglas,Gena Rowlands,Walter Matthau,Carr...   \n",
      "1       178.0  Orson Welles,Elmyr de Hory,Clifford Irving,Oja...   \n",
      "2        94.0  Rory Calhoun,Lea Massari,Georges Marchal,Conra...   \n",
      "3        57.0  Dirk Bogarde,Sylvia Syms,Dennis Price,Anthony ...   \n",
      "4        59.0  Jeffrey Hunter,Woody Strode,Constance Towers,B...   \n",
      "\n",
      "       directors release_year release_month  release_day  category  \n",
      "0   David Miller         1962             5           24     great  \n",
      "1   Orson Welles         1975             3           12     great  \n",
      "2   Sergio Leone         1961             6           15  mediocre  \n",
      "3  Basil Dearden         1961             8            1     great  \n",
      "4      John Ford         1960             5           18      good  \n",
      "\n",
      "[5 rows x 22 columns]\n"
     ]
    }
   ],
   "source": [
    "# Print info about the data\n",
    "print(df.info())\n",
    "print(df.head())"
   ]
  },
  {
   "cell_type": "code",
   "execution_count": 4,
   "metadata": {},
   "outputs": [],
   "source": [
    "# Encode categorical variables\n",
    "label_encoder = LabelEncoder()\n",
    "df['category'] = label_encoder.fit_transform(df['category'])  # Replace with your target column"
   ]
  },
  {
   "cell_type": "code",
   "execution_count": 5,
   "metadata": {},
   "outputs": [],
   "source": [
    "\n",
    "# Initialize the TF-IDF Vectorizer\n",
    "tfidf_vectorizer = TfidfVectorizer()\n",
    "\n",
    "# Encode the overview and tagline columns\n",
    "overview_encoded = tfidf_vectorizer.fit_transform(df['overview']).toarray()\n",
    "overview_encoded_df = pd.DataFrame(overview_encoded, columns=tfidf_vectorizer.get_feature_names_out())\n",
    "\n",
    "tagline_encoded = tfidf_vectorizer.fit_transform(df['tagline']).toarray()\n",
    "tagline_encoded_df = pd.DataFrame(tagline_encoded, columns=tfidf_vectorizer.get_feature_names_out())\n"
   ]
  },
  {
   "cell_type": "code",
   "execution_count": 6,
   "metadata": {},
   "outputs": [],
   "source": [
    "from sklearn.preprocessing import MultiLabelBinarizer\n",
    "\n",
    "# Function to preprocess the column\n",
    "def preprocess_column(column):\n",
    "    # Split the strings into lists\n",
    "    return column.fillna('').str.split(',')\n",
    "\n",
    "# Function to encode a list column with MultiLabelBinarizer\n",
    "def encode_column(column):\n",
    "    mlb = MultiLabelBinarizer()\n",
    "    return mlb.fit_transform(preprocess_column(column)), mlb.classes_\n",
    "\n",
    "# Encoding list-based features\n",
    "genres_encoded, genres_classes = encode_column(df['genres'])\n",
    "# production_companies_encoded, companies_classes = encode_column(df['production_companies'])\n",
    "# production_countries_encoded, countries_classes = encode_column(df['production_countries'])\n",
    "# cast_encoded, cast_classes = encode_column(df['cast'])\n",
    "# directors_encoded, directors_classes = encode_column(df['directors'])\n",
    "\n",
    "# Create DataFrames for the encoded list columns\n",
    "genres_encoded_df = pd.DataFrame(genres_encoded, columns=genres_classes)\n",
    "# production_companies_encoded_df = pd.DataFrame(production_companies_encoded, columns=companies_classes)\n",
    "# production_countries_encoded_df = pd.DataFrame(production_countries_encoded, columns=countries_classes)\n",
    "# cast_encoded_df = pd.DataFrame(cast_encoded, columns=cast_classes)\n",
    "# directors_encoded_df = pd.DataFrame(directors_encoded, columns=directors_classes)\n"
   ]
  },
  {
   "cell_type": "code",
   "execution_count": 11,
   "metadata": {},
   "outputs": [
    {
     "name": "stdout",
     "output_type": "stream",
     "text": [
      "      Action  Adventure  Animation  Comedy  Crime  Documentary  Drama  Family  \\\n",
      "0  0       0          0          0       0      0            0      1       0   \n",
      "1  0       0          0          0       0      0            1      0       0   \n",
      "2  0       0          0          0       0      0            0      0       0   \n",
      "3  0       0          0          0       0      0            0      1       0   \n",
      "4  0       0          0          0       0      0            0      0       0   \n",
      "\n",
      "   Fantasy  History  Horror  Music  Mystery  Romance  Science Fiction  \\\n",
      "0        0        0       0      0        0        0                0   \n",
      "1        0        0       0      0        0        0                0   \n",
      "2        0        1       0      0        0        0                0   \n",
      "3        0        0       0      0        0        0                0   \n",
      "4        0        0       0      0        0        0                0   \n",
      "\n",
      "   TV Movie  Thriller  War  Western  \n",
      "0         0         0    0        1  \n",
      "1         0         0    0        0  \n",
      "2         0         0    0        0  \n",
      "3         0         0    0        0  \n",
      "4         0         0    0        1  \n"
     ]
    }
   ],
   "source": [
    "print(genres_encoded_df.head())"
   ]
  },
  {
   "cell_type": "code",
   "execution_count": 7,
   "metadata": {},
   "outputs": [
    {
     "name": "stdout",
     "output_type": "stream",
     "text": [
      "<class 'pandas.core.frame.DataFrame'>\n",
      "RangeIndex: 17425 entries, 0 to 17424\n",
      "Data columns (total 22 columns):\n",
      " #   Column                Non-Null Count  Dtype  \n",
      "---  ------                --------------  -----  \n",
      " 0   adult                 17425 non-null  int64  \n",
      " 1   budget                17425 non-null  int64  \n",
      " 2   genres                17410 non-null  object \n",
      " 3   original_language     17425 non-null  object \n",
      " 4   overview              17425 non-null  object \n",
      " 5   popularity            17425 non-null  float64\n",
      " 6   production_companies  16811 non-null  object \n",
      " 7   production_countries  17253 non-null  object \n",
      " 8   revenue               17425 non-null  int64  \n",
      " 9   runtime               17425 non-null  float64\n",
      " 10  spoken_languages      17376 non-null  object \n",
      " 11  status                17425 non-null  object \n",
      " 12  tagline               17425 non-null  object \n",
      " 13  video                 17425 non-null  int64  \n",
      " 14  vote_average          17425 non-null  float64\n",
      " 15  vote_count            17425 non-null  float64\n",
      " 16  cast                  17404 non-null  object \n",
      " 17  directors             17415 non-null  object \n",
      " 18  release_year          17425 non-null  int64  \n",
      " 19  release_month         17425 non-null  int64  \n",
      " 20  release_day           17425 non-null  int64  \n",
      " 21  category              17425 non-null  int64  \n",
      "dtypes: float64(4), int64(8), object(10)\n",
      "memory usage: 2.9+ MB\n",
      "None\n"
     ]
    }
   ],
   "source": [
    "print(df.info())"
   ]
  },
  {
   "cell_type": "code",
   "execution_count": 12,
   "metadata": {},
   "outputs": [],
   "source": [
    "unencoded_df = df[['adult', 'budget', 'popularity', 'runtime', 'vote_count', 'release_year', 'release_month', 'release_day']]\n",
    "final_df = pd.concat([overview_encoded_df, tagline_encoded_df, \n",
    "                      genres_encoded_df, unencoded_df], axis=1)"
   ]
  },
  {
   "cell_type": "markdown",
   "metadata": {},
   "source": [
    "# NN"
   ]
  },
  {
   "cell_type": "code",
   "execution_count": 16,
   "metadata": {},
   "outputs": [],
   "source": [
    "X = final_df\n",
    "Y = df['category']"
   ]
  },
  {
   "cell_type": "code",
   "execution_count": 17,
   "metadata": {},
   "outputs": [],
   "source": [
    "# Split the dataset into training and testing sets\n",
    "X_train, X_test, Y_train, Y_test = train_test_split(X, Y, test_size=0.2, random_state=42)\n"
   ]
  },
  {
   "cell_type": "code",
   "execution_count": 18,
   "metadata": {},
   "outputs": [],
   "source": [
    "# Create a custom Dataset class\n",
    "class MovieDataset(Dataset):\n",
    "    def __init__(self, features, labels):\n",
    "        # Convert features to a NumPy array if it's a DataFrame\n",
    "        if isinstance(features, pd.DataFrame):\n",
    "            features = features.to_numpy()  # Convert DataFrame to NumPy array\n",
    "        \n",
    "        self.X = torch.tensor(features, dtype=torch.float32)  # Convert features to tensor\n",
    "        self.y = torch.tensor(labels, dtype=torch.long)       # Convert labels to tensor\n",
    "\n",
    "    def __len__(self):\n",
    "        return len(self.y)\n",
    "\n",
    "    def __getitem__(self, idx):\n",
    "        return self.X[idx], self.y[idx]\n",
    "\n",
    "# Assuming X_train and Y_train are your features and labels DataFrames\n",
    "# Convert Y_train to a NumPy array if it's also a DataFrame\n",
    "if isinstance(Y_train, pd.Series):\n",
    "    Y_train = Y_train.to_numpy()\n",
    "\n",
    "if isinstance(Y_test, pd.Series):\n",
    "    Y_test = Y_test.to_numpy()\n",
    "\n",
    "# Create Dataset objects\n",
    "train_dataset = MovieDataset(X_train, Y_train)\n",
    "test_dataset = MovieDataset(X_test, Y_test)\n",
    "\n",
    "# Create DataLoader objects\n",
    "train_loader = DataLoader(train_dataset, batch_size=32, shuffle=True)\n",
    "test_loader = DataLoader(test_dataset, batch_size=32, shuffle=False)\n"
   ]
  },
  {
   "cell_type": "code",
   "execution_count": 19,
   "metadata": {},
   "outputs": [],
   "source": [
    "import torch.nn as nn\n",
    "import torch.nn.functional as F\n",
    "\n",
    "class SimpleNN(nn.Module):\n",
    "    def __init__(self, input_size, num_classes):\n",
    "        super(SimpleNN, self).__init__()\n",
    "        self.fc1 = nn.Linear(input_size, 128)  # First hidden layer\n",
    "        self.fc2 = nn.Linear(128, 64)           # Second hidden layer\n",
    "        self.fc3 = nn.Linear(64, num_classes)   # Output layer\n",
    "\n",
    "    def forward(self, x):\n",
    "        x = F.relu(self.fc1(x))  # Activation function\n",
    "        x = F.relu(self.fc2(x))\n",
    "        x = self.fc3(x)\n",
    "        return x\n",
    "\n",
    "# Initialize the model\n",
    "input_size = X_train.shape[1]  # Number of input features\n",
    "num_classes = len(np.unique(Y_train))  # Number of classes in the target\n",
    "model = SimpleNN(input_size, num_classes)\n"
   ]
  },
  {
   "cell_type": "code",
   "execution_count": 20,
   "metadata": {},
   "outputs": [],
   "source": [
    "import torch.nn as nn\n",
    "import torch.nn.functional as F\n",
    "\n",
    "class SimpleNN(nn.Module):\n",
    "    def __init__(self, input_size, num_classes):\n",
    "        super(SimpleNN, self).__init__()\n",
    "        self.fc1 = nn.Linear(input_size, 128)  # First hidden layer\n",
    "        self.fc2 = nn.Linear(128, 64)           # Second hidden layer\n",
    "        self.fc3 = nn.Linear(64, num_classes)   # Output layer\n",
    "\n",
    "    def forward(self, x):\n",
    "        x = F.relu(self.fc1(x))  # Activation function\n",
    "        x = F.relu(self.fc2(x))\n",
    "        x = self.fc3(x)\n",
    "        return x\n",
    "\n",
    "# Initialize the model\n",
    "input_size = X_train.shape[1]  # Number of input features\n",
    "num_classes = len(np.unique(Y_train))  # Number of classes in the target\n",
    "model = SimpleNN(input_size, num_classes)\n"
   ]
  },
  {
   "cell_type": "code",
   "execution_count": 28,
   "metadata": {},
   "outputs": [],
   "source": [
    "# Define the neural network\n",
    "class MovieClassifier(nn.Module):\n",
    "    def __init__(self, input_size, num_classes):\n",
    "        super(MovieClassifier, self).__init__()\n",
    "        self.fc1 = nn.Linear(input_size, 512)  # First hidden layer with 128 neurons\n",
    "        self.fc2 = nn.Linear(512, 128)           # Second hidden layer with 64 neurons\n",
    "        self.fc3 = nn.Linear(128, 64)            # Third hidden layer with 32 neurons\n",
    "        self.fc4 = nn.Linear(64, 16)            # Fourth hidden layer with 16 neurons\n",
    "        self.output = nn.Linear(16, num_classes) # Output layer\n",
    "\n",
    "        # Activation function\n",
    "        self.relu = nn.ReLU()\n",
    "        # Dropout layer for regularization\n",
    "        self.dropout = nn.Dropout(0.5)\n",
    "\n",
    "    def forward(self, x):\n",
    "        x = self.relu(self.fc1(x))\n",
    "        x = self.dropout(x)\n",
    "        x = self.relu(self.fc2(x))\n",
    "        x = self.dropout(x)\n",
    "        x = self.relu(self.fc3(x))\n",
    "        x = self.dropout(x)\n",
    "        x = self.relu(self.fc4(x))\n",
    "        x = self.output(x)  # Output layer (logits)\n",
    "        return x\n",
    "    \n",
    "# Initialize the model\n",
    "input_size = X_train.shape[1]  # Number of input features\n",
    "num_classes = len(np.unique(Y_train))  # Number of classes in the target\n",
    "model = MovieClassifier(input_size, num_classes)"
   ]
  },
  {
   "cell_type": "code",
   "execution_count": 29,
   "metadata": {},
   "outputs": [
    {
     "name": "stdout",
     "output_type": "stream",
     "text": [
      "Epoch [1/10], Loss: 2.2932\n",
      "Epoch [2/10], Loss: 1.2116\n",
      "Epoch [3/10], Loss: 1.0979\n",
      "Epoch [4/10], Loss: 1.1804\n",
      "Epoch [5/10], Loss: 1.3322\n",
      "Epoch [6/10], Loss: 1.3068\n",
      "Epoch [7/10], Loss: 1.2985\n",
      "Epoch [8/10], Loss: 1.2965\n",
      "Epoch [9/10], Loss: 1.2701\n",
      "Epoch [10/10], Loss: 1.3098\n"
     ]
    }
   ],
   "source": [
    "# Set the device\n",
    "model.to(device)\n",
    "\n",
    "# Define loss function and optimizer\n",
    "criterion = nn.CrossEntropyLoss()\n",
    "optimizer = torch.optim.Adam(model.parameters(), lr=0.001)\n",
    "\n",
    "# Training loop\n",
    "num_epochs = 10  # Set the number of epochs\n",
    "for epoch in range(num_epochs):\n",
    "    model.train()\n",
    "    for features, labels in train_loader:\n",
    "        features, labels = features.to(device), labels.to(device)\n",
    "\n",
    "        # Forward pass\n",
    "        outputs = model(features)\n",
    "        loss = criterion(outputs, labels)\n",
    "\n",
    "        # Backward pass and optimization\n",
    "        optimizer.zero_grad()\n",
    "        loss.backward()\n",
    "        optimizer.step()\n",
    "\n",
    "    print(f'Epoch [{epoch+1}/{num_epochs}], Loss: {loss.item():.4f}')\n"
   ]
  },
  {
   "cell_type": "code",
   "execution_count": 30,
   "metadata": {},
   "outputs": [
    {
     "name": "stdout",
     "output_type": "stream",
     "text": [
      "Accuracy of the model on the test set: 39.97%\n"
     ]
    }
   ],
   "source": [
    "# Evaluate the model\n",
    "model.eval()\n",
    "correct = 0\n",
    "total = 0\n",
    "\n",
    "with torch.no_grad():\n",
    "    for features, labels in test_loader:\n",
    "        features, labels = features.to(device), labels.to(device)\n",
    "        outputs = model(features)\n",
    "        _, predicted = torch.max(outputs.data, 1)  # Get the predicted class\n",
    "        total += labels.size(0)\n",
    "        correct += (predicted == labels).sum().item()  # Count correct predictions\n",
    "\n",
    "accuracy = 100 * correct / total\n",
    "print(f'Accuracy of the model on the test set: {accuracy:.2f}%')\n"
   ]
  }
 ],
 "metadata": {
  "kernelspec": {
   "display_name": "Python 3",
   "language": "python",
   "name": "python3"
  },
  "language_info": {
   "codemirror_mode": {
    "name": "ipython",
    "version": 3
   },
   "file_extension": ".py",
   "mimetype": "text/x-python",
   "name": "python",
   "nbconvert_exporter": "python",
   "pygments_lexer": "ipython3",
   "version": "3.11.7"
  }
 },
 "nbformat": 4,
 "nbformat_minor": 2
}
