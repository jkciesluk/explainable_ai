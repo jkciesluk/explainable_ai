{
 "cells": [
  {
   "cell_type": "code",
   "execution_count": 230,
   "metadata": {},
   "outputs": [],
   "source": [
    "import pandas as pd\n",
    "import numpy as np\n",
    "\n",
    "from sklearn.model_selection import train_test_split\n",
    "from sklearn.metrics import accuracy_score, confusion_matrix, ConfusionMatrixDisplay\n",
    "from sklearn.calibration import LabelEncoder\n",
    "from sklearn.discriminant_analysis import StandardScaler\n",
    "from sklearn.feature_extraction.text import TfidfVectorizer\n",
    "from sklearn.compose import ColumnTransformer\n",
    "from sklearn.impute import SimpleImputer\n",
    "from sklearn.pipeline import Pipeline\n",
    "from sklearn.preprocessing import OneHotEncoder\n",
    "from sklearn.tree import DecisionTreeClassifier, plot_tree, export_text\n",
    "from sklearn.metrics import classification_report\n",
    "\n",
    "\n",
    "import matplotlib.pyplot as plt\n",
    "\n",
    "\n",
    "# Set random seed\n",
    "seed = 0\n",
    "\n"
   ]
  },
  {
   "cell_type": "code",
   "execution_count": 231,
   "metadata": {},
   "outputs": [],
   "source": [
    "# Read cleaned data from csv\n",
    "df = pd.read_csv('input/movie_data_tmbd_cleaned.csv', sep='|')"
   ]
  },
  {
   "cell_type": "code",
   "execution_count": 232,
   "metadata": {},
   "outputs": [
    {
     "name": "stdout",
     "output_type": "stream",
     "text": [
      "<class 'pandas.core.frame.DataFrame'>\n",
      "RangeIndex: 8784 entries, 0 to 8783\n",
      "Data columns (total 22 columns):\n",
      " #   Column                Non-Null Count  Dtype  \n",
      "---  ------                --------------  -----  \n",
      " 0   adult                 8784 non-null   int64  \n",
      " 1   budget                8784 non-null   int64  \n",
      " 2   genres                8780 non-null   object \n",
      " 3   original_language     8784 non-null   object \n",
      " 4   overview              8784 non-null   object \n",
      " 5   popularity            8784 non-null   float64\n",
      " 6   production_companies  8618 non-null   object \n",
      " 7   production_countries  8737 non-null   object \n",
      " 8   revenue               8784 non-null   int64  \n",
      " 9   runtime               8784 non-null   float64\n",
      " 10  spoken_languages      8768 non-null   object \n",
      " 11  status                8784 non-null   object \n",
      " 12  tagline               8784 non-null   object \n",
      " 13  video                 8784 non-null   int64  \n",
      " 14  vote_average          8784 non-null   float64\n",
      " 15  vote_count            8784 non-null   float64\n",
      " 16  cast                  8782 non-null   object \n",
      " 17  directors             8784 non-null   object \n",
      " 18  release_year          8784 non-null   int64  \n",
      " 19  release_month         8784 non-null   int64  \n",
      " 20  release_day           8784 non-null   int64  \n",
      " 21  category              8784 non-null   object \n",
      "dtypes: float64(4), int64(7), object(11)\n",
      "memory usage: 1.5+ MB\n",
      "None\n",
      "   adult     budget                                         genres  \\\n",
      "0      0  200000000      Adventure,Action,Thriller,Science Fiction   \n",
      "1      0  130000000               Science Fiction,Action,Adventure   \n",
      "2      0  165000000               Action,Adventure,Science Fiction   \n",
      "3      0  120000000               Action,Adventure,Science Fiction   \n",
      "4      0   78000000  Fantasy,Action,Crime,Science Fiction,Thriller   \n",
      "\n",
      "  original_language                                           overview  \\\n",
      "0                en  For centuries, a small but powerful force of w...   \n",
      "1                en  One thousand years after cataclysmic events fo...   \n",
      "2                en  We always knew they were coming back. Using re...   \n",
      "3                en  Four young outsiders teleport to a dangerous u...   \n",
      "4                en  He dwells in a world of eternal night, but the...   \n",
      "\n",
      "   popularity                               production_companies  \\\n",
      "0      31.264  DC Entertainment,De Line Pictures,Warner Bros....   \n",
      "1      29.537  Columbia Pictures,Overbrook Entertainment,Blin...   \n",
      "2      33.521  20th Century Fox,TSG Entertainment,Centropolis...   \n",
      "3      24.238  Moving Picture Company,Marvel Entertainment,TS...   \n",
      "4      23.563  Marvel Enterprises,New Regency Pictures,Epsilo...   \n",
      "\n",
      "                              production_countries    revenue  runtime  ...  \\\n",
      "0                         United States of America  219851172    114.0  ...   \n",
      "1                         United States of America  243843127    100.0  ...   \n",
      "2                         United States of America  389681935    120.0  ...   \n",
      "3  United Kingdom,Germany,United States of America  167977596    100.0  ...   \n",
      "4                         United States of America  179179718    103.0  ...   \n",
      "\n",
      "                                        tagline video vote_average  \\\n",
      "0     In our darkest hour, there will be light.     0          5.0   \n",
      "1              Danger is real, fear is a choice     0          5.0   \n",
      "2  We had twenty years to prepare. So did they.     0          5.0   \n",
      "3                             Change is coming.     0          4.5   \n",
      "4                              A Guardian Devil     0          5.0   \n",
      "\n",
      "   vote_count                                               cast  \\\n",
      "0      5226.0  Ryan Reynolds,Blake Lively,Peter Sarsgaard,Tim...   \n",
      "1      5042.0  Will Smith,Jaden Smith,Sophie Okonedo,Zoë Krav...   \n",
      "2      4547.0  Liam Hemsworth,Jeff Goldblum,Jessie T. Usher,B...   \n",
      "3      4444.0  Tim Blake Nelson,Gretchen Koerner,Miles Teller...   \n",
      "4      3496.0  Ben Affleck,Jennifer Garner,Colin Farrell,Mich...   \n",
      "\n",
      "                                   directors release_year release_month  \\\n",
      "0                            Martin Campbell         2011             6   \n",
      "1                         M. Night Shyamalan         2013             5   \n",
      "2                            Roland Emmerich         2016             6   \n",
      "3  Simon Kinberg,Josh Trank,Steven E. Rivkin         2015             8   \n",
      "4                        Mark Steven Johnson         2003             2   \n",
      "\n",
      "   release_day  category  \n",
      "0           16       bad  \n",
      "1           30       bad  \n",
      "2           22       bad  \n",
      "3            5       bad  \n",
      "4           14       bad  \n",
      "\n",
      "[5 rows x 22 columns]\n"
     ]
    }
   ],
   "source": [
    "# Print info about the data\n",
    "print(df.info())\n",
    "print(df.head())"
   ]
  },
  {
   "cell_type": "markdown",
   "metadata": {},
   "source": [
    "# Scoring prediction"
   ]
  },
  {
   "cell_type": "code",
   "execution_count": 233,
   "metadata": {},
   "outputs": [
    {
     "data": {
      "text/plain": [
       "video\n",
       "0    8778\n",
       "1       6\n",
       "Name: count, dtype: int64"
      ]
     },
     "execution_count": 233,
     "metadata": {},
     "output_type": "execute_result"
    }
   ],
   "source": [
    "df['video'].value_counts()"
   ]
  },
  {
   "cell_type": "code",
   "execution_count": 234,
   "metadata": {},
   "outputs": [],
   "source": [
    "# Get list of all unique names in df[`cast`]\n",
    "df['cast'] = df['cast'].replace(np.nan, '')\n",
    "unique_cast = df['cast'].str.split(',').explode()\n",
    "unique_cast.value_counts()\n",
    "# Take only actors that appeared in more than 10 movies\n",
    "top_cast = unique_cast.value_counts()[unique_cast.value_counts() > 10]\n",
    "\n",
    "df['cast'] = df['cast'].apply(lambda x: [i for i in x.split(',') if i in top_cast.index]).apply(lambda x: ','.join(x))\n",
    "df['production_companies'] = df['production_companies'].replace(np.nan, '')\n",
    "unique_production_companies = df['production_companies'].str.split(',').explode()\n",
    "unique_production_companies.value_counts()\n",
    "\n",
    "top_companies = unique_production_companies.value_counts()[unique_production_companies.value_counts() > 10]\n",
    "df['production_companies'] = df['production_companies'].apply(lambda x: [i for i in x.split(',') if i in top_companies.index]).apply(lambda x: ','.join(x))\n",
    "df['directors'] = df['directors'].replace(np.nan, '')\n",
    "unique_directors = df['directors'].str.split(',').explode()\n",
    "unique_directors.value_counts()\n",
    "\n",
    "top_directors = unique_directors.value_counts()[unique_directors.value_counts() > 10]\n",
    "df['directors'] = df['directors'].apply(lambda x: [i for i in x.split(',') if i in top_directors.index]).apply(lambda x: ','.join(x))\n",
    "df['production_countries'] = df['production_countries'].replace(np.nan, '')\n",
    "df['spoken_languages'] = df['spoken_languages'].replace(np.nan, '')\n",
    "df['genres'] = df['genres'].replace(np.nan, '')\n",
    "df['tagline'] = df['tagline'].replace(np.nan, '')\n",
    "df['overview'] = df['overview'].replace(np.nan, '')"
   ]
  },
  {
   "cell_type": "code",
   "execution_count": 235,
   "metadata": {},
   "outputs": [],
   "source": [
    "X = df.drop(columns=['vote_average', 'category'])\n",
    "X = df.drop(columns=['video', 'adult', 'release_day'])\n",
    "Y = df['category']\n"
   ]
  },
  {
   "cell_type": "code",
   "execution_count": 236,
   "metadata": {},
   "outputs": [
    {
     "name": "stdout",
     "output_type": "stream",
     "text": [
      "Training set size:  7027\n",
      "Test set size:  1757\n"
     ]
    }
   ],
   "source": [
    "X_train, X_test, Y_train, Y_test = train_test_split(X, Y, test_size=0.2, random_state=seed)\n",
    "\n",
    "# Encode target variable (Y) using LabelEncoder\n",
    "label_encoder = LabelEncoder()\n",
    "Y_train_encoded = label_encoder.fit_transform(Y_train)\n",
    "Y_test_encoded = label_encoder.transform(Y_test)\n",
    "\n",
    "\n",
    "print(\"Training set size: \", len(X_train))\n",
    "print(\"Test set size: \", len(X_test))"
   ]
  },
  {
   "cell_type": "markdown",
   "metadata": {},
   "source": [
    "# Feature encoding"
   ]
  },
  {
   "cell_type": "code",
   "execution_count": 237,
   "metadata": {},
   "outputs": [
    {
     "name": "stdout",
     "output_type": "stream",
     "text": [
      "<class 'pandas.core.frame.DataFrame'>\n",
      "RangeIndex: 8784 entries, 0 to 8783\n",
      "Data columns (total 19 columns):\n",
      " #   Column                Non-Null Count  Dtype  \n",
      "---  ------                --------------  -----  \n",
      " 0   budget                8784 non-null   int64  \n",
      " 1   genres                8784 non-null   object \n",
      " 2   original_language     8784 non-null   object \n",
      " 3   overview              8784 non-null   object \n",
      " 4   popularity            8784 non-null   float64\n",
      " 5   production_companies  8784 non-null   object \n",
      " 6   production_countries  8784 non-null   object \n",
      " 7   revenue               8784 non-null   int64  \n",
      " 8   runtime               8784 non-null   float64\n",
      " 9   spoken_languages      8784 non-null   object \n",
      " 10  status                8784 non-null   object \n",
      " 11  tagline               8784 non-null   object \n",
      " 12  vote_average          8784 non-null   float64\n",
      " 13  vote_count            8784 non-null   float64\n",
      " 14  cast                  8784 non-null   object \n",
      " 15  directors             8784 non-null   object \n",
      " 16  release_year          8784 non-null   int64  \n",
      " 17  release_month         8784 non-null   int64  \n",
      " 18  category              8784 non-null   object \n",
      "dtypes: float64(4), int64(4), object(11)\n",
      "memory usage: 1.3+ MB\n",
      "None\n"
     ]
    }
   ],
   "source": [
    "print(X.info())"
   ]
  },
  {
   "cell_type": "code",
   "execution_count": 238,
   "metadata": {},
   "outputs": [
    {
     "name": "stdout",
     "output_type": "stream",
     "text": [
      "      budget                                         genres original_language  \\\n",
      "0  200000000      Adventure,Action,Thriller,Science Fiction                en   \n",
      "1  130000000               Science Fiction,Action,Adventure                en   \n",
      "2  165000000               Action,Adventure,Science Fiction                en   \n",
      "3  120000000               Action,Adventure,Science Fiction                en   \n",
      "4   78000000  Fantasy,Action,Crime,Science Fiction,Thriller                en   \n",
      "\n",
      "                                            overview  popularity  \\\n",
      "0  For centuries, a small but powerful force of w...      31.264   \n",
      "1  One thousand years after cataclysmic events fo...      29.537   \n",
      "2  We always knew they were coming back. Using re...      33.521   \n",
      "3  Four young outsiders teleport to a dangerous u...      24.238   \n",
      "4  He dwells in a world of eternal night, but the...      23.563   \n",
      "\n",
      "                                production_companies  \\\n",
      "0  DC Entertainment,De Line Pictures,Warner Bros....   \n",
      "1  Columbia Pictures,Overbrook Entertainment,Sony...   \n",
      "2  20th Century Fox,TSG Entertainment,Centropolis...   \n",
      "3  Moving Picture Company,Marvel Entertainment,TS...   \n",
      "4  Marvel Enterprises,New Regency Pictures,Epsilo...   \n",
      "\n",
      "                              production_countries    revenue  runtime  \\\n",
      "0                         United States of America  219851172    114.0   \n",
      "1                         United States of America  243843127    100.0   \n",
      "2                         United States of America  389681935    120.0   \n",
      "3  United Kingdom,Germany,United States of America  167977596    100.0   \n",
      "4                         United States of America  179179718    103.0   \n",
      "\n",
      "            spoken_languages    status  \\\n",
      "0                    English  Released   \n",
      "1                    English  Released   \n",
      "2                    English  Released   \n",
      "3                    English  Released   \n",
      "4  English,Italiano,ελληνικά  Released   \n",
      "\n",
      "                                        tagline  vote_average  vote_count  \\\n",
      "0     In our darkest hour, there will be light.           5.0      5226.0   \n",
      "1              Danger is real, fear is a choice           5.0      5042.0   \n",
      "2  We had twenty years to prepare. So did they.           5.0      4547.0   \n",
      "3                             Change is coming.           4.5      4444.0   \n",
      "4                              A Guardian Devil           5.0      3496.0   \n",
      "\n",
      "                                                cast           directors  \\\n",
      "0  Ryan Reynolds,Blake Lively,Peter Sarsgaard,Tim...                       \n",
      "1  Will Smith,Zoë Kravitz,Glenn Morshower,David D...  M. Night Shyamalan   \n",
      "2  Liam Hemsworth,Jeff Goldblum,Bill Pullman,Maik...     Roland Emmerich   \n",
      "3  Tim Blake Nelson,Miles Teller,Kate Mara,Michae...                       \n",
      "4  Ben Affleck,Jennifer Garner,Colin Farrell,Mich...                       \n",
      "\n",
      "   release_year  release_month category  \n",
      "0          2011              6      bad  \n",
      "1          2013              5      bad  \n",
      "2          2016              6      bad  \n",
      "3          2015              8      bad  \n",
      "4          2003              2      bad  \n"
     ]
    }
   ],
   "source": [
    "print(X.head())"
   ]
  },
  {
   "cell_type": "code",
   "execution_count": 242,
   "metadata": {},
   "outputs": [],
   "source": [
    "\n",
    "numerical_features = ['budget', 'revenue', 'popularity', 'runtime', 'vote_count', 'release_year', 'release_month']\n",
    "categorical_features = ['original_language', 'status']\n",
    "boolean_features = ['adult', 'video']\n",
    "text_features = ['overview', 'tagline', 'title']\n",
    "list_based_features = ['genres', 'production_companies', 'production_countries', 'cast', 'directors']\n",
    "\n",
    "# 1. Numerical transformer: Impute missing values and standardize\n",
    "numeric_transformer = Pipeline(steps=[\n",
    "    ('imputer', SimpleImputer(strategy='median')),\n",
    "    ('scaler', StandardScaler())\n",
    "])\n",
    "\n",
    "# 2. Categorical transformer: Impute missing values and one-hot encode\n",
    "categorical_transformer = Pipeline(steps=[\n",
    "    ('imputer', SimpleImputer(strategy='most_frequent')),\n",
    "    ('onehot', OneHotEncoder(handle_unknown='ignore'))\n",
    "])\n",
    "# 3. Boolean transformer: Ensure 0/1 values\n",
    "boolean_transformer = Pipeline(steps=[\n",
    "    ('imputer', SimpleImputer(strategy='most_frequent'))\n",
    "])\n",
    "\n",
    "# 4. Text transformer: Use TF-IDF for text columns\n",
    "text_transformer = Pipeline(steps=[\n",
    "    ('tfidf', TfidfVectorizer(stop_words='english', max_features=100))  # Adjust max_features as needed\n",
    "])\n",
    "\n",
    "# 5. List-based transformer: Convert list of items into count vectors (like multi-hot encoding)\n",
    "def list_to_str(column):\n",
    "    return column.apply(lambda x: ','.join(x) if isinstance(x, list) else '')\n",
    "\n",
    "# Combine all transformers into a ColumnTransformer\n",
    "preprocessor = ColumnTransformer(\n",
    "    transformers=[\n",
    "        ('num', numeric_transformer, numerical_features),\n",
    "        ('cat', categorical_transformer, categorical_features),\n",
    "        # ('bool', boolean_transformer, boolean_features),\n",
    "        ('overview', text_transformer, 'overview'),\n",
    "        ('tagline', text_transformer, 'tagline'),\n",
    "        ('genres', text_transformer, 'genres'),\n",
    "        ('production_companies', text_transformer, 'production_companies'),\n",
    "        ('production_countries', text_transformer, 'production_countries'),\n",
    "        ('cast', text_transformer, 'cast'),\n",
    "        ('directors', text_transformer, 'directors')\n",
    "    ]\n",
    ")"
   ]
  },
  {
   "cell_type": "code",
   "execution_count": 243,
   "metadata": {},
   "outputs": [
    {
     "name": "stdout",
     "output_type": "stream",
     "text": [
      "  (0, 0)\t-0.08619960335899651\n",
      "  (0, 1)\t-0.18237344551555748\n",
      "  (0, 2)\t0.08345800497584235\n",
      "  (0, 3)\t-0.5505827317471977\n",
      "  (0, 4)\t1.795802171379134\n",
      "  (0, 5)\t0.42331317103209676\n",
      "  (0, 6)\t1.2175666622553376\n",
      "  (0, 15)\t1.0\n",
      "  (0, 42)\t1.0\n",
      "  (0, 116)\t0.5864674656785438\n",
      "  (0, 124)\t0.5226236148284815\n",
      "  (0, 130)\t0.6188056794537337\n",
      "  (0, 198)\t1.0\n",
      "  (0, 244)\t0.6937175157199655\n",
      "  (0, 249)\t0.46303948736614914\n",
      "  (0, 260)\t0.5516796548025068\n",
      "  (0, 273)\t0.28120239791970725\n",
      "  (0, 299)\t0.43938915948487495\n",
      "  (0, 302)\t0.29381623162362774\n",
      "  (0, 329)\t0.440833707193948\n",
      "  (0, 331)\t0.33524861148923174\n",
      "  (0, 333)\t0.2608753051066312\n",
      "  (0, 343)\t0.4338761288913083\n",
      "  (0, 360)\t0.28018563672299496\n",
      "  (0, 367)\t0.302264718805644\n",
      "  :\t:\n",
      "  (7025, 452)\t0.2912134271980113\n",
      "  (7025, 461)\t0.27482428700138295\n",
      "  (7026, 0)\t0.1793668052887353\n",
      "  (7026, 1)\t-0.1509840149906671\n",
      "  (7026, 2)\t-0.12953782644463857\n",
      "  (7026, 3)\t-1.1135691250570259\n",
      "  (7026, 4)\t-0.07500471776376888\n",
      "  (7026, 5)\t0.4843423180098479\n",
      "  (7026, 6)\t0.34449197240177887\n",
      "  (7026, 15)\t1.0\n",
      "  (7026, 42)\t1.0\n",
      "  (7026, 243)\t0.5748216517599677\n",
      "  (7026, 244)\t0.6707152426839871\n",
      "  (7026, 246)\t0.4687442073234643\n",
      "  (7026, 282)\t0.8793253959806123\n",
      "  (7026, 331)\t0.47622142747207363\n",
      "  (7026, 367)\t0.22555055657301717\n",
      "  (7026, 381)\t0.6582074328611325\n",
      "  (7026, 402)\t0.64784939018914\n",
      "  (7026, 452)\t0.22555055657301717\n",
      "  (7026, 461)\t0.21285684348200218\n",
      "  (7026, 486)\t0.4934316141321616\n",
      "  (7026, 496)\t0.5765535612047832\n",
      "  (7026, 530)\t0.3361400080315788\n",
      "  (7026, 537)\t0.5577823305175075\n",
      "['budget' 'revenue' 'popularity' 'runtime' 'vote_count' 'release_year'\n",
      " 'release_month' 'original_language_ar' 'original_language_bn'\n",
      " 'original_language_bs' 'original_language_cn' 'original_language_cs'\n",
      " 'original_language_da' 'original_language_de' 'original_language_el'\n",
      " 'original_language_en' 'original_language_es' 'original_language_et'\n",
      " 'original_language_fa' 'original_language_fr' 'original_language_he'\n",
      " 'original_language_hi' 'original_language_hu' 'original_language_id'\n",
      " 'original_language_it' 'original_language_ja' 'original_language_ko'\n",
      " 'original_language_mk' 'original_language_nl' 'original_language_no'\n",
      " 'original_language_pl' 'original_language_pt' 'original_language_ro'\n",
      " 'original_language_ru' 'original_language_sh' 'original_language_sr'\n",
      " 'original_language_sv' 'original_language_te' 'original_language_th'\n",
      " 'original_language_tr' 'original_language_uk' 'original_language_zh'\n",
      " 'status_Released' 'agent' 'american' 'battle' 'beautiful' 'begins' 'best'\n",
      " 'boy' 'brother' 'children' 'city' 'college' 'come' 'comes' 'couple'\n",
      " 'daughter' 'day' 'dead' 'death' 'decides' 'discover' 'discovers' 'earth'\n",
      " 'end' 'evil' 'face' 'falls' 'family' 'father' 'fight' 'film' 'finds'\n",
      " 'forced' 'friend' 'friends' 'game' 'gets' 'girl' 'goes' 'group' 'help'\n",
      " 'high' 'home' 'house' 'human' 'job' 'just' 'killer' 'life' 'like'\n",
      " 'little' 'live' 'lives' 'living' 'long' 'love' 'make' 'man' 'meets' 'men'\n",
      " 'mission' 'mother' 'murder' 'mysterious' 'named' 'new' 'night' 'old'\n",
      " 'order' 'parents' 'past' 'people' 'police' 'real' 'save' 'school'\n",
      " 'secret' 'set' 'small' 'son' 'soon' 'stop' 'story' 'takes' 'team' 'time'\n",
      " 'town' 'tries' 'true' 'turn' 'turns' 'war' 'way' 'wife' 'woman' 'work'\n",
      " 'world' 'year' 'years' 'york' 'young' 'adventure' 'bad' 'battle'\n",
      " 'beginning' 'begins' 'believe' 'best' 'big' 'chance' 'change' 'come'\n",
      " 'comedy' 'comes' 'coming' 'crime' 'day' 'dead' 'death' 'die' 'doesn'\n",
      " 'don' 'dream' 'earth' 'end' 'evil' 'fall' 'family' 'far' 'fear' 'fight'\n",
      " 'forever' 'future' 'game' 'girl' 'going' 'good' 'got' 'greatest' 'heart'\n",
      " 'hell' 'hero' 'heroes' 'history' 'home' 'hope' 'just' 'kill' 'killer'\n",
      " 'know' 'left' 'legend' 'let' 'life' 'like' 'little' 'live' 'lives' 'll'\n",
      " 'look' 'love' 'make' 'man' 'meet' 'men' 'movie' 'murder' 'new' 'night'\n",
      " 'past' 'people' 'perfect' 'place' 'power' 'ready' 'real' 'revenge' 'save'\n",
      " 'second' 'secret' 'stop' 'story' 'survive' 'takes' 'terror' 'thing'\n",
      " 'things' 'think' 'time' 'true' 'truth' 'unknown' 've' 'war' 'way'\n",
      " 'welcome' 'woman' 'world' 'wrong' 'year' 'years' 'action' 'adventure'\n",
      " 'animation' 'comedy' 'crime' 'documentary' 'drama' 'family' 'fantasy'\n",
      " 'fiction' 'history' 'horror' 'movie' 'music' 'mystery' 'romance'\n",
      " 'science' 'thriller' 'tv' 'war' 'western' '2000' '20th' 'amblin'\n",
      " 'animation' 'arte' 'artists' 'asylum' 'bbc' 'blumhouse' 'bros' 'bunch'\n",
      " 'canal' 'castle' 'century' 'channel' 'cinema' 'ciné' 'cinéma' 'columbia'\n",
      " 'comics' 'company' 'creek' 'davis' 'dc' 'di' 'dimension' 'disney'\n",
      " 'distribution' 'dreamworks' 'dune' 'enterprises' 'entertainment'\n",
      " 'europacorp' 'features' 'film' 'film4' 'films' 'focus' 'fox' 'france'\n",
      " 'gaumont' 'gems' 'goldwyn' 'group' 'image' 'imagine' 'ingenious' 'jerry'\n",
      " 'lakeshore' 'legendary' 'line' 'lionsgate' 'm6' 'marvel' 'mayer' 'media'\n",
      " 'medusa' 'metro' 'millennium' 'miramax' 'motion' 'new' 'original'\n",
      " 'paramount' 'participant' 'pathé' 'picture' 'pictures' 'production'\n",
      " 'productions' 'rai' 'regency' 'relativity' 'road' 'roadshow' 'rock'\n",
      " 'rudin' 'scott' 'screen' 'searchlight' 'silver' 'sony' 'studio'\n",
      " 'studiocanal' 'studios' 'summit' 'television' 'tf1' 'title' 'touchstone'\n",
      " 'tristar' 'tsg' 'united' 'universal' 'village' 'walt' 'warner'\n",
      " 'weinstein' 'wild' 'working' 'africa' 'albania' 'algeria' 'america'\n",
      " 'angola' 'arab' 'arabia' 'argentina' 'aruba' 'australia' 'austria'\n",
      " 'belgium' 'bosnia' 'botswana' 'brazil' 'bulgaria' 'cambodia' 'canada'\n",
      " 'chile' 'china' 'colombia' 'congo' 'croatia' 'cuba' 'cyprus' 'czech'\n",
      " 'czechoslovakia' 'denmark' 'dominican' 'east' 'ecuador' 'egypt'\n",
      " 'emirates' 'estonia' 'ethiopia' 'finland' 'france' 'georgia' 'germany'\n",
      " 'ghana' 'greece' 'herzegovina' 'hong' 'hungary' 'iceland' 'india'\n",
      " 'indonesia' 'iran' 'iraq' 'ireland' 'israel' 'italy' 'japan' 'kingdom'\n",
      " 'kong' 'korea' 'lebanon' 'libyan' 'lithuania' 'luxembourg' 'macedonia'\n",
      " 'malaysia' 'malta' 'mexico' 'monaco' 'morocco' 'namibia' 'netherlands'\n",
      " 'new' 'norway' 'peru' 'poland' 'portugal' 'puerto' 'qatar' 'republic'\n",
      " 'rico' 'romania' 'russia' 'rwanda' 'saudi' 'serbia' 'singapore'\n",
      " 'slovakia' 'slovenia' 'south' 'soviet' 'spain' 'states' 'sweden'\n",
      " 'switzerland' 'taiwan' 'thailand' 'tunisia' 'turkey' 'ukraine' 'union'\n",
      " 'united' 'uruguay' 'zealand' 'adam' 'alan' 'andy' 'anne' 'anthony'\n",
      " 'baker' 'bell' 'ben' 'billy' 'bob' 'bradley' 'brian' 'brown' 'bruce'\n",
      " 'catherine' 'charles' 'chris' 'christian' 'christopher' 'colin' 'dan'\n",
      " 'daniel' 'danny' 'david' 'davis' 'don' 'douglas' 'ed' 'eddie' 'elizabeth'\n",
      " 'eric' 'frank' 'fred' 'gary' 'george' 'harris' 'howard' 'ian' 'jack'\n",
      " 'jackson' 'james' 'jamie' 'jason' 'jay' 'jean' 'jeff' 'jeffrey'\n",
      " 'jennifer' 'jeremy' 'jim' 'jimmy' 'joe' 'john' 'johnson' 'jon' 'jones'\n",
      " 'josh' 'jr' 'kate' 'kevin' 'kristen' 'lee' 'mark' 'martin' 'matt'\n",
      " 'matthew' 'michael' 'michelle' 'mike' 'miller' 'moore' 'morgan'\n",
      " 'nicholas' 'nick' 'patrick' 'paul' 'peter' 'richard' 'rob' 'robert'\n",
      " 'roberts' 'roger' 'ryan' 'sam' 'scott' 'sean' 'smith' 'stephen' 'steve'\n",
      " 'taylor' 'thomas' 'thompson' 'tim' 'tom' 'tony' 'vincent' 'welker'\n",
      " 'william' 'williams' 'wilson' 'akira' 'alfred' 'allen' 'almodóvar'\n",
      " 'antoine' 'barry' 'bay' 'bergman' 'besson' 'billy' 'bobby' 'boll' 'boyle'\n",
      " 'brett' 'brian' 'burton' 'carpenter' 'christopher' 'clint' 'coen'\n",
      " 'craven' 'cronenberg' 'danny' 'david' 'dennis' 'donner' 'dugan'\n",
      " 'eastwood' 'emmerich' 'farrelly' 'frank' 'garry' 'harlin' 'herek'\n",
      " 'hitchcock' 'howard' 'ingmar' 'ivan' 'jackson' 'joel' 'john' 'kevin'\n",
      " 'kubrick' 'kurosawa' 'landis' 'lee' 'levinson' 'levy' 'luc' 'lynch'\n",
      " 'marshall' 'martin' 'mctiernan' 'michael' 'neri' 'night' 'nolan' 'oliver'\n",
      " 'oz' 'palma' 'parenti' 'peter' 'polanski' 'quentin' 'ratner' 'reiner'\n",
      " 'renny' 'richard' 'ridley' 'ritchie' 'rob' 'robert' 'rodriguez' 'roland'\n",
      " 'roman' 'ron' 'schumacher' 'scorsese' 'scott' 'shawn' 'shyamalan' 'smith'\n",
      " 'soderbergh' 'spielberg' 'spike' 'stanley' 'stephen' 'steven' 'stone'\n",
      " 'tarantino' 'terry' 'tim' 'tony' 'uwe' 'van' 'wes' 'wilder' 'woo' 'woody'\n",
      " 'zemeckis']\n",
      "        budget   revenue  popularity   runtime  vote_count  release_year  \\\n",
      "0    -0.086200 -0.182373    0.083458 -0.550583    1.795802      0.423313   \n",
      "1    -0.564219 -0.401506    0.133685 -0.755305   -0.328180      0.850517   \n",
      "2    -0.298653 -0.273304   -0.137043  0.268307   -0.398531     -0.919328   \n",
      "3     0.630830  0.789539    0.126587  1.240738    1.060160      0.179197   \n",
      "4    -0.511106 -0.254975   -0.186896 -0.089958   -0.173148     -3.482552   \n",
      "...        ...       ...         ...       ...         ...           ...   \n",
      "7022 -0.564219 -0.411465   -0.325010  0.012404   -0.468013      0.789488   \n",
      "7023 -0.564219 -0.413165   -0.253729  1.036015   -0.393754      0.911546   \n",
      "7024 -0.431436 -0.334660    0.122716 -0.345860    0.628502      0.850517   \n",
      "7025  0.498046 -0.145968   -0.310170  0.165945   -0.313850     -0.064920   \n",
      "7026  0.179367 -0.150984   -0.129538 -1.113569   -0.075005      0.484342   \n",
      "\n",
      "      release_month  original_language_ar  original_language_bn  \\\n",
      "0          1.217567                   0.0                   0.0   \n",
      "1         -0.528583                   0.0                   0.0   \n",
      "2          0.053467                   0.0                   0.0   \n",
      "3         -1.110633                   0.0                   0.0   \n",
      "4          0.344492                   0.0                   0.0   \n",
      "...             ...                   ...                   ...   \n",
      "7022      -0.819608                   0.0                   0.0   \n",
      "7023      -0.528583                   0.0                   0.0   \n",
      "7024      -1.110633                   0.0                   0.0   \n",
      "7025       0.926542                   0.0                   0.0   \n",
      "7026       0.344492                   0.0                   0.0   \n",
      "\n",
      "      original_language_bs  ...  terry  tim  tony  uwe  van  wes  wilder  woo  \\\n",
      "0                      0.0  ...    0.0  0.0   0.0  0.0  0.0  0.0     0.0  0.0   \n",
      "1                      0.0  ...    0.0  0.0   0.0  0.0  0.0  0.0     0.0  0.0   \n",
      "2                      0.0  ...    0.0  0.0   0.0  0.0  0.0  0.0     0.0  0.0   \n",
      "3                      0.0  ...    0.0  0.0   0.0  0.0  0.0  0.0     0.0  0.0   \n",
      "4                      0.0  ...    0.0  0.0   0.0  0.0  0.0  0.0     0.0  0.0   \n",
      "...                    ...  ...    ...  ...   ...  ...  ...  ...     ...  ...   \n",
      "7022                   0.0  ...    0.0  0.0   0.0  0.0  0.0  0.0     0.0  0.0   \n",
      "7023                   0.0  ...    0.0  0.0   0.0  0.0  0.0  0.0     0.0  0.0   \n",
      "7024                   0.0  ...    0.0  0.0   0.0  0.0  0.0  0.0     0.0  0.0   \n",
      "7025                   0.0  ...    0.0  0.0   0.0  0.0  0.0  0.0     0.0  0.0   \n",
      "7026                   0.0  ...    0.0  0.0   0.0  0.0  0.0  0.0     0.0  0.0   \n",
      "\n",
      "      woody  zemeckis  \n",
      "0       0.0       0.0  \n",
      "1       0.0       0.0  \n",
      "2       0.0       0.0  \n",
      "3       0.0       0.0  \n",
      "4       0.0       0.0  \n",
      "...     ...       ...  \n",
      "7022    0.0       0.0  \n",
      "7023    0.0       0.0  \n",
      "7024    0.0       0.0  \n",
      "7025    0.0       0.0  \n",
      "7026    0.0       0.0  \n",
      "\n",
      "[7027 rows x 664 columns]\n",
      "  (0, 0)\t-0.5642191389249138\n",
      "  (0, 1)\t-0.41316463240333834\n",
      "  (0, 2)\t-0.3216823440111375\n",
      "  (0, 3)\t-0.7553050565871352\n",
      "  (0, 4)\t-0.4875549834754118\n",
      "  (0, 5)\t0.42331317103209676\n",
      "  (0, 6)\t-1.6926823039231913\n",
      "  (0, 15)\t1.0\n",
      "  (0, 42)\t1.0\n",
      "  (0, 83)\t0.6286846895927957\n",
      "  (0, 117)\t0.6137663496718698\n",
      "  (0, 142)\t0.4775420704839294\n",
      "  (0, 173)\t1.0\n",
      "  (0, 246)\t0.22392761684282822\n",
      "  (0, 249)\t0.21386774436403133\n",
      "  (0, 250)\t0.36617443580187264\n",
      "  (0, 255)\t0.6204970962465953\n",
      "  (0, 261)\t0.6204970962465953\n",
      "  (0, 278)\t0.808359252694942\n",
      "  (0, 290)\t0.5886894925021805\n",
      "  (0, 367)\t0.29608807940047793\n",
      "  (0, 381)\t0.8640518454224302\n",
      "  (0, 452)\t0.29608807940047793\n",
      "  (0, 461)\t0.2794245996614571\n",
      "  (1, 0)\t-0.5642191389249138\n",
      "  :\t:\n",
      "  (1756, 5)\t-0.0038908578121610044\n",
      "  (1756, 6)\t0.34449197240177887\n",
      "  (1756, 15)\t1.0\n",
      "  (1756, 42)\t1.0\n",
      "  (1756, 79)\t0.2391063888256595\n",
      "  (1756, 81)\t0.4571082089816494\n",
      "  (1756, 83)\t0.2402184452683711\n",
      "  (1756, 98)\t0.24448741069180446\n",
      "  (1756, 106)\t0.5266626160491122\n",
      "  (1756, 117)\t0.4690363888826903\n",
      "  (1756, 127)\t0.2180633865130197\n",
      "  (1756, 129)\t0.2673591945175428\n",
      "  (1756, 246)\t0.1987299904926924\n",
      "  (1756, 249)\t0.18980211285858975\n",
      "  (1756, 250)\t0.324970377354792\n",
      "  (1756, 255)\t0.5506751859212602\n",
      "  (1756, 256)\t0.4608573335602298\n",
      "  (1756, 261)\t0.5506751859212602\n",
      "  (1756, 278)\t0.808359252694942\n",
      "  (1756, 290)\t0.5886894925021805\n",
      "  (1756, 367)\t0.29608807940047793\n",
      "  (1756, 381)\t0.8640518454224302\n",
      "  (1756, 452)\t0.29608807940047793\n",
      "  (1756, 461)\t0.2794245996614571\n",
      "  (1756, 544)\t1.0\n"
     ]
    }
   ],
   "source": [
    "X_train_encoded = preprocessor.fit_transform(X_train)\n",
    "print(X_train_encoded)\n",
    "\n",
    "\n",
    "# 1. Obter as colunas numéricas após a transformação\n",
    "numerical_columns = numerical_features  # Os nomes permanecem os mesmos\n",
    "\n",
    "# 2. Obter as colunas categóricas após a codificação one-hot\n",
    "categorical_columns = preprocessor.named_transformers_['cat'].named_steps['onehot'].get_feature_names_out(categorical_features)\n",
    "\n",
    "# 3. Colunas de texto após TF-IDF\n",
    "overview_columns = preprocessor.named_transformers_['overview'].get_feature_names_out(['overview'])\n",
    "tagline_columns = preprocessor.named_transformers_['tagline'].get_feature_names_out(['tagline'])\n",
    "genres_columns = preprocessor.named_transformers_['genres'].get_feature_names_out(['genres'])\n",
    "production_companies_columns = preprocessor.named_transformers_['production_companies'].get_feature_names_out(['production_companies'])\n",
    "production_countries_columns = preprocessor.named_transformers_['production_countries'].get_feature_names_out(['production_countries'])\n",
    "cast_columns = preprocessor.named_transformers_['cast'].get_feature_names_out(['cast'])\n",
    "directors_columns = preprocessor.named_transformers_['directors'].get_feature_names_out(['directors'])\n",
    "\n",
    "# 4. Combinar todas as colunas\n",
    "features = np.concatenate([\n",
    "    numerical_columns, \n",
    "    categorical_columns, \n",
    "    overview_columns, \n",
    "    tagline_columns,\n",
    "    genres_columns,\n",
    "    production_companies_columns,\n",
    "    production_countries_columns,\n",
    "    cast_columns,\n",
    "    directors_columns\n",
    "])\n",
    "\n",
    "# Agora você pode usar `all_columns` como a lista de nomes das features\n",
    "print(features)\n",
    "\n",
    "\n",
    "X_train_encoded_df = pd.DataFrame.sparse.from_spmatrix(X_train_encoded, columns=features)\n",
    "print(X_train_encoded_df)\n",
    "\n",
    "X_test_encoded = preprocessor.transform(X_test)  #Just transform, not fit so they have the same number of features\n",
    "print(X_test_encoded)"
   ]
  },
  {
   "cell_type": "code",
   "execution_count": 244,
   "metadata": {},
   "outputs": [
    {
     "name": "stdout",
     "output_type": "stream",
     "text": [
      "X_train_encoded shape: (7027, 664)\n",
      "X_test_encoded shape: (1757, 664)\n"
     ]
    }
   ],
   "source": [
    "print(f\"X_train_encoded shape: {X_train_encoded.shape}\")\n",
    "print(f\"X_test_encoded shape: {X_test_encoded.shape}\")\n"
   ]
  },
  {
   "cell_type": "markdown",
   "metadata": {},
   "source": [
    "# Transparent Models"
   ]
  },
  {
   "cell_type": "markdown",
   "metadata": {},
   "source": [
    "## Decision Tree"
   ]
  },
  {
   "cell_type": "markdown",
   "metadata": {},
   "source": [
    "### C45 Algorithm"
   ]
  },
  {
   "cell_type": "markdown",
   "metadata": {},
   "source": [
    "Functions needed to help calculate the Information Gain Ratio to be used with the tree. Attention for being a Multi-class Classification problem (4 possible values).\n"
   ]
  },
  {
   "cell_type": "code",
   "execution_count": 245,
   "metadata": {},
   "outputs": [],
   "source": [
    "# lower values are better = more purity\n",
    "def entropy(target_col):\n",
    "    elements, counts = np.unique(target_col, return_counts=True)\n",
    "    probabilities = counts / np.sum(counts) \n",
    "    entropy_value = -np.sum(probabilities * np.log2(probabilities + 1e-9)) \n",
    "\n",
    "    return entropy_value"
   ]
  },
  {
   "cell_type": "code",
   "execution_count": 246,
   "metadata": {},
   "outputs": [
    {
     "name": "stdout",
     "output_type": "stream",
     "text": [
      "1.9999999942292197\n",
      "['bad' 'good' 'great' 'mediocre']\n",
      "[2196 2196 2196 2196]\n"
     ]
    }
   ],
   "source": [
    "# 'category' has 4 possible values, so Entropy can range from 0 (perfectly pure, all values in one class) to 2 (all classes represented equally in the same number each)\n",
    "e = entropy(df['category'])\n",
    "elements, counts = np.unique(df['category'], return_counts=True)\n",
    "print(e)\n",
    "print(elements)\n",
    "print(counts)"
   ]
  },
  {
   "cell_type": "code",
   "execution_count": 247,
   "metadata": {},
   "outputs": [],
   "source": [
    "def info_gain(data, split_attribute_name, target_name='category'):\n",
    "    total_entropy = entropy(data[target_name])\n",
    "    values, counts = np.unique(data[split_attribute_name].astype(str), return_counts=True)\n",
    "    \n",
    "    weighted_entropy = 0\n",
    "    for i in range(len(values)):\n",
    "        subset = data[data[split_attribute_name].astype(str) == values[i]]  \n",
    "        subset_entropy = entropy(subset[target_name])  \n",
    "        weighted_entropy += (counts[i] / np.sum(counts)) * subset_entropy  \n",
    "    \n",
    "    return total_entropy - weighted_entropy"
   ]
  },
  {
   "cell_type": "code",
   "execution_count": 248,
   "metadata": {},
   "outputs": [],
   "source": [
    "#fake_data = {\n",
    " #   'feature1': ['A', 'A', 'B', 'B', 'A', 'B', 'A', 'A', 'B', 'B'],\n",
    "  #  'feature2': ['X', 'X', 'X', 'Y', 'Y', 'Y', 'X', 'Y', 'X', 'Y'],\n",
    "   # 'category': ['yes', 'yes', 'no', 'no', 'yes', 'no', 'yes', 'yes', 'no', 'no']\n",
    "#}\n",
    "#df_tester = pd.DataFrame(fake_data)\n",
    "\n",
    "# Test the function\n",
    "#total_entropy = entropy(df_tester['category'])\n",
    "#print(\"Total Entropy:\", total_entropy)\n",
    "\n",
    "# Calculate information gain for 'feature1'\n",
    "#ig_feature1 = info_gain(df_tester, 'feature1', target_name='category')\n",
    "#print(\"Information Gain for feature1:\", ig_feature1)\n",
    "\n",
    "# Calculate information gain for 'feature2'\n",
    "#ig_feature2 = info_gain(df_tester, 'feature2', target_name='category')\n",
    "#print(\"Information Gain for feature2:\", ig_feature2)\n",
    "\n"
   ]
  },
  {
   "cell_type": "code",
   "execution_count": 249,
   "metadata": {},
   "outputs": [],
   "source": [
    "# Reescrevendo a função para aceitar DataFrame\n",
    "def info_gain_ratio(data, split_attribute_name, target_name='category'):\n",
    "    information_gain = info_gain(data, split_attribute_name, target_name)\n",
    "    \n",
    "    values, counts = np.unique(data[split_attribute_name].astype(str), return_counts=True)\n",
    "    split_information = np.sum([(-counts[i]/np.sum(counts)) * np.log2(counts[i]/np.sum(counts)) for i in range(len(values))])\n",
    "    \n",
    "    if split_information == 0:\n",
    "        return 0\n",
    "    return information_gain / split_information"
   ]
  },
  {
   "cell_type": "code",
   "execution_count": 250,
   "metadata": {},
   "outputs": [],
   "source": [
    "# Test the function\n",
    "#ig_ratio_feature1 = info_gain_ratio(df_tester, 'feature1', target_name='category')\n",
    "#print(\"Information Gain Ratio for feature1:\", ig_ratio_feature1)\n",
    "\n",
    "#ig_ratio_feature2 = info_gain_ratio(df_tester, 'feature2', target_name='category')\n",
    "#print(\"Information Gain Ratio for feature2:\", ig_ratio_feature2)\n"
   ]
  },
  {
   "cell_type": "code",
   "execution_count": 251,
   "metadata": {},
   "outputs": [],
   "source": [
    "from scipy.sparse import issparse\n",
    "\n",
    "# Assume entropy and info_gain_ratio functions are already defined\n",
    "\n",
    "def c45(X, Y, features, parent_class=None):\n",
    "    # Convert Y to a Pandas Series for compatibility\n",
    "    Y = pd.Series(Y)\n",
    "\n",
    "    # If X is a sparse matrix, convert it to a dense DataFrame\n",
    "    if issparse(X):\n",
    "        X = pd.DataFrame(X.toarray(), columns=features)\n",
    "\n",
    "    # Base case 1: All samples belong to the same class\n",
    "    if len(Y.unique()) == 1:\n",
    "        return Y.iloc[0]  # Return the class label\n",
    "\n",
    "    # Base case 2: None of the features provide any information gain\n",
    "    information_gains = [info_gain_ratio(X, feature, target_name='category') for feature in features]\n",
    "\n",
    "    if all(gain == 0 for gain in information_gains):\n",
    "        # Return the expected value (majority class)\n",
    "        return Y.mode()[0]  # Returns the most frequent class label\n",
    "\n",
    "    # Check for unseen classes\n",
    "    unique_classes = Y.unique()\n",
    "    \n",
    "    # If there is a class not in the unique classes, return the expected value\n",
    "    if parent_class is not None and parent_class not in unique_classes:\n",
    "        return Y.mode()[0]  # Return the most frequent class label as expected value\n",
    "\n",
    "    # Step 2: Find the best attribute to split on\n",
    "    best_feature_index = np.argmax(information_gains)  # Get the index of the best feature\n",
    "    best_feature = features[best_feature_index]  # The best feature name\n",
    "    \n",
    "    # Step 3: Create a decision node that splits on best_feature\n",
    "    tree = {best_feature: {}}\n",
    "\n",
    "    # Split the dataset by the best feature and create subtrees recursively\n",
    "    for value in X[best_feature].unique():\n",
    "        subset_X = X[X[best_feature] == value].drop(columns=best_feature)  # Subset for features\n",
    "        subset_Y = Y[X[best_feature] == value]  # Corresponding target values\n",
    "        \n",
    "        # Recursively build the subtree\n",
    "        subtree = c45(subset_X, subset_Y, features, parent_class=Y.mode()[0])\n",
    "        tree[best_feature][value] = subtree  # Add the subtree to the tree\n",
    "\n",
    "    return tree  # Return the constructed tree"
   ]
  },
  {
   "cell_type": "code",
   "execution_count": 252,
   "metadata": {},
   "outputs": [],
   "source": [
    "\n",
    "# Call the c45 function\n",
    "#leaf_node = c45(df_tester, target_name='category', features=['feature1', 'feature2'])\n",
    "#print(\"Leaf Node:\", leaf_node)  # Output should be 'yes'\n"
   ]
  },
  {
   "cell_type": "code",
   "execution_count": 253,
   "metadata": {},
   "outputs": [],
   "source": [
    "#unseen_class = 'maybe'\n",
    "#leaf_node = c45(df_tester, target_name='category', features=['feature1', 'feature2'], parent_class=unseen_class)\n",
    "#print(\"Leaf Node for Unseen Class:\", leaf_node)"
   ]
  },
  {
   "cell_type": "code",
   "execution_count": 254,
   "metadata": {},
   "outputs": [],
   "source": [
    "def predict(tree, instance,target_name, data):\n",
    "    # If the tree is a leaf node, return the class label\n",
    "    if isinstance(tree, str):  # Leaf node check (if it's a string)\n",
    "        return tree\n",
    "    \n",
    "    # Extract the attribute to split on\n",
    "    attribute = list(tree.keys())[0]\n",
    "    subtree = tree[attribute]\n",
    "    \n",
    "    # Get the attribute value for the current instance\n",
    "    value = instance[attribute]\n",
    "    \n",
    "    # Check if the attribute value exists in the subtree\n",
    "    if value in subtree:\n",
    "        # Recurse on the subtree\n",
    "        return predict(subtree[value], instance, target_name, data)\n",
    "    else:\n",
    "        # If the attribute value is not found, return the expected value (majority class)\n",
    "        return data[target_name].mode()[0]  # Return the mode of the target class\n"
   ]
  },
  {
   "cell_type": "code",
   "execution_count": 258,
   "metadata": {},
   "outputs": [],
   "source": [
    "# Calcular ganho de informação para cada feature\n",
    "X_train_encoded_df['category'] = Y_train_encoded\n"
   ]
  },
  {
   "cell_type": "code",
   "execution_count": 262,
   "metadata": {},
   "outputs": [],
   "source": [
    "X_train_encoded_df = X_train_encoded_df.loc[:, ~X_train_encoded_df.columns.duplicated()]\n"
   ]
  },
  {
   "cell_type": "code",
   "execution_count": 263,
   "metadata": {},
   "outputs": [
    {
     "name": "stdout",
     "output_type": "stream",
     "text": [
      "[False False False False False False False False False False False False\n",
      " False False False False False False False False False False False False\n",
      " False False False False False False False False False False False False\n",
      " False False False False False False False False False False False False\n",
      " False False False False False False False False False False False False\n",
      " False False False False False False False False False False False False\n",
      " False False False False False False False False False False False False\n",
      " False False False False False False False False False False False False\n",
      " False False False False False False False False False False False False\n",
      " False False False False False False False False False False False False\n",
      " False False False False False False False False False False False False\n",
      " False False False False False False False False False False False False\n",
      " False False False False False False False False False False False False\n",
      " False False False False False False False False False False False False\n",
      " False False False False False False False False False False False False\n",
      " False False False False False False False False False False False False\n",
      " False False False False False False False False False False False False\n",
      " False False False False False False False False False False False False\n",
      " False False False False False False False False False False False False\n",
      " False False False False False False False False False False False False\n",
      " False False False False False False False False False False False False\n",
      " False False False False False False False False False False False False\n",
      " False False False False False False False False False False False False\n",
      " False False False False False False False False False False False False\n",
      " False False False False False False False False False False False False\n",
      " False False False False False False False False False False False False\n",
      " False False False False False False False False False False False False\n",
      " False False False False False False False False False False False False\n",
      " False False False False False False False False False False False False\n",
      " False False False False False False False False False False False False\n",
      " False False False False False False False False False False False False\n",
      " False False False False False False False False False False False False\n",
      " False False False False False False False False False False False False\n",
      " False False False False False False False False False False False False\n",
      " False False False False False False False False False False False False\n",
      " False False False False False False False False False False False False\n",
      " False False False False False False False False False False False False\n",
      " False False False False False False False False False False False False\n",
      " False False False False False False False False False False False False\n",
      " False False False False False False False False False False False False\n",
      " False False False False False False False False False False False False\n",
      " False False False False False False False False False False False False\n",
      " False False False False False False False False False False False False\n",
      " False False False False False False False False False False False False\n",
      " False False False False False False False False False False False False\n",
      " False False False False False False False False False False False False\n",
      " False False False False False False False False False False False False\n",
      " False False False False False False False False False False False False\n",
      " False False False]\n"
     ]
    }
   ],
   "source": [
    "print(X_train_encoded_df.columns.duplicated())\n"
   ]
  },
  {
   "cell_type": "code",
   "execution_count": 265,
   "metadata": {},
   "outputs": [
    {
     "ename": "KeyboardInterrupt",
     "evalue": "",
     "output_type": "error",
     "traceback": [
      "\u001b[1;31m---------------------------------------------------------------------------\u001b[0m",
      "\u001b[1;31mKeyboardInterrupt\u001b[0m                         Traceback (most recent call last)",
      "Cell \u001b[1;32mIn[265], line 1\u001b[0m\n\u001b[1;32m----> 1\u001b[0m c45tree \u001b[38;5;241m=\u001b[39m \u001b[43mc45\u001b[49m\u001b[43m(\u001b[49m\u001b[43mX_train_encoded_df\u001b[49m\u001b[43m,\u001b[49m\u001b[43m \u001b[49m\u001b[43mY_train_encoded\u001b[49m\u001b[43m,\u001b[49m\u001b[43m \u001b[49m\u001b[43mfeatures\u001b[49m\u001b[43m)\u001b[49m\n",
      "Cell \u001b[1;32mIn[251], line 44\u001b[0m, in \u001b[0;36mc45\u001b[1;34m(X, Y, features, parent_class)\u001b[0m\n\u001b[0;32m     41\u001b[0m     subset_Y \u001b[38;5;241m=\u001b[39m Y[X[best_feature] \u001b[38;5;241m==\u001b[39m value]  \u001b[38;5;66;03m# Corresponding target values\u001b[39;00m\n\u001b[0;32m     43\u001b[0m     \u001b[38;5;66;03m# Recursively build the subtree\u001b[39;00m\n\u001b[1;32m---> 44\u001b[0m     subtree \u001b[38;5;241m=\u001b[39m \u001b[43mc45\u001b[49m\u001b[43m(\u001b[49m\u001b[43msubset_X\u001b[49m\u001b[43m,\u001b[49m\u001b[43m \u001b[49m\u001b[43msubset_Y\u001b[49m\u001b[43m,\u001b[49m\u001b[43m \u001b[49m\u001b[43mfeatures\u001b[49m\u001b[43m,\u001b[49m\u001b[43m \u001b[49m\u001b[43mparent_class\u001b[49m\u001b[38;5;241;43m=\u001b[39;49m\u001b[43mY\u001b[49m\u001b[38;5;241;43m.\u001b[39;49m\u001b[43mmode\u001b[49m\u001b[43m(\u001b[49m\u001b[43m)\u001b[49m\u001b[43m[\u001b[49m\u001b[38;5;241;43m0\u001b[39;49m\u001b[43m]\u001b[49m\u001b[43m)\u001b[49m\n\u001b[0;32m     45\u001b[0m     tree[best_feature][value] \u001b[38;5;241m=\u001b[39m subtree  \u001b[38;5;66;03m# Add the subtree to the tree\u001b[39;00m\n\u001b[0;32m     47\u001b[0m \u001b[38;5;28;01mreturn\u001b[39;00m tree\n",
      "Cell \u001b[1;32mIn[251], line 18\u001b[0m, in \u001b[0;36mc45\u001b[1;34m(X, Y, features, parent_class)\u001b[0m\n\u001b[0;32m     15\u001b[0m     \u001b[38;5;28;01mreturn\u001b[39;00m Y\u001b[38;5;241m.\u001b[39miloc[\u001b[38;5;241m0\u001b[39m]  \u001b[38;5;66;03m# Return the class label\u001b[39;00m\n\u001b[0;32m     17\u001b[0m \u001b[38;5;66;03m# Base case 2: None of the features provide any information gain\u001b[39;00m\n\u001b[1;32m---> 18\u001b[0m information_gains \u001b[38;5;241m=\u001b[39m [info_gain_ratio(X, feature, target_name\u001b[38;5;241m=\u001b[39m\u001b[38;5;124m'\u001b[39m\u001b[38;5;124mcategory\u001b[39m\u001b[38;5;124m'\u001b[39m) \u001b[38;5;28;01mfor\u001b[39;00m feature \u001b[38;5;129;01min\u001b[39;00m features]\n\u001b[0;32m     20\u001b[0m \u001b[38;5;28;01mif\u001b[39;00m \u001b[38;5;28mall\u001b[39m(gain \u001b[38;5;241m==\u001b[39m \u001b[38;5;241m0\u001b[39m \u001b[38;5;28;01mfor\u001b[39;00m gain \u001b[38;5;129;01min\u001b[39;00m information_gains):\n\u001b[0;32m     21\u001b[0m     \u001b[38;5;66;03m# Return the expected value (majority class)\u001b[39;00m\n\u001b[0;32m     22\u001b[0m     \u001b[38;5;28;01mreturn\u001b[39;00m Y\u001b[38;5;241m.\u001b[39mmode()[\u001b[38;5;241m0\u001b[39m]  \u001b[38;5;66;03m# Returns the most frequent class label\u001b[39;00m\n",
      "Cell \u001b[1;32mIn[251], line 18\u001b[0m, in \u001b[0;36m<listcomp>\u001b[1;34m(.0)\u001b[0m\n\u001b[0;32m     15\u001b[0m     \u001b[38;5;28;01mreturn\u001b[39;00m Y\u001b[38;5;241m.\u001b[39miloc[\u001b[38;5;241m0\u001b[39m]  \u001b[38;5;66;03m# Return the class label\u001b[39;00m\n\u001b[0;32m     17\u001b[0m \u001b[38;5;66;03m# Base case 2: None of the features provide any information gain\u001b[39;00m\n\u001b[1;32m---> 18\u001b[0m information_gains \u001b[38;5;241m=\u001b[39m [\u001b[43minfo_gain_ratio\u001b[49m\u001b[43m(\u001b[49m\u001b[43mX\u001b[49m\u001b[43m,\u001b[49m\u001b[43m \u001b[49m\u001b[43mfeature\u001b[49m\u001b[43m,\u001b[49m\u001b[43m \u001b[49m\u001b[43mtarget_name\u001b[49m\u001b[38;5;241;43m=\u001b[39;49m\u001b[38;5;124;43m'\u001b[39;49m\u001b[38;5;124;43mcategory\u001b[39;49m\u001b[38;5;124;43m'\u001b[39;49m\u001b[43m)\u001b[49m \u001b[38;5;28;01mfor\u001b[39;00m feature \u001b[38;5;129;01min\u001b[39;00m features]\n\u001b[0;32m     20\u001b[0m \u001b[38;5;28;01mif\u001b[39;00m \u001b[38;5;28mall\u001b[39m(gain \u001b[38;5;241m==\u001b[39m \u001b[38;5;241m0\u001b[39m \u001b[38;5;28;01mfor\u001b[39;00m gain \u001b[38;5;129;01min\u001b[39;00m information_gains):\n\u001b[0;32m     21\u001b[0m     \u001b[38;5;66;03m# Return the expected value (majority class)\u001b[39;00m\n\u001b[0;32m     22\u001b[0m     \u001b[38;5;28;01mreturn\u001b[39;00m Y\u001b[38;5;241m.\u001b[39mmode()[\u001b[38;5;241m0\u001b[39m]  \u001b[38;5;66;03m# Returns the most frequent class label\u001b[39;00m\n",
      "Cell \u001b[1;32mIn[249], line 3\u001b[0m, in \u001b[0;36minfo_gain_ratio\u001b[1;34m(data, split_attribute_name, target_name)\u001b[0m\n\u001b[0;32m      2\u001b[0m \u001b[38;5;28;01mdef\u001b[39;00m \u001b[38;5;21minfo_gain_ratio\u001b[39m(data, split_attribute_name, target_name\u001b[38;5;241m=\u001b[39m\u001b[38;5;124m'\u001b[39m\u001b[38;5;124mcategory\u001b[39m\u001b[38;5;124m'\u001b[39m):\n\u001b[1;32m----> 3\u001b[0m     information_gain \u001b[38;5;241m=\u001b[39m \u001b[43minfo_gain\u001b[49m\u001b[43m(\u001b[49m\u001b[43mdata\u001b[49m\u001b[43m,\u001b[49m\u001b[43m \u001b[49m\u001b[43msplit_attribute_name\u001b[49m\u001b[43m,\u001b[49m\u001b[43m \u001b[49m\u001b[43mtarget_name\u001b[49m\u001b[43m)\u001b[49m\n\u001b[0;32m      5\u001b[0m     values, counts \u001b[38;5;241m=\u001b[39m np\u001b[38;5;241m.\u001b[39munique(data[split_attribute_name]\u001b[38;5;241m.\u001b[39mastype(\u001b[38;5;28mstr\u001b[39m), return_counts\u001b[38;5;241m=\u001b[39m\u001b[38;5;28;01mTrue\u001b[39;00m)\n\u001b[0;32m      6\u001b[0m     split_information \u001b[38;5;241m=\u001b[39m np\u001b[38;5;241m.\u001b[39msum([(\u001b[38;5;241m-\u001b[39mcounts[i]\u001b[38;5;241m/\u001b[39mnp\u001b[38;5;241m.\u001b[39msum(counts)) \u001b[38;5;241m*\u001b[39m np\u001b[38;5;241m.\u001b[39mlog2(counts[i]\u001b[38;5;241m/\u001b[39mnp\u001b[38;5;241m.\u001b[39msum(counts)) \u001b[38;5;28;01mfor\u001b[39;00m i \u001b[38;5;129;01min\u001b[39;00m \u001b[38;5;28mrange\u001b[39m(\u001b[38;5;28mlen\u001b[39m(values))])\n",
      "Cell \u001b[1;32mIn[247], line 7\u001b[0m, in \u001b[0;36minfo_gain\u001b[1;34m(data, split_attribute_name, target_name)\u001b[0m\n\u001b[0;32m      5\u001b[0m weighted_entropy \u001b[38;5;241m=\u001b[39m \u001b[38;5;241m0\u001b[39m\n\u001b[0;32m      6\u001b[0m \u001b[38;5;28;01mfor\u001b[39;00m i \u001b[38;5;129;01min\u001b[39;00m \u001b[38;5;28mrange\u001b[39m(\u001b[38;5;28mlen\u001b[39m(values)):\n\u001b[1;32m----> 7\u001b[0m     subset \u001b[38;5;241m=\u001b[39m \u001b[43mdata\u001b[49m\u001b[43m[\u001b[49m\u001b[43mdata\u001b[49m\u001b[43m[\u001b[49m\u001b[43msplit_attribute_name\u001b[49m\u001b[43m]\u001b[49m\u001b[38;5;241;43m.\u001b[39;49m\u001b[43mastype\u001b[49m\u001b[43m(\u001b[49m\u001b[38;5;28;43mstr\u001b[39;49m\u001b[43m)\u001b[49m\u001b[43m \u001b[49m\u001b[38;5;241;43m==\u001b[39;49m\u001b[43m \u001b[49m\u001b[43mvalues\u001b[49m\u001b[43m[\u001b[49m\u001b[43mi\u001b[49m\u001b[43m]\u001b[49m\u001b[43m]\u001b[49m  \n\u001b[0;32m      8\u001b[0m     subset_entropy \u001b[38;5;241m=\u001b[39m entropy(subset[target_name])  \n\u001b[0;32m      9\u001b[0m     weighted_entropy \u001b[38;5;241m+\u001b[39m\u001b[38;5;241m=\u001b[39m (counts[i] \u001b[38;5;241m/\u001b[39m np\u001b[38;5;241m.\u001b[39msum(counts)) \u001b[38;5;241m*\u001b[39m subset_entropy  \n",
      "File \u001b[1;32m~\\AppData\\Local\\Packages\\PythonSoftwareFoundation.Python.3.10_qbz5n2kfra8p0\\LocalCache\\local-packages\\Python310\\site-packages\\pandas\\core\\frame.py:3887\u001b[0m, in \u001b[0;36mDataFrame.__getitem__\u001b[1;34m(self, key)\u001b[0m\n\u001b[0;32m   3885\u001b[0m \u001b[38;5;66;03m# Do we have a (boolean) 1d indexer?\u001b[39;00m\n\u001b[0;32m   3886\u001b[0m \u001b[38;5;28;01mif\u001b[39;00m com\u001b[38;5;241m.\u001b[39mis_bool_indexer(key):\n\u001b[1;32m-> 3887\u001b[0m     \u001b[38;5;28;01mreturn\u001b[39;00m \u001b[38;5;28;43mself\u001b[39;49m\u001b[38;5;241;43m.\u001b[39;49m\u001b[43m_getitem_bool_array\u001b[49m\u001b[43m(\u001b[49m\u001b[43mkey\u001b[49m\u001b[43m)\u001b[49m\n\u001b[0;32m   3889\u001b[0m \u001b[38;5;66;03m# We are left with two options: a single key, and a collection of keys,\u001b[39;00m\n\u001b[0;32m   3890\u001b[0m \u001b[38;5;66;03m# We interpret tuples as collections only for non-MultiIndex\u001b[39;00m\n\u001b[0;32m   3891\u001b[0m is_single_key \u001b[38;5;241m=\u001b[39m \u001b[38;5;28misinstance\u001b[39m(key, \u001b[38;5;28mtuple\u001b[39m) \u001b[38;5;129;01mor\u001b[39;00m \u001b[38;5;129;01mnot\u001b[39;00m is_list_like(key)\n",
      "File \u001b[1;32m~\\AppData\\Local\\Packages\\PythonSoftwareFoundation.Python.3.10_qbz5n2kfra8p0\\LocalCache\\local-packages\\Python310\\site-packages\\pandas\\core\\frame.py:3949\u001b[0m, in \u001b[0;36mDataFrame._getitem_bool_array\u001b[1;34m(self, key)\u001b[0m\n\u001b[0;32m   3946\u001b[0m     \u001b[38;5;28;01mreturn\u001b[39;00m \u001b[38;5;28mself\u001b[39m\u001b[38;5;241m.\u001b[39mcopy(deep\u001b[38;5;241m=\u001b[39m\u001b[38;5;28;01mNone\u001b[39;00m)\n\u001b[0;32m   3948\u001b[0m indexer \u001b[38;5;241m=\u001b[39m key\u001b[38;5;241m.\u001b[39mnonzero()[\u001b[38;5;241m0\u001b[39m]\n\u001b[1;32m-> 3949\u001b[0m \u001b[38;5;28;01mreturn\u001b[39;00m \u001b[38;5;28;43mself\u001b[39;49m\u001b[38;5;241;43m.\u001b[39;49m\u001b[43m_take_with_is_copy\u001b[49m\u001b[43m(\u001b[49m\u001b[43mindexer\u001b[49m\u001b[43m,\u001b[49m\u001b[43m \u001b[49m\u001b[43maxis\u001b[49m\u001b[38;5;241;43m=\u001b[39;49m\u001b[38;5;241;43m0\u001b[39;49m\u001b[43m)\u001b[49m\n",
      "File \u001b[1;32m~\\AppData\\Local\\Packages\\PythonSoftwareFoundation.Python.3.10_qbz5n2kfra8p0\\LocalCache\\local-packages\\Python310\\site-packages\\pandas\\core\\generic.py:4088\u001b[0m, in \u001b[0;36mNDFrame._take_with_is_copy\u001b[1;34m(self, indices, axis)\u001b[0m\n\u001b[0;32m   4077\u001b[0m \u001b[38;5;129m@final\u001b[39m\n\u001b[0;32m   4078\u001b[0m \u001b[38;5;28;01mdef\u001b[39;00m \u001b[38;5;21m_take_with_is_copy\u001b[39m(\u001b[38;5;28mself\u001b[39m, indices, axis: Axis \u001b[38;5;241m=\u001b[39m \u001b[38;5;241m0\u001b[39m) \u001b[38;5;241m-\u001b[39m\u001b[38;5;241m>\u001b[39m Self:\n\u001b[0;32m   4079\u001b[0m \u001b[38;5;250m    \u001b[39m\u001b[38;5;124;03m\"\"\"\u001b[39;00m\n\u001b[0;32m   4080\u001b[0m \u001b[38;5;124;03m    Internal version of the `take` method that sets the `_is_copy`\u001b[39;00m\n\u001b[0;32m   4081\u001b[0m \u001b[38;5;124;03m    attribute to keep track of the parent dataframe (using in indexing\u001b[39;00m\n\u001b[1;32m   (...)\u001b[0m\n\u001b[0;32m   4086\u001b[0m \u001b[38;5;124;03m    See the docstring of `take` for full explanation of the parameters.\u001b[39;00m\n\u001b[0;32m   4087\u001b[0m \u001b[38;5;124;03m    \"\"\"\u001b[39;00m\n\u001b[1;32m-> 4088\u001b[0m     result \u001b[38;5;241m=\u001b[39m \u001b[38;5;28;43mself\u001b[39;49m\u001b[38;5;241;43m.\u001b[39;49m\u001b[43mtake\u001b[49m\u001b[43m(\u001b[49m\u001b[43mindices\u001b[49m\u001b[38;5;241;43m=\u001b[39;49m\u001b[43mindices\u001b[49m\u001b[43m,\u001b[49m\u001b[43m \u001b[49m\u001b[43maxis\u001b[49m\u001b[38;5;241;43m=\u001b[39;49m\u001b[43maxis\u001b[49m\u001b[43m)\u001b[49m\n\u001b[0;32m   4089\u001b[0m     \u001b[38;5;66;03m# Maybe set copy if we didn't actually change the index.\u001b[39;00m\n\u001b[0;32m   4090\u001b[0m     \u001b[38;5;28;01mif\u001b[39;00m \u001b[38;5;28mself\u001b[39m\u001b[38;5;241m.\u001b[39mndim \u001b[38;5;241m==\u001b[39m \u001b[38;5;241m2\u001b[39m \u001b[38;5;129;01mand\u001b[39;00m \u001b[38;5;129;01mnot\u001b[39;00m result\u001b[38;5;241m.\u001b[39m_get_axis(axis)\u001b[38;5;241m.\u001b[39mequals(\u001b[38;5;28mself\u001b[39m\u001b[38;5;241m.\u001b[39m_get_axis(axis)):\n",
      "File \u001b[1;32m~\\AppData\\Local\\Packages\\PythonSoftwareFoundation.Python.3.10_qbz5n2kfra8p0\\LocalCache\\local-packages\\Python310\\site-packages\\pandas\\core\\generic.py:4068\u001b[0m, in \u001b[0;36mNDFrame.take\u001b[1;34m(self, indices, axis, **kwargs)\u001b[0m\n\u001b[0;32m   4063\u001b[0m     \u001b[38;5;66;03m# We can get here with a slice via DataFrame.__getitem__\u001b[39;00m\n\u001b[0;32m   4064\u001b[0m     indices \u001b[38;5;241m=\u001b[39m np\u001b[38;5;241m.\u001b[39marange(\n\u001b[0;32m   4065\u001b[0m         indices\u001b[38;5;241m.\u001b[39mstart, indices\u001b[38;5;241m.\u001b[39mstop, indices\u001b[38;5;241m.\u001b[39mstep, dtype\u001b[38;5;241m=\u001b[39mnp\u001b[38;5;241m.\u001b[39mintp\n\u001b[0;32m   4066\u001b[0m     )\n\u001b[1;32m-> 4068\u001b[0m new_data \u001b[38;5;241m=\u001b[39m \u001b[38;5;28;43mself\u001b[39;49m\u001b[38;5;241;43m.\u001b[39;49m\u001b[43m_mgr\u001b[49m\u001b[38;5;241;43m.\u001b[39;49m\u001b[43mtake\u001b[49m\u001b[43m(\u001b[49m\n\u001b[0;32m   4069\u001b[0m \u001b[43m    \u001b[49m\u001b[43mindices\u001b[49m\u001b[43m,\u001b[49m\n\u001b[0;32m   4070\u001b[0m \u001b[43m    \u001b[49m\u001b[43maxis\u001b[49m\u001b[38;5;241;43m=\u001b[39;49m\u001b[38;5;28;43mself\u001b[39;49m\u001b[38;5;241;43m.\u001b[39;49m\u001b[43m_get_block_manager_axis\u001b[49m\u001b[43m(\u001b[49m\u001b[43maxis\u001b[49m\u001b[43m)\u001b[49m\u001b[43m,\u001b[49m\n\u001b[0;32m   4071\u001b[0m \u001b[43m    \u001b[49m\u001b[43mverify\u001b[49m\u001b[38;5;241;43m=\u001b[39;49m\u001b[38;5;28;43;01mTrue\u001b[39;49;00m\u001b[43m,\u001b[49m\n\u001b[0;32m   4072\u001b[0m \u001b[43m\u001b[49m\u001b[43m)\u001b[49m\n\u001b[0;32m   4073\u001b[0m \u001b[38;5;28;01mreturn\u001b[39;00m \u001b[38;5;28mself\u001b[39m\u001b[38;5;241m.\u001b[39m_constructor_from_mgr(new_data, axes\u001b[38;5;241m=\u001b[39mnew_data\u001b[38;5;241m.\u001b[39maxes)\u001b[38;5;241m.\u001b[39m__finalize__(\n\u001b[0;32m   4074\u001b[0m     \u001b[38;5;28mself\u001b[39m, method\u001b[38;5;241m=\u001b[39m\u001b[38;5;124m\"\u001b[39m\u001b[38;5;124mtake\u001b[39m\u001b[38;5;124m\"\u001b[39m\n\u001b[0;32m   4075\u001b[0m )\n",
      "File \u001b[1;32m~\\AppData\\Local\\Packages\\PythonSoftwareFoundation.Python.3.10_qbz5n2kfra8p0\\LocalCache\\local-packages\\Python310\\site-packages\\pandas\\core\\internals\\managers.py:877\u001b[0m, in \u001b[0;36mBaseBlockManager.take\u001b[1;34m(self, indexer, axis, verify)\u001b[0m\n\u001b[0;32m    874\u001b[0m indexer \u001b[38;5;241m=\u001b[39m maybe_convert_indices(indexer, n, verify\u001b[38;5;241m=\u001b[39mverify)\n\u001b[0;32m    876\u001b[0m new_labels \u001b[38;5;241m=\u001b[39m \u001b[38;5;28mself\u001b[39m\u001b[38;5;241m.\u001b[39maxes[axis]\u001b[38;5;241m.\u001b[39mtake(indexer)\n\u001b[1;32m--> 877\u001b[0m \u001b[38;5;28;01mreturn\u001b[39;00m \u001b[38;5;28;43mself\u001b[39;49m\u001b[38;5;241;43m.\u001b[39;49m\u001b[43mreindex_indexer\u001b[49m\u001b[43m(\u001b[49m\n\u001b[0;32m    878\u001b[0m \u001b[43m    \u001b[49m\u001b[43mnew_axis\u001b[49m\u001b[38;5;241;43m=\u001b[39;49m\u001b[43mnew_labels\u001b[49m\u001b[43m,\u001b[49m\n\u001b[0;32m    879\u001b[0m \u001b[43m    \u001b[49m\u001b[43mindexer\u001b[49m\u001b[38;5;241;43m=\u001b[39;49m\u001b[43mindexer\u001b[49m\u001b[43m,\u001b[49m\n\u001b[0;32m    880\u001b[0m \u001b[43m    \u001b[49m\u001b[43maxis\u001b[49m\u001b[38;5;241;43m=\u001b[39;49m\u001b[43maxis\u001b[49m\u001b[43m,\u001b[49m\n\u001b[0;32m    881\u001b[0m \u001b[43m    \u001b[49m\u001b[43mallow_dups\u001b[49m\u001b[38;5;241;43m=\u001b[39;49m\u001b[38;5;28;43;01mTrue\u001b[39;49;00m\u001b[43m,\u001b[49m\n\u001b[0;32m    882\u001b[0m \u001b[43m    \u001b[49m\u001b[43mcopy\u001b[49m\u001b[38;5;241;43m=\u001b[39;49m\u001b[38;5;28;43;01mNone\u001b[39;49;00m\u001b[43m,\u001b[49m\n\u001b[0;32m    883\u001b[0m \u001b[43m\u001b[49m\u001b[43m)\u001b[49m\n",
      "File \u001b[1;32m~\\AppData\\Local\\Packages\\PythonSoftwareFoundation.Python.3.10_qbz5n2kfra8p0\\LocalCache\\local-packages\\Python310\\site-packages\\pandas\\core\\internals\\managers.py:670\u001b[0m, in \u001b[0;36mBaseBlockManager.reindex_indexer\u001b[1;34m(self, new_axis, indexer, axis, fill_value, allow_dups, copy, only_slice, use_na_proxy)\u001b[0m\n\u001b[0;32m    663\u001b[0m     new_blocks \u001b[38;5;241m=\u001b[39m \u001b[38;5;28mself\u001b[39m\u001b[38;5;241m.\u001b[39m_slice_take_blocks_ax0(\n\u001b[0;32m    664\u001b[0m         indexer,\n\u001b[0;32m    665\u001b[0m         fill_value\u001b[38;5;241m=\u001b[39mfill_value,\n\u001b[0;32m    666\u001b[0m         only_slice\u001b[38;5;241m=\u001b[39monly_slice,\n\u001b[0;32m    667\u001b[0m         use_na_proxy\u001b[38;5;241m=\u001b[39muse_na_proxy,\n\u001b[0;32m    668\u001b[0m     )\n\u001b[0;32m    669\u001b[0m \u001b[38;5;28;01melse\u001b[39;00m:\n\u001b[1;32m--> 670\u001b[0m     new_blocks \u001b[38;5;241m=\u001b[39m [\n\u001b[0;32m    671\u001b[0m         blk\u001b[38;5;241m.\u001b[39mtake_nd(\n\u001b[0;32m    672\u001b[0m             indexer,\n\u001b[0;32m    673\u001b[0m             axis\u001b[38;5;241m=\u001b[39m\u001b[38;5;241m1\u001b[39m,\n\u001b[0;32m    674\u001b[0m             fill_value\u001b[38;5;241m=\u001b[39m(\n\u001b[0;32m    675\u001b[0m                 fill_value \u001b[38;5;28;01mif\u001b[39;00m fill_value \u001b[38;5;129;01mis\u001b[39;00m \u001b[38;5;129;01mnot\u001b[39;00m \u001b[38;5;28;01mNone\u001b[39;00m \u001b[38;5;28;01melse\u001b[39;00m blk\u001b[38;5;241m.\u001b[39mfill_value\n\u001b[0;32m    676\u001b[0m             ),\n\u001b[0;32m    677\u001b[0m         )\n\u001b[0;32m    678\u001b[0m         \u001b[38;5;28;01mfor\u001b[39;00m blk \u001b[38;5;129;01min\u001b[39;00m \u001b[38;5;28mself\u001b[39m\u001b[38;5;241m.\u001b[39mblocks\n\u001b[0;32m    679\u001b[0m     ]\n\u001b[0;32m    681\u001b[0m new_axes \u001b[38;5;241m=\u001b[39m \u001b[38;5;28mlist\u001b[39m(\u001b[38;5;28mself\u001b[39m\u001b[38;5;241m.\u001b[39maxes)\n\u001b[0;32m    682\u001b[0m new_axes[axis] \u001b[38;5;241m=\u001b[39m new_axis\n",
      "File \u001b[1;32m~\\AppData\\Local\\Packages\\PythonSoftwareFoundation.Python.3.10_qbz5n2kfra8p0\\LocalCache\\local-packages\\Python310\\site-packages\\pandas\\core\\internals\\managers.py:671\u001b[0m, in \u001b[0;36m<listcomp>\u001b[1;34m(.0)\u001b[0m\n\u001b[0;32m    663\u001b[0m     new_blocks \u001b[38;5;241m=\u001b[39m \u001b[38;5;28mself\u001b[39m\u001b[38;5;241m.\u001b[39m_slice_take_blocks_ax0(\n\u001b[0;32m    664\u001b[0m         indexer,\n\u001b[0;32m    665\u001b[0m         fill_value\u001b[38;5;241m=\u001b[39mfill_value,\n\u001b[0;32m    666\u001b[0m         only_slice\u001b[38;5;241m=\u001b[39monly_slice,\n\u001b[0;32m    667\u001b[0m         use_na_proxy\u001b[38;5;241m=\u001b[39muse_na_proxy,\n\u001b[0;32m    668\u001b[0m     )\n\u001b[0;32m    669\u001b[0m \u001b[38;5;28;01melse\u001b[39;00m:\n\u001b[0;32m    670\u001b[0m     new_blocks \u001b[38;5;241m=\u001b[39m [\n\u001b[1;32m--> 671\u001b[0m         \u001b[43mblk\u001b[49m\u001b[38;5;241;43m.\u001b[39;49m\u001b[43mtake_nd\u001b[49m\u001b[43m(\u001b[49m\n\u001b[0;32m    672\u001b[0m \u001b[43m            \u001b[49m\u001b[43mindexer\u001b[49m\u001b[43m,\u001b[49m\n\u001b[0;32m    673\u001b[0m \u001b[43m            \u001b[49m\u001b[43maxis\u001b[49m\u001b[38;5;241;43m=\u001b[39;49m\u001b[38;5;241;43m1\u001b[39;49m\u001b[43m,\u001b[49m\n\u001b[0;32m    674\u001b[0m \u001b[43m            \u001b[49m\u001b[43mfill_value\u001b[49m\u001b[38;5;241;43m=\u001b[39;49m\u001b[43m(\u001b[49m\n\u001b[0;32m    675\u001b[0m \u001b[43m                \u001b[49m\u001b[43mfill_value\u001b[49m\u001b[43m \u001b[49m\u001b[38;5;28;43;01mif\u001b[39;49;00m\u001b[43m \u001b[49m\u001b[43mfill_value\u001b[49m\u001b[43m \u001b[49m\u001b[38;5;129;43;01mis\u001b[39;49;00m\u001b[43m \u001b[49m\u001b[38;5;129;43;01mnot\u001b[39;49;00m\u001b[43m \u001b[49m\u001b[38;5;28;43;01mNone\u001b[39;49;00m\u001b[43m \u001b[49m\u001b[38;5;28;43;01melse\u001b[39;49;00m\u001b[43m \u001b[49m\u001b[43mblk\u001b[49m\u001b[38;5;241;43m.\u001b[39;49m\u001b[43mfill_value\u001b[49m\n\u001b[0;32m    676\u001b[0m \u001b[43m            \u001b[49m\u001b[43m)\u001b[49m\u001b[43m,\u001b[49m\n\u001b[0;32m    677\u001b[0m \u001b[43m        \u001b[49m\u001b[43m)\u001b[49m\n\u001b[0;32m    678\u001b[0m         \u001b[38;5;28;01mfor\u001b[39;00m blk \u001b[38;5;129;01min\u001b[39;00m \u001b[38;5;28mself\u001b[39m\u001b[38;5;241m.\u001b[39mblocks\n\u001b[0;32m    679\u001b[0m     ]\n\u001b[0;32m    681\u001b[0m new_axes \u001b[38;5;241m=\u001b[39m \u001b[38;5;28mlist\u001b[39m(\u001b[38;5;28mself\u001b[39m\u001b[38;5;241m.\u001b[39maxes)\n\u001b[0;32m    682\u001b[0m new_axes[axis] \u001b[38;5;241m=\u001b[39m new_axis\n",
      "File \u001b[1;32m~\\AppData\\Local\\Packages\\PythonSoftwareFoundation.Python.3.10_qbz5n2kfra8p0\\LocalCache\\local-packages\\Python310\\site-packages\\pandas\\core\\internals\\blocks.py:1061\u001b[0m, in \u001b[0;36mBlock.take_nd\u001b[1;34m(self, indexer, axis, new_mgr_locs, fill_value)\u001b[0m\n\u001b[0;32m   1058\u001b[0m     allow_fill \u001b[38;5;241m=\u001b[39m \u001b[38;5;28;01mTrue\u001b[39;00m\n\u001b[0;32m   1060\u001b[0m \u001b[38;5;66;03m# Note: algos.take_nd has upcast logic similar to coerce_to_target_dtype\u001b[39;00m\n\u001b[1;32m-> 1061\u001b[0m new_values \u001b[38;5;241m=\u001b[39m \u001b[43malgos\u001b[49m\u001b[38;5;241;43m.\u001b[39;49m\u001b[43mtake_nd\u001b[49m\u001b[43m(\u001b[49m\n\u001b[0;32m   1062\u001b[0m \u001b[43m    \u001b[49m\u001b[43mvalues\u001b[49m\u001b[43m,\u001b[49m\u001b[43m \u001b[49m\u001b[43mindexer\u001b[49m\u001b[43m,\u001b[49m\u001b[43m \u001b[49m\u001b[43maxis\u001b[49m\u001b[38;5;241;43m=\u001b[39;49m\u001b[43maxis\u001b[49m\u001b[43m,\u001b[49m\u001b[43m \u001b[49m\u001b[43mallow_fill\u001b[49m\u001b[38;5;241;43m=\u001b[39;49m\u001b[43mallow_fill\u001b[49m\u001b[43m,\u001b[49m\u001b[43m \u001b[49m\u001b[43mfill_value\u001b[49m\u001b[38;5;241;43m=\u001b[39;49m\u001b[43mfill_value\u001b[49m\n\u001b[0;32m   1063\u001b[0m \u001b[43m\u001b[49m\u001b[43m)\u001b[49m\n\u001b[0;32m   1065\u001b[0m \u001b[38;5;66;03m# Called from three places in managers, all of which satisfy\u001b[39;00m\n\u001b[0;32m   1066\u001b[0m \u001b[38;5;66;03m#  these assertions\u001b[39;00m\n\u001b[0;32m   1067\u001b[0m \u001b[38;5;28;01mif\u001b[39;00m \u001b[38;5;28misinstance\u001b[39m(\u001b[38;5;28mself\u001b[39m, ExtensionBlock):\n\u001b[0;32m   1068\u001b[0m     \u001b[38;5;66;03m# NB: in this case, the 'axis' kwarg will be ignored in the\u001b[39;00m\n\u001b[0;32m   1069\u001b[0m     \u001b[38;5;66;03m#  algos.take_nd call above.\u001b[39;00m\n",
      "File \u001b[1;32m~\\AppData\\Local\\Packages\\PythonSoftwareFoundation.Python.3.10_qbz5n2kfra8p0\\LocalCache\\local-packages\\Python310\\site-packages\\pandas\\core\\array_algos\\take.py:115\u001b[0m, in \u001b[0;36mtake_nd\u001b[1;34m(arr, indexer, axis, fill_value, allow_fill)\u001b[0m\n\u001b[0;32m    110\u001b[0m         arr \u001b[38;5;241m=\u001b[39m cast(\u001b[38;5;124m\"\u001b[39m\u001b[38;5;124mNDArrayBackedExtensionArray\u001b[39m\u001b[38;5;124m\"\u001b[39m, arr)\n\u001b[0;32m    111\u001b[0m         \u001b[38;5;28;01mreturn\u001b[39;00m arr\u001b[38;5;241m.\u001b[39mtake(\n\u001b[0;32m    112\u001b[0m             indexer, fill_value\u001b[38;5;241m=\u001b[39mfill_value, allow_fill\u001b[38;5;241m=\u001b[39mallow_fill, axis\u001b[38;5;241m=\u001b[39maxis\n\u001b[0;32m    113\u001b[0m         )\n\u001b[1;32m--> 115\u001b[0m     \u001b[38;5;28;01mreturn\u001b[39;00m \u001b[43marr\u001b[49m\u001b[38;5;241;43m.\u001b[39;49m\u001b[43mtake\u001b[49m\u001b[43m(\u001b[49m\u001b[43mindexer\u001b[49m\u001b[43m,\u001b[49m\u001b[43m \u001b[49m\u001b[43mfill_value\u001b[49m\u001b[38;5;241;43m=\u001b[39;49m\u001b[43mfill_value\u001b[49m\u001b[43m,\u001b[49m\u001b[43m \u001b[49m\u001b[43mallow_fill\u001b[49m\u001b[38;5;241;43m=\u001b[39;49m\u001b[43mallow_fill\u001b[49m\u001b[43m)\u001b[49m\n\u001b[0;32m    117\u001b[0m arr \u001b[38;5;241m=\u001b[39m np\u001b[38;5;241m.\u001b[39masarray(arr)\n\u001b[0;32m    118\u001b[0m \u001b[38;5;28;01mreturn\u001b[39;00m _take_nd_ndarray(arr, indexer, axis, fill_value, allow_fill)\n",
      "File \u001b[1;32m~\\AppData\\Local\\Packages\\PythonSoftwareFoundation.Python.3.10_qbz5n2kfra8p0\\LocalCache\\local-packages\\Python310\\site-packages\\pandas\\core\\arrays\\sparse\\array.py:1033\u001b[0m, in \u001b[0;36mSparseArray.take\u001b[1;34m(self, indices, allow_fill, fill_value)\u001b[0m\n\u001b[0;32m   1031\u001b[0m     dtype \u001b[38;5;241m=\u001b[39m \u001b[38;5;28mself\u001b[39m\u001b[38;5;241m.\u001b[39mdtype\n\u001b[0;32m   1032\u001b[0m \u001b[38;5;28;01melif\u001b[39;00m allow_fill:\n\u001b[1;32m-> 1033\u001b[0m     result \u001b[38;5;241m=\u001b[39m \u001b[38;5;28;43mself\u001b[39;49m\u001b[38;5;241;43m.\u001b[39;49m\u001b[43m_take_with_fill\u001b[49m\u001b[43m(\u001b[49m\u001b[43mindices\u001b[49m\u001b[43m,\u001b[49m\u001b[43m \u001b[49m\u001b[43mfill_value\u001b[49m\u001b[38;5;241;43m=\u001b[39;49m\u001b[43mfill_value\u001b[49m\u001b[43m)\u001b[49m\n\u001b[0;32m   1034\u001b[0m \u001b[38;5;28;01melse\u001b[39;00m:\n\u001b[0;32m   1035\u001b[0m     \u001b[38;5;28;01mreturn\u001b[39;00m \u001b[38;5;28mself\u001b[39m\u001b[38;5;241m.\u001b[39m_take_without_fill(indices)\n",
      "File \u001b[1;32m~\\AppData\\Local\\Packages\\PythonSoftwareFoundation.Python.3.10_qbz5n2kfra8p0\\LocalCache\\local-packages\\Python310\\site-packages\\pandas\\core\\arrays\\sparse\\array.py:1067\u001b[0m, in \u001b[0;36mSparseArray._take_with_fill\u001b[1;34m(self, indices, fill_value)\u001b[0m\n\u001b[0;32m   1062\u001b[0m         \u001b[38;5;28;01mraise\u001b[39;00m \u001b[38;5;167;01mIndexError\u001b[39;00m(\u001b[38;5;124m\"\u001b[39m\u001b[38;5;124mcannot do a non-empty take from an empty axes.\u001b[39m\u001b[38;5;124m\"\u001b[39m)\n\u001b[0;32m   1064\u001b[0m \u001b[38;5;66;03m# sp_indexer may be -1 for two reasons\u001b[39;00m\n\u001b[0;32m   1065\u001b[0m \u001b[38;5;66;03m# 1.) we took for an index of -1 (new)\u001b[39;00m\n\u001b[0;32m   1066\u001b[0m \u001b[38;5;66;03m# 2.) we took a value that was self.fill_value (old)\u001b[39;00m\n\u001b[1;32m-> 1067\u001b[0m sp_indexer \u001b[38;5;241m=\u001b[39m \u001b[38;5;28;43mself\u001b[39;49m\u001b[38;5;241;43m.\u001b[39;49m\u001b[43msp_index\u001b[49m\u001b[38;5;241;43m.\u001b[39;49m\u001b[43mlookup_array\u001b[49m\u001b[43m(\u001b[49m\u001b[43mindices\u001b[49m\u001b[43m)\u001b[49m\n\u001b[0;32m   1068\u001b[0m new_fill_indices \u001b[38;5;241m=\u001b[39m indices \u001b[38;5;241m==\u001b[39m \u001b[38;5;241m-\u001b[39m\u001b[38;5;241m1\u001b[39m\n\u001b[0;32m   1069\u001b[0m old_fill_indices \u001b[38;5;241m=\u001b[39m (sp_indexer \u001b[38;5;241m==\u001b[39m \u001b[38;5;241m-\u001b[39m\u001b[38;5;241m1\u001b[39m) \u001b[38;5;241m&\u001b[39m \u001b[38;5;241m~\u001b[39mnew_fill_indices\n",
      "\u001b[1;31mKeyboardInterrupt\u001b[0m: "
     ]
    }
   ],
   "source": [
    "c45tree = c45(X_train_encoded_df, Y_train_encoded, features)"
   ]
  },
  {
   "cell_type": "code",
   "execution_count": null,
   "metadata": {},
   "outputs": [],
   "source": [
    "Y_pred = (predict(c45tree, sample, 'category', X_test_encoded) for _, sample in X_test.iterrows())\n"
   ]
  },
  {
   "cell_type": "code",
   "execution_count": 149,
   "metadata": {},
   "outputs": [],
   "source": [
    "Y_pred = list(Y_pred)"
   ]
  },
  {
   "cell_type": "code",
   "execution_count": 150,
   "metadata": {},
   "outputs": [
    {
     "name": "stdout",
     "output_type": "stream",
     "text": [
      "['bad', 'good', 'mediocre', 'bad', 'great', 'good', 'great', 'mediocre', 'great', 'good', 'great', 'mediocre', 'mediocre', 'mediocre', 'good', 'good', 'bad', 'good', 'mediocre', 'bad', 'bad', 'mediocre', 'good', 'mediocre', 'great', 'mediocre', 'good', 'great', 'mediocre', 'good', 'mediocre', 'great', 'mediocre', 'mediocre', 'good', 'mediocre', 'mediocre', 'bad', 'bad', 'good', 'mediocre', 'good', 'bad', 'mediocre', 'bad', 'bad', 'bad', 'bad', 'bad', 'mediocre', 'good', 'bad', 'great', 'bad', 'bad', 'mediocre', 'mediocre', 'great', 'good', 'great', 'good', 'mediocre', 'mediocre', 'great', 'good', 'good', 'mediocre', 'great', 'good', 'bad', 'mediocre', 'good', 'mediocre', 'good', 'bad', 'great', 'bad', 'mediocre', 'great', 'bad', 'great', 'great', 'good', 'bad', 'mediocre', 'bad', 'great', 'good', 'great', 'mediocre', 'mediocre', 'great', 'bad', 'bad', 'good', 'great', 'mediocre', 'good', 'bad', 'bad', 'mediocre', 'great', 'mediocre', 'mediocre', 'bad', 'great', 'mediocre', 'bad', 'good', 'great', 'good', 'bad', 'mediocre', 'good', 'mediocre', 'mediocre', 'great', 'bad', 'mediocre', 'good', 'great', 'good', 'great', 'mediocre', 'bad', 'mediocre', 'great', 'bad', 'bad', 'bad', 'mediocre', 'bad', 'bad', 'great', 'good', 'great', 'great', 'great', 'great', 'mediocre', 'good', 'bad', 'mediocre', 'mediocre', 'bad', 'good', 'good', 'good', 'bad', 'mediocre', 'good', 'bad', 'mediocre', 'great', 'mediocre', 'bad', 'mediocre', 'great', 'great', 'good', 'bad', 'good', 'great', 'bad', 'bad', 'great', 'mediocre', 'great', 'good', 'great', 'bad', 'good', 'bad', 'great', 'great', 'great', 'mediocre', 'bad', 'mediocre', 'mediocre', 'great', 'mediocre', 'bad', 'mediocre', 'great', 'bad', 'bad', 'bad', 'mediocre', 'mediocre', 'great', 'mediocre', 'great', 'mediocre', 'bad', 'mediocre', 'great', 'bad', 'good', 'bad', 'bad', 'good', 'good', 'good', 'bad', 'great', 'bad', 'good', 'good', 'mediocre', 'bad', 'great', 'good', 'great', 'great', 'mediocre', 'mediocre', 'bad', 'bad', 'good', 'good', 'great', 'mediocre', 'good', 'good', 'bad', 'mediocre', 'bad', 'bad', 'mediocre', 'mediocre', 'good', 'mediocre', 'bad', 'good', 'great', 'bad', 'great', 'mediocre', 'mediocre', 'bad', 'bad', 'bad', 'great', 'mediocre', 'mediocre', 'great', 'mediocre', 'good', 'mediocre', 'good', 'great', 'good', 'great', 'great', 'bad', 'great', 'great', 'mediocre', 'great', 'great', 'good', 'bad', 'good', 'mediocre', 'bad', 'great', 'bad', 'mediocre', 'mediocre', 'bad', 'good', 'great', 'good', 'bad', 'good', 'bad', 'bad', 'great', 'good', 'great', 'mediocre', 'bad', 'good', 'bad', 'great', 'good', 'great', 'mediocre', 'good', 'mediocre', 'mediocre', 'great', 'bad', 'great', 'bad', 'good', 'great', 'mediocre', 'bad', 'bad', 'mediocre', 'bad', 'great', 'mediocre', 'mediocre', 'bad', 'good', 'mediocre', 'great', 'great', 'mediocre', 'mediocre', 'bad', 'mediocre', 'mediocre', 'mediocre', 'good', 'bad', 'good', 'good', 'mediocre', 'bad', 'mediocre', 'bad', 'mediocre', 'good', 'bad', 'bad', 'mediocre', 'good', 'great', 'great', 'mediocre', 'great', 'bad', 'great', 'good', 'great', 'good', 'great', 'great', 'mediocre', 'great', 'mediocre', 'bad', 'good', 'good', 'bad', 'good', 'bad', 'great', 'mediocre', 'good', 'good', 'great', 'good', 'great', 'good', 'good', 'good', 'bad', 'good', 'good', 'mediocre', 'bad', 'good', 'good', 'great', 'good', 'good', 'great', 'great', 'bad', 'mediocre', 'bad', 'bad', 'mediocre', 'great', 'great', 'bad', 'good', 'mediocre', 'great', 'good', 'good', 'mediocre', 'great', 'mediocre', 'mediocre', 'mediocre', 'mediocre', 'good', 'great', 'good', 'good', 'mediocre', 'great', 'mediocre', 'good', 'bad', 'bad', 'great', 'bad', 'great', 'good', 'bad', 'mediocre', 'great', 'mediocre', 'mediocre', 'good', 'good', 'mediocre', 'bad', 'mediocre', 'mediocre', 'bad', 'good', 'good', 'good', 'great', 'great', 'great', 'good', 'good', 'bad', 'good', 'great', 'great', 'bad', 'good', 'mediocre', 'great', 'good', 'bad', 'good', 'bad', 'mediocre', 'bad', 'good', 'good', 'bad', 'great', 'bad', 'bad', 'great', 'great', 'bad', 'mediocre', 'mediocre', 'good', 'mediocre', 'bad', 'good', 'great', 'good', 'bad', 'mediocre', 'mediocre', 'good', 'good', 'bad', 'good', 'mediocre', 'good', 'mediocre', 'bad', 'mediocre', 'bad', 'bad', 'bad', 'great', 'good', 'mediocre', 'good', 'great', 'great', 'bad', 'bad', 'mediocre', 'bad', 'mediocre', 'great', 'bad', 'bad', 'great', 'great', 'mediocre', 'great', 'bad', 'bad', 'bad', 'bad', 'mediocre', 'bad', 'great', 'bad', 'mediocre', 'great', 'great', 'good', 'mediocre', 'great', 'bad', 'mediocre', 'good', 'mediocre', 'good', 'bad', 'mediocre', 'good', 'good', 'bad', 'great', 'mediocre', 'good', 'bad', 'great', 'good', 'great', 'great', 'great', 'good', 'bad', 'good', 'great', 'bad', 'great', 'bad', 'good', 'good', 'great', 'good', 'great', 'great', 'great', 'great', 'good', 'mediocre', 'great', 'good', 'good', 'bad', 'good', 'good', 'bad', 'good', 'mediocre', 'mediocre', 'great', 'great', 'good', 'mediocre', 'bad', 'mediocre', 'mediocre', 'bad', 'good', 'good', 'good', 'mediocre', 'good', 'mediocre', 'good', 'great', 'good', 'mediocre', 'good', 'mediocre', 'mediocre', 'good', 'great', 'mediocre', 'mediocre', 'good', 'bad', 'great', 'bad', 'great', 'great', 'bad', 'bad', 'good', 'good', 'bad', 'mediocre', 'mediocre', 'bad', 'great', 'good', 'great', 'bad', 'good', 'mediocre', 'great', 'great', 'great', 'great', 'mediocre', 'mediocre', 'bad', 'mediocre', 'good', 'great', 'good', 'mediocre', 'great', 'bad', 'bad', 'great', 'mediocre', 'bad', 'bad', 'great', 'great', 'good', 'bad', 'mediocre', 'bad', 'good', 'good', 'mediocre', 'good', 'great', 'good', 'mediocre', 'mediocre', 'mediocre', 'good', 'mediocre', 'bad', 'bad', 'great', 'bad', 'bad', 'bad', 'great', 'great', 'great', 'good', 'mediocre', 'bad', 'great', 'mediocre', 'bad', 'bad', 'good', 'great', 'mediocre', 'mediocre', 'bad', 'good', 'bad', 'mediocre', 'bad', 'good', 'bad', 'mediocre', 'good', 'great', 'good', 'bad', 'mediocre', 'great', 'mediocre', 'mediocre', 'mediocre', 'great', 'good', 'bad', 'great', 'bad', 'great', 'great', 'great', 'great', 'bad', 'mediocre', 'mediocre', 'mediocre', 'bad', 'great', 'mediocre', 'mediocre', 'good', 'bad', 'great', 'good', 'bad', 'good', 'mediocre', 'bad', 'mediocre', 'mediocre', 'good', 'bad', 'bad', 'good', 'great', 'great', 'great', 'great', 'great', 'mediocre', 'good', 'mediocre', 'mediocre', 'bad', 'mediocre', 'bad', 'great', 'great', 'bad', 'good', 'bad', 'great', 'mediocre', 'great', 'bad', 'bad', 'mediocre', 'great', 'bad', 'great', 'bad', 'good', 'bad', 'good', 'mediocre', 'good', 'bad', 'good', 'good', 'great', 'great', 'good', 'great', 'good', 'good', 'mediocre', 'mediocre', 'good', 'bad', 'mediocre', 'mediocre', 'bad', 'mediocre', 'bad', 'good', 'bad', 'bad', 'great', 'great', 'good', 'bad', 'bad', 'good', 'good', 'mediocre', 'good', 'mediocre', 'good', 'bad', 'good', 'great', 'bad', 'great', 'good', 'great', 'bad', 'good', 'mediocre', 'bad', 'mediocre', 'bad', 'bad', 'bad', 'good', 'good', 'bad', 'bad', 'bad', 'good', 'great', 'bad', 'good', 'good', 'great', 'bad', 'good', 'mediocre', 'bad', 'mediocre', 'bad', 'bad', 'bad', 'bad', 'bad', 'great', 'great', 'mediocre', 'good', 'bad', 'great', 'great', 'great', 'mediocre', 'bad', 'great', 'good', 'great', 'great', 'good', 'great', 'great', 'bad', 'bad', 'bad', 'great', 'great', 'mediocre', 'good', 'great', 'great', 'mediocre', 'great', 'great', 'good', 'bad', 'great', 'bad', 'bad', 'mediocre', 'great', 'bad', 'great', 'great', 'great', 'great', 'great', 'mediocre', 'bad', 'good', 'good', 'mediocre', 'bad', 'bad', 'bad', 'great', 'bad', 'good', 'bad', 'great', 'good', 'mediocre', 'great', 'mediocre', 'bad', 'great', 'bad', 'mediocre', 'bad', 'good', 'good', 'mediocre', 'great', 'good', 'great', 'bad', 'mediocre', 'bad', 'bad', 'good', 'mediocre', 'bad', 'good', 'good', 'great', 'great', 'mediocre', 'great', 'good', 'mediocre', 'good', 'mediocre', 'great', 'bad', 'bad', 'bad', 'good', 'good', 'good', 'mediocre', 'mediocre', 'mediocre', 'great', 'good', 'great', 'mediocre', 'bad', 'good', 'mediocre', 'mediocre', 'bad', 'mediocre', 'bad', 'mediocre', 'bad', 'great', 'great', 'great', 'good', 'great', 'mediocre', 'bad', 'mediocre', 'great', 'mediocre', 'great', 'mediocre', 'great', 'mediocre', 'bad', 'good', 'bad', 'great', 'great', 'good', 'mediocre', 'great', 'bad', 'mediocre', 'great', 'bad', 'good', 'bad', 'bad', 'good', 'mediocre', 'bad', 'bad', 'good', 'great', 'great', 'good', 'bad', 'bad', 'mediocre', 'great', 'mediocre', 'great', 'mediocre', 'bad', 'mediocre', 'great', 'bad', 'mediocre', 'good', 'bad', 'great', 'good', 'great', 'mediocre', 'bad', 'good', 'mediocre', 'bad', 'good', 'good', 'mediocre', 'good', 'good', 'great', 'mediocre', 'good', 'bad', 'mediocre', 'great', 'bad', 'mediocre', 'mediocre', 'mediocre', 'good', 'great', 'good', 'bad', 'mediocre', 'good', 'mediocre', 'good', 'good', 'great', 'mediocre', 'bad', 'mediocre', 'bad', 'bad', 'mediocre', 'great', 'mediocre', 'bad', 'bad', 'bad', 'bad', 'bad', 'good', 'great', 'mediocre', 'mediocre', 'bad', 'good', 'good', 'good', 'great', 'bad', 'good', 'mediocre', 'bad', 'great', 'great', 'bad', 'great', 'mediocre', 'good', 'bad', 'good', 'good', 'bad', 'good', 'good', 'great', 'mediocre', 'bad', 'mediocre', 'good', 'mediocre', 'mediocre', 'mediocre', 'good', 'mediocre', 'mediocre', 'good', 'bad', 'good', 'great', 'great', 'great', 'mediocre', 'great', 'great', 'great', 'good', 'good', 'great', 'good', 'great', 'mediocre', 'mediocre', 'good', 'good', 'great', 'bad', 'good', 'great', 'bad', 'mediocre', 'great', 'bad', 'great', 'great', 'mediocre', 'good', 'great', 'great', 'mediocre', 'bad', 'good', 'great', 'good', 'great', 'mediocre', 'great', 'great', 'bad', 'mediocre', 'good', 'mediocre', 'great', 'bad', 'great', 'bad', 'mediocre', 'bad', 'bad', 'great', 'bad', 'bad', 'good', 'bad', 'mediocre', 'mediocre', 'great', 'great', 'good', 'good', 'mediocre', 'great', 'great', 'good', 'great', 'great', 'great', 'good', 'good', 'good', 'good', 'good', 'mediocre', 'great', 'good', 'mediocre', 'mediocre', 'mediocre', 'great', 'good', 'great', 'good', 'great', 'good', 'bad', 'mediocre', 'great', 'great', 'mediocre', 'good', 'mediocre', 'good', 'great', 'good', 'bad', 'great', 'good', 'good', 'good', 'bad', 'mediocre', 'good', 'bad', 'mediocre', 'mediocre', 'good', 'good', 'mediocre', 'great', 'mediocre', 'bad', 'good', 'good', 'mediocre', 'great', 'mediocre', 'great', 'good', 'good', 'good', 'bad', 'great', 'great', 'great', 'good', 'good', 'bad', 'mediocre', 'mediocre', 'mediocre', 'bad', 'good', 'great', 'mediocre', 'good', 'good', 'good', 'great', 'bad', 'mediocre', 'mediocre', 'great', 'good', 'mediocre', 'mediocre', 'mediocre', 'mediocre', 'bad', 'bad', 'mediocre', 'great', 'great', 'good', 'good', 'great', 'mediocre', 'good', 'bad', 'great', 'mediocre', 'bad', 'good', 'mediocre', 'mediocre', 'mediocre', 'mediocre', 'great', 'bad', 'bad', 'bad', 'good', 'mediocre', 'good', 'bad', 'great', 'mediocre', 'good', 'good', 'great', 'great', 'good', 'mediocre', 'good', 'bad', 'mediocre', 'mediocre', 'mediocre', 'mediocre', 'good', 'good', 'bad', 'good', 'good', 'good', 'great', 'good', 'great', 'great', 'bad', 'bad', 'great', 'mediocre', 'bad', 'bad', 'mediocre', 'mediocre', 'bad', 'bad', 'bad', 'mediocre', 'mediocre', 'bad', 'good', 'good', 'great', 'great', 'great', 'mediocre', 'mediocre', 'great', 'great', 'mediocre', 'great', 'great', 'great', 'bad', 'bad', 'good', 'bad', 'good', 'good', 'mediocre', 'bad', 'great', 'good', 'mediocre', 'great', 'great', 'bad', 'mediocre', 'mediocre', 'mediocre', 'bad', 'bad', 'mediocre', 'mediocre', 'mediocre', 'mediocre', 'mediocre', 'bad', 'great', 'mediocre', 'bad', 'mediocre', 'bad', 'bad', 'great', 'mediocre', 'great', 'bad', 'mediocre', 'mediocre', 'mediocre', 'bad', 'great', 'mediocre', 'bad', 'mediocre', 'good', 'good', 'good', 'great', 'mediocre', 'good', 'bad', 'bad', 'bad', 'good', 'bad', 'great', 'good', 'good', 'good', 'good', 'bad', 'good', 'mediocre', 'mediocre', 'mediocre', 'good', 'mediocre', 'mediocre', 'good', 'mediocre', 'bad', 'bad', 'good', 'good', 'good', 'great', 'bad', 'bad', 'mediocre', 'great', 'bad', 'good', 'mediocre', 'great', 'mediocre', 'good', 'bad', 'bad', 'mediocre', 'mediocre', 'good', 'mediocre', 'bad', 'bad', 'mediocre', 'good', 'great', 'great', 'mediocre', 'good', 'mediocre', 'great', 'bad', 'mediocre', 'good', 'mediocre', 'great', 'bad', 'bad', 'bad', 'great', 'great', 'good', 'great', 'great', 'great', 'mediocre', 'good', 'mediocre', 'mediocre', 'mediocre', 'great', 'great', 'good', 'mediocre', 'bad', 'mediocre', 'good', 'bad', 'great', 'good', 'mediocre', 'good', 'good', 'mediocre', 'mediocre', 'mediocre', 'good', 'good', 'mediocre', 'great', 'good', 'mediocre', 'good', 'bad', 'bad', 'great', 'mediocre', 'great', 'mediocre', 'bad', 'bad', 'bad', 'bad', 'great', 'great', 'good', 'great', 'great', 'good', 'good', 'good', 'bad', 'bad', 'bad', 'good', 'mediocre', 'great', 'great', 'mediocre', 'mediocre', 'mediocre', 'great', 'mediocre', 'bad', 'bad', 'bad', 'mediocre', 'great', 'bad', 'good', 'bad', 'great', 'bad', 'great', 'bad', 'bad', 'bad', 'great', 'bad', 'good', 'mediocre', 'great', 'good', 'bad', 'good', 'mediocre', 'bad', 'mediocre', 'bad', 'great', 'mediocre', 'bad', 'mediocre', 'good', 'bad', 'great', 'good', 'mediocre', 'good', 'mediocre', 'great', 'good', 'good', 'good', 'mediocre', 'bad', 'great', 'great', 'bad', 'good', 'great', 'great', 'good', 'bad', 'mediocre', 'bad', 'good', 'bad', 'bad', 'mediocre', 'bad', 'great', 'great', 'mediocre', 'good', 'great', 'bad', 'mediocre', 'mediocre', 'bad', 'good', 'bad', 'good', 'bad', 'bad', 'bad', 'mediocre', 'mediocre', 'good', 'great', 'bad', 'bad', 'bad', 'good', 'mediocre', 'mediocre', 'mediocre', 'bad', 'bad', 'bad', 'mediocre', 'good', 'bad', 'mediocre', 'bad', 'bad', 'good', 'mediocre', 'good', 'bad', 'bad', 'mediocre', 'bad', 'good', 'great', 'great', 'mediocre', 'mediocre', 'good', 'mediocre', 'mediocre', 'mediocre', 'mediocre', 'good', 'good', 'bad', 'good', 'great', 'great', 'great', 'mediocre', 'mediocre', 'bad', 'great', 'bad', 'great', 'bad', 'bad', 'great', 'great', 'good', 'good', 'great', 'bad', 'good', 'great', 'great', 'mediocre', 'good', 'good', 'mediocre', 'great', 'bad', 'mediocre', 'good', 'bad', 'great', 'mediocre', 'bad', 'good', 'mediocre', 'good', 'bad', 'good', 'great', 'good', 'bad', 'good', 'good', 'good', 'bad', 'mediocre', 'great', 'good', 'good', 'bad', 'great', 'mediocre', 'mediocre', 'bad', 'good', 'bad', 'good', 'bad', 'good', 'great', 'good', 'great', 'bad', 'great', 'mediocre', 'bad', 'mediocre', 'great', 'mediocre', 'bad', 'good', 'bad', 'bad', 'great', 'great', 'bad', 'good', 'mediocre', 'great', 'great', 'great', 'bad', 'good', 'mediocre', 'bad', 'great', 'great', 'good', 'great', 'good', 'bad', 'mediocre', 'great', 'good', 'mediocre', 'mediocre', 'bad', 'good', 'bad', 'mediocre', 'bad', 'great', 'bad', 'good', 'bad', 'good', 'mediocre', 'good', 'bad', 'mediocre', 'mediocre', 'mediocre', 'mediocre', 'mediocre', 'great', 'good', 'great', 'great', 'great', 'bad', 'great', 'bad', 'great', 'mediocre', 'mediocre', 'bad', 'good', 'good', 'good', 'good', 'bad', 'great', 'good', 'bad', 'bad', 'mediocre', 'bad', 'great', 'good', 'mediocre', 'great', 'mediocre', 'good', 'bad', 'great', 'great', 'great', 'bad', 'great', 'good', 'great', 'mediocre', 'good', 'good', 'great', 'great', 'great', 'great', 'mediocre', 'mediocre', 'bad', 'good', 'bad', 'mediocre', 'mediocre', 'good', 'bad', 'mediocre', 'bad', 'mediocre', 'great', 'bad', 'good', 'mediocre', 'great', 'good', 'good', 'great', 'great', 'good', 'great', 'mediocre', 'bad', 'great', 'great', 'mediocre', 'good', 'mediocre', 'bad', 'great', 'great', 'great', 'good', 'good', 'bad', 'bad', 'mediocre', 'great', 'great', 'mediocre']\n"
     ]
    }
   ],
   "source": [
    "print(Y_pred)"
   ]
  },
  {
   "cell_type": "code",
   "execution_count": 151,
   "metadata": {},
   "outputs": [
    {
     "name": "stdout",
     "output_type": "stream",
     "text": [
      "Accuracy: 1.0000\n"
     ]
    }
   ],
   "source": [
    "accuracy = accuracy_score(Y_test, Y_pred)\n",
    "\n",
    "print(f'Accuracy: {accuracy:.4f}')"
   ]
  },
  {
   "cell_type": "code",
   "execution_count": 153,
   "metadata": {},
   "outputs": [
    {
     "data": {
      "image/png": "[encoded data removed]",
      "text/plain": [
       "<Figure size 640x480 with 2 Axes>"
      ]
     },
     "metadata": {},
     "output_type": "display_data"
    }
   ],
   "source": [
    "# Confusion matrix\n",
    "cm = confusion_matrix(Y_test, Y_pred)\n",
    "\n",
    "disp = ConfusionMatrixDisplay(confusion_matrix=cm, display_labels=label_encoder.classes_)\n",
    "disp.plot(cmap=plt.cm.Blues)\n",
    "plt.show()\n"
   ]
  }
 ],
 "metadata": {
  "kernelspec": {
   "display_name": "Python 3",
   "language": "python",
   "name": "python3"
  },
  "language_info": {
   "codemirror_mode": {
    "name": "ipython",
    "version": 3
   },
   "file_extension": ".py",
   "mimetype": "text/x-python",
   "name": "python",
   "nbconvert_exporter": "python",
   "pygments_lexer": "ipython3",
   "version": "3.10.11"
  }
 },
 "nbformat": 4,
 "nbformat_minor": 2
}
