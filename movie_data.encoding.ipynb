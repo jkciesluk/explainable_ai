{
 "cells": [
  {
   "cell_type": "code",
   "execution_count": 1,
   "metadata": {},
   "outputs": [],
   "source": [
    "import pandas as pd\n",
    "import numpy as np\n",
    "\n",
    "from sklearn.discriminant_analysis import StandardScaler\n",
    "from sklearn.feature_extraction.text import TfidfVectorizer, CountVectorizer\n",
    "from sklearn.compose import ColumnTransformer\n",
    "from sklearn.impute import SimpleImputer\n",
    "from sklearn.pipeline import Pipeline\n",
    "from sklearn.preprocessing import OneHotEncoder\n",
    "\n",
    "# Set random seed\n",
    "seed = 0"
   ]
  },
  {
   "cell_type": "code",
   "execution_count": 2,
   "metadata": {},
   "outputs": [],
   "source": [
    "# Read cleaned data from csv\n",
    "df = pd.read_csv('input/movie_data_tmbd_cleaned.csv', sep='|')"
   ]
  },
  {
   "cell_type": "code",
   "execution_count": 3,
   "metadata": {},
   "outputs": [
    {
     "name": "stdout",
     "output_type": "stream",
     "text": [
      "<class 'pandas.core.frame.DataFrame'>\n",
      "RangeIndex: 8784 entries, 0 to 8783\n",
      "Data columns (total 23 columns):\n",
      " #   Column                Non-Null Count  Dtype  \n",
      "---  ------                --------------  -----  \n",
      " 0   adult                 8784 non-null   int64  \n",
      " 1   budget                8784 non-null   int64  \n",
      " 2   genres                8780 non-null   object \n",
      " 3   original_language     8784 non-null   object \n",
      " 4   overview              8763 non-null   object \n",
      " 5   popularity            8784 non-null   float64\n",
      " 6   production_companies  8618 non-null   object \n",
      " 7   production_countries  8737 non-null   object \n",
      " 8   revenue               8784 non-null   int64  \n",
      " 9   runtime               8784 non-null   float64\n",
      " 10  spoken_languages      8768 non-null   object \n",
      " 11  status                8784 non-null   object \n",
      " 12  tagline               6912 non-null   object \n",
      " 13  title                 8784 non-null   object \n",
      " 14  video                 8784 non-null   int64  \n",
      " 15  vote_average          8784 non-null   float64\n",
      " 16  vote_count            8784 non-null   float64\n",
      " 17  cast                  8782 non-null   object \n",
      " 18  directors             8784 non-null   object \n",
      " 19  release_year          8784 non-null   int64  \n",
      " 20  release_month         8784 non-null   int64  \n",
      " 21  release_day           8784 non-null   int64  \n",
      " 22  category              8784 non-null   object \n",
      "dtypes: float64(4), int64(7), object(12)\n",
      "memory usage: 1.5+ MB\n",
      "None\n",
      "   adult     budget                                         genres  \\\n",
      "0      0  200000000      Adventure,Action,Thriller,Science Fiction   \n",
      "1      0  130000000               Science Fiction,Action,Adventure   \n",
      "2      0  165000000               Action,Adventure,Science Fiction   \n",
      "3      0  120000000               Action,Adventure,Science Fiction   \n",
      "4      0   78000000  Fantasy,Action,Crime,Science Fiction,Thriller   \n",
      "\n",
      "  original_language                                           overview  \\\n",
      "0                en  For centuries, a small but powerful force of w...   \n",
      "1                en  One thousand years after cataclysmic events fo...   \n",
      "2                en  We always knew they were coming back. Using re...   \n",
      "3                en  Four young outsiders teleport to a dangerous u...   \n",
      "4                en  He dwells in a world of eternal night, but the...   \n",
      "\n",
      "   popularity                               production_companies  \\\n",
      "0      31.264  DC Entertainment,De Line Pictures,Warner Bros....   \n",
      "1      29.537  Columbia Pictures,Overbrook Entertainment,Blin...   \n",
      "2      33.521  20th Century Fox,TSG Entertainment,Centropolis...   \n",
      "3      24.238  Moving Picture Company,Marvel Entertainment,TS...   \n",
      "4      23.563  Marvel Enterprises,New Regency Pictures,Epsilo...   \n",
      "\n",
      "                              production_countries    revenue  runtime  ...  \\\n",
      "0                         United States of America  219851172    114.0  ...   \n",
      "1                         United States of America  243843127    100.0  ...   \n",
      "2                         United States of America  389681935    120.0  ...   \n",
      "3  United Kingdom,Germany,United States of America  167977596    100.0  ...   \n",
      "4                         United States of America  179179718    103.0  ...   \n",
      "\n",
      "                          title video vote_average vote_count  \\\n",
      "0                 Green Lantern     0          5.0     5226.0   \n",
      "1                   After Earth     0          5.0     5042.0   \n",
      "2  Independence Day: Resurgence     0          5.0     4547.0   \n",
      "3                Fantastic Four     0          4.5     4444.0   \n",
      "4                     Daredevil     0          5.0     3496.0   \n",
      "\n",
      "                                                cast  \\\n",
      "0  Ryan Reynolds,Blake Lively,Peter Sarsgaard,Tim...   \n",
      "1  Will Smith,Jaden Smith,Sophie Okonedo,Zoë Krav...   \n",
      "2  Liam Hemsworth,Jeff Goldblum,Jessie T. Usher,B...   \n",
      "3  Tim Blake Nelson,Gretchen Koerner,Miles Teller...   \n",
      "4  Ben Affleck,Jennifer Garner,Colin Farrell,Mich...   \n",
      "\n",
      "                                   directors  release_year release_month  \\\n",
      "0                            Martin Campbell          2011             6   \n",
      "1                         M. Night Shyamalan          2013             5   \n",
      "2                            Roland Emmerich          2016             6   \n",
      "3  Simon Kinberg,Josh Trank,Steven E. Rivkin          2015             8   \n",
      "4                        Mark Steven Johnson          2003             2   \n",
      "\n",
      "  release_day  category  \n",
      "0          16       bad  \n",
      "1          30       bad  \n",
      "2          22       bad  \n",
      "3           5       bad  \n",
      "4          14       bad  \n",
      "\n",
      "[5 rows x 23 columns]\n"
     ]
    }
   ],
   "source": [
    "# Print info about the data\n",
    "print(df.info())\n",
    "print(df.head())"
   ]
  },
  {
   "cell_type": "code",
   "execution_count": 4,
   "metadata": {},
   "outputs": [
    {
     "name": "stdout",
     "output_type": "stream",
     "text": [
      "video\n",
      "0    8778\n",
      "1       6\n",
      "Name: count, dtype: int64\n",
      "adult\n",
      "0    8784\n",
      "Name: count, dtype: int64\n"
     ]
    }
   ],
   "source": [
    "print(df['video'].value_counts())\n",
    "print(df['adult'].value_counts())\n",
    "# These columns will be dropped as they are not useful"
   ]
  },
  {
   "cell_type": "code",
   "execution_count": 5,
   "metadata": {},
   "outputs": [],
   "source": [
    "def encode_column(column, min_apperances):\n",
    "    df[column] = df[column].replace(np.nan, '')\n",
    "    unique_values = df[column].str.split(',').explode()\n",
    "    top_values = unique_values.value_counts()[unique_values.value_counts() > min_apperances]\n",
    "    df[column] = df[column].apply(lambda x: [''.join(i.split()) for i in x.split(',') if i in top_values.index]).apply(lambda x: ','.join(x))"
   ]
  },
  {
   "cell_type": "code",
   "execution_count": 6,
   "metadata": {},
   "outputs": [],
   "source": [
    "encode_column('cast', 10)\n",
    "encode_column('production_companies', 10)\n",
    "# encode_column('production_countries', 10)\n",
    "# encode_column('genres', 10)\n",
    "encode_column('directors', 10)\n",
    "df['spoken_languages'] = df['spoken_languages'].replace(np.nan, '')\n",
    "df['tagline'] = df['tagline'].replace(np.nan, '')\n",
    "df['production_countries'] = df['production_countries'].replace(np.nan, '')\n",
    "df['genres'] = df['genres'].replace(np.nan, '')\n",
    "df['overview'] = df['overview'].replace(np.nan, '')"
   ]
  },
  {
   "cell_type": "code",
   "execution_count": null,
   "metadata": {},
   "outputs": [],
   "source": [
    "numerical_features = ['budget', 'revenue', 'popularity', 'runtime', 'vote_count', 'release_year', 'release_month']\n",
    "categorical_features = ['original_language', 'status']\n",
    "boolean_features = ['adult', 'video']\n",
    "text_features = ['overview', 'tagline', 'title']\n",
    "list_based_features = ['genres', 'production_companies', 'production_countries', 'cast', 'directors']\n",
    "\n",
    "# 1. Numerical transformer: Impute missing values and standardize\n",
    "numeric_transformer = Pipeline(steps=[\n",
    "    ('imputer', SimpleImputer(strategy='median')),\n",
    "    ('scaler', StandardScaler())\n",
    "])\n",
    "\n",
    "# 2. Categorical transformer: Impute missing values and one-hot encode\n",
    "categorical_transformer = Pipeline(steps=[\n",
    "    ('imputer', SimpleImputer(strategy='most_frequent')),\n",
    "    ('onehot', OneHotEncoder(handle_unknown='ignore'))\n",
    "])\n",
    "\n",
    "# 3. Boolean transformer: Ensure 0/1 values\n",
    "boolean_transformer = Pipeline(steps=[\n",
    "    ('imputer', SimpleImputer(strategy='most_frequent'))\n",
    "])\n",
    "\n",
    "# 4. Text transformer: Use TF-IDF for text columns\n",
    "text_transformer = Pipeline(steps=[\n",
    "    ('tfidf', TfidfVectorizer(stop_words='english', max_features=100))  \n",
    "])\n",
    "\n",
    "# 5. List-based transformer: Convert list of items into binary (multi-hot) encoding\n",
    "\n",
    "list_transformer = Pipeline(steps=[\n",
    "    ('countvec', CountVectorizer(max_features=100))  # MultiLabelBinarizer to handle list columns as binary-encoded features\n",
    "])\n",
    "# Combine all transformers into a ColumnTransformer\n",
    "preprocessor = ColumnTransformer(\n",
    "    transformers=[\n",
    "        ('num', numeric_transformer, numerical_features),\n",
    "        ('cat', categorical_transformer, categorical_features),\n",
    "        ('overview', text_transformer, 'overview'),\n",
    "        ('title', text_transformer, 'title'),\n",
    "        ('tagline', text_transformer, 'tagline'),\n",
    "        ('genres', list_transformer, 'genres'),\n",
    "        ('production_companies', list_transformer, 'production_companies'),\n",
    "        ('production_countries', list_transformer, 'production_countries'),\n",
    "        ('cast', list_transformer, 'cast'),\n",
    "        ('directors', list_transformer, 'directors')\n",
    "    ]\n",
    ")\n"
   ]
  },
  {
   "cell_type": "code",
   "execution_count": 8,
   "metadata": {},
   "outputs": [],
   "source": [
    "X = df.drop(columns=['vote_average', 'category'])\n",
    "X = df.drop(columns=['video', 'adult', 'release_day'])\n",
    "Y = df['category']"
   ]
  },
  {
   "cell_type": "code",
   "execution_count": 9,
   "metadata": {},
   "outputs": [
    {
     "data": {
      "text/plain": [
       "(8784, 734)"
      ]
     },
     "execution_count": 9,
     "metadata": {},
     "output_type": "execute_result"
    }
   ],
   "source": [
    "new_X = preprocessor.fit_transform(X)\n",
    "new_X.shape"
   ]
  },
  {
   "cell_type": "code",
   "execution_count": 10,
   "metadata": {},
   "outputs": [
    {
     "name": "stdout",
     "output_type": "stream",
     "text": [
      "<class 'scipy.sparse._csr.csr_matrix'>\n"
     ]
    }
   ],
   "source": [
    "import scipy\n",
    "\n",
    "print(type(new_X))\n",
    "# Convert to dense if it's sparse\n",
    "if isinstance(new_X, (scipy.sparse.csr_matrix, scipy.sparse.csc_matrix)):\n",
    "    new_X = new_X.toarray()"
   ]
  },
  {
   "cell_type": "code",
   "execution_count": 11,
   "metadata": {},
   "outputs": [],
   "source": [
    "# Make a df from new_X and Y\n",
    "new_df = pd.DataFrame(new_X, columns=preprocessor.get_feature_names_out())"
   ]
  },
  {
   "cell_type": "code",
   "execution_count": 12,
   "metadata": {},
   "outputs": [
    {
     "name": "stdout",
     "output_type": "stream",
     "text": [
      "   num__budget  num__revenue  num__popularity  num__runtime  num__vote_count  \\\n",
      "0     4.757463      1.005269         0.425819      0.448734         1.716450   \n",
      "1     2.894642      1.159981         0.366180     -0.230573         1.636140   \n",
      "2     3.826052      2.100421         0.503760      0.739865         1.420090   \n",
      "3     2.628524      0.670763         0.183190     -0.230573         1.375134   \n",
      "4     1.510832      0.743000         0.159881     -0.085007         0.961366   \n",
      "\n",
      "   num__release_year  num__release_month  cat__original_language_ar  \\\n",
      "0           0.483259           -0.241059                        0.0   \n",
      "1           0.605583           -0.533445                        0.0   \n",
      "2           0.789068           -0.241059                        0.0   \n",
      "3           0.727906            0.343713                        0.0   \n",
      "4          -0.006037           -1.410603                        0.0   \n",
      "\n",
      "   cat__original_language_bn  cat__original_language_bs  ...  \\\n",
      "0                        0.0                        0.0  ...   \n",
      "1                        0.0                        0.0  ...   \n",
      "2                        0.0                        0.0  ...   \n",
      "3                        0.0                        0.0  ...   \n",
      "4                        0.0                        0.0  ...   \n",
      "\n",
      "   directors__stevensoderbergh  directors__stevenspielberg  \\\n",
      "0                          0.0                         0.0   \n",
      "1                          0.0                         0.0   \n",
      "2                          0.0                         0.0   \n",
      "3                          0.0                         0.0   \n",
      "4                          0.0                         0.0   \n",
      "\n",
      "   directors__terrygilliam  directors__timburton  directors__tonyscott  \\\n",
      "0                      0.0                   0.0                   0.0   \n",
      "1                      0.0                   0.0                   0.0   \n",
      "2                      0.0                   0.0                   0.0   \n",
      "3                      0.0                   0.0                   0.0   \n",
      "4                      0.0                   0.0                   0.0   \n",
      "\n",
      "   directors__uweboll  directors__wernerherzog  directors__wescraven  \\\n",
      "0                 0.0                      0.0                   0.0   \n",
      "1                 0.0                      0.0                   0.0   \n",
      "2                 0.0                      0.0                   0.0   \n",
      "3                 0.0                      0.0                   0.0   \n",
      "4                 0.0                      0.0                   0.0   \n",
      "\n",
      "   directors__woodyallen  category  \n",
      "0                    0.0       bad  \n",
      "1                    0.0       bad  \n",
      "2                    0.0       bad  \n",
      "3                    0.0       bad  \n",
      "4                    0.0       bad  \n",
      "\n",
      "[5 rows x 735 columns]\n"
     ]
    }
   ],
   "source": [
    "new_df.index = df.index  # This aligns the index of new_df with df\n",
    "\n",
    "# Concatenate new_df and the 'category' column\n",
    "merged_df = pd.concat([new_df, df['category']], axis=1)\n",
    "\n",
    "print(merged_df.head())"
   ]
  },
  {
   "cell_type": "code",
   "execution_count": 13,
   "metadata": {},
   "outputs": [],
   "source": [
    "# Save the cleaned data to input/movie_data_tmbd_cleaned.csv\n",
    "merged_df.to_csv('input/movie_data_encoded.csv', sep='|', index=False)"
   ]
  },
  {
   "cell_type": "code",
   "execution_count": null,
   "metadata": {},
   "outputs": [],
   "source": []
  }
 ],
 "metadata": {
  "kernelspec": {
   "display_name": "Python 3",
   "language": "python",
   "name": "python3"
  },
  "language_info": {
   "codemirror_mode": {
    "name": "ipython",
    "version": 3
   },
   "file_extension": ".py",
   "mimetype": "text/x-python",
   "name": "python",
   "nbconvert_exporter": "python",
   "pygments_lexer": "ipython3",
   "version": "3.11.7"
  }
 },
 "nbformat": 4,
 "nbformat_minor": 2
}
