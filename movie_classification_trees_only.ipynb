{
 "cells": [
  {
   "cell_type": "code",
   "execution_count": 1,
   "metadata": {},
   "outputs": [
    {
     "name": "stderr",
     "output_type": "stream",
     "text": [
      "C:\\Users\\Azevedo\\AppData\\Local\\Packages\\PythonSoftwareFoundation.Python.3.10_qbz5n2kfra8p0\\LocalCache\\local-packages\\Python310\\site-packages\\tqdm\\auto.py:21: TqdmWarning: IProgress not found. Please update jupyter and ipywidgets. See https://ipywidgets.readthedocs.io/en/stable/user_install.html\n",
      "  from .autonotebook import tqdm as notebook_tqdm\n"
     ]
    }
   ],
   "source": [
    "import pandas as pd\n",
    "import numpy as np\n",
    "import matplotlib.pyplot as plt\n",
    "import seaborn as sns\n",
    "from sklearn.model_selection import train_test_split, GridSearchCV, RandomizedSearchCV\n",
    "\n",
    "from scipy.stats import randint, uniform\n",
    "from sklearn.neighbors import KNeighborsClassifier\n",
    "from sklearn.metrics import accuracy_score, confusion_matrix, ConfusionMatrixDisplay, log_loss\n",
    "from tqdm.auto import tqdm\n",
    "from sklearn.naive_bayes import GaussianNB\n",
    "from sklearn.tree import DecisionTreeClassifier\n",
    "from sklearn.ensemble import RandomForestClassifier\n",
    "from sklearn.linear_model import LogisticRegression\n",
    "from sklearn.ensemble import AdaBoostClassifier\n",
    "from sklearn.ensemble import BaggingClassifier\n",
    "from sklearn.discriminant_analysis import StandardScaler\n",
    "from sklearn.pipeline import make_pipeline\n",
    "from sklearn import svm\n",
    "from sklearn.model_selection import cross_val_score\n",
    "from sklearn.metrics import log_loss\n",
    "from sklearn.preprocessing import label_binarize\n",
    "\n",
    "from collections import Counter"
   ]
  },
  {
   "cell_type": "code",
   "execution_count": 2,
   "metadata": {},
   "outputs": [],
   "source": [
    "# Read cleaned data from csv\n",
    "df = pd.read_csv('input/movie_data_tmbd_cleaned.csv', sep='|')"
   ]
  },
  {
   "cell_type": "code",
   "execution_count": 3,
   "metadata": {},
   "outputs": [
    {
     "name": "stdout",
     "output_type": "stream",
     "text": [
      "<class 'pandas.core.frame.DataFrame'>\n",
      "RangeIndex: 17426 entries, 0 to 17425\n",
      "Data columns (total 27 columns):\n",
      " #   Column                 Non-Null Count  Dtype  \n",
      "---  ------                 --------------  -----  \n",
      " 0   adult                  17426 non-null  bool   \n",
      " 1   backdrop_path          16267 non-null  object \n",
      " 2   belongs_to_collection  3369 non-null   object \n",
      " 3   budget                 17426 non-null  int64  \n",
      " 4   genres                 17426 non-null  object \n",
      " 5   homepage               4959 non-null   object \n",
      " 6   id                     17426 non-null  float64\n",
      " 7   imdb_id                17420 non-null  object \n",
      " 8   original_language      17426 non-null  object \n",
      " 9   original_title         17426 non-null  object \n",
      " 10  overview               17365 non-null  object \n",
      " 11  popularity             17426 non-null  float64\n",
      " 12  poster_path            17426 non-null  object \n",
      " 13  production_companies   17426 non-null  object \n",
      " 14  production_countries   17426 non-null  object \n",
      " 15  release_date           17425 non-null  object \n",
      " 16  revenue                17426 non-null  int64  \n",
      " 17  runtime                17426 non-null  float64\n",
      " 18  spoken_languages       17426 non-null  object \n",
      " 19  status                 17426 non-null  object \n",
      " 20  tagline                11746 non-null  object \n",
      " 21  title                  17426 non-null  object \n",
      " 22  video                  17426 non-null  bool   \n",
      " 23  vote_average           17426 non-null  float64\n",
      " 24  vote_count             17426 non-null  float64\n",
      " 25  cast                   17426 non-null  object \n",
      " 26  directors              17426 non-null  object \n",
      "dtypes: bool(2), float64(5), int64(2), object(18)\n",
      "memory usage: 3.4+ MB\n",
      "None\n",
      "   adult                     backdrop_path belongs_to_collection  budget  \\\n",
      "0  False   /7hbpOpGDOYZ4G8ddLuzNmzxZP6.jpg                   NaN       0   \n",
      "1  False  /28a0wvZb8kyjVBd6BcPEnrHbrhm.jpg                   NaN       0   \n",
      "2  False  /lJPzIsddMSc7aGqv6T25uwG7fzm.jpg                   NaN       0   \n",
      "3  False  /lFTIB7obHpTYTMOruePsxigthQN.jpg                   NaN       0   \n",
      "4  False  /jHuEVaTKVJPQtMeSt4uzVFbTsH3.jpg                   NaN       0   \n",
      "\n",
      "                                              genres homepage       id  \\\n",
      "0  [{'id': 18, 'name': 'Drama'}, {'id': 37, 'name...      NaN  43002.0   \n",
      "1                [{'id': 99, 'name': 'Documentary'}]      NaN  43003.0   \n",
      "2                    [{'id': 36, 'name': 'History'}]      NaN  43020.0   \n",
      "3                      [{'id': 18, 'name': 'Drama'}]      NaN  43028.0   \n",
      "4                    [{'id': 37, 'name': 'Western'}]      NaN  43040.0   \n",
      "\n",
      "     imdb_id original_language        original_title  ... runtime  \\\n",
      "0  tt0056195                en  Lonely Are the Brave  ...   107.0   \n",
      "1  tt0072962                fr  Vérités et Mensonges  ...    89.0   \n",
      "2  tt0054756                it    Il colosso di Rodi  ...   127.0   \n",
      "3  tt0055597                en                Victim  ...    90.0   \n",
      "4  tt0054292                en     Sergeant Rutledge  ...   111.0   \n",
      "\n",
      "                                    spoken_languages    status  \\\n",
      "0  [{'iso_639_1': 'es', 'name': 'Español'}, {'iso...  Released   \n",
      "1  [{'iso_639_1': 'en', 'name': 'English'}, {'iso...  Released   \n",
      "2          [{'iso_639_1': 'it', 'name': 'Italiano'}]  Released   \n",
      "3           [{'iso_639_1': 'en', 'name': 'English'}]  Released   \n",
      "4           [{'iso_639_1': 'en', 'name': 'English'}]  Released   \n",
      "\n",
      "                                             tagline                   title  \\\n",
      "0               Life can never cage a man like this!    Lonely Are the Brave   \n",
      "1                                                NaN              F for Fake   \n",
      "2  A monster statue of bronze and stone...A fabul...  The Colossus of Rhodes   \n",
      "3  A Daring Picture About the World's Most Un-tal...                  Victim   \n",
      "4  Forget all the suspense you have ever seen! Fo...       Sergeant Rutledge   \n",
      "\n",
      "   video  vote_average  vote_count  \\\n",
      "0  False           7.5        70.0   \n",
      "1  False           7.5       178.0   \n",
      "2  False           6.1        94.0   \n",
      "3  False           7.3        57.0   \n",
      "4  False           7.2        59.0   \n",
      "\n",
      "                                                cast  \\\n",
      "0  [{'cast_id': 1, 'character': 'John W. \"Jack\" B...   \n",
      "1  [{'cast_id': 3, 'character': 'Himself', 'credi...   \n",
      "2  [{'cast_id': 3, 'character': 'Dario', 'credit_...   \n",
      "3  [{'cast_id': 4, 'character': 'Melville Farr', ...   \n",
      "4  [{'cast_id': 2, 'character': 'Lt. Tom Cantrell...   \n",
      "\n",
      "                                           directors  \n",
      "0  [{'credit_id': '52fe4626c3a36847f80ef733', 'de...  \n",
      "1  [{'credit_id': '52fe4626c3a36847f80ef75b', 'de...  \n",
      "2  [{'credit_id': '52fe4627c3a36847f80efb67', 'de...  \n",
      "3  [{'credit_id': '52fe4627c3a36847f80efcaf', 'de...  \n",
      "4  [{'credit_id': '52fe4628c3a36847f80f0053', 'de...  \n",
      "\n",
      "[5 rows x 27 columns]\n"
     ]
    }
   ],
   "source": [
    "# Print info about the data\n",
    "print(df.info())\n",
    "print(df.head())"
   ]
  },
  {
   "cell_type": "markdown",
   "metadata": {},
   "source": [
    "# Scoring prediction"
   ]
  },
  {
   "cell_type": "code",
   "execution_count": 4,
   "metadata": {},
   "outputs": [
    {
     "name": "stdout",
     "output_type": "stream",
     "text": [
      "         original_title original_language release_date  popularity  \\\n",
      "0  Lonely Are the Brave                en   1962-05-24       8.262   \n",
      "1  Vérités et Mensonges                fr   1975-03-12       7.830   \n",
      "2    Il colosso di Rodi                it   1961-06-15       9.668   \n",
      "3                Victim                en   1961-08-01       5.896   \n",
      "4     Sergeant Rutledge                en   1960-05-18       6.003   \n",
      "\n",
      "   vote_count                                             genres  \\\n",
      "0        70.0  [{'id': 18, 'name': 'Drama'}, {'id': 37, 'name...   \n",
      "1       178.0                [{'id': 99, 'name': 'Documentary'}]   \n",
      "2        94.0                    [{'id': 36, 'name': 'History'}]   \n",
      "3        57.0                      [{'id': 18, 'name': 'Drama'}]   \n",
      "4        59.0                    [{'id': 37, 'name': 'Western'}]   \n",
      "\n",
      "                                            overview  budget  revenue  \\\n",
      "0  A fiercely independent cowboy arranges to have...       0        0   \n",
      "1  Documents the lives of infamous fakers Elmyr d...       0        0   \n",
      "2  While on holiday in Rhodes, Athenian war hero ...       0        0   \n",
      "3  In early 1960s London, barrister Melville Farr...       0        0   \n",
      "4  Respected black cavalry Sergeant Brax Rutledge...       0        0   \n",
      "\n",
      "                                    spoken_languages  runtime  vote_average  \n",
      "0  [{'iso_639_1': 'es', 'name': 'Español'}, {'iso...    107.0           7.5  \n",
      "1  [{'iso_639_1': 'en', 'name': 'English'}, {'iso...     89.0           7.5  \n",
      "2          [{'iso_639_1': 'it', 'name': 'Italiano'}]    127.0           6.1  \n",
      "3           [{'iso_639_1': 'en', 'name': 'English'}]     90.0           7.3  \n",
      "4           [{'iso_639_1': 'en', 'name': 'English'}]    111.0           7.2  \n"
     ]
    }
   ],
   "source": [
    "# Take only the columns we need\n",
    "df = df[['original_title', 'original_language', 'release_date', 'popularity', 'vote_count', 'genres', 'overview', 'budget', 'revenue', 'spoken_languages', 'runtime', 'vote_average']]\n",
    "print(df.head())"
   ]
  },
  {
   "cell_type": "code",
   "execution_count": 5,
   "metadata": {},
   "outputs": [
    {
     "name": "stdout",
     "output_type": "stream",
     "text": [
      "Axes(0.125,0.11;0.775x0.77)\n"
     ]
    },
    {
     "data": {
      "image/png": "[encoded data removed]",
      "text/plain": [
       "<Figure size 640x480 with 1 Axes>"
      ]
     },
     "metadata": {},
     "output_type": "display_data"
    }
   ],
   "source": [
    "# Map 'vote_average' to nearest 0.5\n",
    "df['vote_average'] = ((df['vote_average'] * 2).round() / 2)\n",
    "print(df['vote_average'].value_counts().sort_index().plot(kind='bar'))"
   ]
  },
  {
   "cell_type": "code",
   "execution_count": 6,
   "metadata": {},
   "outputs": [
    {
     "name": "stdout",
     "output_type": "stream",
     "text": [
      "category\n",
      "good        7064\n",
      "mediocre    5407\n",
      "great       3161\n",
      "bad         1794\n",
      "Name: count, dtype: int64\n"
     ]
    }
   ],
   "source": [
    "#Group vote_average into categories:\n",
    "# 0.0-5.0 -> bad\n",
    "# 5.5-6.0 -> mediocre\n",
    "# 6.5-7.0 -> good\n",
    "# 7.5-9.9 -> great\n",
    "\n",
    "# Define the bins and labels\n",
    "bins = [0.0, 5.0, 6.0, 7.0, 9.9]\n",
    "labels = ['bad', 'mediocre', 'good', 'great']\n",
    "\n",
    "# Group vote_average into categories\n",
    "df['category'] = pd.cut(df['vote_average'], bins=bins, labels=labels, right=True)\n",
    "\n",
    "# Display the DataFrame\n",
    "print(df['category'].value_counts())"
   ]
  },
  {
   "cell_type": "code",
   "execution_count": 7,
   "metadata": {},
   "outputs": [
    {
     "name": "stdout",
     "output_type": "stream",
     "text": [
      "<class 'pandas.core.frame.DataFrame'>\n",
      "RangeIndex: 17426 entries, 0 to 17425\n",
      "Data columns (total 13 columns):\n",
      " #   Column             Non-Null Count  Dtype   \n",
      "---  ------             --------------  -----   \n",
      " 0   original_title     17426 non-null  object  \n",
      " 1   original_language  17426 non-null  object  \n",
      " 2   release_date       17425 non-null  object  \n",
      " 3   popularity         17426 non-null  float64 \n",
      " 4   vote_count         17426 non-null  float64 \n",
      " 5   genres             17426 non-null  object  \n",
      " 6   overview           17365 non-null  object  \n",
      " 7   budget             17426 non-null  int64   \n",
      " 8   revenue            17426 non-null  int64   \n",
      " 9   spoken_languages   17426 non-null  object  \n",
      " 10  runtime            17426 non-null  float64 \n",
      " 11  vote_average       17426 non-null  float64 \n",
      " 12  category           17426 non-null  category\n",
      "dtypes: category(1), float64(4), int64(2), object(6)\n",
      "memory usage: 1.6+ MB\n",
      "None\n",
      "Duplicates: 0\n"
     ]
    }
   ],
   "source": [
    "print(df.info())\n",
    "print(\"Duplicates: \" + str(df.duplicated().sum()))"
   ]
  },
  {
   "cell_type": "code",
   "execution_count": 8,
   "metadata": {},
   "outputs": [],
   "source": [
    "# X-> only Attribute columns\n",
    "# Y-> only Target column\n",
    "X = df.drop(columns=['vote_average', 'category'])\n",
    "Y = df['category']\n"
   ]
  },
  {
   "cell_type": "code",
   "execution_count": 9,
   "metadata": {},
   "outputs": [
    {
     "name": "stdout",
     "output_type": "stream",
     "text": [
      "Training set size:  13940\n",
      "Test set size:  3486\n"
     ]
    }
   ],
   "source": [
    "# 20% test and 80% train (test_size=0.2)\n",
    "X_train, X_test, Y_train, Y_test = train_test_split(X, Y, test_size=0.2, random_state=42)\n",
    "\n",
    "print(\"Training set size: \", len(X_train))\n",
    "print(\"Test set size: \", len(X_test))"
   ]
  },
  {
   "cell_type": "markdown",
   "metadata": {},
   "source": [
    "# Transparent Models"
   ]
  },
  {
   "cell_type": "markdown",
   "metadata": {},
   "source": [
    "## Decision Tree"
   ]
  },
  {
   "cell_type": "markdown",
   "metadata": {},
   "source": [
    "Can use both numerical and non-numerical data."
   ]
  },
  {
   "cell_type": "markdown",
   "metadata": {},
   "source": [
    "### C4.5 Algorithm"
   ]
  },
  {
   "cell_type": "markdown",
   "metadata": {},
   "source": [
    "Functions needed to help calculate the Information Gain Ratio to be used with the tree. Attention for being a Multi-class Classification problem (4 possible values).\n"
   ]
  },
  {
   "cell_type": "code",
   "execution_count": 10,
   "metadata": {},
   "outputs": [],
   "source": [
    "def entropy(target_col):\n",
    "    elements, counts = np.unique(target_col, return_counts=True)\n",
    "    #Portion of 'bad' = counts['bad']/np.sum(counts)\n",
    "    entropy_value = np.sum([(-counts[i]/np.sum(counts)) * np.log2(counts[i]/np.sum(counts)) for i in range(len(elements))])\n",
    "    return entropy_value"
   ]
  },
  {
   "cell_type": "code",
   "execution_count": 11,
   "metadata": {},
   "outputs": [
    {
     "name": "stdout",
     "output_type": "stream",
     "text": [
      "1.836347865114912\n",
      "['bad' 'good' 'great' 'mediocre']\n",
      "[1794 7064 3161 5407]\n"
     ]
    }
   ],
   "source": [
    "# 'category' has 4 possible values, so Entropy can range from 0 (perfectly pure, all values in one class) to 2 (all classes represented equally in the same number each)\n",
    "e = entropy(df['category'])\n",
    "elements, counts = np.unique(df['category'], return_counts=True)\n",
    "print(e)\n",
    "print(elements)\n",
    "print(counts)"
   ]
  },
  {
   "cell_type": "code",
   "execution_count": 12,
   "metadata": {},
   "outputs": [],
   "source": [
    "#Information Gain -> the expected reduction in entropy (more proximate to 0 = more pure = reached decision) caused by partitioning the dataset according to split_attribute_name\n",
    "#                 -> the amount of information gained by spliting the data using split_attribute_name\n",
    "#                 -> higher values are better\n",
    "def info_gain(data, split_attribute_name, target_name='category'):\n",
    "    total_entropy = entropy(data[target_name]) #entropy(df['category'])\n",
    "    \n",
    "    # All possible values for the splitting attribute\n",
    "    values, counts = np.unique(data[split_attribute_name], return_counts=True)\n",
    "    \n",
    "    weighted_entropy = np.sum([(counts[i]/np.sum(counts)) * entropy(data.where(data[split_attribute_name] == values[i]).dropna()[target_name]) for i in range(len(values))])\n",
    "    \n",
    "    information_gain = total_entropy - weighted_entropy\n",
    "    return information_gain"
   ]
  },
  {
   "cell_type": "code",
   "execution_count": 13,
   "metadata": {},
   "outputs": [
    {
     "name": "stdout",
     "output_type": "stream",
     "text": [
      "0.13617696112067446\n",
      "1.3565388151775262\n"
     ]
    }
   ],
   "source": [
    "igainex1 = info_gain(df, 'budget')\n",
    "print(igainex1)\n",
    "\n",
    "igainex2 = info_gain(df, 'popularity')\n",
    "print(igainex2)"
   ]
  },
  {
   "cell_type": "code",
   "execution_count": 14,
   "metadata": {},
   "outputs": [],
   "source": [
    "#Information Gain Ratio  ->  ratio of information gain to the intrinsic information\n",
    "#                        -> reduce a bias towards multi-valued attributes by taking the number and size of branches into account when choosing an attribute, biases the decision tree against considering attributes with a large number of distinct values (ex: ID would lead to maximum purity)\n",
    "#                        -> higher values are better\n",
    "def info_gain_ratio(data, split_attribute_name, target_name='category'):\n",
    "    information_gain = info_gain(data, split_attribute_name, target_name)\n",
    "    \n",
    "    # Split information = Intrinsic value  -> is a positive number that describes the potential worth of splitting a branch from a node. \n",
    "    # This in turn is the intrinsic value that the spliting attribute possesses and will be used to remove the bias in the information gain ratio calculation. (src: Wikipedia)\n",
    "    values, counts = np.unique(data[split_attribute_name], return_counts=True)\n",
    "    split_information = np.sum([(-counts[i]/np.sum(counts)) * np.log2(counts[i]/np.sum(counts)) for i in range(len(values))])\n",
    "    \n",
    "    # Avoidinge division by zero\n",
    "    if split_information == 0:\n",
    "        return 0\n",
    "    \n",
    "    # Gain ratio is the information gain divided by intrinsic value\n",
    "    return information_gain / split_information"
   ]
  },
  {
   "cell_type": "code",
   "execution_count": 15,
   "metadata": {},
   "outputs": [
    {
     "name": "stdout",
     "output_type": "stream",
     "text": [
      "0.03125318144722874\n",
      "0.10169611568231932\n"
     ]
    }
   ],
   "source": [
    "igrex1 = info_gain_ratio(df, 'budget')\n",
    "print(igrex1)\n",
    "\n",
    "igrex1 = info_gain_ratio(df, 'popularity')\n",
    "print(igrex1)\n"
   ]
  },
  {
   "cell_type": "code",
   "execution_count": 16,
   "metadata": {},
   "outputs": [],
   "source": [
    "# C4.5 Recursive Algorithm to build the Decision Tree\n",
    "def c45_tree(data, original_data, features, target_name='category', parent_node_class=None):\n",
    "    \n",
    "    # Base case 1: If all target values are the same, return that class\n",
    "    if len(np.unique(data[target_name])) <= 1:\n",
    "        return np.unique(data[target_name])[0]\n",
    "    \n",
    "    # Base case 2: If dataset is empty, return the class of the parent node\n",
    "    elif len(data) == 0:\n",
    "        return parent_node_class\n",
    "    \n",
    "    # Base case 3: If no more features to split on, return the majority class of the current node\n",
    "    elif len(features) == 0:\n",
    "        return parent_node_class\n",
    "    \n",
    "    # Base case 4: If the data is pure (contains only one class)\n",
    "    else:\n",
    "        parent_node_class = np.unique(data[target_name])[np.argmax(np.unique(data[target_name], return_counts=True)[1])]\n",
    "        \n",
    "        # Select the feature with the highest gain ratio\n",
    "        gain_ratios = [info_gain_ratio(data, feature, target_name) for feature in features]\n",
    "        best_feature_index = np.argmax(gain_ratios)\n",
    "        best_feature = features[best_feature_index]\n",
    "        \n",
    "        # Create the tree structure (dictionary)\n",
    "        tree = {best_feature: {}}\n",
    "        \n",
    "        # Remove the best feature from the feature list\n",
    "        features = [i for i in features if i != best_feature]\n",
    "        \n",
    "        # For each value of the best feature, split the data and recursively build the tree\n",
    "        for value in np.unique(data[best_feature]):\n",
    "            sub_data = data.where(data[best_feature] == value).dropna()\n",
    "        \n",
    "            subtree = c45_tree(sub_data, original_data, features, target_name, parent_node_class)\n",
    "            tree[best_feature][value] = subtree\n",
    "        \n",
    "        return tree\n"
   ]
  },
  {
   "cell_type": "code",
   "execution_count": 19,
   "metadata": {},
   "outputs": [],
   "source": []
  },
  {
   "cell_type": "markdown",
   "metadata": {},
   "source": [
    "### CARD Algorithm"
   ]
  }
 ],
 "metadata": {
  "kernelspec": {
   "display_name": "Python 3",
   "language": "python",
   "name": "python3"
  },
  "language_info": {
   "codemirror_mode": {
    "name": "ipython",
    "version": 3
   },
   "file_extension": ".py",
   "mimetype": "text/x-python",
   "name": "python",
   "nbconvert_exporter": "python",
   "pygments_lexer": "ipython3",
   "version": "3.10.11"
  }
 },
 "nbformat": 4,
 "nbformat_minor": 2
}
