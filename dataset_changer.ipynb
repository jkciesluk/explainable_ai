{
 "cells": [
  {
   "cell_type": "code",
   "execution_count": 17,
   "metadata": {},
   "outputs": [
    {
     "name": "stdout",
     "output_type": "stream",
     "text": [
      "Files created successfully!\n"
     ]
    }
   ],
   "source": [
    "import pandas as pd\n",
    "\n",
    "# Load the CSV file\n",
    "df = pd.read_csv('input/movie_data_tmbd_cleaned.csv', sep='|')\n",
    "\n",
    "# Replace commas with spaces in all object (string) columns\n",
    "for column in df.select_dtypes(include=['object']).columns:\n",
    "    df[column] = df[column].str.replace(',', '-', regex=False)\n",
    "\n",
    "# Generate the .names file\n",
    "with open('movie_data_tmbd_cleaned.names', 'w', encoding='utf-8') as names_file:\n",
    "    # Write the attributes in the first line\n",
    "    attributes = '|'.join(df.columns)\n",
    "    \n",
    "    for column in df.columns:\n",
    "        if df[column].dtype == 'object':\n",
    "            unique_values = df[column].unique()\n",
    "            # Filter out NaN values for unique values\n",
    "            unique_values = [str(val) for val in unique_values if pd.notna(val)]\n",
    "            values_str = ','.join(unique_values)\n",
    "            names_file.write(f\"{column} : {{{values_str}}}\\n\")\n",
    "        else:\n",
    "            names_file.write(f\"{column} : numeric\\n\")\n",
    "    \n",
    "    # Assuming the last column is the class label\n",
    "    class_label = df.columns[-1]\n",
    "    names_file.write(f\"@attribute class {{{class_label}}}\\n\")\n",
    "\n",
    "# Generate the .data file\n",
    "with open('movie_data_tmbd_cleaned.data', 'w', encoding='utf-8') as data_file:\n",
    "    for index, row in df.iterrows():\n",
    "        row_str = '|'.join(map(str, row.values))\n",
    "        data_file.write(f\"{row_str}\\n\")\n",
    "\n",
    "print(\"Files created successfully!\")\n"
   ]
  }
 ],
 "metadata": {
  "kernelspec": {
   "display_name": "Python 3",
   "language": "python",
   "name": "python3"
  },
  "language_info": {
   "codemirror_mode": {
    "name": "ipython",
    "version": 3
   },
   "file_extension": ".py",
   "mimetype": "text/x-python",
   "name": "python",
   "nbconvert_exporter": "python",
   "pygments_lexer": "ipython3",
   "version": "3.10.11"
  }
 },
 "nbformat": 4,
 "nbformat_minor": 2
}
