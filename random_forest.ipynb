{
 "cells": [
  {
   "cell_type": "code",
   "execution_count": 43,
   "metadata": {},
   "outputs": [],
   "source": [
    "import pandas as pd\n",
    "import numpy as np\n",
    "\n",
    "from sklearn.model_selection import train_test_split\n",
    "from sklearn.metrics import accuracy_score, confusion_matrix, ConfusionMatrixDisplay\n",
    "from sklearn.calibration import LabelEncoder\n",
    "from sklearn.discriminant_analysis import StandardScaler\n",
    "from sklearn.feature_extraction.text import TfidfVectorizer\n",
    "from sklearn.compose import ColumnTransformer\n",
    "from sklearn.impute import SimpleImputer\n",
    "from sklearn.pipeline import Pipeline\n",
    "from sklearn.preprocessing import OneHotEncoder\n",
    "from sklearn.tree import DecisionTreeClassifier, plot_tree, export_text\n",
    "from sklearn.metrics import classification_report\n",
    "\n",
    "from sklearn.ensemble import RandomForestClassifier\n",
    "from sklearn.model_selection import GridSearchCV\n",
    "from sklearn.model_selection import RandomizedSearchCV\n",
    "\n",
    "\n",
    "import matplotlib.pyplot as plt\n",
    "\n",
    "\n",
    "# Set random seed\n",
    "seed = 0\n",
    "\n"
   ]
  },
  {
   "cell_type": "code",
   "execution_count": 44,
   "metadata": {},
   "outputs": [],
   "source": [
    "# Read cleaned data from csv\n",
    "df = pd.read_csv('input/movie_data_tmbd_cleaned.csv', sep='|')"
   ]
  },
  {
   "cell_type": "code",
   "execution_count": 45,
   "metadata": {},
   "outputs": [
    {
     "name": "stdout",
     "output_type": "stream",
     "text": [
      "<class 'pandas.core.frame.DataFrame'>\n",
      "RangeIndex: 8784 entries, 0 to 8783\n",
      "Data columns (total 22 columns):\n",
      " #   Column                Non-Null Count  Dtype  \n",
      "---  ------                --------------  -----  \n",
      " 0   adult                 8784 non-null   int64  \n",
      " 1   budget                8784 non-null   int64  \n",
      " 2   genres                8780 non-null   object \n",
      " 3   original_language     8784 non-null   object \n",
      " 4   overview              8784 non-null   object \n",
      " 5   popularity            8784 non-null   float64\n",
      " 6   production_companies  8618 non-null   object \n",
      " 7   production_countries  8737 non-null   object \n",
      " 8   revenue               8784 non-null   int64  \n",
      " 9   runtime               8784 non-null   float64\n",
      " 10  spoken_languages      8768 non-null   object \n",
      " 11  status                8784 non-null   object \n",
      " 12  tagline               8784 non-null   object \n",
      " 13  video                 8784 non-null   int64  \n",
      " 14  vote_average          8784 non-null   float64\n",
      " 15  vote_count            8784 non-null   float64\n",
      " 16  cast                  8782 non-null   object \n",
      " 17  directors             8784 non-null   object \n",
      " 18  release_year          8784 non-null   int64  \n",
      " 19  release_month         8784 non-null   int64  \n",
      " 20  release_day           8784 non-null   int64  \n",
      " 21  category              8784 non-null   object \n",
      "dtypes: float64(4), int64(7), object(11)\n",
      "memory usage: 1.5+ MB\n",
      "None\n",
      "   adult     budget                                         genres  \\\n",
      "0      0  200000000      Adventure,Action,Thriller,Science Fiction   \n",
      "1      0  130000000               Science Fiction,Action,Adventure   \n",
      "2      0  165000000               Action,Adventure,Science Fiction   \n",
      "3      0  120000000               Action,Adventure,Science Fiction   \n",
      "4      0   78000000  Fantasy,Action,Crime,Science Fiction,Thriller   \n",
      "\n",
      "  original_language                                           overview  \\\n",
      "0                en  For centuries, a small but powerful force of w...   \n",
      "1                en  One thousand years after cataclysmic events fo...   \n",
      "2                en  We always knew they were coming back. Using re...   \n",
      "3                en  Four young outsiders teleport to a dangerous u...   \n",
      "4                en  He dwells in a world of eternal night, but the...   \n",
      "\n",
      "   popularity                               production_companies  \\\n",
      "0      31.264  DC Entertainment,De Line Pictures,Warner Bros....   \n",
      "1      29.537  Columbia Pictures,Overbrook Entertainment,Blin...   \n",
      "2      33.521  20th Century Fox,TSG Entertainment,Centropolis...   \n",
      "3      24.238  Moving Picture Company,Marvel Entertainment,TS...   \n",
      "4      23.563  Marvel Enterprises,New Regency Pictures,Epsilo...   \n",
      "\n",
      "                              production_countries    revenue  runtime  ...  \\\n",
      "0                         United States of America  219851172    114.0  ...   \n",
      "1                         United States of America  243843127    100.0  ...   \n",
      "2                         United States of America  389681935    120.0  ...   \n",
      "3  United Kingdom,Germany,United States of America  167977596    100.0  ...   \n",
      "4                         United States of America  179179718    103.0  ...   \n",
      "\n",
      "                                        tagline video vote_average  \\\n",
      "0     In our darkest hour, there will be light.     0          5.0   \n",
      "1              Danger is real, fear is a choice     0          5.0   \n",
      "2  We had twenty years to prepare. So did they.     0          5.0   \n",
      "3                             Change is coming.     0          4.5   \n",
      "4                              A Guardian Devil     0          5.0   \n",
      "\n",
      "   vote_count                                               cast  \\\n",
      "0      5226.0  Ryan Reynolds,Blake Lively,Peter Sarsgaard,Tim...   \n",
      "1      5042.0  Will Smith,Jaden Smith,Sophie Okonedo,Zoë Krav...   \n",
      "2      4547.0  Liam Hemsworth,Jeff Goldblum,Jessie T. Usher,B...   \n",
      "3      4444.0  Tim Blake Nelson,Gretchen Koerner,Miles Teller...   \n",
      "4      3496.0  Ben Affleck,Jennifer Garner,Colin Farrell,Mich...   \n",
      "\n",
      "                                   directors release_year release_month  \\\n",
      "0                            Martin Campbell         2011             6   \n",
      "1                         M. Night Shyamalan         2013             5   \n",
      "2                            Roland Emmerich         2016             6   \n",
      "3  Simon Kinberg,Josh Trank,Steven E. Rivkin         2015             8   \n",
      "4                        Mark Steven Johnson         2003             2   \n",
      "\n",
      "   release_day  category  \n",
      "0           16       bad  \n",
      "1           30       bad  \n",
      "2           22       bad  \n",
      "3            5       bad  \n",
      "4           14       bad  \n",
      "\n",
      "[5 rows x 22 columns]\n"
     ]
    }
   ],
   "source": [
    "# Print info about the data\n",
    "print(df.info())\n",
    "print(df.head())"
   ]
  },
  {
   "cell_type": "markdown",
   "metadata": {},
   "source": [
    "# Scoring prediction"
   ]
  },
  {
   "cell_type": "code",
   "execution_count": 46,
   "metadata": {},
   "outputs": [
    {
     "data": {
      "text/plain": [
       "video\n",
       "0    8778\n",
       "1       6\n",
       "Name: count, dtype: int64"
      ]
     },
     "execution_count": 46,
     "metadata": {},
     "output_type": "execute_result"
    }
   ],
   "source": [
    "df['video'].value_counts()"
   ]
  },
  {
   "cell_type": "code",
   "execution_count": 47,
   "metadata": {},
   "outputs": [],
   "source": [
    "# Get list of all unique names in df[`cast`]\n",
    "df['cast'] = df['cast'].replace(np.nan, '')\n",
    "unique_cast = df['cast'].str.split(',').explode()\n",
    "unique_cast.value_counts()\n",
    "# Take only actors that appeared in more than 10 movies\n",
    "top_cast = unique_cast.value_counts()[unique_cast.value_counts() > 10]\n",
    "\n",
    "df['cast'] = df['cast'].apply(lambda x: [i for i in x.split(',') if i in top_cast.index]).apply(lambda x: ','.join(x))\n",
    "df['production_companies'] = df['production_companies'].replace(np.nan, '')\n",
    "unique_production_companies = df['production_companies'].str.split(',').explode()\n",
    "unique_production_companies.value_counts()\n",
    "\n",
    "top_companies = unique_production_companies.value_counts()[unique_production_companies.value_counts() > 10]\n",
    "df['production_companies'] = df['production_companies'].apply(lambda x: [i for i in x.split(',') if i in top_companies.index]).apply(lambda x: ','.join(x))\n",
    "df['directors'] = df['directors'].replace(np.nan, '')\n",
    "unique_directors = df['directors'].str.split(',').explode()\n",
    "unique_directors.value_counts()\n",
    "\n",
    "top_directors = unique_directors.value_counts()[unique_directors.value_counts() > 10]\n",
    "df['directors'] = df['directors'].apply(lambda x: [i for i in x.split(',') if i in top_directors.index]).apply(lambda x: ','.join(x))\n",
    "df['production_countries'] = df['production_countries'].replace(np.nan, '')\n",
    "df['spoken_languages'] = df['spoken_languages'].replace(np.nan, '')\n",
    "df['genres'] = df['genres'].replace(np.nan, '')\n",
    "df['tagline'] = df['tagline'].replace(np.nan, '')\n",
    "df['overview'] = df['overview'].replace(np.nan, '')"
   ]
  },
  {
   "cell_type": "code",
   "execution_count": 48,
   "metadata": {},
   "outputs": [],
   "source": [
    "X = df.drop(columns=['vote_average', 'category'])\n",
    "X = df.drop(columns=['video', 'adult', 'release_day'])\n",
    "Y = df['category']\n"
   ]
  },
  {
   "cell_type": "code",
   "execution_count": 49,
   "metadata": {},
   "outputs": [
    {
     "name": "stdout",
     "output_type": "stream",
     "text": [
      "Training set size:  7027\n",
      "Test set size:  1757\n"
     ]
    }
   ],
   "source": [
    "X_train, X_test, Y_train, Y_test = train_test_split(X, Y, test_size=0.2, random_state=seed)\n",
    "\n",
    "# Encode target variable (Y) using LabelEncoder\n",
    "label_encoder = LabelEncoder()\n",
    "Y_train_encoded = label_encoder.fit_transform(Y_train)\n",
    "Y_test_encoded = label_encoder.transform(Y_test)\n",
    "\n",
    "\n",
    "print(\"Training set size: \", len(X_train))\n",
    "print(\"Test set size: \", len(X_test))"
   ]
  },
  {
   "cell_type": "markdown",
   "metadata": {},
   "source": [
    "# Feature encoding"
   ]
  },
  {
   "cell_type": "code",
   "execution_count": 50,
   "metadata": {},
   "outputs": [
    {
     "name": "stdout",
     "output_type": "stream",
     "text": [
      "<class 'pandas.core.frame.DataFrame'>\n",
      "RangeIndex: 8784 entries, 0 to 8783\n",
      "Data columns (total 19 columns):\n",
      " #   Column                Non-Null Count  Dtype  \n",
      "---  ------                --------------  -----  \n",
      " 0   budget                8784 non-null   int64  \n",
      " 1   genres                8784 non-null   object \n",
      " 2   original_language     8784 non-null   object \n",
      " 3   overview              8784 non-null   object \n",
      " 4   popularity            8784 non-null   float64\n",
      " 5   production_companies  8784 non-null   object \n",
      " 6   production_countries  8784 non-null   object \n",
      " 7   revenue               8784 non-null   int64  \n",
      " 8   runtime               8784 non-null   float64\n",
      " 9   spoken_languages      8784 non-null   object \n",
      " 10  status                8784 non-null   object \n",
      " 11  tagline               8784 non-null   object \n",
      " 12  vote_average          8784 non-null   float64\n",
      " 13  vote_count            8784 non-null   float64\n",
      " 14  cast                  8784 non-null   object \n",
      " 15  directors             8784 non-null   object \n",
      " 16  release_year          8784 non-null   int64  \n",
      " 17  release_month         8784 non-null   int64  \n",
      " 18  category              8784 non-null   object \n",
      "dtypes: float64(4), int64(4), object(11)\n",
      "memory usage: 1.3+ MB\n",
      "None\n"
     ]
    }
   ],
   "source": [
    "print(X.info())"
   ]
  },
  {
   "cell_type": "code",
   "execution_count": 51,
   "metadata": {},
   "outputs": [
    {
     "name": "stdout",
     "output_type": "stream",
     "text": [
      "      budget                                         genres original_language  \\\n",
      "0  200000000      Adventure,Action,Thriller,Science Fiction                en   \n",
      "1  130000000               Science Fiction,Action,Adventure                en   \n",
      "2  165000000               Action,Adventure,Science Fiction                en   \n",
      "3  120000000               Action,Adventure,Science Fiction                en   \n",
      "4   78000000  Fantasy,Action,Crime,Science Fiction,Thriller                en   \n",
      "\n",
      "                                            overview  popularity  \\\n",
      "0  For centuries, a small but powerful force of w...      31.264   \n",
      "1  One thousand years after cataclysmic events fo...      29.537   \n",
      "2  We always knew they were coming back. Using re...      33.521   \n",
      "3  Four young outsiders teleport to a dangerous u...      24.238   \n",
      "4  He dwells in a world of eternal night, but the...      23.563   \n",
      "\n",
      "                                production_companies  \\\n",
      "0  DC Entertainment,De Line Pictures,Warner Bros....   \n",
      "1  Columbia Pictures,Overbrook Entertainment,Sony...   \n",
      "2  20th Century Fox,TSG Entertainment,Centropolis...   \n",
      "3  Moving Picture Company,Marvel Entertainment,TS...   \n",
      "4  Marvel Enterprises,New Regency Pictures,Epsilo...   \n",
      "\n",
      "                              production_countries    revenue  runtime  \\\n",
      "0                         United States of America  219851172    114.0   \n",
      "1                         United States of America  243843127    100.0   \n",
      "2                         United States of America  389681935    120.0   \n",
      "3  United Kingdom,Germany,United States of America  167977596    100.0   \n",
      "4                         United States of America  179179718    103.0   \n",
      "\n",
      "            spoken_languages    status  \\\n",
      "0                    English  Released   \n",
      "1                    English  Released   \n",
      "2                    English  Released   \n",
      "3                    English  Released   \n",
      "4  English,Italiano,ελληνικά  Released   \n",
      "\n",
      "                                        tagline  vote_average  vote_count  \\\n",
      "0     In our darkest hour, there will be light.           5.0      5226.0   \n",
      "1              Danger is real, fear is a choice           5.0      5042.0   \n",
      "2  We had twenty years to prepare. So did they.           5.0      4547.0   \n",
      "3                             Change is coming.           4.5      4444.0   \n",
      "4                              A Guardian Devil           5.0      3496.0   \n",
      "\n",
      "                                                cast           directors  \\\n",
      "0  Ryan Reynolds,Blake Lively,Peter Sarsgaard,Tim...                       \n",
      "1  Will Smith,Zoë Kravitz,Glenn Morshower,David D...  M. Night Shyamalan   \n",
      "2  Liam Hemsworth,Jeff Goldblum,Bill Pullman,Maik...     Roland Emmerich   \n",
      "3  Tim Blake Nelson,Miles Teller,Kate Mara,Michae...                       \n",
      "4  Ben Affleck,Jennifer Garner,Colin Farrell,Mich...                       \n",
      "\n",
      "   release_year  release_month category  \n",
      "0          2011              6      bad  \n",
      "1          2013              5      bad  \n",
      "2          2016              6      bad  \n",
      "3          2015              8      bad  \n",
      "4          2003              2      bad  \n"
     ]
    }
   ],
   "source": [
    "print(X.head())"
   ]
  },
  {
   "cell_type": "code",
   "execution_count": 52,
   "metadata": {},
   "outputs": [],
   "source": [
    "\n",
    "numerical_features = ['budget', 'revenue', 'popularity', 'runtime', 'vote_count', 'release_year', 'release_month']\n",
    "categorical_features = ['original_language', 'status']\n",
    "boolean_features = ['adult', 'video']\n",
    "text_features = ['overview', 'tagline', 'title']\n",
    "list_based_features = ['genres', 'production_companies', 'production_countries', 'cast', 'directors']\n",
    "\n",
    "# 1. Numerical transformer: Impute missing values and standardize\n",
    "numeric_transformer = Pipeline(steps=[\n",
    "    ('imputer', SimpleImputer(strategy='median')),\n",
    "    ('scaler', StandardScaler())\n",
    "])\n",
    "\n",
    "# 2. Categorical transformer: Impute missing values and one-hot encode\n",
    "categorical_transformer = Pipeline(steps=[\n",
    "    ('imputer', SimpleImputer(strategy='most_frequent')),\n",
    "    ('onehot', OneHotEncoder(handle_unknown='ignore'))\n",
    "])\n",
    "# 3. Boolean transformer: Ensure 0/1 values\n",
    "boolean_transformer = Pipeline(steps=[\n",
    "    ('imputer', SimpleImputer(strategy='most_frequent'))\n",
    "])\n",
    "\n",
    "# 4. Text transformer: Use TF-IDF for text columns\n",
    "text_transformer = Pipeline(steps=[\n",
    "    ('tfidf', TfidfVectorizer(stop_words='english', max_features=100))  # Adjust max_features as needed\n",
    "])\n",
    "\n",
    "# 5. List-based transformer: Convert list of items into count vectors (like multi-hot encoding)\n",
    "def list_to_str(column):\n",
    "    return column.apply(lambda x: ','.join(x) if isinstance(x, list) else '')\n",
    "\n",
    "# Combine all transformers into a ColumnTransformer\n",
    "preprocessor = ColumnTransformer(\n",
    "    transformers=[\n",
    "        ('num', numeric_transformer, numerical_features),\n",
    "        ('cat', categorical_transformer, categorical_features),\n",
    "        # ('bool', boolean_transformer, boolean_features),\n",
    "        ('overview', text_transformer, 'overview'),\n",
    "        ('tagline', text_transformer, 'tagline'),\n",
    "        ('genres', text_transformer, 'genres'),\n",
    "        ('production_companies', text_transformer, 'production_companies'),\n",
    "        ('production_countries', text_transformer, 'production_countries'),\n",
    "        ('cast', text_transformer, 'cast'),\n",
    "        ('directors', text_transformer, 'directors')\n",
    "    ]\n",
    ")"
   ]
  },
  {
   "cell_type": "code",
   "execution_count": 53,
   "metadata": {},
   "outputs": [
    {
     "name": "stdout",
     "output_type": "stream",
     "text": [
      "  (0, 0)\t-0.08619960335899651\n",
      "  (0, 1)\t-0.18237344551555748\n",
      "  (0, 2)\t0.08345800497584235\n",
      "  (0, 3)\t-0.5505827317471977\n",
      "  (0, 4)\t1.795802171379134\n",
      "  (0, 5)\t0.42331317103209676\n",
      "  (0, 6)\t1.2175666622553376\n",
      "  (0, 15)\t1.0\n",
      "  (0, 42)\t1.0\n",
      "  (0, 116)\t0.5864674656785438\n",
      "  (0, 124)\t0.5226236148284815\n",
      "  (0, 130)\t0.6188056794537337\n",
      "  (0, 198)\t1.0\n",
      "  (0, 244)\t0.6937175157199655\n",
      "  (0, 249)\t0.46303948736614914\n",
      "  (0, 260)\t0.5516796548025068\n",
      "  (0, 273)\t0.28120239791970725\n",
      "  (0, 299)\t0.43938915948487495\n",
      "  (0, 302)\t0.29381623162362774\n",
      "  (0, 329)\t0.440833707193948\n",
      "  (0, 331)\t0.33524861148923174\n",
      "  (0, 333)\t0.2608753051066312\n",
      "  (0, 343)\t0.4338761288913083\n",
      "  (0, 360)\t0.28018563672299496\n",
      "  (0, 367)\t0.302264718805644\n",
      "  :\t:\n",
      "  (7025, 452)\t0.2912134271980113\n",
      "  (7025, 461)\t0.27482428700138295\n",
      "  (7026, 0)\t0.1793668052887353\n",
      "  (7026, 1)\t-0.1509840149906671\n",
      "  (7026, 2)\t-0.12953782644463857\n",
      "  (7026, 3)\t-1.1135691250570259\n",
      "  (7026, 4)\t-0.07500471776376888\n",
      "  (7026, 5)\t0.4843423180098479\n",
      "  (7026, 6)\t0.34449197240177887\n",
      "  (7026, 15)\t1.0\n",
      "  (7026, 42)\t1.0\n",
      "  (7026, 243)\t0.5748216517599677\n",
      "  (7026, 244)\t0.6707152426839871\n",
      "  (7026, 246)\t0.4687442073234643\n",
      "  (7026, 282)\t0.8793253959806123\n",
      "  (7026, 331)\t0.47622142747207363\n",
      "  (7026, 367)\t0.22555055657301717\n",
      "  (7026, 381)\t0.6582074328611325\n",
      "  (7026, 402)\t0.64784939018914\n",
      "  (7026, 452)\t0.22555055657301717\n",
      "  (7026, 461)\t0.21285684348200218\n",
      "  (7026, 486)\t0.4934316141321616\n",
      "  (7026, 496)\t0.5765535612047832\n",
      "  (7026, 530)\t0.3361400080315788\n",
      "  (7026, 537)\t0.5577823305175075\n",
      "  (0, 0)\t-0.5642191389249138\n",
      "  (0, 1)\t-0.41316463240333834\n",
      "  (0, 2)\t-0.3216823440111375\n",
      "  (0, 3)\t-0.7553050565871352\n",
      "  (0, 4)\t-0.4875549834754118\n",
      "  (0, 5)\t0.42331317103209676\n",
      "  (0, 6)\t-1.6926823039231913\n",
      "  (0, 15)\t1.0\n",
      "  (0, 42)\t1.0\n",
      "  (0, 83)\t0.6286846895927957\n",
      "  (0, 117)\t0.6137663496718698\n",
      "  (0, 142)\t0.4775420704839294\n",
      "  (0, 173)\t1.0\n",
      "  (0, 246)\t0.22392761684282822\n",
      "  (0, 249)\t0.21386774436403133\n",
      "  (0, 250)\t0.36617443580187264\n",
      "  (0, 255)\t0.6204970962465953\n",
      "  (0, 261)\t0.6204970962465953\n",
      "  (0, 278)\t0.808359252694942\n",
      "  (0, 290)\t0.5886894925021805\n",
      "  (0, 367)\t0.29608807940047793\n",
      "  (0, 381)\t0.8640518454224302\n",
      "  (0, 452)\t0.29608807940047793\n",
      "  (0, 461)\t0.2794245996614571\n",
      "  (1, 0)\t-0.5642191389249138\n",
      "  :\t:\n",
      "  (1756, 5)\t-0.0038908578121610044\n",
      "  (1756, 6)\t0.34449197240177887\n",
      "  (1756, 15)\t1.0\n",
      "  (1756, 42)\t1.0\n",
      "  (1756, 79)\t0.2391063888256595\n",
      "  (1756, 81)\t0.4571082089816494\n",
      "  (1756, 83)\t0.2402184452683711\n",
      "  (1756, 98)\t0.24448741069180446\n",
      "  (1756, 106)\t0.5266626160491122\n",
      "  (1756, 117)\t0.4690363888826903\n",
      "  (1756, 127)\t0.2180633865130197\n",
      "  (1756, 129)\t0.2673591945175428\n",
      "  (1756, 246)\t0.1987299904926924\n",
      "  (1756, 249)\t0.18980211285858975\n",
      "  (1756, 250)\t0.324970377354792\n",
      "  (1756, 255)\t0.5506751859212602\n",
      "  (1756, 256)\t0.4608573335602298\n",
      "  (1756, 261)\t0.5506751859212602\n",
      "  (1756, 278)\t0.808359252694942\n",
      "  (1756, 290)\t0.5886894925021805\n",
      "  (1756, 367)\t0.29608807940047793\n",
      "  (1756, 381)\t0.8640518454224302\n",
      "  (1756, 452)\t0.29608807940047793\n",
      "  (1756, 461)\t0.2794245996614571\n",
      "  (1756, 544)\t1.0\n"
     ]
    }
   ],
   "source": [
    "X_train_encoded = preprocessor.fit_transform(X_train)\n",
    "print(X_train_encoded)\n",
    "\n",
    "X_test_encoded = preprocessor.transform(X_test)  #Just transform, not fit so they have the same number of features\n",
    "print(X_test_encoded)"
   ]
  },
  {
   "cell_type": "code",
   "execution_count": 54,
   "metadata": {},
   "outputs": [
    {
     "name": "stdout",
     "output_type": "stream",
     "text": [
      "X_train_encoded shape: (7027, 664)\n",
      "X_test_encoded shape: (1757, 664)\n"
     ]
    }
   ],
   "source": [
    "print(f\"X_train_encoded shape: {X_train_encoded.shape}\")\n",
    "print(f\"X_test_encoded shape: {X_test_encoded.shape}\")\n"
   ]
  },
  {
   "cell_type": "markdown",
   "metadata": {},
   "source": [
    "# Opaque Models"
   ]
  },
  {
   "cell_type": "markdown",
   "metadata": {},
   "source": [
    "## Random Forest"
   ]
  },
  {
   "cell_type": "code",
   "execution_count": 55,
   "metadata": {},
   "outputs": [
    {
     "data": {
      "text/html": [
       "<style>#sk-container-id-3 {color: black;}#sk-container-id-3 pre{padding: 0;}#sk-container-id-3 div.sk-toggleable {background-color: white;}#sk-container-id-3 label.sk-toggleable__label {cursor: pointer;display: block;width: 100%;margin-bottom: 0;padding: 0.3em;box-sizing: border-box;text-align: center;}#sk-container-id-3 label.sk-toggleable__label-arrow:before {content: \"▸\";float: left;margin-right: 0.25em;color: #696969;}#sk-container-id-3 label.sk-toggleable__label-arrow:hover:before {color: black;}#sk-container-id-3 div.sk-estimator:hover label.sk-toggleable__label-arrow:before {color: black;}#sk-container-id-3 div.sk-toggleable__content {max-height: 0;max-width: 0;overflow: hidden;text-align: left;background-color: #f0f8ff;}#sk-container-id-3 div.sk-toggleable__content pre {margin: 0.2em;color: black;border-radius: 0.25em;background-color: #f0f8ff;}#sk-container-id-3 input.sk-toggleable__control:checked~div.sk-toggleable__content {max-height: 200px;max-width: 100%;overflow: auto;}#sk-container-id-3 input.sk-toggleable__control:checked~label.sk-toggleable__label-arrow:before {content: \"▾\";}#sk-container-id-3 div.sk-estimator input.sk-toggleable__control:checked~label.sk-toggleable__label {background-color: #d4ebff;}#sk-container-id-3 div.sk-label input.sk-toggleable__control:checked~label.sk-toggleable__label {background-color: #d4ebff;}#sk-container-id-3 input.sk-hidden--visually {border: 0;clip: rect(1px 1px 1px 1px);clip: rect(1px, 1px, 1px, 1px);height: 1px;margin: -1px;overflow: hidden;padding: 0;position: absolute;width: 1px;}#sk-container-id-3 div.sk-estimator {font-family: monospace;background-color: #f0f8ff;border: 1px dotted black;border-radius: 0.25em;box-sizing: border-box;margin-bottom: 0.5em;}#sk-container-id-3 div.sk-estimator:hover {background-color: #d4ebff;}#sk-container-id-3 div.sk-parallel-item::after {content: \"\";width: 100%;border-bottom: 1px solid gray;flex-grow: 1;}#sk-container-id-3 div.sk-label:hover label.sk-toggleable__label {background-color: #d4ebff;}#sk-container-id-3 div.sk-serial::before {content: \"\";position: absolute;border-left: 1px solid gray;box-sizing: border-box;top: 0;bottom: 0;left: 50%;z-index: 0;}#sk-container-id-3 div.sk-serial {display: flex;flex-direction: column;align-items: center;background-color: white;padding-right: 0.2em;padding-left: 0.2em;position: relative;}#sk-container-id-3 div.sk-item {position: relative;z-index: 1;}#sk-container-id-3 div.sk-parallel {display: flex;align-items: stretch;justify-content: center;background-color: white;position: relative;}#sk-container-id-3 div.sk-item::before, #sk-container-id-3 div.sk-parallel-item::before {content: \"\";position: absolute;border-left: 1px solid gray;box-sizing: border-box;top: 0;bottom: 0;left: 50%;z-index: -1;}#sk-container-id-3 div.sk-parallel-item {display: flex;flex-direction: column;z-index: 1;position: relative;background-color: white;}#sk-container-id-3 div.sk-parallel-item:first-child::after {align-self: flex-end;width: 50%;}#sk-container-id-3 div.sk-parallel-item:last-child::after {align-self: flex-start;width: 50%;}#sk-container-id-3 div.sk-parallel-item:only-child::after {width: 0;}#sk-container-id-3 div.sk-dashed-wrapped {border: 1px dashed gray;margin: 0 0.4em 0.5em 0.4em;box-sizing: border-box;padding-bottom: 0.4em;background-color: white;}#sk-container-id-3 div.sk-label label {font-family: monospace;font-weight: bold;display: inline-block;line-height: 1.2em;}#sk-container-id-3 div.sk-label-container {text-align: center;}#sk-container-id-3 div.sk-container {/* jupyter's `normalize.less` sets `[hidden] { display: none; }` but bootstrap.min.css set `[hidden] { display: none !important; }` so we also need the `!important` here to be able to override the default hidden behavior on the sphinx rendered scikit-learn.org. See: https://github.com/scikit-learn/scikit-learn/issues/21755 */display: inline-block !important;position: relative;}#sk-container-id-3 div.sk-text-repr-fallback {display: none;}</style><div id=\"sk-container-id-3\" class=\"sk-top-container\"><div class=\"sk-text-repr-fallback\"><pre>RandomForestClassifier(random_state=0)</pre><b>In a Jupyter environment, please rerun this cell to show the HTML representation or trust the notebook. <br />On GitHub, the HTML representation is unable to render, please try loading this page with nbviewer.org.</b></div><div class=\"sk-container\" hidden><div class=\"sk-item\"><div class=\"sk-estimator sk-toggleable\"><input class=\"sk-toggleable__control sk-hidden--visually\" id=\"sk-estimator-id-3\" type=\"checkbox\" checked><label for=\"sk-estimator-id-3\" class=\"sk-toggleable__label sk-toggleable__label-arrow\">RandomForestClassifier</label><div class=\"sk-toggleable__content\"><pre>RandomForestClassifier(random_state=0)</pre></div></div></div></div></div>"
      ],
      "text/plain": [
       "RandomForestClassifier(random_state=0)"
      ]
     },
     "execution_count": 55,
     "metadata": {},
     "output_type": "execute_result"
    }
   ],
   "source": [
    "rf_model = RandomForestClassifier(n_estimators=100, random_state=seed)\n",
    "\n",
    "rf_model.fit(X_train_encoded, Y_train_encoded)"
   ]
  },
  {
   "cell_type": "code",
   "execution_count": 56,
   "metadata": {},
   "outputs": [],
   "source": [
    "Y_pred = rf_model.predict(X_test_encoded)"
   ]
  },
  {
   "cell_type": "code",
   "execution_count": 57,
   "metadata": {},
   "outputs": [
    {
     "name": "stdout",
     "output_type": "stream",
     "text": [
      "Accuracy: 0.6887\n"
     ]
    }
   ],
   "source": [
    "accuracy = accuracy_score(Y_test_encoded, Y_pred)\n",
    "print(f'Accuracy: {accuracy:.4f}')"
   ]
  },
  {
   "cell_type": "code",
   "execution_count": 58,
   "metadata": {},
   "outputs": [
    {
     "name": "stdout",
     "output_type": "stream",
     "text": [
      "              precision    recall  f1-score   support\n",
      "\n",
      "         bad       0.90      0.78      0.84       450\n",
      "        good       0.55      0.64      0.59       430\n",
      "       great       0.74      0.67      0.71       429\n",
      "    mediocre       0.61      0.66      0.63       448\n",
      "\n",
      "    accuracy                           0.69      1757\n",
      "   macro avg       0.70      0.69      0.69      1757\n",
      "weighted avg       0.70      0.69      0.69      1757\n",
      "\n"
     ]
    }
   ],
   "source": [
    "print(classification_report(Y_test_encoded, Y_pred, target_names=label_encoder.classes_))"
   ]
  },
  {
   "cell_type": "code",
   "execution_count": 59,
   "metadata": {},
   "outputs": [
    {
     "data": {
      "image/png": "[encoded data removed]",
      "text/plain": [
       "<Figure size 640x480 with 2 Axes>"
      ]
     },
     "metadata": {},
     "output_type": "display_data"
    }
   ],
   "source": [
    "cm = confusion_matrix(Y_test_encoded, Y_pred)\n",
    "disp = ConfusionMatrixDisplay(confusion_matrix=cm, display_labels=label_encoder.classes_)\n",
    "disp.plot(cmap=plt.cm.Blues)\n",
    "plt.show()"
   ]
  },
  {
   "cell_type": "markdown",
   "metadata": {},
   "source": [
    "#### Wrapper to tune parameters - GridSearch"
   ]
  },
  {
   "cell_type": "code",
   "execution_count": 62,
   "metadata": {},
   "outputs": [],
   "source": [
    "param_grid = {\n",
    "    'n_estimators': [50, 100, 200, 500],            #Number of trees    \n",
    "    'max_features': ['auto', 'sqrt', 'log2'],          \n",
    "    'max_depth': [10, 20, 50, None],                   \n",
    "    'min_samples_split': [2, 5, 10],                    \n",
    "    'min_samples_leaf': [1, 2, 4],                     \n",
    "    'bootstrap': [True, False]                         \n",
    "}"
   ]
  },
  {
   "cell_type": "code",
   "execution_count": 63,
   "metadata": {},
   "outputs": [],
   "source": [
    "grid_search = GridSearchCV(\n",
    "    estimator=rf_model, \n",
    "    param_grid=param_grid, \n",
    "    scoring='accuracy', \n",
    "    cv=5, \n",
    "    verbose=2, \n",
    "    n_jobs=-1\n",
    ")"
   ]
  },
  {
   "cell_type": "code",
   "execution_count": 65,
   "metadata": {},
   "outputs": [
    {
     "name": "stdout",
     "output_type": "stream",
     "text": [
      "Fitting 5 folds for each of 864 candidates, totalling 4320 fits\n"
     ]
    },
    {
     "name": "stderr",
     "output_type": "stream",
     "text": [
      "C:\\Users\\Azevedo\\AppData\\Local\\Packages\\PythonSoftwareFoundation.Python.3.10_qbz5n2kfra8p0\\LocalCache\\local-packages\\Python310\\site-packages\\sklearn\\model_selection\\_validation.py:425: FitFailedWarning: \n",
      "1440 fits failed out of a total of 4320.\n",
      "The score on these train-test partitions for these parameters will be set to nan.\n",
      "If these failures are not expected, you can try to debug them by setting error_score='raise'.\n",
      "\n",
      "Below are more details about the failures:\n",
      "--------------------------------------------------------------------------------\n",
      "1210 fits failed with the following error:\n",
      "Traceback (most recent call last):\n",
      "  File \"C:\\Users\\Azevedo\\AppData\\Local\\Packages\\PythonSoftwareFoundation.Python.3.10_qbz5n2kfra8p0\\LocalCache\\local-packages\\Python310\\site-packages\\sklearn\\model_selection\\_validation.py\", line 729, in _fit_and_score\n",
      "    estimator.fit(X_train, y_train, **fit_params)\n",
      "  File \"C:\\Users\\Azevedo\\AppData\\Local\\Packages\\PythonSoftwareFoundation.Python.3.10_qbz5n2kfra8p0\\LocalCache\\local-packages\\Python310\\site-packages\\sklearn\\base.py\", line 1145, in wrapper\n",
      "    estimator._validate_params()\n",
      "  File \"C:\\Users\\Azevedo\\AppData\\Local\\Packages\\PythonSoftwareFoundation.Python.3.10_qbz5n2kfra8p0\\LocalCache\\local-packages\\Python310\\site-packages\\sklearn\\base.py\", line 638, in _validate_params\n",
      "    validate_parameter_constraints(\n",
      "  File \"C:\\Users\\Azevedo\\AppData\\Local\\Packages\\PythonSoftwareFoundation.Python.3.10_qbz5n2kfra8p0\\LocalCache\\local-packages\\Python310\\site-packages\\sklearn\\utils\\_param_validation.py\", line 96, in validate_parameter_constraints\n",
      "    raise InvalidParameterError(\n",
      "sklearn.utils._param_validation.InvalidParameterError: The 'max_features' parameter of RandomForestClassifier must be an int in the range [1, inf), a float in the range (0.0, 1.0], a str among {'log2', 'sqrt'} or None. Got 'auto' instead.\n",
      "\n",
      "--------------------------------------------------------------------------------\n",
      "230 fits failed with the following error:\n",
      "Traceback (most recent call last):\n",
      "  File \"C:\\Users\\Azevedo\\AppData\\Local\\Packages\\PythonSoftwareFoundation.Python.3.10_qbz5n2kfra8p0\\LocalCache\\local-packages\\Python310\\site-packages\\sklearn\\model_selection\\_validation.py\", line 729, in _fit_and_score\n",
      "    estimator.fit(X_train, y_train, **fit_params)\n",
      "  File \"C:\\Users\\Azevedo\\AppData\\Local\\Packages\\PythonSoftwareFoundation.Python.3.10_qbz5n2kfra8p0\\LocalCache\\local-packages\\Python310\\site-packages\\sklearn\\base.py\", line 1145, in wrapper\n",
      "    estimator._validate_params()\n",
      "  File \"C:\\Users\\Azevedo\\AppData\\Local\\Packages\\PythonSoftwareFoundation.Python.3.10_qbz5n2kfra8p0\\LocalCache\\local-packages\\Python310\\site-packages\\sklearn\\base.py\", line 638, in _validate_params\n",
      "    validate_parameter_constraints(\n",
      "  File \"C:\\Users\\Azevedo\\AppData\\Local\\Packages\\PythonSoftwareFoundation.Python.3.10_qbz5n2kfra8p0\\LocalCache\\local-packages\\Python310\\site-packages\\sklearn\\utils\\_param_validation.py\", line 96, in validate_parameter_constraints\n",
      "    raise InvalidParameterError(\n",
      "sklearn.utils._param_validation.InvalidParameterError: The 'max_features' parameter of RandomForestClassifier must be an int in the range [1, inf), a float in the range (0.0, 1.0], a str among {'sqrt', 'log2'} or None. Got 'auto' instead.\n",
      "\n",
      "  warnings.warn(some_fits_failed_message, FitFailedWarning)\n",
      "C:\\Users\\Azevedo\\AppData\\Local\\Packages\\PythonSoftwareFoundation.Python.3.10_qbz5n2kfra8p0\\LocalCache\\local-packages\\Python310\\site-packages\\sklearn\\model_selection\\_search.py:979: UserWarning: One or more of the test scores are non-finite: [       nan        nan        nan        nan        nan        nan\n",
      "        nan        nan        nan        nan        nan        nan\n",
      "        nan        nan        nan        nan        nan        nan\n",
      "        nan        nan        nan        nan        nan        nan\n",
      "        nan        nan        nan        nan        nan        nan\n",
      "        nan        nan        nan        nan        nan        nan\n",
      " 0.6420918  0.64678789 0.65077264 0.65191244 0.64052637 0.6415219\n",
      " 0.64650309 0.65162785 0.64138269 0.64522428 0.64451244 0.65390502\n",
      " 0.63497669 0.64080975 0.64878057 0.65276471 0.64792941 0.64621971\n",
      " 0.64877996 0.65290818 0.64237741 0.64465377 0.64678799 0.65077305\n",
      " 0.63853703 0.64593582 0.64892423 0.65305093 0.63853703 0.64593582\n",
      " 0.64892423 0.65305093 0.63981584 0.64508041 0.64792607 0.64949221\n",
      " 0.58203804 0.59071919 0.60608809 0.60651554 0.59014716 0.59641101\n",
      " 0.6060886  0.60836476 0.59413343 0.60196099 0.60822251 0.61135327\n",
      " 0.58573668 0.59498833 0.60480675 0.60708403 0.59015252 0.59669733\n",
      " 0.60352652 0.60580461 0.58388695 0.59512967 0.60466541 0.6066586\n",
      " 0.58843978 0.596695   0.60324071 0.60694229 0.58843978 0.596695\n",
      " 0.60324071 0.60694229 0.58972244 0.59712306 0.60566074 0.60765261\n",
      "        nan        nan        nan        nan        nan        nan\n",
      "        nan        nan        nan        nan        nan        nan\n",
      "        nan        nan        nan        nan        nan        nan\n",
      "        nan        nan        nan        nan        nan        nan\n",
      "        nan        nan        nan        nan        nan        nan\n",
      "        nan        nan        nan        nan        nan        nan\n",
      " 0.6776723  0.68307781 0.68763155 0.69019252 0.67510982 0.68393251\n",
      " 0.68606632 0.6874888  0.67724202 0.68264975 0.68962413 0.68720532\n",
      " 0.67766927 0.68321945 0.68350395 0.68748839 0.67880755 0.6830773\n",
      " 0.68677797 0.68791574 0.67382717 0.67809581 0.68293587 0.69005077\n",
      " 0.66799168 0.67354287 0.67894949 0.68321955 0.66799168 0.67354287\n",
      " 0.67894949 0.68321955 0.67055375 0.67368451 0.67909225 0.68108493\n",
      " 0.6161903  0.62771761 0.63454873 0.64052627 0.62302385 0.62686382\n",
      " 0.63511853 0.64024106 0.62174008 0.63141797 0.63468997 0.63611305\n",
      " 0.62316498 0.62842976 0.63099072 0.63397944 0.62074353 0.62842804\n",
      " 0.6315588  0.63340873 0.62173947 0.62956703 0.63284257 0.6335528\n",
      " 0.6184695  0.6241599  0.62430215 0.62487185 0.6184695  0.6241599\n",
      " 0.62430215 0.62487185 0.6129181  0.62273601 0.62458624 0.62672279\n",
      "        nan        nan        nan        nan        nan        nan\n",
      "        nan        nan        nan        nan        nan        nan\n",
      "        nan        nan        nan        nan        nan        nan\n",
      "        nan        nan        nan        nan        nan        nan\n",
      "        nan        nan        nan        nan        nan        nan\n",
      "        nan        nan        nan        nan        nan        nan\n",
      " 0.69033557 0.69787884 0.70143655 0.70712888 0.69460644 0.69859079\n",
      " 0.70058367 0.70912125 0.68108554 0.69417788 0.70328566 0.705136\n",
      " 0.69588545 0.69915866 0.69987142 0.70527875 0.69261477 0.6947495\n",
      " 0.70029786 0.70342811 0.69204386 0.69659821 0.69930233 0.70285963\n",
      " 0.68122728 0.69047822 0.68919638 0.69403573 0.68122728 0.69047822\n",
      " 0.68919638 0.69403573 0.67638934 0.68606531 0.68976567 0.69232785\n",
      " 0.64351518 0.65418709 0.66101942 0.66671175 0.64906527 0.65945349\n",
      " 0.6665687  0.6701258  0.65063141 0.66059258 0.66301403 0.66742421\n",
      " 0.64081127 0.64365693 0.65475658 0.65845583 0.63212921 0.64493756\n",
      " 0.65205277 0.65461474 0.64493665 0.64707228 0.65432964 0.65731755\n",
      " 0.62686423 0.6326985  0.63853379 0.63967116 0.62686423 0.6326985\n",
      " 0.63853379 0.63967116 0.63270265 0.63383901 0.64152119 0.64550462\n",
      "        nan        nan        nan        nan        nan        nan\n",
      "        nan        nan        nan        nan        nan        nan\n",
      "        nan        nan        nan        nan        nan        nan\n",
      "        nan        nan        nan        nan        nan        nan\n",
      "        nan        nan        nan        nan        nan        nan\n",
      "        nan        nan        nan        nan        nan        nan\n",
      " 0.69061997 0.6971675  0.70812491 0.7086935  0.69318184 0.69987152\n",
      " 0.70428413 0.70727153 0.68592509 0.69560146 0.70044031 0.7092633\n",
      " 0.69318204 0.699585   0.70243238 0.70556284 0.69105056 0.69503339\n",
      " 0.6971676  0.70300208 0.69588687 0.6974524  0.70015571 0.70300117\n",
      " 0.67937806 0.68905615 0.68905413 0.69460482 0.67937806 0.68905615\n",
      " 0.68905413 0.69460482 0.67781212 0.68563867 0.68976608 0.69247091\n",
      " 0.63754048 0.65361921 0.66557185 0.6753928  0.65774692 0.66215993\n",
      " 0.6674236  0.67425482 0.6556124  0.66329751 0.6671385  0.67254542\n",
      " 0.6409521  0.6445095  0.65005908 0.65504017 0.63241421 0.64821047\n",
      " 0.65262156 0.65831389 0.64635993 0.64692933 0.65489873 0.65589548\n",
      " 0.62231109 0.63497659 0.63824939 0.64123669 0.62231109 0.63497659\n",
      " 0.63824939 0.64123669 0.63298694 0.63611507 0.64650269 0.6477816\n",
      "        nan        nan        nan        nan        nan        nan\n",
      "        nan        nan        nan        nan        nan        nan\n",
      "        nan        nan        nan        nan        nan        nan\n",
      "        nan        nan        nan        nan        nan        nan\n",
      "        nan        nan        nan        nan        nan        nan\n",
      "        nan        nan        nan        nan        nan        nan\n",
      " 0.64038422 0.64863721 0.65148428 0.6553273  0.642947   0.64821097\n",
      " 0.64977671 0.65689303 0.63796702 0.64308956 0.65262459 0.65361941\n",
      " 0.64465458 0.65248194 0.65148449 0.65746222 0.64052687 0.64821249\n",
      " 0.65020325 0.65518454 0.64066922 0.64792708 0.65119878 0.65504199\n",
      " 0.6399595  0.64436918 0.64664584 0.65148469 0.6399595  0.64436918\n",
      " 0.64664584 0.65148469 0.63839367 0.6450791  0.6494912  0.65176817\n",
      " 0.58915244 0.59840409 0.60893395 0.6096456  0.5887257  0.59982708\n",
      " 0.60609012 0.60708443 0.59954339 0.60381183 0.60964651 0.60765474\n",
      " 0.59057724 0.59740786 0.60494991 0.60921936 0.59185757 0.59570008\n",
      " 0.60110892 0.60651656 0.59541548 0.59626836 0.60438132 0.60566145\n",
      " 0.59811859 0.60423877 0.60608951 0.60921966 0.59811859 0.60423877\n",
      " 0.60608951 0.60921966 0.59555621 0.60423725 0.60779658 0.61049959\n",
      "        nan        nan        nan        nan        nan        nan\n",
      "        nan        nan        nan        nan        nan        nan\n",
      "        nan        nan        nan        nan        nan        nan\n",
      "        nan        nan        nan        nan        nan        nan\n",
      "        nan        nan        nan        nan        nan        nan\n",
      "        nan        nan        nan        nan        nan        nan\n",
      " 0.67667374 0.68450049 0.68962261 0.69873162 0.68478751 0.68492926\n",
      " 0.68805992 0.69417929 0.6809439  0.68805981 0.69289866 0.69261406\n",
      " 0.68037521 0.68293739 0.68905636 0.69119078 0.67994938 0.6859257\n",
      " 0.68749082 0.69161752 0.68250831 0.68549713 0.69033567 0.6924703\n",
      " 0.67781151 0.68193841 0.68393089 0.68592377 0.67781151 0.68193841\n",
      " 0.68393089 0.68592377 0.67952041 0.68578173 0.68677857 0.69062098\n",
      " 0.62174149 0.63326749 0.63312626 0.63967227 0.62885569 0.63141767\n",
      " 0.64365794 0.64266038 0.62344735 0.6338378  0.641807   0.64266048\n",
      " 0.61590641 0.62956845 0.63326952 0.63810603 0.62828711 0.63070481\n",
      " 0.63355138 0.63867573 0.61690538 0.62729299 0.63554699 0.63896094\n",
      " 0.61846646 0.62444227 0.62942448 0.62985304 0.61846646 0.62444227\n",
      " 0.62942448 0.62985304 0.62444248 0.62999327 0.63355219 0.63027898\n",
      "        nan        nan        nan        nan        nan        nan\n",
      "        nan        nan        nan        nan        nan        nan\n",
      "        nan        nan        nan        nan        nan        nan\n",
      "        nan        nan        nan        nan        nan        nan\n",
      "        nan        nan        nan        nan        nan        nan\n",
      "        nan        nan        nan        nan        nan        nan\n",
      " 0.69731137 0.70784093 0.71125649 0.71239548 0.6963129  0.70200574\n",
      " 0.70883696 0.70954891 0.70029766 0.70542221 0.71082893 0.71282222\n",
      " 0.69403664 0.70029887 0.71068628 0.7092636  0.69702465 0.7054211\n",
      " 0.70883767 0.70869401 0.69702475 0.70371322 0.70371362 0.70485282\n",
      " 0.6921857  0.6971673  0.69915765 0.70414036 0.6921857  0.6971673\n",
      " 0.69915765 0.70414036 0.69090497 0.69816394 0.6980216  0.69987152\n",
      " 0.65304921 0.66457885 0.66785105 0.67240368 0.65618189 0.66913219\n",
      " 0.67140866 0.67283164 0.65447371 0.66600072 0.66884709 0.67126621\n",
      " 0.64934905 0.65874205 0.66073483 0.66343794 0.64849567 0.65589497\n",
      " 0.66144505 0.66044952 0.64593359 0.65774591 0.65945268 0.66045013\n",
      " 0.63640007 0.64536572 0.64963335 0.65176908 0.63640007 0.64536572\n",
      " 0.64963335 0.65176908 0.6433703  0.65376055 0.65262297 0.65191133\n",
      "        nan        nan        nan        nan        nan        nan\n",
      "        nan        nan        nan        nan        nan        nan\n",
      "        nan        nan        nan        nan        nan        nan\n",
      "        nan        nan        nan        nan        nan        nan\n",
      "        nan        nan        nan        nan        nan        nan\n",
      "        nan        nan        nan        nan        nan        nan\n",
      " 0.69916028 0.70570468 0.7098333  0.71125649 0.69816445 0.7010094\n",
      " 0.7059913  0.71011749 0.69289815 0.70072561 0.70656151 0.70912227\n",
      " 0.69546134 0.70058347 0.70627549 0.70655938 0.69716781 0.70641825\n",
      " 0.70855297 0.71068739 0.7018641  0.70271779 0.70613234 0.70670203\n",
      " 0.69232765 0.69503247 0.6995848  0.70314362 0.69232765 0.69503247\n",
      " 0.6995848  0.70314362 0.6921857  0.69844763 0.69787884 0.69930294\n",
      " 0.65404697 0.66642675 0.67169426 0.67525045 0.66073392 0.67055507\n",
      " 0.67681629 0.67667293 0.66543264 0.67254866 0.67482543 0.67738528\n",
      " 0.64650248 0.65347727 0.66101942 0.66215771 0.6591698  0.65817407\n",
      " 0.66343844 0.66343915 0.65248133 0.66144606 0.66144667 0.66087728\n",
      " 0.63170378 0.64750004 0.65077254 0.65376075 0.63170378 0.64750004\n",
      " 0.65077254 0.65376075 0.64023883 0.65205105 0.6494909  0.65219522]\n",
      "  warnings.warn(\n"
     ]
    },
    {
     "name": "stdout",
     "output_type": "stream",
     "text": [
      "Melhores parâmetros: {'bootstrap': False, 'max_depth': 50, 'max_features': 'sqrt', 'min_samples_leaf': 1, 'min_samples_split': 10, 'n_estimators': 500}\n"
     ]
    }
   ],
   "source": [
    "grid_search.fit(X_train_encoded, Y_train_encoded)\n",
    "\n",
    "print(\"Melhores parâmetros:\", grid_search.best_params_)\n",
    "#~85 min\n",
    "#Fitting 5 folds for each of 864 candidates, totalling 4320 fits\n",
    "#ythonSoftwareFoundation.Python.3.10_qbz5n2kfra8p0\\LocalCache\\local-packages\\Python310\\site-packages\\sklearn\\model_selection\\_validation.py:425: FitFailedWarning: \n",
    "#Melhores parâmetros: {'bootstrap': False, 'max_depth': 50, 'max_features': 'sqrt', 'min_samples_leaf': 1, 'min_samples_split': 10, 'n_estimators': 500}"
   ]
  },
  {
   "cell_type": "code",
   "execution_count": 66,
   "metadata": {},
   "outputs": [],
   "source": [
    "best_rf_model = grid_search.best_estimator_\n",
    "Y_pred = best_rf_model.predict(X_test_encoded)"
   ]
  },
  {
   "cell_type": "code",
   "execution_count": 67,
   "metadata": {},
   "outputs": [
    {
     "name": "stdout",
     "output_type": "stream",
     "text": [
      "Accuracy: 0.6932\n"
     ]
    }
   ],
   "source": [
    "accuracy = accuracy_score(Y_test_encoded, Y_pred)\n",
    "print(f'Accuracy: {accuracy:.4f}')"
   ]
  },
  {
   "cell_type": "code",
   "execution_count": 68,
   "metadata": {},
   "outputs": [
    {
     "name": "stdout",
     "output_type": "stream",
     "text": [
      "              precision    recall  f1-score   support\n",
      "\n",
      "         bad       0.94      0.79      0.86       450\n",
      "        good       0.55      0.61      0.58       430\n",
      "       great       0.74      0.69      0.71       429\n",
      "    mediocre       0.61      0.69      0.65       448\n",
      "\n",
      "    accuracy                           0.69      1757\n",
      "   macro avg       0.71      0.69      0.70      1757\n",
      "weighted avg       0.71      0.69      0.70      1757\n",
      "\n"
     ]
    }
   ],
   "source": [
    "print(classification_report(Y_test_encoded, Y_pred, target_names=label_encoder.classes_))"
   ]
  },
  {
   "cell_type": "code",
   "execution_count": 70,
   "metadata": {},
   "outputs": [
    {
     "data": {
      "image/png": "[encoded data removed]",
      "text/plain": [
       "<Figure size 640x480 with 2 Axes>"
      ]
     },
     "metadata": {},
     "output_type": "display_data"
    }
   ],
   "source": [
    "cm = confusion_matrix(Y_test_encoded, Y_pred)\n",
    "disp = ConfusionMatrixDisplay(confusion_matrix=cm, display_labels=label_encoder.classes_)\n",
    "disp.plot()\n",
    "plt.show()"
   ]
  }
 ],
 "metadata": {
  "kernelspec": {
   "display_name": "Python 3",
   "language": "python",
   "name": "python3"
  },
  "language_info": {
   "codemirror_mode": {
    "name": "ipython",
    "version": 3
   },
   "file_extension": ".py",
   "mimetype": "text/x-python",
   "name": "python",
   "nbconvert_exporter": "python",
   "pygments_lexer": "ipython3",
   "version": "3.10.11"
  }
 },
 "nbformat": 4,
 "nbformat_minor": 2
}
