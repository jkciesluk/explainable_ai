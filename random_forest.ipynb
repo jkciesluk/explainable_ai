{
 "cells": [
  {
   "cell_type": "code",
   "execution_count": 22,
   "metadata": {},
   "outputs": [],
   "source": [
    "import pandas as pd\n",
    "import numpy as np\n",
    "\n",
    "from sklearn.model_selection import train_test_split\n",
    "from sklearn.metrics import accuracy_score, confusion_matrix, ConfusionMatrixDisplay\n",
    "from sklearn.calibration import LabelEncoder\n",
    "from sklearn.discriminant_analysis import StandardScaler\n",
    "from sklearn.feature_extraction.text import TfidfVectorizer\n",
    "from sklearn.compose import ColumnTransformer\n",
    "from sklearn.impute import SimpleImputer\n",
    "from sklearn.pipeline import Pipeline\n",
    "from sklearn.preprocessing import OneHotEncoder\n",
    "from sklearn.tree import DecisionTreeClassifier, plot_tree, export_text\n",
    "from sklearn.metrics import classification_report\n",
    "\n",
    "from sklearn.ensemble import RandomForestClassifier\n",
    "from sklearn.model_selection import GridSearchCV\n",
    "from sklearn.model_selection import RandomizedSearchCV\n",
    "\n",
    "\n",
    "import matplotlib.pyplot as plt\n",
    "\n",
    "\n",
    "# Set random seed\n",
    "seed = 0\n",
    "\n"
   ]
  },
  {
   "cell_type": "code",
   "execution_count": 23,
   "metadata": {},
   "outputs": [],
   "source": [
    "# Read cleaned data from csv\n",
    "df = pd.read_csv('input/movie_data_tmbd_cleaned.csv', sep='|')"
   ]
  },
  {
   "cell_type": "code",
   "execution_count": 24,
   "metadata": {},
   "outputs": [
    {
     "name": "stdout",
     "output_type": "stream",
     "text": [
      "<class 'pandas.core.frame.DataFrame'>\n",
      "RangeIndex: 8784 entries, 0 to 8783\n",
      "Data columns (total 22 columns):\n",
      " #   Column                Non-Null Count  Dtype  \n",
      "---  ------                --------------  -----  \n",
      " 0   adult                 8784 non-null   int64  \n",
      " 1   budget                8784 non-null   int64  \n",
      " 2   genres                8780 non-null   object \n",
      " 3   original_language     8784 non-null   object \n",
      " 4   overview              8784 non-null   object \n",
      " 5   popularity            8784 non-null   float64\n",
      " 6   production_companies  8618 non-null   object \n",
      " 7   production_countries  8737 non-null   object \n",
      " 8   revenue               8784 non-null   int64  \n",
      " 9   runtime               8784 non-null   float64\n",
      " 10  spoken_languages      8768 non-null   object \n",
      " 11  status                8784 non-null   object \n",
      " 12  tagline               8784 non-null   object \n",
      " 13  video                 8784 non-null   int64  \n",
      " 14  vote_average          8784 non-null   float64\n",
      " 15  vote_count            8784 non-null   float64\n",
      " 16  cast                  8782 non-null   object \n",
      " 17  directors             8784 non-null   object \n",
      " 18  release_year          8784 non-null   int64  \n",
      " 19  release_month         8784 non-null   int64  \n",
      " 20  release_day           8784 non-null   int64  \n",
      " 21  category              8784 non-null   object \n",
      "dtypes: float64(4), int64(7), object(11)\n",
      "memory usage: 1.5+ MB\n",
      "None\n",
      "   adult     budget                                         genres  \\\n",
      "0      0  200000000      Adventure,Action,Thriller,Science Fiction   \n",
      "1      0  130000000               Science Fiction,Action,Adventure   \n",
      "2      0  165000000               Action,Adventure,Science Fiction   \n",
      "3      0  120000000               Action,Adventure,Science Fiction   \n",
      "4      0   78000000  Fantasy,Action,Crime,Science Fiction,Thriller   \n",
      "\n",
      "  original_language                                           overview  \\\n",
      "0                en  For centuries, a small but powerful force of w...   \n",
      "1                en  One thousand years after cataclysmic events fo...   \n",
      "2                en  We always knew they were coming back. Using re...   \n",
      "3                en  Four young outsiders teleport to a dangerous u...   \n",
      "4                en  He dwells in a world of eternal night, but the...   \n",
      "\n",
      "   popularity                               production_companies  \\\n",
      "0      31.264  DC Entertainment,De Line Pictures,Warner Bros....   \n",
      "1      29.537  Columbia Pictures,Overbrook Entertainment,Blin...   \n",
      "2      33.521  20th Century Fox,TSG Entertainment,Centropolis...   \n",
      "3      24.238  Moving Picture Company,Marvel Entertainment,TS...   \n",
      "4      23.563  Marvel Enterprises,New Regency Pictures,Epsilo...   \n",
      "\n",
      "                              production_countries    revenue  runtime  ...  \\\n",
      "0                         United States of America  219851172    114.0  ...   \n",
      "1                         United States of America  243843127    100.0  ...   \n",
      "2                         United States of America  389681935    120.0  ...   \n",
      "3  United Kingdom,Germany,United States of America  167977596    100.0  ...   \n",
      "4                         United States of America  179179718    103.0  ...   \n",
      "\n",
      "                                        tagline video vote_average  \\\n",
      "0     In our darkest hour, there will be light.     0          5.0   \n",
      "1              Danger is real, fear is a choice     0          5.0   \n",
      "2  We had twenty years to prepare. So did they.     0          5.0   \n",
      "3                             Change is coming.     0          4.5   \n",
      "4                              A Guardian Devil     0          5.0   \n",
      "\n",
      "   vote_count                                               cast  \\\n",
      "0      5226.0  Ryan Reynolds,Blake Lively,Peter Sarsgaard,Tim...   \n",
      "1      5042.0  Will Smith,Jaden Smith,Sophie Okonedo,Zoë Krav...   \n",
      "2      4547.0  Liam Hemsworth,Jeff Goldblum,Jessie T. Usher,B...   \n",
      "3      4444.0  Tim Blake Nelson,Gretchen Koerner,Miles Teller...   \n",
      "4      3496.0  Ben Affleck,Jennifer Garner,Colin Farrell,Mich...   \n",
      "\n",
      "                                   directors release_year release_month  \\\n",
      "0                            Martin Campbell         2011             6   \n",
      "1                         M. Night Shyamalan         2013             5   \n",
      "2                            Roland Emmerich         2016             6   \n",
      "3  Simon Kinberg,Josh Trank,Steven E. Rivkin         2015             8   \n",
      "4                        Mark Steven Johnson         2003             2   \n",
      "\n",
      "   release_day  category  \n",
      "0           16       bad  \n",
      "1           30       bad  \n",
      "2           22       bad  \n",
      "3            5       bad  \n",
      "4           14       bad  \n",
      "\n",
      "[5 rows x 22 columns]\n"
     ]
    }
   ],
   "source": [
    "# Print info about the data\n",
    "print(df.info())\n",
    "print(df.head())"
   ]
  },
  {
   "cell_type": "markdown",
   "metadata": {},
   "source": [
    "# Scoring prediction"
   ]
  },
  {
   "cell_type": "code",
   "execution_count": 25,
   "metadata": {},
   "outputs": [
    {
     "data": {
      "text/plain": [
       "video\n",
       "0    8778\n",
       "1       6\n",
       "Name: count, dtype: int64"
      ]
     },
     "execution_count": 25,
     "metadata": {},
     "output_type": "execute_result"
    }
   ],
   "source": [
    "df['video'].value_counts()"
   ]
  },
  {
   "cell_type": "code",
   "execution_count": 26,
   "metadata": {},
   "outputs": [],
   "source": [
    "# Get list of all unique names in df[`cast`]\n",
    "df['cast'] = df['cast'].replace(np.nan, '')\n",
    "unique_cast = df['cast'].str.split(',').explode()\n",
    "unique_cast.value_counts()\n",
    "# Take only actors that appeared in more than 10 movies\n",
    "top_cast = unique_cast.value_counts()[unique_cast.value_counts() > 10]\n",
    "\n",
    "df['cast'] = df['cast'].apply(lambda x: [i for i in x.split(',') if i in top_cast.index]).apply(lambda x: ','.join(x))\n",
    "df['production_companies'] = df['production_companies'].replace(np.nan, '')\n",
    "unique_production_companies = df['production_companies'].str.split(',').explode()\n",
    "unique_production_companies.value_counts()\n",
    "\n",
    "top_companies = unique_production_companies.value_counts()[unique_production_companies.value_counts() > 10]\n",
    "df['production_companies'] = df['production_companies'].apply(lambda x: [i for i in x.split(',') if i in top_companies.index]).apply(lambda x: ','.join(x))\n",
    "df['directors'] = df['directors'].replace(np.nan, '')\n",
    "unique_directors = df['directors'].str.split(',').explode()\n",
    "unique_directors.value_counts()\n",
    "\n",
    "top_directors = unique_directors.value_counts()[unique_directors.value_counts() > 10]\n",
    "df['directors'] = df['directors'].apply(lambda x: [i for i in x.split(',') if i in top_directors.index]).apply(lambda x: ','.join(x))\n",
    "df['production_countries'] = df['production_countries'].replace(np.nan, '')\n",
    "df['spoken_languages'] = df['spoken_languages'].replace(np.nan, '')\n",
    "df['genres'] = df['genres'].replace(np.nan, '')\n",
    "df['tagline'] = df['tagline'].replace(np.nan, '')\n",
    "df['overview'] = df['overview'].replace(np.nan, '')"
   ]
  },
  {
   "cell_type": "code",
   "execution_count": 27,
   "metadata": {},
   "outputs": [],
   "source": [
    "X = df.drop(columns=['vote_average', 'category'])\n",
    "X = df.drop(columns=['video', 'adult', 'release_day'])\n",
    "Y = df['category']\n"
   ]
  },
  {
   "cell_type": "code",
   "execution_count": 28,
   "metadata": {},
   "outputs": [
    {
     "name": "stdout",
     "output_type": "stream",
     "text": [
      "Training set size:  7027\n",
      "Test set size:  1757\n"
     ]
    }
   ],
   "source": [
    "X_train, X_test, Y_train, Y_test = train_test_split(X, Y, test_size=0.2, random_state=seed)\n",
    "\n",
    "# Encode target variable (Y) using LabelEncoder\n",
    "label_encoder = LabelEncoder()\n",
    "Y_train_encoded = label_encoder.fit_transform(Y_train)\n",
    "Y_test_encoded = label_encoder.transform(Y_test)\n",
    "\n",
    "\n",
    "print(\"Training set size: \", len(X_train))\n",
    "print(\"Test set size: \", len(X_test))"
   ]
  },
  {
   "cell_type": "markdown",
   "metadata": {},
   "source": [
    "# Feature encoding"
   ]
  },
  {
   "cell_type": "code",
   "execution_count": 29,
   "metadata": {},
   "outputs": [
    {
     "name": "stdout",
     "output_type": "stream",
     "text": [
      "<class 'pandas.core.frame.DataFrame'>\n",
      "RangeIndex: 8784 entries, 0 to 8783\n",
      "Data columns (total 19 columns):\n",
      " #   Column                Non-Null Count  Dtype  \n",
      "---  ------                --------------  -----  \n",
      " 0   budget                8784 non-null   int64  \n",
      " 1   genres                8784 non-null   object \n",
      " 2   original_language     8784 non-null   object \n",
      " 3   overview              8784 non-null   object \n",
      " 4   popularity            8784 non-null   float64\n",
      " 5   production_companies  8784 non-null   object \n",
      " 6   production_countries  8784 non-null   object \n",
      " 7   revenue               8784 non-null   int64  \n",
      " 8   runtime               8784 non-null   float64\n",
      " 9   spoken_languages      8784 non-null   object \n",
      " 10  status                8784 non-null   object \n",
      " 11  tagline               8784 non-null   object \n",
      " 12  vote_average          8784 non-null   float64\n",
      " 13  vote_count            8784 non-null   float64\n",
      " 14  cast                  8784 non-null   object \n",
      " 15  directors             8784 non-null   object \n",
      " 16  release_year          8784 non-null   int64  \n",
      " 17  release_month         8784 non-null   int64  \n",
      " 18  category              8784 non-null   object \n",
      "dtypes: float64(4), int64(4), object(11)\n",
      "memory usage: 1.3+ MB\n",
      "None\n"
     ]
    }
   ],
   "source": [
    "print(X.info())"
   ]
  },
  {
   "cell_type": "code",
   "execution_count": 30,
   "metadata": {},
   "outputs": [
    {
     "name": "stdout",
     "output_type": "stream",
     "text": [
      "      budget                                         genres original_language  \\\n",
      "0  200000000      Adventure,Action,Thriller,Science Fiction                en   \n",
      "1  130000000               Science Fiction,Action,Adventure                en   \n",
      "2  165000000               Action,Adventure,Science Fiction                en   \n",
      "3  120000000               Action,Adventure,Science Fiction                en   \n",
      "4   78000000  Fantasy,Action,Crime,Science Fiction,Thriller                en   \n",
      "\n",
      "                                            overview  popularity  \\\n",
      "0  For centuries, a small but powerful force of w...      31.264   \n",
      "1  One thousand years after cataclysmic events fo...      29.537   \n",
      "2  We always knew they were coming back. Using re...      33.521   \n",
      "3  Four young outsiders teleport to a dangerous u...      24.238   \n",
      "4  He dwells in a world of eternal night, but the...      23.563   \n",
      "\n",
      "                                production_companies  \\\n",
      "0  DC Entertainment,De Line Pictures,Warner Bros....   \n",
      "1  Columbia Pictures,Overbrook Entertainment,Sony...   \n",
      "2  20th Century Fox,TSG Entertainment,Centropolis...   \n",
      "3  Moving Picture Company,Marvel Entertainment,TS...   \n",
      "4  Marvel Enterprises,New Regency Pictures,Epsilo...   \n",
      "\n",
      "                              production_countries    revenue  runtime  \\\n",
      "0                         United States of America  219851172    114.0   \n",
      "1                         United States of America  243843127    100.0   \n",
      "2                         United States of America  389681935    120.0   \n",
      "3  United Kingdom,Germany,United States of America  167977596    100.0   \n",
      "4                         United States of America  179179718    103.0   \n",
      "\n",
      "            spoken_languages    status  \\\n",
      "0                    English  Released   \n",
      "1                    English  Released   \n",
      "2                    English  Released   \n",
      "3                    English  Released   \n",
      "4  English,Italiano,ελληνικά  Released   \n",
      "\n",
      "                                        tagline  vote_average  vote_count  \\\n",
      "0     In our darkest hour, there will be light.           5.0      5226.0   \n",
      "1              Danger is real, fear is a choice           5.0      5042.0   \n",
      "2  We had twenty years to prepare. So did they.           5.0      4547.0   \n",
      "3                             Change is coming.           4.5      4444.0   \n",
      "4                              A Guardian Devil           5.0      3496.0   \n",
      "\n",
      "                                                cast           directors  \\\n",
      "0  Ryan Reynolds,Blake Lively,Peter Sarsgaard,Tim...                       \n",
      "1  Will Smith,Zoë Kravitz,Glenn Morshower,David D...  M. Night Shyamalan   \n",
      "2  Liam Hemsworth,Jeff Goldblum,Bill Pullman,Maik...     Roland Emmerich   \n",
      "3  Tim Blake Nelson,Miles Teller,Kate Mara,Michae...                       \n",
      "4  Ben Affleck,Jennifer Garner,Colin Farrell,Mich...                       \n",
      "\n",
      "   release_year  release_month category  \n",
      "0          2011              6      bad  \n",
      "1          2013              5      bad  \n",
      "2          2016              6      bad  \n",
      "3          2015              8      bad  \n",
      "4          2003              2      bad  \n"
     ]
    }
   ],
   "source": [
    "print(X.head())"
   ]
  },
  {
   "cell_type": "code",
   "execution_count": 31,
   "metadata": {},
   "outputs": [],
   "source": [
    "\n",
    "numerical_features = ['budget', 'revenue', 'popularity', 'runtime', 'vote_count', 'release_year', 'release_month']\n",
    "categorical_features = ['original_language', 'status']\n",
    "boolean_features = ['adult', 'video']\n",
    "text_features = ['overview', 'tagline', 'title']\n",
    "list_based_features = ['genres', 'production_companies', 'production_countries', 'cast', 'directors']\n",
    "\n",
    "# 1. Numerical transformer: Impute missing values and standardize\n",
    "numeric_transformer = Pipeline(steps=[\n",
    "    ('imputer', SimpleImputer(strategy='median')),\n",
    "    ('scaler', StandardScaler())\n",
    "])\n",
    "\n",
    "# 2. Categorical transformer: Impute missing values and one-hot encode\n",
    "categorical_transformer = Pipeline(steps=[\n",
    "    ('imputer', SimpleImputer(strategy='most_frequent')),\n",
    "    ('onehot', OneHotEncoder(handle_unknown='ignore'))\n",
    "])\n",
    "# 3. Boolean transformer: Ensure 0/1 values\n",
    "boolean_transformer = Pipeline(steps=[\n",
    "    ('imputer', SimpleImputer(strategy='most_frequent'))\n",
    "])\n",
    "\n",
    "# 4. Text transformer: Use TF-IDF for text columns\n",
    "text_transformer = Pipeline(steps=[\n",
    "    ('tfidf', TfidfVectorizer(stop_words='english', max_features=100))  # Adjust max_features as needed\n",
    "])\n",
    "\n",
    "# 5. List-based transformer: Convert list of items into count vectors (like multi-hot encoding)\n",
    "def list_to_str(column):\n",
    "    return column.apply(lambda x: ','.join(x) if isinstance(x, list) else '')\n",
    "\n",
    "# Combine all transformers into a ColumnTransformer\n",
    "preprocessor = ColumnTransformer(\n",
    "    transformers=[\n",
    "        ('num', numeric_transformer, numerical_features),\n",
    "        ('cat', categorical_transformer, categorical_features),\n",
    "        # ('bool', boolean_transformer, boolean_features),\n",
    "        ('overview', text_transformer, 'overview'),\n",
    "        ('tagline', text_transformer, 'tagline'),\n",
    "        ('genres', text_transformer, 'genres'),\n",
    "        ('production_companies', text_transformer, 'production_companies'),\n",
    "        ('production_countries', text_transformer, 'production_countries'),\n",
    "        ('cast', text_transformer, 'cast'),\n",
    "        ('directors', text_transformer, 'directors')\n",
    "    ]\n",
    ")"
   ]
  },
  {
   "cell_type": "code",
   "execution_count": 32,
   "metadata": {},
   "outputs": [
    {
     "name": "stdout",
     "output_type": "stream",
     "text": [
      "  (0, 0)\t-0.08619960335899651\n",
      "  (0, 1)\t-0.18237344551555748\n",
      "  (0, 2)\t0.08345800497584235\n",
      "  (0, 3)\t-0.5505827317471977\n",
      "  (0, 4)\t1.795802171379134\n",
      "  (0, 5)\t0.42331317103209676\n",
      "  (0, 6)\t1.2175666622553376\n",
      "  (0, 15)\t1.0\n",
      "  (0, 42)\t1.0\n",
      "  (0, 116)\t0.5864674656785438\n",
      "  (0, 124)\t0.5226236148284815\n",
      "  (0, 130)\t0.6188056794537337\n",
      "  (0, 198)\t1.0\n",
      "  (0, 244)\t0.6937175157199655\n",
      "  (0, 249)\t0.46303948736614914\n",
      "  (0, 260)\t0.5516796548025068\n",
      "  (0, 273)\t0.28120239791970725\n",
      "  (0, 299)\t0.43938915948487495\n",
      "  (0, 302)\t0.29381623162362774\n",
      "  (0, 329)\t0.440833707193948\n",
      "  (0, 331)\t0.33524861148923174\n",
      "  (0, 333)\t0.2608753051066312\n",
      "  (0, 343)\t0.4338761288913083\n",
      "  (0, 360)\t0.28018563672299496\n",
      "  (0, 367)\t0.302264718805644\n",
      "  :\t:\n",
      "  (7025, 452)\t0.2912134271980113\n",
      "  (7025, 461)\t0.27482428700138295\n",
      "  (7026, 0)\t0.1793668052887353\n",
      "  (7026, 1)\t-0.1509840149906671\n",
      "  (7026, 2)\t-0.12953782644463857\n",
      "  (7026, 3)\t-1.1135691250570259\n",
      "  (7026, 4)\t-0.07500471776376888\n",
      "  (7026, 5)\t0.4843423180098479\n",
      "  (7026, 6)\t0.34449197240177887\n",
      "  (7026, 15)\t1.0\n",
      "  (7026, 42)\t1.0\n",
      "  (7026, 243)\t0.5748216517599677\n",
      "  (7026, 244)\t0.6707152426839871\n",
      "  (7026, 246)\t0.4687442073234643\n",
      "  (7026, 282)\t0.8793253959806123\n",
      "  (7026, 331)\t0.47622142747207363\n",
      "  (7026, 367)\t0.22555055657301717\n",
      "  (7026, 381)\t0.6582074328611325\n",
      "  (7026, 402)\t0.64784939018914\n",
      "  (7026, 452)\t0.22555055657301717\n",
      "  (7026, 461)\t0.21285684348200218\n",
      "  (7026, 486)\t0.4934316141321616\n",
      "  (7026, 496)\t0.5765535612047832\n",
      "  (7026, 530)\t0.3361400080315788\n",
      "  (7026, 537)\t0.5577823305175075\n",
      "  (0, 0)\t-0.5642191389249138\n",
      "  (0, 1)\t-0.41316463240333834\n",
      "  (0, 2)\t-0.3216823440111375\n",
      "  (0, 3)\t-0.7553050565871352\n",
      "  (0, 4)\t-0.4875549834754118\n",
      "  (0, 5)\t0.42331317103209676\n",
      "  (0, 6)\t-1.6926823039231913\n",
      "  (0, 15)\t1.0\n",
      "  (0, 42)\t1.0\n",
      "  (0, 83)\t0.6286846895927957\n",
      "  (0, 117)\t0.6137663496718698\n",
      "  (0, 142)\t0.4775420704839294\n",
      "  (0, 173)\t1.0\n",
      "  (0, 246)\t0.22392761684282822\n",
      "  (0, 249)\t0.21386774436403133\n",
      "  (0, 250)\t0.36617443580187264\n",
      "  (0, 255)\t0.6204970962465953\n",
      "  (0, 261)\t0.6204970962465953\n",
      "  (0, 278)\t0.808359252694942\n",
      "  (0, 290)\t0.5886894925021805\n",
      "  (0, 367)\t0.29608807940047793\n",
      "  (0, 381)\t0.8640518454224302\n",
      "  (0, 452)\t0.29608807940047793\n",
      "  (0, 461)\t0.2794245996614571\n",
      "  (1, 0)\t-0.5642191389249138\n",
      "  :\t:\n",
      "  (1756, 5)\t-0.0038908578121610044\n",
      "  (1756, 6)\t0.34449197240177887\n",
      "  (1756, 15)\t1.0\n",
      "  (1756, 42)\t1.0\n",
      "  (1756, 79)\t0.2391063888256595\n",
      "  (1756, 81)\t0.4571082089816494\n",
      "  (1756, 83)\t0.2402184452683711\n",
      "  (1756, 98)\t0.24448741069180446\n",
      "  (1756, 106)\t0.5266626160491122\n",
      "  (1756, 117)\t0.4690363888826903\n",
      "  (1756, 127)\t0.2180633865130197\n",
      "  (1756, 129)\t0.2673591945175428\n",
      "  (1756, 246)\t0.1987299904926924\n",
      "  (1756, 249)\t0.18980211285858975\n",
      "  (1756, 250)\t0.324970377354792\n",
      "  (1756, 255)\t0.5506751859212602\n",
      "  (1756, 256)\t0.4608573335602298\n",
      "  (1756, 261)\t0.5506751859212602\n",
      "  (1756, 278)\t0.808359252694942\n",
      "  (1756, 290)\t0.5886894925021805\n",
      "  (1756, 367)\t0.29608807940047793\n",
      "  (1756, 381)\t0.8640518454224302\n",
      "  (1756, 452)\t0.29608807940047793\n",
      "  (1756, 461)\t0.2794245996614571\n",
      "  (1756, 544)\t1.0\n"
     ]
    }
   ],
   "source": [
    "X_train_encoded = preprocessor.fit_transform(X_train)\n",
    "print(X_train_encoded)\n",
    "\n",
    "X_test_encoded = preprocessor.transform(X_test)  #Just transform, not fit so they have the same number of features\n",
    "print(X_test_encoded)"
   ]
  },
  {
   "cell_type": "code",
   "execution_count": 33,
   "metadata": {},
   "outputs": [
    {
     "name": "stdout",
     "output_type": "stream",
     "text": [
      "X_train_encoded shape: (7027, 664)\n",
      "X_test_encoded shape: (1757, 664)\n"
     ]
    }
   ],
   "source": [
    "print(f\"X_train_encoded shape: {X_train_encoded.shape}\")\n",
    "print(f\"X_test_encoded shape: {X_test_encoded.shape}\")\n"
   ]
  },
  {
   "cell_type": "markdown",
   "metadata": {},
   "source": [
    "# Opaque Models"
   ]
  },
  {
   "cell_type": "markdown",
   "metadata": {},
   "source": [
    "## Random Forest"
   ]
  },
  {
   "cell_type": "code",
   "execution_count": 34,
   "metadata": {},
   "outputs": [
    {
     "data": {
      "text/html": [
       "<style>#sk-container-id-2 {color: black;}#sk-container-id-2 pre{padding: 0;}#sk-container-id-2 div.sk-toggleable {background-color: white;}#sk-container-id-2 label.sk-toggleable__label {cursor: pointer;display: block;width: 100%;margin-bottom: 0;padding: 0.3em;box-sizing: border-box;text-align: center;}#sk-container-id-2 label.sk-toggleable__label-arrow:before {content: \"▸\";float: left;margin-right: 0.25em;color: #696969;}#sk-container-id-2 label.sk-toggleable__label-arrow:hover:before {color: black;}#sk-container-id-2 div.sk-estimator:hover label.sk-toggleable__label-arrow:before {color: black;}#sk-container-id-2 div.sk-toggleable__content {max-height: 0;max-width: 0;overflow: hidden;text-align: left;background-color: #f0f8ff;}#sk-container-id-2 div.sk-toggleable__content pre {margin: 0.2em;color: black;border-radius: 0.25em;background-color: #f0f8ff;}#sk-container-id-2 input.sk-toggleable__control:checked~div.sk-toggleable__content {max-height: 200px;max-width: 100%;overflow: auto;}#sk-container-id-2 input.sk-toggleable__control:checked~label.sk-toggleable__label-arrow:before {content: \"▾\";}#sk-container-id-2 div.sk-estimator input.sk-toggleable__control:checked~label.sk-toggleable__label {background-color: #d4ebff;}#sk-container-id-2 div.sk-label input.sk-toggleable__control:checked~label.sk-toggleable__label {background-color: #d4ebff;}#sk-container-id-2 input.sk-hidden--visually {border: 0;clip: rect(1px 1px 1px 1px);clip: rect(1px, 1px, 1px, 1px);height: 1px;margin: -1px;overflow: hidden;padding: 0;position: absolute;width: 1px;}#sk-container-id-2 div.sk-estimator {font-family: monospace;background-color: #f0f8ff;border: 1px dotted black;border-radius: 0.25em;box-sizing: border-box;margin-bottom: 0.5em;}#sk-container-id-2 div.sk-estimator:hover {background-color: #d4ebff;}#sk-container-id-2 div.sk-parallel-item::after {content: \"\";width: 100%;border-bottom: 1px solid gray;flex-grow: 1;}#sk-container-id-2 div.sk-label:hover label.sk-toggleable__label {background-color: #d4ebff;}#sk-container-id-2 div.sk-serial::before {content: \"\";position: absolute;border-left: 1px solid gray;box-sizing: border-box;top: 0;bottom: 0;left: 50%;z-index: 0;}#sk-container-id-2 div.sk-serial {display: flex;flex-direction: column;align-items: center;background-color: white;padding-right: 0.2em;padding-left: 0.2em;position: relative;}#sk-container-id-2 div.sk-item {position: relative;z-index: 1;}#sk-container-id-2 div.sk-parallel {display: flex;align-items: stretch;justify-content: center;background-color: white;position: relative;}#sk-container-id-2 div.sk-item::before, #sk-container-id-2 div.sk-parallel-item::before {content: \"\";position: absolute;border-left: 1px solid gray;box-sizing: border-box;top: 0;bottom: 0;left: 50%;z-index: -1;}#sk-container-id-2 div.sk-parallel-item {display: flex;flex-direction: column;z-index: 1;position: relative;background-color: white;}#sk-container-id-2 div.sk-parallel-item:first-child::after {align-self: flex-end;width: 50%;}#sk-container-id-2 div.sk-parallel-item:last-child::after {align-self: flex-start;width: 50%;}#sk-container-id-2 div.sk-parallel-item:only-child::after {width: 0;}#sk-container-id-2 div.sk-dashed-wrapped {border: 1px dashed gray;margin: 0 0.4em 0.5em 0.4em;box-sizing: border-box;padding-bottom: 0.4em;background-color: white;}#sk-container-id-2 div.sk-label label {font-family: monospace;font-weight: bold;display: inline-block;line-height: 1.2em;}#sk-container-id-2 div.sk-label-container {text-align: center;}#sk-container-id-2 div.sk-container {/* jupyter's `normalize.less` sets `[hidden] { display: none; }` but bootstrap.min.css set `[hidden] { display: none !important; }` so we also need the `!important` here to be able to override the default hidden behavior on the sphinx rendered scikit-learn.org. See: https://github.com/scikit-learn/scikit-learn/issues/21755 */display: inline-block !important;position: relative;}#sk-container-id-2 div.sk-text-repr-fallback {display: none;}</style><div id=\"sk-container-id-2\" class=\"sk-top-container\"><div class=\"sk-text-repr-fallback\"><pre>RandomForestClassifier(random_state=0)</pre><b>In a Jupyter environment, please rerun this cell to show the HTML representation or trust the notebook. <br />On GitHub, the HTML representation is unable to render, please try loading this page with nbviewer.org.</b></div><div class=\"sk-container\" hidden><div class=\"sk-item\"><div class=\"sk-estimator sk-toggleable\"><input class=\"sk-toggleable__control sk-hidden--visually\" id=\"sk-estimator-id-2\" type=\"checkbox\" checked><label for=\"sk-estimator-id-2\" class=\"sk-toggleable__label sk-toggleable__label-arrow\">RandomForestClassifier</label><div class=\"sk-toggleable__content\"><pre>RandomForestClassifier(random_state=0)</pre></div></div></div></div></div>"
      ],
      "text/plain": [
       "RandomForestClassifier(random_state=0)"
      ]
     },
     "execution_count": 34,
     "metadata": {},
     "output_type": "execute_result"
    }
   ],
   "source": [
    "rf_model = RandomForestClassifier(n_estimators=100, random_state=seed)\n",
    "\n",
    "rf_model.fit(X_train_encoded, Y_train_encoded)"
   ]
  },
  {
   "cell_type": "code",
   "execution_count": 35,
   "metadata": {},
   "outputs": [],
   "source": [
    "Y_pred = rf_model.predict(X_test_encoded)"
   ]
  },
  {
   "cell_type": "code",
   "execution_count": 36,
   "metadata": {},
   "outputs": [
    {
     "name": "stdout",
     "output_type": "stream",
     "text": [
      "Accuracy: 0.6887\n"
     ]
    }
   ],
   "source": [
    "accuracy = accuracy_score(Y_test_encoded, Y_pred)\n",
    "print(f'Accuracy: {accuracy:.4f}')"
   ]
  },
  {
   "cell_type": "code",
   "execution_count": 37,
   "metadata": {},
   "outputs": [
    {
     "name": "stdout",
     "output_type": "stream",
     "text": [
      "              precision    recall  f1-score   support\n",
      "\n",
      "         bad       0.90      0.78      0.84       450\n",
      "        good       0.55      0.64      0.59       430\n",
      "       great       0.74      0.67      0.71       429\n",
      "    mediocre       0.61      0.66      0.63       448\n",
      "\n",
      "    accuracy                           0.69      1757\n",
      "   macro avg       0.70      0.69      0.69      1757\n",
      "weighted avg       0.70      0.69      0.69      1757\n",
      "\n"
     ]
    }
   ],
   "source": [
    "print(classification_report(Y_test_encoded, Y_pred, target_names=label_encoder.classes_))"
   ]
  },
  {
   "cell_type": "code",
   "execution_count": 38,
   "metadata": {},
   "outputs": [
    {
     "data": {
      "image/png": "[encoded data removed]",
      "text/plain": [
       "<Figure size 640x480 with 2 Axes>"
      ]
     },
     "metadata": {},
     "output_type": "display_data"
    }
   ],
   "source": [
    "cm = confusion_matrix(Y_test_encoded, Y_pred)\n",
    "disp = ConfusionMatrixDisplay(confusion_matrix=cm, display_labels=label_encoder.classes_)\n",
    "disp.plot(cmap=plt.cm.Blues)\n",
    "plt.show()"
   ]
  },
  {
   "cell_type": "markdown",
   "metadata": {},
   "source": [
    "#### Wrapper to tune parameters - GridSearch"
   ]
  },
  {
   "cell_type": "code",
   "execution_count": 39,
   "metadata": {},
   "outputs": [],
   "source": [
    "param_grid = {\n",
    "    'n_estimators': [50, 100, 200, 500],            #Number of trees    \n",
    "    'max_features': ['auto', 'sqrt', 'log2'],          \n",
    "    'max_depth': [10, 20, 50, None],                   \n",
    "    'min_samples_split': [2, 5, 10],                    \n",
    "    'min_samples_leaf': [1, 2, 4],                     \n",
    "    'bootstrap': [True, False]                         \n",
    "}"
   ]
  },
  {
   "cell_type": "code",
   "execution_count": 40,
   "metadata": {},
   "outputs": [],
   "source": [
    "grid_search = GridSearchCV(\n",
    "    estimator=rf_model, \n",
    "    param_grid=param_grid, \n",
    "    scoring='accuracy', \n",
    "    cv=5, \n",
    "    verbose=2, \n",
    "    n_jobs=-1\n",
    ")"
   ]
  },
  {
   "cell_type": "code",
   "execution_count": 41,
   "metadata": {},
   "outputs": [],
   "source": [
    "#grid_search.fit(X_train_encoded, Y_train_encoded)\n",
    "\n",
    "#print(\"Best parameters:\", grid_search.best_params_)\n",
    "#~85 min\n",
    "#Fitting 5 folds for each of 864 candidates, totalling 4320 fits\n",
    "#ythonSoftwareFoundation.Python.3.10_qbz5n2kfra8p0\\LocalCache\\local-packages\\Python310\\site-packages\\sklearn\\model_selection\\_validation.py:425: FitFailedWarning: \n",
    "\n",
    "#Best parameters found: {'bootstrap': False, 'max_depth': 50, 'max_features': 'sqrt', 'min_samples_leaf': 1, 'min_samples_split': 10, 'n_estimators': 500}"
   ]
  },
  {
   "cell_type": "code",
   "execution_count": 43,
   "metadata": {},
   "outputs": [],
   "source": [
    "\n",
    "best_params = {\n",
    "    'bootstrap': False,\n",
    "    'max_depth': 50,\n",
    "    'max_features': 'sqrt',\n",
    "    'min_samples_leaf': 1,\n",
    "    'min_samples_split': 10,\n",
    "    'n_estimators': 500\n",
    "}\n",
    "\n",
    "best_rf_model = RandomForestClassifier(**best_params, random_state=seed)\n",
    "\n",
    "best_rf_model.fit(X_train_encoded, Y_train_encoded)\n",
    "Y_pred = best_rf_model.predict(X_test_encoded)"
   ]
  },
  {
   "cell_type": "code",
   "execution_count": 44,
   "metadata": {},
   "outputs": [
    {
     "name": "stdout",
     "output_type": "stream",
     "text": [
      "Accuracy: 0.6932\n"
     ]
    }
   ],
   "source": [
    "accuracy = accuracy_score(Y_test_encoded, Y_pred)\n",
    "print(f'Accuracy: {accuracy:.4f}')"
   ]
  },
  {
   "cell_type": "code",
   "execution_count": 45,
   "metadata": {},
   "outputs": [
    {
     "name": "stdout",
     "output_type": "stream",
     "text": [
      "              precision    recall  f1-score   support\n",
      "\n",
      "         bad       0.94      0.79      0.86       450\n",
      "        good       0.55      0.61      0.58       430\n",
      "       great       0.74      0.69      0.71       429\n",
      "    mediocre       0.61      0.69      0.65       448\n",
      "\n",
      "    accuracy                           0.69      1757\n",
      "   macro avg       0.71      0.69      0.70      1757\n",
      "weighted avg       0.71      0.69      0.70      1757\n",
      "\n"
     ]
    }
   ],
   "source": [
    "print(classification_report(Y_test_encoded, Y_pred, target_names=label_encoder.classes_))"
   ]
  },
  {
   "cell_type": "code",
   "execution_count": 46,
   "metadata": {},
   "outputs": [
    {
     "data": {
      "image/png": "[encoded data removed]",
      "text/plain": [
       "<Figure size 640x480 with 2 Axes>"
      ]
     },
     "metadata": {},
     "output_type": "display_data"
    }
   ],
   "source": [
    "cm = confusion_matrix(Y_test_encoded, Y_pred)\n",
    "disp = ConfusionMatrixDisplay(confusion_matrix=cm, display_labels=label_encoder.classes_)\n",
    "disp.plot()\n",
    "plt.show()"
   ]
  },
  {
   "cell_type": "markdown",
   "metadata": {},
   "source": [
    "## Feature Importances"
   ]
  },
  {
   "cell_type": "code",
   "execution_count": 47,
   "metadata": {},
   "outputs": [],
   "source": [
    "importances = rf_model.feature_importances_"
   ]
  },
  {
   "cell_type": "code",
   "execution_count": 49,
   "metadata": {},
   "outputs": [
    {
     "name": "stdout",
     "output_type": "stream",
     "text": [
      "<class 'scipy.sparse._csr.csr_matrix'>\n"
     ]
    }
   ],
   "source": [
    "print(type(X_train_encoded))"
   ]
  },
  {
   "cell_type": "code",
   "execution_count": 55,
   "metadata": {},
   "outputs": [
    {
     "name": "stdout",
     "output_type": "stream",
     "text": [
      "         Feature  Importance\n",
      "4      feature_4    0.118722\n",
      "2      feature_2    0.051281\n",
      "5      feature_5    0.044542\n",
      "3      feature_3    0.043927\n",
      "1      feature_1    0.038416\n",
      "..           ...         ...\n",
      "17    feature_17    0.000000\n",
      "32    feature_32    0.000000\n",
      "8      feature_8    0.000000\n",
      "395  feature_395    0.000000\n",
      "7      feature_7    0.000000\n",
      "\n",
      "[664 rows x 2 columns]\n"
     ]
    },
    {
     "data": {
      "image/png": "[encoded data removed]",
      "text/plain": [
       "<Figure size 1000x600 with 1 Axes>"
      ]
     },
     "metadata": {},
     "output_type": "display_data"
    }
   ],
   "source": [
    "from sklearn.feature_extraction.text import CountVectorizer  \n",
    "\n",
    "\n",
    "X_train_df = pd.DataFrame(X_train_encoded.toarray(), columns=[f'feature_{i}' for i in range(X_train_encoded.shape[1])])\n",
    "\n",
    "\n",
    "feature_names = X_train_df.columns\n",
    "importance_df = pd.DataFrame({'Feature': feature_names, 'Importance': importances})\n",
    "\n",
    "\n",
    "importance_df = importance_df.sort_values(by='Importance', ascending=False)\n",
    "\n",
    "\n",
    "print(importance_df)\n",
    "plt.figure(figsize=(10, 6))\n",
    "plt.barh(importance_df['Feature'], importance_df['Importance'], color='skyblue')\n",
    "plt.xlabel('Importance')\n",
    "plt.title('Feature Importances from Random Forest')\n",
    "plt.gca().invert_yaxis()\n",
    "plt.show()\n"
   ]
  },
  {
   "cell_type": "code",
   "execution_count": 56,
   "metadata": {},
   "outputs": [
    {
     "ename": "AttributeError",
     "evalue": "'csr_matrix' object has no attribute 'columns'",
     "output_type": "error",
     "traceback": [
      "\u001b[1;31m---------------------------------------------------------------------------\u001b[0m",
      "\u001b[1;31mAttributeError\u001b[0m                            Traceback (most recent call last)",
      "Cell \u001b[1;32mIn[56], line 6\u001b[0m\n\u001b[0;32m      2\u001b[0m importances \u001b[38;5;241m=\u001b[39m best_rf_model\u001b[38;5;241m.\u001b[39mfeature_importances_\n\u001b[0;32m      4\u001b[0m \u001b[38;5;66;03m# Create a DataFrame to hold the feature names and their importances\u001b[39;00m\n\u001b[0;32m      5\u001b[0m feature_importances \u001b[38;5;241m=\u001b[39m pd\u001b[38;5;241m.\u001b[39mDataFrame({\n\u001b[1;32m----> 6\u001b[0m     \u001b[38;5;124m'\u001b[39m\u001b[38;5;124mfeature\u001b[39m\u001b[38;5;124m'\u001b[39m: \u001b[43mX_train_encoded\u001b[49m\u001b[38;5;241;43m.\u001b[39;49m\u001b[43mcolumns\u001b[49m,\n\u001b[0;32m      7\u001b[0m     \u001b[38;5;124m'\u001b[39m\u001b[38;5;124mimportance\u001b[39m\u001b[38;5;124m'\u001b[39m: importances\n\u001b[0;32m      8\u001b[0m })\u001b[38;5;241m.\u001b[39msort_values(by\u001b[38;5;241m=\u001b[39m\u001b[38;5;124m'\u001b[39m\u001b[38;5;124mimportance\u001b[39m\u001b[38;5;124m'\u001b[39m, ascending\u001b[38;5;241m=\u001b[39m\u001b[38;5;28;01mFalse\u001b[39;00m)\n",
      "\u001b[1;31mAttributeError\u001b[0m: 'csr_matrix' object has no attribute 'columns'"
     ]
    }
   ],
   "source": [
    "# Geting the feature importances\n",
    "importances = best_rf_model.feature_importances_\n",
    "\n",
    "\n",
    "feature_importances = pd.DataFrame({\n",
    "    'feature': X_train_encoded.columns,\n",
    "    'importance': importances\n",
    "}).sort_values(by='importance', ascending=False)\n"
   ]
  },
  {
   "cell_type": "code",
   "execution_count": null,
   "metadata": {},
   "outputs": [],
   "source": [
    "\n",
    "original_features = {}  \n",
    "\n",
    "\n",
    "for feature in feature_importances['feature']:\n",
    "   \n",
    "    original_name = feature.split('_')[0]  \n",
    "    \n",
    "    if original_name in original_features:\n",
    "        original_features[original_name] += feature_importances.loc[feature_importances['feature'] == feature, 'importance'].values[0]\n",
    "    else:\n",
    "        original_features[original_name] = feature_importances.loc[feature_importances['feature'] == feature, 'importance'].values[0]\n",
    "\n",
    "\n",
    "reversed_importances = pd.DataFrame(original_features.items(), columns=['feature', 'importance']).sort_values(by='importance', ascending=False)\n"
   ]
  },
  {
   "cell_type": "code",
   "execution_count": null,
   "metadata": {},
   "outputs": [],
   "source": [
    "import matplotlib.pyplot as plt\n",
    "\n",
    "plt.figure(figsize=(12, 6))\n",
    "plt.barh(reversed_importances['feature'], reversed_importances['importance'])\n",
    "plt.xlabel('Importance')\n",
    "plt.title('Feature Importance')\n",
    "plt.show()\n"
   ]
  }
 ],
 "metadata": {
  "kernelspec": {
   "display_name": "Python 3",
   "language": "python",
   "name": "python3"
  },
  "language_info": {
   "codemirror_mode": {
    "name": "ipython",
    "version": 3
   },
   "file_extension": ".py",
   "mimetype": "text/x-python",
   "name": "python",
   "nbconvert_exporter": "python",
   "pygments_lexer": "ipython3",
   "version": "3.10.11"
  }
 },
 "nbformat": 4,
 "nbformat_minor": 2
}
