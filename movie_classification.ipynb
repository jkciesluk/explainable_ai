{
 "cells": [
  {
   "cell_type": "code",
   "execution_count": 66,
   "metadata": {},
   "outputs": [],
   "source": [
    "import pandas as pd\n",
    "import numpy as np\n",
    "import ast\n",
    "import matplotlib.pyplot as plt\n",
    "import seaborn as sns\n",
    "from sklearn.model_selection import train_test_split, GridSearchCV, RandomizedSearchCV\n",
    "\n",
    "from scipy.stats import randint, uniform\n",
    "from sklearn.neighbors import KNeighborsClassifier\n",
    "from sklearn.metrics import accuracy_score, confusion_matrix, ConfusionMatrixDisplay, log_loss\n",
    "from tqdm.auto import tqdm\n",
    "from sklearn.naive_bayes import GaussianNB\n",
    "from sklearn.tree import DecisionTreeClassifier\n",
    "from sklearn.ensemble import RandomForestClassifier\n",
    "from sklearn.linear_model import LogisticRegression\n",
    "from sklearn.ensemble import AdaBoostClassifier\n",
    "from sklearn.ensemble import BaggingClassifier\n",
    "from sklearn.calibration import LabelEncoder\n",
    "from sklearn.discriminant_analysis import StandardScaler\n",
    "from sklearn.pipeline import make_pipeline\n",
    "from sklearn import svm\n",
    "from sklearn.model_selection import cross_val_score\n",
    "from sklearn.feature_extraction.text import TfidfVectorizer, CountVectorizer\n",
    "from sklearn.metrics import log_loss\n",
    "from sklearn.preprocessing import label_binarize\n",
    "from sklearn.compose import ColumnTransformer\n",
    "from sklearn.impute import SimpleImputer\n",
    "from sklearn.pipeline import Pipeline\n",
    "from sklearn.preprocessing import OneHotEncoder"
   ]
  },
  {
   "cell_type": "code",
   "execution_count": 18,
   "metadata": {},
   "outputs": [],
   "source": [
    "# Read cleaned data from csv\n",
    "df = pd.read_csv('input/movie_data_tmbd_cleaned.csv', sep='|')"
   ]
  },
  {
   "cell_type": "code",
   "execution_count": 6,
   "metadata": {},
   "outputs": [
    {
     "name": "stdout",
     "output_type": "stream",
     "text": [
      "<class 'pandas.core.frame.DataFrame'>\n",
      "RangeIndex: 17426 entries, 0 to 17425\n",
      "Data columns (total 27 columns):\n",
      " #   Column                 Non-Null Count  Dtype  \n",
      "---  ------                 --------------  -----  \n",
      " 0   adult                  17426 non-null  bool   \n",
      " 1   backdrop_path          16267 non-null  object \n",
      " 2   belongs_to_collection  3369 non-null   object \n",
      " 3   budget                 17426 non-null  int64  \n",
      " 4   genres                 17426 non-null  object \n",
      " 5   homepage               4959 non-null   object \n",
      " 6   id                     17426 non-null  float64\n",
      " 7   imdb_id                17420 non-null  object \n",
      " 8   original_language      17426 non-null  object \n",
      " 9   original_title         17426 non-null  object \n",
      " 10  overview               17365 non-null  object \n",
      " 11  popularity             17426 non-null  float64\n",
      " 12  poster_path            17426 non-null  object \n",
      " 13  production_companies   17426 non-null  object \n",
      " 14  production_countries   17426 non-null  object \n",
      " 15  release_date           17425 non-null  object \n",
      " 16  revenue                17426 non-null  int64  \n",
      " 17  runtime                17426 non-null  float64\n",
      " 18  spoken_languages       17426 non-null  object \n",
      " 19  status                 17426 non-null  object \n",
      " 20  tagline                11746 non-null  object \n",
      " 21  title                  17426 non-null  object \n",
      " 22  video                  17426 non-null  bool   \n",
      " 23  vote_average           17426 non-null  float64\n",
      " 24  vote_count             17426 non-null  float64\n",
      " 25  cast                   17426 non-null  object \n",
      " 26  directors              17426 non-null  object \n",
      "dtypes: bool(2), float64(5), int64(2), object(18)\n",
      "memory usage: 3.4+ MB\n",
      "None\n",
      "   adult                     backdrop_path belongs_to_collection  budget  \\\n",
      "0  False   /7hbpOpGDOYZ4G8ddLuzNmzxZP6.jpg                   NaN       0   \n",
      "1  False  /28a0wvZb8kyjVBd6BcPEnrHbrhm.jpg                   NaN       0   \n",
      "2  False  /lJPzIsddMSc7aGqv6T25uwG7fzm.jpg                   NaN       0   \n",
      "3  False  /lFTIB7obHpTYTMOruePsxigthQN.jpg                   NaN       0   \n",
      "4  False  /jHuEVaTKVJPQtMeSt4uzVFbTsH3.jpg                   NaN       0   \n",
      "\n",
      "                                              genres homepage       id  \\\n",
      "0  [{'id': 18, 'name': 'Drama'}, {'id': 37, 'name...      NaN  43002.0   \n",
      "1                [{'id': 99, 'name': 'Documentary'}]      NaN  43003.0   \n",
      "2                    [{'id': 36, 'name': 'History'}]      NaN  43020.0   \n",
      "3                      [{'id': 18, 'name': 'Drama'}]      NaN  43028.0   \n",
      "4                    [{'id': 37, 'name': 'Western'}]      NaN  43040.0   \n",
      "\n",
      "     imdb_id original_language        original_title  ... runtime  \\\n",
      "0  tt0056195                en  Lonely Are the Brave  ...   107.0   \n",
      "1  tt0072962                fr  Vérités et Mensonges  ...    89.0   \n",
      "2  tt0054756                it    Il colosso di Rodi  ...   127.0   \n",
      "3  tt0055597                en                Victim  ...    90.0   \n",
      "4  tt0054292                en     Sergeant Rutledge  ...   111.0   \n",
      "\n",
      "                                    spoken_languages    status  \\\n",
      "0  [{'iso_639_1': 'es', 'name': 'Español'}, {'iso...  Released   \n",
      "1  [{'iso_639_1': 'en', 'name': 'English'}, {'iso...  Released   \n",
      "2          [{'iso_639_1': 'it', 'name': 'Italiano'}]  Released   \n",
      "3           [{'iso_639_1': 'en', 'name': 'English'}]  Released   \n",
      "4           [{'iso_639_1': 'en', 'name': 'English'}]  Released   \n",
      "\n",
      "                                             tagline                   title  \\\n",
      "0               Life can never cage a man like this!    Lonely Are the Brave   \n",
      "1                                                NaN              F for Fake   \n",
      "2  A monster statue of bronze and stone...A fabul...  The Colossus of Rhodes   \n",
      "3  A Daring Picture About the World's Most Un-tal...                  Victim   \n",
      "4  Forget all the suspense you have ever seen! Fo...       Sergeant Rutledge   \n",
      "\n",
      "   video  vote_average  vote_count  \\\n",
      "0  False           7.5        70.0   \n",
      "1  False           7.5       178.0   \n",
      "2  False           6.1        94.0   \n",
      "3  False           7.3        57.0   \n",
      "4  False           7.2        59.0   \n",
      "\n",
      "                                                cast  \\\n",
      "0  [{'cast_id': 1, 'character': 'John W. \"Jack\" B...   \n",
      "1  [{'cast_id': 3, 'character': 'Himself', 'credi...   \n",
      "2  [{'cast_id': 3, 'character': 'Dario', 'credit_...   \n",
      "3  [{'cast_id': 4, 'character': 'Melville Farr', ...   \n",
      "4  [{'cast_id': 2, 'character': 'Lt. Tom Cantrell...   \n",
      "\n",
      "                                           directors  \n",
      "0  [{'credit_id': '52fe4626c3a36847f80ef733', 'de...  \n",
      "1  [{'credit_id': '52fe4626c3a36847f80ef75b', 'de...  \n",
      "2  [{'credit_id': '52fe4627c3a36847f80efb67', 'de...  \n",
      "3  [{'credit_id': '52fe4627c3a36847f80efcaf', 'de...  \n",
      "4  [{'credit_id': '52fe4628c3a36847f80f0053', 'de...  \n",
      "\n",
      "[5 rows x 27 columns]\n"
     ]
    }
   ],
   "source": [
    "# Print info about the data\n",
    "print(df.info())\n",
    "print(df.head())"
   ]
  },
  {
   "cell_type": "markdown",
   "metadata": {},
   "source": [
    "# Data preprocessing"
   ]
  },
  {
   "cell_type": "code",
   "execution_count": 19,
   "metadata": {},
   "outputs": [
    {
     "name": "stdout",
     "output_type": "stream",
     "text": [
      "14057\n",
      "5680\n",
      "61\n"
     ]
    }
   ],
   "source": [
    "# Find missing values in `belongs_to_collection`, `tagline`, `overview`\n",
    "print(df['belongs_to_collection'].isna().sum())\n",
    "print(df['tagline'].isna().sum())\n",
    "print(df['overview'].isna().sum())\n"
   ]
  },
  {
   "cell_type": "code",
   "execution_count": 20,
   "metadata": {},
   "outputs": [],
   "source": [
    "# Fill missing values\n",
    "df['belongs_to_collection'] = df['belongs_to_collection'].fillna('None')\n",
    "df['tagline'] = df['tagline'].fillna('Unknown')\n",
    "df['overview'] = df['overview'].fillna('Unknown')\n"
   ]
  },
  {
   "cell_type": "code",
   "execution_count": 22,
   "metadata": {},
   "outputs": [],
   "source": [
    "# Drop rows with mising release date\n",
    "df = df.dropna(subset=['release_date'])\n",
    "\n",
    "# Convert 'release_date' to datetime and extract year, month, day\n",
    "df['release_date'] = pd.to_datetime(df['release_date'], errors='coerce')\n",
    "df['release_year'] = df['release_date'].dt.year\n",
    "df['release_month'] = df['release_date'].dt.month\n",
    "df['release_day'] = df['release_date'].dt.day\n"
   ]
  },
  {
   "cell_type": "code",
   "execution_count": 38,
   "metadata": {},
   "outputs": [],
   "source": [
    "# Handle boolean columns by converting them to integers\n",
    "df['adult'] = df['adult'].astype(int)\n",
    "df['video'] = df['video'].astype(int)"
   ]
  },
  {
   "cell_type": "code",
   "execution_count": 24,
   "metadata": {},
   "outputs": [],
   "source": [
    "# Drop unnecessary columns\n",
    "df = df.drop(['backdrop_path', 'poster_path', 'imdb_id', 'original_title', 'title', 'id', 'homepage', 'release_date'], axis=1)"
   ]
  },
  {
   "cell_type": "code",
   "execution_count": 36,
   "metadata": {},
   "outputs": [],
   "source": [
    "# Define a helper function to extract names from nested dictionaries in a column\n",
    "def extract_names(column):\n",
    "    return column.apply(lambda x: ','.join([d.get('name') for d in ast.literal_eval(x)] if pd.notnull(x) and x != '[]' else []))\n",
    "\n",
    "# Extract relevant data from nested dictionaries\n",
    "df['genres'] = extract_names(df['genres'])\n",
    "df['production_companies'] = extract_names(df['production_companies'])\n",
    "df['production_countries'] = extract_names(df['production_countries'])\n",
    "df['cast'] = extract_names(df['cast'])\n",
    "df['directors'] = extract_names(df['directors'])\n",
    "df['spoken_languages'] = extract_names(df['spoken_languages'])"
   ]
  },
  {
   "cell_type": "code",
   "execution_count": null,
   "metadata": {},
   "outputs": [],
   "source": [
    "print(df.head())"
   ]
  },
  {
   "cell_type": "markdown",
   "metadata": {},
   "source": [
    "# Scoring prediction"
   ]
  },
  {
   "cell_type": "code",
   "execution_count": 56,
   "metadata": {},
   "outputs": [
    {
     "name": "stdout",
     "output_type": "stream",
     "text": [
      "   adult belongs_to_collection  budget         genres original_language  \\\n",
      "0      0                  None       0  Drama,Western                en   \n",
      "1      0                  None       0    Documentary                fr   \n",
      "2      0                  None       0        History                it   \n",
      "3      0                  None       0          Drama                en   \n",
      "4      0                  None       0        Western                en   \n",
      "\n",
      "                                            overview  popularity  \\\n",
      "0  A fiercely independent cowboy arranges to have...       8.262   \n",
      "1  Documents the lives of infamous fakers Elmyr d...       7.830   \n",
      "2  While on holiday in Rhodes, Athenian war hero ...       9.668   \n",
      "3  In early 1960s London, barrister Melville Farr...       5.896   \n",
      "4  Respected black cavalry Sergeant Brax Rutledge...       6.003   \n",
      "\n",
      "                                production_companies  \\\n",
      "0                                   Joel Productions   \n",
      "1                                   SACI,Janus Films   \n",
      "2  Produzioni Atlas Consorziate,Procusa,Comptoir ...   \n",
      "3                                                      \n",
      "4        John Ford Productions,Warner Bros. Pictures   \n",
      "\n",
      "       production_countries  revenue  ...  \\\n",
      "0  United States of America        0  ...   \n",
      "1       Germany,France,Iran        0  ...   \n",
      "2        Spain,France,Italy        0  ...   \n",
      "3            United Kingdom        0  ...   \n",
      "4  United States of America        0  ...   \n",
      "\n",
      "                                             tagline video vote_average  \\\n",
      "0               Life can never cage a man like this!     0          7.5   \n",
      "1                                            Unknown     0          7.5   \n",
      "2  A monster statue of bronze and stone...A fabul...     0          6.0   \n",
      "3  A Daring Picture About the World's Most Un-tal...     0          7.5   \n",
      "4  Forget all the suspense you have ever seen! Fo...     0          7.0   \n",
      "\n",
      "  vote_count                                               cast  \\\n",
      "0       70.0  Kirk Douglas,Gena Rowlands,Walter Matthau,Carr...   \n",
      "1      178.0  Orson Welles,Elmyr de Hory,Clifford Irving,Oja...   \n",
      "2       94.0  Rory Calhoun,Lea Massari,Georges Marchal,Conra...   \n",
      "3       57.0  Dirk Bogarde,Sylvia Syms,Dennis Price,Anthony ...   \n",
      "4       59.0  Jeffrey Hunter,Woody Strode,Constance Towers,B...   \n",
      "\n",
      "       directors  release_year release_month release_day  category  \n",
      "0   David Miller          1962             5          24     great  \n",
      "1   Orson Welles          1975             3          12     great  \n",
      "2   Sergio Leone          1961             6          15  mediocre  \n",
      "3  Basil Dearden          1961             8           1     great  \n",
      "4      John Ford          1960             5          18      good  \n",
      "\n",
      "[5 rows x 23 columns]\n"
     ]
    }
   ],
   "source": [
    "print(df.head())"
   ]
  },
  {
   "cell_type": "code",
   "execution_count": 41,
   "metadata": {},
   "outputs": [
    {
     "name": "stdout",
     "output_type": "stream",
     "text": [
      "Axes(0.125,0.11;0.775x0.77)\n"
     ]
    },
    {
     "data": {
      "image/png": "[encoded data removed]",
      "text/plain": [
       "<Figure size 640x480 with 1 Axes>"
      ]
     },
     "metadata": {},
     "output_type": "display_data"
    }
   ],
   "source": [
    "# Map 'vote_average' to nearest 0.5\n",
    "df['vote_average'] = ((df['vote_average'] * 2).round() / 2)\n",
    "print(df['vote_average'].value_counts().sort_index().plot(kind='bar'))"
   ]
  },
  {
   "cell_type": "code",
   "execution_count": 42,
   "metadata": {},
   "outputs": [
    {
     "name": "stdout",
     "output_type": "stream",
     "text": [
      "category\n",
      "good        7064\n",
      "mediocre    5407\n",
      "great       3160\n",
      "bad         1794\n",
      "Name: count, dtype: int64\n"
     ]
    }
   ],
   "source": [
    "#Group vote_average into categories:\n",
    "# 0.0-5.0 -> bad\n",
    "# 5.5-6.0 -> mediocre\n",
    "# 6.5-7.0 -> good\n",
    "# 7.5-9.9 -> great\n",
    "\n",
    "# Define the bins and labels\n",
    "bins = [0.0, 5.0, 6.0, 7.0, 9.9]\n",
    "labels = ['bad', 'mediocre', 'good', 'great']\n",
    "\n",
    "# Group vote_average into categories\n",
    "df['category'] = pd.cut(df['vote_average'], bins=bins, labels=labels, right=True)\n",
    "\n",
    "# Display the DataFrame\n",
    "print(df['category'].value_counts())"
   ]
  },
  {
   "cell_type": "code",
   "execution_count": 43,
   "metadata": {},
   "outputs": [
    {
     "name": "stdout",
     "output_type": "stream",
     "text": [
      "<class 'pandas.core.frame.DataFrame'>\n",
      "Index: 17425 entries, 0 to 17425\n",
      "Data columns (total 23 columns):\n",
      " #   Column                 Non-Null Count  Dtype   \n",
      "---  ------                 --------------  -----   \n",
      " 0   adult                  17425 non-null  int64   \n",
      " 1   belongs_to_collection  17425 non-null  object  \n",
      " 2   budget                 17425 non-null  int64   \n",
      " 3   genres                 17425 non-null  object  \n",
      " 4   original_language      17425 non-null  object  \n",
      " 5   overview               17425 non-null  object  \n",
      " 6   popularity             17425 non-null  float64 \n",
      " 7   production_companies   17425 non-null  object  \n",
      " 8   production_countries   17425 non-null  object  \n",
      " 9   revenue                17425 non-null  int64   \n",
      " 10  runtime                17425 non-null  float64 \n",
      " 11  spoken_languages       17425 non-null  object  \n",
      " 12  status                 17425 non-null  object  \n",
      " 13  tagline                17425 non-null  object  \n",
      " 14  video                  17425 non-null  int64   \n",
      " 15  vote_average           17425 non-null  float64 \n",
      " 16  vote_count             17425 non-null  float64 \n",
      " 17  cast                   17425 non-null  object  \n",
      " 18  directors              17425 non-null  object  \n",
      " 19  release_year           17425 non-null  int32   \n",
      " 20  release_month          17425 non-null  int32   \n",
      " 21  release_day            17425 non-null  int32   \n",
      " 22  category               17425 non-null  category\n",
      "dtypes: category(1), float64(4), int32(3), int64(4), object(11)\n",
      "memory usage: 2.9+ MB\n",
      "None\n",
      "Duplicates: 0\n"
     ]
    }
   ],
   "source": [
    "print(df.info())\n",
    "print(\"Duplicates: \" + str(df.duplicated().sum()))"
   ]
  },
  {
   "cell_type": "code",
   "execution_count": 57,
   "metadata": {},
   "outputs": [],
   "source": [
    "X = df.drop(columns=['vote_average', 'category'])\n",
    "# Drop text columns\n",
    "# X = X.drop(columns=['belongs_to_collection', 'tagline', 'overview'])\n",
    "Y = df['category']\n"
   ]
  },
  {
   "cell_type": "code",
   "execution_count": 67,
   "metadata": {},
   "outputs": [
    {
     "name": "stdout",
     "output_type": "stream",
     "text": [
      "Training set size:  13940\n",
      "Test set size:  3485\n"
     ]
    }
   ],
   "source": [
    "X_train, X_test, Y_train, Y_test = train_test_split(X, Y, test_size=0.2, random_state=42)\n",
    "\n",
    "# Encode target variable (y) using LabelEncoder\n",
    "label_encoder = LabelEncoder()\n",
    "Y_train_encoded = label_encoder.fit_transform(Y_train)\n",
    "Y_test_encoded = label_encoder.transform(Y_test)\n",
    "\n",
    "\n",
    "print(\"Training set size: \", len(X_train))\n",
    "print(\"Test set size: \", len(X_test))"
   ]
  },
  {
   "cell_type": "markdown",
   "metadata": {},
   "source": [
    "# Feature encoding"
   ]
  },
  {
   "cell_type": "code",
   "execution_count": 59,
   "metadata": {},
   "outputs": [
    {
     "name": "stdout",
     "output_type": "stream",
     "text": [
      "<class 'pandas.core.frame.DataFrame'>\n",
      "Index: 17425 entries, 0 to 17425\n",
      "Data columns (total 21 columns):\n",
      " #   Column                 Non-Null Count  Dtype  \n",
      "---  ------                 --------------  -----  \n",
      " 0   adult                  17425 non-null  int64  \n",
      " 1   belongs_to_collection  17425 non-null  object \n",
      " 2   budget                 17425 non-null  int64  \n",
      " 3   genres                 17425 non-null  object \n",
      " 4   original_language      17425 non-null  object \n",
      " 5   overview               17425 non-null  object \n",
      " 6   popularity             17425 non-null  float64\n",
      " 7   production_companies   17425 non-null  object \n",
      " 8   production_countries   17425 non-null  object \n",
      " 9   revenue                17425 non-null  int64  \n",
      " 10  runtime                17425 non-null  float64\n",
      " 11  spoken_languages       17425 non-null  object \n",
      " 12  status                 17425 non-null  object \n",
      " 13  tagline                17425 non-null  object \n",
      " 14  video                  17425 non-null  int64  \n",
      " 15  vote_count             17425 non-null  float64\n",
      " 16  cast                   17425 non-null  object \n",
      " 17  directors              17425 non-null  object \n",
      " 18  release_year           17425 non-null  int32  \n",
      " 19  release_month          17425 non-null  int32  \n",
      " 20  release_day            17425 non-null  int32  \n",
      "dtypes: float64(3), int32(3), int64(4), object(11)\n",
      "memory usage: 2.7+ MB\n",
      "None\n"
     ]
    }
   ],
   "source": [
    "print(X.info())"
   ]
  },
  {
   "cell_type": "code",
   "execution_count": 60,
   "metadata": {},
   "outputs": [
    {
     "name": "stdout",
     "output_type": "stream",
     "text": [
      "   adult belongs_to_collection  budget         genres original_language  \\\n",
      "0      0                  None       0  Drama,Western                en   \n",
      "1      0                  None       0    Documentary                fr   \n",
      "2      0                  None       0        History                it   \n",
      "3      0                  None       0          Drama                en   \n",
      "4      0                  None       0        Western                en   \n",
      "\n",
      "                                            overview  popularity  \\\n",
      "0  A fiercely independent cowboy arranges to have...       8.262   \n",
      "1  Documents the lives of infamous fakers Elmyr d...       7.830   \n",
      "2  While on holiday in Rhodes, Athenian war hero ...       9.668   \n",
      "3  In early 1960s London, barrister Melville Farr...       5.896   \n",
      "4  Respected black cavalry Sergeant Brax Rutledge...       6.003   \n",
      "\n",
      "                                production_companies  \\\n",
      "0                                   Joel Productions   \n",
      "1                                   SACI,Janus Films   \n",
      "2  Produzioni Atlas Consorziate,Procusa,Comptoir ...   \n",
      "3                                                      \n",
      "4        John Ford Productions,Warner Bros. Pictures   \n",
      "\n",
      "       production_countries  revenue  ...          spoken_languages    status  \\\n",
      "0  United States of America        0  ...           Español,English  Released   \n",
      "1       Germany,France,Iran        0  ...  English,Français,Español  Released   \n",
      "2        Spain,France,Italy        0  ...                  Italiano  Released   \n",
      "3            United Kingdom        0  ...                   English  Released   \n",
      "4  United States of America        0  ...                   English  Released   \n",
      "\n",
      "                                             tagline video  vote_count  \\\n",
      "0               Life can never cage a man like this!     0        70.0   \n",
      "1                                            Unknown     0       178.0   \n",
      "2  A monster statue of bronze and stone...A fabul...     0        94.0   \n",
      "3  A Daring Picture About the World's Most Un-tal...     0        57.0   \n",
      "4  Forget all the suspense you have ever seen! Fo...     0        59.0   \n",
      "\n",
      "                                                cast      directors  \\\n",
      "0  Kirk Douglas,Gena Rowlands,Walter Matthau,Carr...   David Miller   \n",
      "1  Orson Welles,Elmyr de Hory,Clifford Irving,Oja...   Orson Welles   \n",
      "2  Rory Calhoun,Lea Massari,Georges Marchal,Conra...   Sergio Leone   \n",
      "3  Dirk Bogarde,Sylvia Syms,Dennis Price,Anthony ...  Basil Dearden   \n",
      "4  Jeffrey Hunter,Woody Strode,Constance Towers,B...      John Ford   \n",
      "\n",
      "  release_year  release_month  release_day  \n",
      "0         1962              5           24  \n",
      "1         1975              3           12  \n",
      "2         1961              6           15  \n",
      "3         1961              8            1  \n",
      "4         1960              5           18  \n",
      "\n",
      "[5 rows x 21 columns]\n"
     ]
    }
   ],
   "source": [
    "print(X.head())"
   ]
  },
  {
   "cell_type": "code",
   "execution_count": 63,
   "metadata": {},
   "outputs": [],
   "source": [
    "# Define numerical, categorical, boolean, and text features\n",
    "from sklearn.pipeline import FunctionTransformer\n",
    "\n",
    "\n",
    "numerical_features = ['budget', 'revenue', 'popularity', 'runtime', 'vote_count', 'release_year', 'release_month', 'release_day']\n",
    "categorical_features = ['original_language', 'status']\n",
    "boolean_features = ['adult', 'video']\n",
    "text_features = ['overview', 'tagline']\n",
    "list_based_features = ['genres', 'production_companies', 'production_countries', 'cast', 'directors']\n",
    "\n",
    "# 1. Numerical transformer: Impute missing values and standardize\n",
    "numeric_transformer = Pipeline(steps=[\n",
    "    ('imputer', SimpleImputer(strategy='median')),\n",
    "    ('scaler', StandardScaler())\n",
    "])\n",
    "\n",
    "# 2. Categorical transformer: Impute missing values and one-hot encode\n",
    "categorical_transformer = Pipeline(steps=[\n",
    "    ('imputer', SimpleImputer(strategy='most_frequent')),\n",
    "    ('onehot', OneHotEncoder(handle_unknown='ignore'))\n",
    "])\n",
    "\n",
    "# 3. Boolean transformer: Ensure 0/1 values\n",
    "boolean_transformer = Pipeline(steps=[\n",
    "    ('imputer', SimpleImputer(strategy='most_frequent'))\n",
    "])\n",
    "\n",
    "# 4. Text transformer: Use TF-IDF for text columns\n",
    "text_transformer = Pipeline(steps=[\n",
    "    ('tfidf', TfidfVectorizer(stop_words='english', max_features=100))  # Adjust max_features as needed\n",
    "])\n",
    "\n",
    "# 5. List-based transformer: Convert list of items into count vectors (like multi-hot encoding)\n",
    "def list_to_str(column):\n",
    "    return column.apply(lambda x: ','.join(x) if isinstance(x, list) else '')\n",
    "\n",
    "list_transformer = Pipeline(steps=[\n",
    "    ('to_string', FunctionTransformer(list_to_str, validate=False)),\n",
    "    ('countvec', CountVectorizer(tokenizer=lambda x: x.split(','), max_features=100))  # Adjust max_features as needed\n",
    "])\n",
    "\n",
    "# Combine all transformers into a ColumnTransformer\n",
    "preprocessor = ColumnTransformer(\n",
    "    transformers=[\n",
    "        ('num', numeric_transformer, numerical_features),\n",
    "        ('cat', categorical_transformer, categorical_features),\n",
    "        ('bool', boolean_transformer, boolean_features),\n",
    "        ('overview', text_transformer, 'overview'),\n",
    "        ('tagline', text_transformer, 'tagline'),\n",
    "        ('genres', list_transformer, 'genres'),\n",
    "        ('production_companies', list_transformer, 'production_companies'),\n",
    "        ('production_countries', list_transformer, 'production_countries'),\n",
    "        ('cast', list_transformer, 'cast'),\n",
    "        ('directors', list_transformer, 'directors')\n",
    "    ]\n",
    ")\n",
    "\n"
   ]
  },
  {
   "cell_type": "markdown",
   "metadata": {},
   "source": [
    "# Opaque models"
   ]
  },
  {
   "cell_type": "markdown",
   "metadata": {},
   "source": [
    "## SVM"
   ]
  },
  {
   "cell_type": "code",
   "execution_count": 69,
   "metadata": {},
   "outputs": [
    {
     "name": "stderr",
     "output_type": "stream",
     "text": [
      "/usr/local/lib/python3.11/site-packages/sklearn/feature_extraction/text.py:525: UserWarning: The parameter 'token_pattern' will not be used since 'tokenizer' is not None'\n",
      "  warnings.warn(\n"
     ]
    },
    {
     "name": "stdout",
     "output_type": "stream",
     "text": [
      "Accuracy:  0.49440459110473456\n"
     ]
    }
   ],
   "source": [
    "clf = svm.SVC(gamma='auto')\n",
    "\n",
    "# Define your pipeline with preprocessor\n",
    "svm_pipeline = Pipeline(steps=[\n",
    "    ('preprocessor', preprocessor),\n",
    "    ('svc', clf)\n",
    "])\n",
    "\n",
    "svm_pipeline.fit(X_train, Y_train_encoded)\n",
    "Y_pred = svm_pipeline.predict(X_test)\n",
    "\n",
    "# Convert predicted labels back to original categories\n",
    "Y_pred_labels = label_encoder.inverse_transform(Y_pred)\n",
    "\n",
    "accuracy = accuracy_score(Y_test_encoded, Y_pred)\n",
    "print(\"Accuracy: \", accuracy)\n",
    "\n",
    "# Optionally: Check predicted labels\n",
    "print(\"Predicted labels:\", Y_pred_labels)"
   ]
  },
  {
   "cell_type": "code",
   "execution_count": 71,
   "metadata": {},
   "outputs": [
    {
     "name": "stdout",
     "output_type": "stream",
     "text": [
      "Predicted labels: ['good' 'good' 'good' ... 'mediocre' 'good' 'good']\n"
     ]
    }
   ],
   "source": [
    "# Optionally: Check predicted labels\n",
    "print(\"Predicted labels:\", Y_pred_labels)"
   ]
  },
  {
   "cell_type": "code",
   "execution_count": 76,
   "metadata": {},
   "outputs": [
    {
     "name": "stdout",
     "output_type": "stream",
     "text": [
      "category\n",
      "good        1398\n",
      "mediocre    1098\n",
      "great        642\n",
      "bad          348\n",
      "Name: count, dtype: int64\n"
     ]
    }
   ],
   "source": [
    "print(Y_test.value_counts())"
   ]
  },
  {
   "cell_type": "code",
   "execution_count": 73,
   "metadata": {},
   "outputs": [
    {
     "data": {
      "text/plain": [
       "<sklearn.metrics._plot.confusion_matrix.ConfusionMatrixDisplay at 0x1429c5490>"
      ]
     },
     "execution_count": 73,
     "metadata": {},
     "output_type": "execute_result"
    },
    {
     "data": {
      "image/png": "[encoded data removed]",
      "text/plain": [
       "<Figure size 640x480 with 2 Axes>"
      ]
     },
     "metadata": {},
     "output_type": "display_data"
    }
   ],
   "source": [
    "# Print confusion matrix for the model\n",
    "cm = confusion_matrix(Y_test_encoded, Y_pred)\n",
    "disp = ConfusionMatrixDisplay(confusion_matrix=cm, display_labels=label_encoder.classes_)\n",
    "disp.plot()"
   ]
  }
 ],
 "metadata": {
  "kernelspec": {
   "display_name": "Python 3",
   "language": "python",
   "name": "python3"
  },
  "language_info": {
   "codemirror_mode": {
    "name": "ipython",
    "version": 3
   },
   "file_extension": ".py",
   "mimetype": "text/x-python",
   "name": "python",
   "nbconvert_exporter": "python",
   "pygments_lexer": "ipython3",
   "version": "3.11.7"
  }
 },
 "nbformat": 4,
 "nbformat_minor": 2
}
