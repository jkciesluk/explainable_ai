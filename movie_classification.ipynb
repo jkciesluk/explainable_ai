{
 "cells": [
  {
   "cell_type": "code",
   "execution_count": 18,
   "metadata": {},
   "outputs": [],
   "source": [
    "import pandas as pd\n",
    "import ast\n",
    "import numpy as np\n",
    "\n",
    "from sklearn.model_selection import train_test_split, GridSearchCV, RandomizedSearchCV\n",
    "\n",
    "from scipy.stats import randint, uniform\n",
    "from sklearn.metrics import accuracy_score, confusion_matrix, ConfusionMatrixDisplay, log_loss\n",
    "from tqdm.auto import tqdm\n",
    "from sklearn.calibration import LabelEncoder\n",
    "from sklearn.discriminant_analysis import StandardScaler\n",
    "from sklearn import svm\n",
    "from sklearn.model_selection import cross_val_score\n",
    "from sklearn.feature_extraction.text import TfidfVectorizer, CountVectorizer\n",
    "from sklearn.compose import ColumnTransformer\n",
    "from sklearn.impute import SimpleImputer\n",
    "from sklearn.pipeline import Pipeline\n",
    "from sklearn.preprocessing import OneHotEncoder\n",
    "\n",
    "# Set random seed\n",
    "seed = 0"
   ]
  },
  {
   "cell_type": "code",
   "execution_count": 36,
   "metadata": {},
   "outputs": [],
   "source": [
    "# Read cleaned data from csv\n",
    "df = pd.read_csv('input/movie_data_tmbd_cleaned.csv', sep='|')"
   ]
  },
  {
   "cell_type": "code",
   "execution_count": 37,
   "metadata": {},
   "outputs": [
    {
     "name": "stdout",
     "output_type": "stream",
     "text": [
      "<class 'pandas.core.frame.DataFrame'>\n",
      "RangeIndex: 8784 entries, 0 to 8783\n",
      "Data columns (total 23 columns):\n",
      " #   Column                Non-Null Count  Dtype  \n",
      "---  ------                --------------  -----  \n",
      " 0   adult                 8784 non-null   int64  \n",
      " 1   budget                8784 non-null   int64  \n",
      " 2   genres                8780 non-null   object \n",
      " 3   original_language     8784 non-null   object \n",
      " 4   overview              8763 non-null   object \n",
      " 5   popularity            8784 non-null   float64\n",
      " 6   production_companies  8618 non-null   object \n",
      " 7   production_countries  8737 non-null   object \n",
      " 8   revenue               8784 non-null   int64  \n",
      " 9   runtime               8784 non-null   float64\n",
      " 10  spoken_languages      8768 non-null   object \n",
      " 11  status                8784 non-null   object \n",
      " 12  tagline               6912 non-null   object \n",
      " 13  title                 8784 non-null   object \n",
      " 14  video                 8784 non-null   int64  \n",
      " 15  vote_average          8784 non-null   float64\n",
      " 16  vote_count            8784 non-null   float64\n",
      " 17  cast                  8782 non-null   object \n",
      " 18  directors             8784 non-null   object \n",
      " 19  release_year          8784 non-null   int64  \n",
      " 20  release_month         8784 non-null   int64  \n",
      " 21  release_day           8784 non-null   int64  \n",
      " 22  category              8784 non-null   object \n",
      "dtypes: float64(4), int64(7), object(12)\n",
      "memory usage: 1.5+ MB\n",
      "None\n",
      "   adult     budget                                         genres  \\\n",
      "0      0  200000000      Adventure,Action,Thriller,Science Fiction   \n",
      "1      0  130000000               Science Fiction,Action,Adventure   \n",
      "2      0  165000000               Action,Adventure,Science Fiction   \n",
      "3      0  120000000               Action,Adventure,Science Fiction   \n",
      "4      0   78000000  Fantasy,Action,Crime,Science Fiction,Thriller   \n",
      "\n",
      "  original_language                                           overview  \\\n",
      "0                en  For centuries, a small but powerful force of w...   \n",
      "1                en  One thousand years after cataclysmic events fo...   \n",
      "2                en  We always knew they were coming back. Using re...   \n",
      "3                en  Four young outsiders teleport to a dangerous u...   \n",
      "4                en  He dwells in a world of eternal night, but the...   \n",
      "\n",
      "   popularity                               production_companies  \\\n",
      "0      31.264  DC Entertainment,De Line Pictures,Warner Bros....   \n",
      "1      29.537  Columbia Pictures,Overbrook Entertainment,Blin...   \n",
      "2      33.521  20th Century Fox,TSG Entertainment,Centropolis...   \n",
      "3      24.238  Moving Picture Company,Marvel Entertainment,TS...   \n",
      "4      23.563  Marvel Enterprises,New Regency Pictures,Epsilo...   \n",
      "\n",
      "                              production_countries    revenue  runtime  ...  \\\n",
      "0                         United States of America  219851172    114.0  ...   \n",
      "1                         United States of America  243843127    100.0  ...   \n",
      "2                         United States of America  389681935    120.0  ...   \n",
      "3  United Kingdom,Germany,United States of America  167977596    100.0  ...   \n",
      "4                         United States of America  179179718    103.0  ...   \n",
      "\n",
      "                          title video vote_average vote_count  \\\n",
      "0                 Green Lantern     0          5.0     5226.0   \n",
      "1                   After Earth     0          5.0     5042.0   \n",
      "2  Independence Day: Resurgence     0          5.0     4547.0   \n",
      "3                Fantastic Four     0          4.5     4444.0   \n",
      "4                     Daredevil     0          5.0     3496.0   \n",
      "\n",
      "                                                cast  \\\n",
      "0  Ryan Reynolds,Blake Lively,Peter Sarsgaard,Tim...   \n",
      "1  Will Smith,Jaden Smith,Sophie Okonedo,Zoë Krav...   \n",
      "2  Liam Hemsworth,Jeff Goldblum,Jessie T. Usher,B...   \n",
      "3  Tim Blake Nelson,Gretchen Koerner,Miles Teller...   \n",
      "4  Ben Affleck,Jennifer Garner,Colin Farrell,Mich...   \n",
      "\n",
      "                                   directors  release_year release_month  \\\n",
      "0                            Martin Campbell          2011             6   \n",
      "1                         M. Night Shyamalan          2013             5   \n",
      "2                            Roland Emmerich          2016             6   \n",
      "3  Simon Kinberg,Josh Trank,Steven E. Rivkin          2015             8   \n",
      "4                        Mark Steven Johnson          2003             2   \n",
      "\n",
      "  release_day  category  \n",
      "0          16       bad  \n",
      "1          30       bad  \n",
      "2          22       bad  \n",
      "3           5       bad  \n",
      "4          14       bad  \n",
      "\n",
      "[5 rows x 23 columns]\n"
     ]
    }
   ],
   "source": [
    "# Print info about the data\n",
    "print(df.info())\n",
    "print(df.head())"
   ]
  },
  {
   "cell_type": "markdown",
   "metadata": {},
   "source": [
    "# Score prediction"
   ]
  },
  {
   "cell_type": "code",
   "execution_count": 38,
   "metadata": {},
   "outputs": [
    {
     "data": {
      "text/plain": [
       "video\n",
       "0    8778\n",
       "1       6\n",
       "Name: count, dtype: int64"
      ]
     },
     "execution_count": 38,
     "metadata": {},
     "output_type": "execute_result"
    }
   ],
   "source": [
    "df['video'].value_counts()"
   ]
  },
  {
   "cell_type": "code",
   "execution_count": 39,
   "metadata": {},
   "outputs": [],
   "source": [
    "df['cast'] = df['cast'].replace(np.nan, '')\n",
    "df['directors'] = df['directors'].replace(np.nan, '')\n",
    "df['genres'] = df['genres'].replace(np.nan, '')\n",
    "df['title'] = df['title'].replace(np.nan, '')\n",
    "df['tagline'] = df['tagline'].replace(np.nan, '')\n",
    "df['overview'] = df['overview'].replace(np.nan, '')\n",
    "unique_cast = df['cast'].str.split(',').explode()\n",
    "unique_cast.value_counts()\n",
    "top_cast = unique_cast.value_counts()[unique_cast.value_counts() > 10]\n",
    "\n",
    "df['cast'] = df['cast'].apply(lambda x: [i for i in x.split(',') if i in top_cast.index])\n",
    "df['production_companies'] = df['production_companies'].replace(np.nan, '')\n",
    "unique_production_companies = df['production_companies'].str.split(',').explode()\n",
    "unique_production_companies.value_counts()\n",
    "\n",
    "top_companies = unique_production_companies.value_counts()[unique_production_companies.value_counts() > 10]\n",
    "df['production_companies'] = df['production_companies'].apply(lambda x: [i for i in x.split(',') if i in top_companies.index])\n",
    "unique_directors = df['directors'].str.split(',').explode()\n",
    "unique_directors.value_counts()\n",
    "\n",
    "top_directors = unique_directors.value_counts()[unique_directors.value_counts() > 10]\n",
    "df['directors'] = df['directors'].apply(lambda x: [i for i in x.split(',') if i in top_directors.index])\n",
    "df['production_countries'] = df['production_countries'].replace(np.nan, '')\n",
    "df['spoken_languages'] = df['spoken_languages'].replace(np.nan, '')\n",
    "\n",
    "# Split genres into list\n",
    "df['genres'] = df['genres'].apply(lambda x: [i for i in x.split(',')])\n",
    "df['spoken_languages'] = df['spoken_languages'].apply(lambda x: [i for i in x.split(',')])\n",
    "df['production_countries'] = df['production_countries'].apply(lambda x: [i for i in x.split(',')])\n",
    "\n"
   ]
  },
  {
   "cell_type": "code",
   "execution_count": 75,
   "metadata": {},
   "outputs": [],
   "source": [
    "X = df.drop(columns=['vote_average', 'category'])\n",
    "X = df.drop(columns=['video', 'adult', 'release_day', 'overview', 'tagline'])\n",
    "Y = df['category']\n"
   ]
  },
  {
   "cell_type": "code",
   "execution_count": 76,
   "metadata": {},
   "outputs": [
    {
     "name": "stdout",
     "output_type": "stream",
     "text": [
      "Training set size:  7027\n",
      "Test set size:  1757\n"
     ]
    }
   ],
   "source": [
    "X_train, X_test, Y_train, Y_test = train_test_split(X, Y, test_size=0.2, random_state=seed)\n",
    "\n",
    "# Encode target variable (Y) using LabelEncoder\n",
    "label_encoder = LabelEncoder()\n",
    "Y_train_encoded = label_encoder.fit_transform(Y_train)\n",
    "Y_test_encoded = label_encoder.transform(Y_test)\n",
    "\n",
    "\n",
    "print(\"Training set size: \", len(X_train))\n",
    "print(\"Test set size: \", len(X_test))"
   ]
  },
  {
   "cell_type": "markdown",
   "metadata": {},
   "source": [
    "# Feature encoding"
   ]
  },
  {
   "cell_type": "code",
   "execution_count": 42,
   "metadata": {},
   "outputs": [
    {
     "name": "stdout",
     "output_type": "stream",
     "text": [
      "<class 'pandas.core.frame.DataFrame'>\n",
      "RangeIndex: 8784 entries, 0 to 8783\n",
      "Data columns (total 20 columns):\n",
      " #   Column                Non-Null Count  Dtype  \n",
      "---  ------                --------------  -----  \n",
      " 0   budget                8784 non-null   int64  \n",
      " 1   genres                8784 non-null   object \n",
      " 2   original_language     8784 non-null   object \n",
      " 3   overview              8784 non-null   object \n",
      " 4   popularity            8784 non-null   float64\n",
      " 5   production_companies  8784 non-null   object \n",
      " 6   production_countries  8784 non-null   object \n",
      " 7   revenue               8784 non-null   int64  \n",
      " 8   runtime               8784 non-null   float64\n",
      " 9   spoken_languages      8784 non-null   object \n",
      " 10  status                8784 non-null   object \n",
      " 11  tagline               8784 non-null   object \n",
      " 12  title                 8784 non-null   object \n",
      " 13  vote_average          8784 non-null   float64\n",
      " 14  vote_count            8784 non-null   float64\n",
      " 15  cast                  8784 non-null   object \n",
      " 16  directors             8784 non-null   object \n",
      " 17  release_year          8784 non-null   int64  \n",
      " 18  release_month         8784 non-null   int64  \n",
      " 19  category              8784 non-null   object \n",
      "dtypes: float64(4), int64(4), object(12)\n",
      "memory usage: 1.3+ MB\n",
      "None\n"
     ]
    }
   ],
   "source": [
    "print(X.info())"
   ]
  },
  {
   "cell_type": "code",
   "execution_count": 77,
   "metadata": {},
   "outputs": [
    {
     "name": "stdout",
     "output_type": "stream",
     "text": [
      "      budget                                             genres  \\\n",
      "0  200000000     [Adventure, Action, Thriller, Science Fiction]   \n",
      "1  130000000               [Science Fiction, Action, Adventure]   \n",
      "2  165000000               [Action, Adventure, Science Fiction]   \n",
      "3  120000000               [Action, Adventure, Science Fiction]   \n",
      "4   78000000  [Fantasy, Action, Crime, Science Fiction, Thri...   \n",
      "\n",
      "  original_language  popularity  \\\n",
      "0                en      31.264   \n",
      "1                en      29.537   \n",
      "2                en      33.521   \n",
      "3                en      24.238   \n",
      "4                en      23.563   \n",
      "\n",
      "                                production_companies  \\\n",
      "0  [DC Entertainment, De Line Pictures, Warner Br...   \n",
      "1  [Columbia Pictures, Overbrook Entertainment, S...   \n",
      "2  [20th Century Fox, TSG Entertainment, Centropo...   \n",
      "3  [Moving Picture Company, Marvel Entertainment,...   \n",
      "4  [Marvel Enterprises, New Regency Pictures, Eps...   \n",
      "\n",
      "                                production_countries    revenue  runtime  \\\n",
      "0                         [United States of America]  219851172    114.0   \n",
      "1                         [United States of America]  243843127    100.0   \n",
      "2                         [United States of America]  389681935    120.0   \n",
      "3  [United Kingdom, Germany, United States of Ame...  167977596    100.0   \n",
      "4                         [United States of America]  179179718    103.0   \n",
      "\n",
      "                spoken_languages    status                         title  \\\n",
      "0                      [English]  Released                 Green Lantern   \n",
      "1                      [English]  Released                   After Earth   \n",
      "2                      [English]  Released  Independence Day: Resurgence   \n",
      "3                      [English]  Released                Fantastic Four   \n",
      "4  [English, Italiano, ελληνικά]  Released                     Daredevil   \n",
      "\n",
      "   vote_average  vote_count  \\\n",
      "0           5.0      5226.0   \n",
      "1           5.0      5042.0   \n",
      "2           5.0      4547.0   \n",
      "3           4.5      4444.0   \n",
      "4           5.0      3496.0   \n",
      "\n",
      "                                                cast             directors  \\\n",
      "0  [Ryan Reynolds, Blake Lively, Peter Sarsgaard,...                    []   \n",
      "1  [Will Smith, Zoë Kravitz, Glenn Morshower, Dav...  [M. Night Shyamalan]   \n",
      "2  [Liam Hemsworth, Jeff Goldblum, Bill Pullman, ...     [Roland Emmerich]   \n",
      "3  [Tim Blake Nelson, Miles Teller, Kate Mara, Mi...                    []   \n",
      "4  [Ben Affleck, Jennifer Garner, Colin Farrell, ...                    []   \n",
      "\n",
      "   release_year  release_month category  \n",
      "0          2011              6      bad  \n",
      "1          2013              5      bad  \n",
      "2          2016              6      bad  \n",
      "3          2015              8      bad  \n",
      "4          2003              2      bad  \n"
     ]
    }
   ],
   "source": [
    "print(X.head())"
   ]
  },
  {
   "cell_type": "code",
   "execution_count": 78,
   "metadata": {},
   "outputs": [],
   "source": [
    "from __future__ import annotations\n",
    "\n",
    "from typing import Any, Callable, Sequence\n",
    "\n",
    "import numpy as np\n",
    "import numpy.typing as npt\n",
    "import pandas as pd\n",
    "from sklearn.base import BaseEstimator, TransformerMixin\n",
    "from sklearn.preprocessing import MultiLabelBinarizer\n",
    "from sklearn.utils.validation import check_is_fitted\n",
    "\n",
    "\n",
    "class MultiHotEncoder(BaseEstimator, TransformerMixin):\n",
    "    \"\"\"Wraps `MultiLabelBinarizer` in a form that can work with `ColumnTransformer`. It makes it accept multiple inputs.\n",
    "\n",
    "    Note that the input `X` has to be a `pandas.DataFrame`.\n",
    "    \"\"\"\n",
    "\n",
    "    def __init__(self, binarizer_creator: Callable[[], Any] | None = None, dtype: npt.DTypeLike | None = None) -> None:\n",
    "        self.binarizer_creator = binarizer_creator or MultiLabelBinarizer\n",
    "        self.dtype = dtype\n",
    "\n",
    "        self.binarizers = []\n",
    "        self.categories_ = self.classes_ = []\n",
    "        self.columns = []\n",
    "\n",
    "    def fit(self, X: pd.DataFrame, y: Any = None) -> MultiHotEncoder:  # noqa\n",
    "        self.columns = X.columns.to_list()\n",
    "\n",
    "        for column_name in X:\n",
    "            binarizer = self.binarizer_creator().fit(X[column_name])\n",
    "            self.binarizers.append(binarizer)\n",
    "            self.classes_.append(binarizer.classes_)  # noqa\n",
    "\n",
    "        return self\n",
    "\n",
    "    def transform(self, X: pd.DataFrame) -> np.ndarray:\n",
    "        check_is_fitted(self)\n",
    "\n",
    "        if len(self.classes_) != X.shape[1]:\n",
    "            raise ValueError(f\"The fit transformer deals with {len(self.classes_)} columns \"\n",
    "                             f\"while the input has {X.shape[1]}.\")\n",
    "\n",
    "        return np.concatenate([binarizer.transform(X[c]).astype(self.dtype)\n",
    "                               for c, binarizer in zip(X, self.binarizers)], axis=1)\n",
    "\n",
    "    def get_feature_names_out(self, input_features: Sequence[str] = None) -> np.ndarray:\n",
    "        check_is_fitted(self)\n",
    "\n",
    "        cats = self.categories_\n",
    "\n",
    "        if input_features is None:\n",
    "            input_features = self.columns\n",
    "        elif len(input_features) != len(self.categories_):\n",
    "            raise ValueError(f\"input_features should have length equal to number of features ({len(self.categories_)}),\"\n",
    "                             f\" got {len(input_features)}\")\n",
    "\n",
    "        return np.asarray([input_features[i] + \"_\" + str(t) for i in range(len(cats)) for t in cats[i]])"
   ]
  },
  {
   "cell_type": "code",
   "execution_count": 79,
   "metadata": {},
   "outputs": [],
   "source": [
    "\n",
    "\n",
    "from sklearn.pipeline import FunctionTransformer\n",
    "from sklearn.preprocessing import MultiLabelBinarizer\n",
    "\n",
    "\n",
    "numerical_features = ['budget', 'revenue', 'popularity', 'runtime', 'vote_count', 'release_year', 'release_month']\n",
    "categorical_features = ['original_language', 'status']\n",
    "boolean_features = ['adult', 'video']\n",
    "text_features = ['overview', 'tagline', 'title']\n",
    "list_based_features = ['genres', 'production_companies', 'production_countries', 'cast', 'directors']\n",
    "\n",
    "# 1. Numerical transformer: Impute missing values and standardize\n",
    "numeric_transformer = Pipeline(steps=[\n",
    "    ('imputer', SimpleImputer(strategy='median')),\n",
    "    ('scaler', StandardScaler())\n",
    "])\n",
    "\n",
    "# 2. Categorical transformer: Impute missing values and one-hot encode\n",
    "categorical_transformer = Pipeline(steps=[\n",
    "    ('imputer', SimpleImputer(strategy='most_frequent')),\n",
    "    ('onehot', OneHotEncoder(handle_unknown='ignore'))\n",
    "])\n",
    "\n",
    "# 3. Boolean transformer: Ensure 0/1 values\n",
    "boolean_transformer = Pipeline(steps=[\n",
    "    ('imputer', SimpleImputer(strategy='most_frequent'))\n",
    "])\n",
    "\n",
    "# 4. Text transformer: Use TF-IDF for text columns\n",
    "text_transformer = Pipeline(steps=[\n",
    "    ('tfidf', TfidfVectorizer(stop_words='english', max_features=100))  # Adjust max_features as needed\n",
    "])\n",
    "\n",
    "# 5. List-based transformer: Convert list of items into binary (multi-hot) encoding\n",
    "\n",
    "list_transformer = Pipeline(steps=[\n",
    "    ('mlb', MultiHotEncoder())  # MultiLabelBinarizer to handle list columns as binary-encoded features\n",
    "])\n",
    "# Combine all transformers into a ColumnTransformer\n",
    "preprocessor = ColumnTransformer(\n",
    "    transformers=[\n",
    "        ('num', numeric_transformer, numerical_features),\n",
    "        ('cat', categorical_transformer, categorical_features),\n",
    "        # ('bool', boolean_transformer, boolean_features),\n",
    "        # ('overview', text_transformer, 'overview'),\n",
    "        # ('tagline', text_transformer, 'tagline'),\n",
    "        ('list', list_transformer, list_based_features)\n",
    "    ]\n",
    ")\n"
   ]
  },
  {
   "cell_type": "markdown",
   "metadata": {},
   "source": [
    "# Opaque models"
   ]
  },
  {
   "cell_type": "markdown",
   "metadata": {},
   "source": [
    "## SVM"
   ]
  },
  {
   "cell_type": "code",
   "execution_count": 80,
   "metadata": {},
   "outputs": [
    {
     "name": "stderr",
     "output_type": "stream",
     "text": [
      "/usr/local/lib/python3.11/site-packages/sklearn/preprocessing/_label.py:900: UserWarning: unknown class(es) ['Afghanistan', 'Fiji', 'Montenegro', 'Syrian Arab Republic', 'Uganda', 'Venezuela', 'Vietnam'] will be ignored\n",
      "  warnings.warn(\n"
     ]
    },
    {
     "name": "stdout",
     "output_type": "stream",
     "text": [
      "Accuracy:  0.5133750711439955\n",
      "Predicted labels: ['bad' 'bad' 'bad' ... 'great' 'bad' 'bad']\n"
     ]
    }
   ],
   "source": [
    "clf = svm.SVC(gamma='auto')\n",
    "\n",
    "# Define your pipeline with preprocessor\n",
    "svm_pipeline = Pipeline(steps=[\n",
    "    ('preprocessor', preprocessor),\n",
    "    ('svc', clf)\n",
    "])\n",
    "\n",
    "svm_pipeline.fit(X_train, Y_train_encoded)\n",
    "Y_pred = svm_pipeline.predict(X_test)\n",
    "\n",
    "# Convert predicted labels back to original categories\n",
    "Y_pred_labels = label_encoder.inverse_transform(Y_pred)\n",
    "\n",
    "accuracy = accuracy_score(Y_test_encoded, Y_pred)\n",
    "print(\"Accuracy: \", accuracy)\n",
    "\n",
    "# Optionally: Check predicted labels\n",
    "print(\"Predicted labels:\", Y_pred_labels)"
   ]
  },
  {
   "cell_type": "code",
   "execution_count": 81,
   "metadata": {},
   "outputs": [
    {
     "name": "stdout",
     "output_type": "stream",
     "text": [
      "Fitting 5 folds for each of 20 candidates, totalling 100 fits\n"
     ]
    },
    {
     "name": "stderr",
     "output_type": "stream",
     "text": [
      "/usr/local/lib/python3.11/site-packages/sklearn/preprocessing/_label.py:900: UserWarning: unknown class(es) ['Bosnia and Herzegovina', 'Cuba', 'Macedonia', 'Malawi', 'Tunisia'] will be ignored\n",
      "  warnings.warn(\n",
      "/usr/local/lib/python3.11/site-packages/sklearn/preprocessing/_label.py:900: UserWarning: unknown class(es) ['Cambodia', 'Dominican Republic', 'Ecuador', 'Kuwait', 'Libyan Arab Jamahiriya', 'Panama', 'Philippines'] will be ignored\n",
      "  warnings.warn(\n",
      "/usr/local/lib/python3.11/site-packages/sklearn/preprocessing/_label.py:900: UserWarning: unknown class(es) ['Albania', 'Angola', 'Egypt', 'Ethiopia', 'Jordan', 'Kenya', 'Namibia', 'Serbia and Montenegro'] will be ignored\n",
      "  warnings.warn(\n",
      "/usr/local/lib/python3.11/site-packages/sklearn/preprocessing/_label.py:900: UserWarning: unknown class(es) ['Bahamas', 'Belarus', 'Bolivia', 'Botswana', 'Cyprus', 'Pakistan', 'Paraguay', 'Rwanda'] will be ignored\n",
      "  warnings.warn(\n",
      "/usr/local/lib/python3.11/site-packages/sklearn/preprocessing/_label.py:900: UserWarning: unknown class(es) ['Congo', 'Iraq', 'Monaco'] will be ignored\n",
      "  warnings.warn(\n"
     ]
    },
    {
     "name": "stdout",
     "output_type": "stream",
     "text": [
      "[CV] END svc__C=5.588135039273247, svc__degree=6, svc__gamma=scale, svc__kernel=sigmoid; total time= 7.7min\n",
      "[CV] END svc__C=5.588135039273247, svc__degree=6, svc__gamma=scale, svc__kernel=sigmoid; total time= 8.2min\n",
      "[CV] END svc__C=5.588135039273247, svc__degree=6, svc__gamma=scale, svc__kernel=sigmoid; total time= 8.3min\n",
      "[CV] END svc__C=5.588135039273247, svc__degree=6, svc__gamma=scale, svc__kernel=sigmoid; total time= 8.7min\n",
      "[CV] END svc__C=5.588135039273247, svc__degree=6, svc__gamma=scale, svc__kernel=sigmoid; total time= 8.7min\n"
     ]
    },
    {
     "name": "stderr",
     "output_type": "stream",
     "text": [
      "/usr/local/lib/python3.11/site-packages/sklearn/preprocessing/_label.py:900: UserWarning: unknown class(es) ['Bahamas', 'Belarus', 'Bolivia', 'Botswana', 'Cyprus', 'Pakistan', 'Paraguay', 'Rwanda'] will be ignored\n",
      "  warnings.warn(\n"
     ]
    },
    {
     "name": "stdout",
     "output_type": "stream",
     "text": [
      "[CV] END svc__C=0.6671297731744318, svc__degree=2, svc__gamma=scale, svc__kernel=sigmoid; total time=12.3min\n"
     ]
    },
    {
     "name": "stderr",
     "output_type": "stream",
     "text": [
      "/usr/local/lib/python3.11/site-packages/sklearn/preprocessing/_label.py:900: UserWarning: unknown class(es) ['Cambodia', 'Dominican Republic', 'Ecuador', 'Kuwait', 'Libyan Arab Jamahiriya', 'Panama', 'Philippines'] will be ignored\n",
      "  warnings.warn(\n",
      "/usr/local/lib/python3.11/site-packages/sklearn/preprocessing/_label.py:900: UserWarning: unknown class(es) ['Congo', 'Iraq', 'Monaco'] will be ignored\n",
      "  warnings.warn(\n",
      "/usr/local/lib/python3.11/site-packages/sklearn/preprocessing/_label.py:900: UserWarning: unknown class(es) ['Albania', 'Angola', 'Egypt', 'Ethiopia', 'Jordan', 'Kenya', 'Namibia', 'Serbia and Montenegro'] will be ignored\n",
      "  warnings.warn(\n",
      "/usr/local/lib/python3.11/site-packages/sklearn/preprocessing/_label.py:900: UserWarning: unknown class(es) ['Bosnia and Herzegovina', 'Cuba', 'Macedonia', 'Malawi', 'Tunisia'] will be ignored\n",
      "  warnings.warn(\n",
      "/usr/local/lib/python3.11/site-packages/sklearn/preprocessing/_label.py:900: UserWarning: unknown class(es) ['Bahamas', 'Belarus', 'Bolivia', 'Botswana', 'Cyprus', 'Pakistan', 'Paraguay', 'Rwanda'] will be ignored\n",
      "  warnings.warn(\n",
      "/usr/local/lib/python3.11/site-packages/sklearn/preprocessing/_label.py:900: UserWarning: unknown class(es) ['Cambodia', 'Dominican Republic', 'Ecuador', 'Kuwait', 'Libyan Arab Jamahiriya', 'Panama', 'Philippines'] will be ignored\n",
      "  warnings.warn(\n",
      "/usr/local/lib/python3.11/site-packages/sklearn/preprocessing/_label.py:900: UserWarning: unknown class(es) ['Congo', 'Iraq', 'Monaco'] will be ignored\n",
      "  warnings.warn(\n",
      "/usr/local/lib/python3.11/site-packages/sklearn/preprocessing/_label.py:900: UserWarning: unknown class(es) ['Albania', 'Angola', 'Egypt', 'Ethiopia', 'Jordan', 'Kenya', 'Namibia', 'Serbia and Montenegro'] will be ignored\n",
      "  warnings.warn(\n",
      "/usr/local/lib/python3.11/site-packages/sklearn/preprocessing/_label.py:900: UserWarning: unknown class(es) ['Bosnia and Herzegovina', 'Cuba', 'Macedonia', 'Malawi', 'Tunisia'] will be ignored\n",
      "  warnings.warn(\n",
      "/usr/local/lib/python3.11/site-packages/sklearn/preprocessing/_label.py:900: UserWarning: unknown class(es) ['Bahamas', 'Belarus', 'Bolivia', 'Botswana', 'Cyprus', 'Pakistan', 'Paraguay', 'Rwanda'] will be ignored\n",
      "  warnings.warn(\n",
      "/usr/local/lib/python3.11/site-packages/sklearn/preprocessing/_label.py:900: UserWarning: unknown class(es) ['Albania', 'Angola', 'Egypt', 'Ethiopia', 'Jordan', 'Kenya', 'Namibia', 'Serbia and Montenegro'] will be ignored\n",
      "  warnings.warn(\n",
      "/usr/local/lib/python3.11/site-packages/sklearn/preprocessing/_label.py:900: UserWarning: unknown class(es) ['Cambodia', 'Dominican Republic', 'Ecuador', 'Kuwait', 'Libyan Arab Jamahiriya', 'Panama', 'Philippines'] will be ignored\n",
      "  warnings.warn(\n",
      "/usr/local/lib/python3.11/site-packages/sklearn/preprocessing/_label.py:900: UserWarning: unknown class(es) ['Bosnia and Herzegovina', 'Cuba', 'Macedonia', 'Malawi', 'Tunisia'] will be ignored\n",
      "  warnings.warn(\n",
      "/usr/local/lib/python3.11/site-packages/sklearn/preprocessing/_label.py:900: UserWarning: unknown class(es) ['Congo', 'Iraq', 'Monaco'] will be ignored\n",
      "  warnings.warn(\n"
     ]
    },
    {
     "name": "stdout",
     "output_type": "stream",
     "text": [
      "[CV] END svc__C=8.679456176227568, svc__degree=8, svc__gamma=auto, svc__kernel=sigmoid; total time=17.4min\n",
      "[CV] END svc__C=8.679456176227568, svc__degree=8, svc__gamma=auto, svc__kernel=sigmoid; total time=17.5min\n",
      "[CV] END svc__C=8.679456176227568, svc__degree=8, svc__gamma=auto, svc__kernel=sigmoid; total time=17.5min\n",
      "[CV] END svc__C=8.679456176227568, svc__degree=8, svc__gamma=auto, svc__kernel=sigmoid; total time=17.7min\n",
      "[CV] END svc__C=8.679456176227568, svc__degree=8, svc__gamma=auto, svc__kernel=sigmoid; total time=17.7min\n",
      "[CV] END svc__C=6.558941130666561, svc__degree=5, svc__gamma=auto, svc__kernel=rbf; total time=18.1min\n",
      "[CV] END svc__C=6.558941130666561, svc__degree=5, svc__gamma=auto, svc__kernel=rbf; total time=18.1min\n",
      "[CV] END svc__C=6.558941130666561, svc__degree=5, svc__gamma=auto, svc__kernel=rbf; total time=18.1min\n",
      "[CV] END svc__C=6.558941130666561, svc__degree=5, svc__gamma=auto, svc__kernel=rbf; total time=18.3min\n",
      "[CV] END svc__C=6.558941130666561, svc__degree=5, svc__gamma=auto, svc__kernel=rbf; total time=18.4min\n",
      "[CV] END svc__C=0.6671297731744318, svc__degree=2, svc__gamma=scale, svc__kernel=sigmoid; total time=10.7min\n"
     ]
    },
    {
     "name": "stderr",
     "output_type": "stream",
     "text": [
      "/usr/local/lib/python3.11/site-packages/joblib/externals/loky/process_executor.py:752: UserWarning: A worker stopped while some jobs were given to the executor. This can be caused by a too short worker timeout or by a memory leak.\n",
      "  warnings.warn(\n"
     ]
    },
    {
     "name": "stdout",
     "output_type": "stream",
     "text": [
      "[CV] END svc__C=0.6671297731744318, svc__degree=2, svc__gamma=scale, svc__kernel=sigmoid; total time=10.6min\n",
      "[CV] END svc__C=0.6671297731744318, svc__degree=2, svc__gamma=scale, svc__kernel=sigmoid; total time=13.2min\n",
      "[CV] END svc__C=0.6671297731744318, svc__degree=2, svc__gamma=scale, svc__kernel=sigmoid; total time=12.9min\n"
     ]
    },
    {
     "name": "stderr",
     "output_type": "stream",
     "text": [
      "/usr/local/lib/python3.11/site-packages/sklearn/preprocessing/_label.py:900: UserWarning: unknown class(es) ['Bahamas', 'Belarus', 'Bolivia', 'Botswana', 'Cyprus', 'Pakistan', 'Paraguay', 'Rwanda'] will be ignored\n",
      "  warnings.warn(\n",
      "/usr/local/lib/python3.11/site-packages/sklearn/preprocessing/_label.py:900: UserWarning: unknown class(es) ['Albania', 'Angola', 'Egypt', 'Ethiopia', 'Jordan', 'Kenya', 'Namibia', 'Serbia and Montenegro'] will be ignored\n",
      "  warnings.warn(\n",
      "/usr/local/lib/python3.11/site-packages/sklearn/preprocessing/_label.py:900: UserWarning: unknown class(es) ['Bahamas', 'Belarus', 'Bolivia', 'Botswana', 'Cyprus', 'Pakistan', 'Paraguay', 'Rwanda'] will be ignored\n",
      "  warnings.warn(\n",
      "/usr/local/lib/python3.11/site-packages/sklearn/preprocessing/_label.py:900: UserWarning: unknown class(es) ['Cambodia', 'Dominican Republic', 'Ecuador', 'Kuwait', 'Libyan Arab Jamahiriya', 'Panama', 'Philippines'] will be ignored\n",
      "  warnings.warn(\n",
      "/usr/local/lib/python3.11/site-packages/sklearn/preprocessing/_label.py:900: UserWarning: unknown class(es) ['Congo', 'Iraq', 'Monaco'] will be ignored\n",
      "  warnings.warn(\n",
      "/usr/local/lib/python3.11/site-packages/sklearn/preprocessing/_label.py:900: UserWarning: unknown class(es) ['Bosnia and Herzegovina', 'Cuba', 'Macedonia', 'Malawi', 'Tunisia'] will be ignored\n",
      "  warnings.warn(\n",
      "/usr/local/lib/python3.11/site-packages/sklearn/preprocessing/_label.py:900: UserWarning: unknown class(es) ['Bahamas', 'Belarus', 'Bolivia', 'Botswana', 'Cyprus', 'Pakistan', 'Paraguay', 'Rwanda'] will be ignored\n",
      "  warnings.warn(\n"
     ]
    },
    {
     "name": "stdout",
     "output_type": "stream",
     "text": [
      "[CV] END svc__C=1.5035078041264516, svc__degree=1, svc__gamma=scale, svc__kernel=sigmoid; total time= 5.8min\n",
      "[CV] END svc__C=8.460787635373775, svc__degree=9, svc__gamma=auto, svc__kernel=linear; total time=10.0min\n",
      "[CV] END svc__C=8.460787635373775, svc__degree=9, svc__gamma=auto, svc__kernel=linear; total time=10.3min\n",
      "[CV] END svc__C=8.460787635373775, svc__degree=9, svc__gamma=auto, svc__kernel=linear; total time=10.2min\n",
      "[CV] END svc__C=8.460787635373775, svc__degree=9, svc__gamma=auto, svc__kernel=linear; total time=10.3min\n",
      "[CV] END svc__C=8.460787635373775, svc__degree=9, svc__gamma=auto, svc__kernel=linear; total time=10.3min\n"
     ]
    },
    {
     "name": "stderr",
     "output_type": "stream",
     "text": [
      "/usr/local/lib/python3.11/site-packages/sklearn/preprocessing/_label.py:900: UserWarning: unknown class(es) ['Albania', 'Angola', 'Egypt', 'Ethiopia', 'Jordan', 'Kenya', 'Namibia', 'Serbia and Montenegro'] will be ignored\n",
      "  warnings.warn(\n"
     ]
    },
    {
     "name": "stdout",
     "output_type": "stream",
     "text": [
      "[CV] END svc__C=5.388949197529044, svc__degree=9, svc__gamma=auto, svc__kernel=poly; total time=21.0min\n",
      "[CV] END svc__C=5.388949197529044, svc__degree=9, svc__gamma=auto, svc__kernel=poly; total time=20.2min\n"
     ]
    },
    {
     "name": "stderr",
     "output_type": "stream",
     "text": [
      "/usr/local/lib/python3.11/site-packages/sklearn/preprocessing/_label.py:900: UserWarning: unknown class(es) ['Cambodia', 'Dominican Republic', 'Ecuador', 'Kuwait', 'Libyan Arab Jamahiriya', 'Panama', 'Philippines'] will be ignored\n",
      "  warnings.warn(\n",
      "/usr/local/lib/python3.11/site-packages/sklearn/preprocessing/_label.py:900: UserWarning: unknown class(es) ['Albania', 'Angola', 'Egypt', 'Ethiopia', 'Jordan', 'Kenya', 'Namibia', 'Serbia and Montenegro'] will be ignored\n",
      "  warnings.warn(\n",
      "/usr/local/lib/python3.11/site-packages/sklearn/preprocessing/_label.py:900: UserWarning: unknown class(es) ['Bosnia and Herzegovina', 'Cuba', 'Macedonia', 'Malawi', 'Tunisia'] will be ignored\n",
      "  warnings.warn(\n",
      "/usr/local/lib/python3.11/site-packages/sklearn/preprocessing/_label.py:900: UserWarning: unknown class(es) ['Cambodia', 'Dominican Republic', 'Ecuador', 'Kuwait', 'Libyan Arab Jamahiriya', 'Panama', 'Philippines'] will be ignored\n",
      "  warnings.warn(\n",
      "/usr/local/lib/python3.11/site-packages/sklearn/preprocessing/_label.py:900: UserWarning: unknown class(es) ['Congo', 'Iraq', 'Monaco'] will be ignored\n",
      "  warnings.warn(\n",
      "/usr/local/lib/python3.11/site-packages/sklearn/preprocessing/_label.py:900: UserWarning: unknown class(es) ['Congo', 'Iraq', 'Monaco'] will be ignored\n",
      "  warnings.warn(\n",
      "/usr/local/lib/python3.11/site-packages/sklearn/preprocessing/_label.py:900: UserWarning: unknown class(es) ['Bosnia and Herzegovina', 'Cuba', 'Macedonia', 'Malawi', 'Tunisia'] will be ignored\n",
      "  warnings.warn(\n",
      "/usr/local/lib/python3.11/site-packages/sklearn/preprocessing/_label.py:900: UserWarning: unknown class(es) ['Albania', 'Angola', 'Egypt', 'Ethiopia', 'Jordan', 'Kenya', 'Namibia', 'Serbia and Montenegro'] will be ignored\n",
      "  warnings.warn(\n",
      "/usr/local/lib/python3.11/site-packages/sklearn/preprocessing/_label.py:900: UserWarning: unknown class(es) ['Cambodia', 'Dominican Republic', 'Ecuador', 'Kuwait', 'Libyan Arab Jamahiriya', 'Panama', 'Philippines'] will be ignored\n",
      "  warnings.warn(\n",
      "/usr/local/lib/python3.11/site-packages/sklearn/preprocessing/_label.py:900: UserWarning: unknown class(es) ['Bahamas', 'Belarus', 'Bolivia', 'Botswana', 'Cyprus', 'Pakistan', 'Paraguay', 'Rwanda'] will be ignored\n",
      "  warnings.warn(\n"
     ]
    },
    {
     "name": "stdout",
     "output_type": "stream",
     "text": [
      "[CV] END svc__C=1.5035078041264516, svc__degree=1, svc__gamma=scale, svc__kernel=sigmoid; total time=19.7min\n",
      "[CV] END svc__C=1.5035078041264516, svc__degree=1, svc__gamma=scale, svc__kernel=sigmoid; total time=19.9min\n"
     ]
    },
    {
     "name": "stderr",
     "output_type": "stream",
     "text": [
      "/usr/local/lib/python3.11/site-packages/sklearn/preprocessing/_label.py:900: UserWarning: unknown class(es) ['Bosnia and Herzegovina', 'Cuba', 'Macedonia', 'Malawi', 'Tunisia'] will be ignored\n",
      "  warnings.warn(\n"
     ]
    },
    {
     "name": "stdout",
     "output_type": "stream",
     "text": [
      "[CV] END svc__C=1.5035078041264516, svc__degree=1, svc__gamma=scale, svc__kernel=sigmoid; total time=19.9min\n",
      "[CV] END svc__C=1.5035078041264516, svc__degree=1, svc__gamma=scale, svc__kernel=sigmoid; total time=19.6min\n"
     ]
    },
    {
     "name": "stderr",
     "output_type": "stream",
     "text": [
      "/usr/local/lib/python3.11/site-packages/sklearn/preprocessing/_label.py:900: UserWarning: unknown class(es) ['Congo', 'Iraq', 'Monaco'] will be ignored\n",
      "  warnings.warn(\n"
     ]
    },
    {
     "name": "stdout",
     "output_type": "stream",
     "text": [
      "[CV] END svc__C=5.388949197529044, svc__degree=9, svc__gamma=auto, svc__kernel=poly; total time=31.4min\n",
      "[CV] END svc__C=5.388949197529044, svc__degree=9, svc__gamma=auto, svc__kernel=poly; total time=31.5min\n",
      "[CV] END svc__C=5.388949197529044, svc__degree=9, svc__gamma=auto, svc__kernel=poly; total time=31.7min\n",
      "[CV] END svc__C=0.30218397440325717, svc__degree=4, svc__gamma=auto, svc__kernel=rbf; total time=32.9min\n",
      "[CV] END svc__C=0.30218397440325717, svc__degree=4, svc__gamma=auto, svc__kernel=rbf; total time=32.9min\n",
      "[CV] END svc__C=0.30218397440325717, svc__degree=4, svc__gamma=auto, svc__kernel=rbf; total time=33.3min\n",
      "[CV] END svc__C=0.30218397440325717, svc__degree=4, svc__gamma=auto, svc__kernel=rbf; total time=33.1min\n",
      "[CV] END svc__C=0.30218397440325717, svc__degree=4, svc__gamma=auto, svc__kernel=rbf; total time=30.6min\n"
     ]
    },
    {
     "name": "stderr",
     "output_type": "stream",
     "text": [
      "/usr/local/lib/python3.11/site-packages/sklearn/preprocessing/_label.py:900: UserWarning: unknown class(es) ['Bahamas', 'Belarus', 'Bolivia', 'Botswana', 'Cyprus', 'Pakistan', 'Paraguay', 'Rwanda'] will be ignored\n",
      "  warnings.warn(\n",
      "/usr/local/lib/python3.11/site-packages/sklearn/preprocessing/_label.py:900: UserWarning: unknown class(es) ['Albania', 'Angola', 'Egypt', 'Ethiopia', 'Jordan', 'Kenya', 'Namibia', 'Serbia and Montenegro'] will be ignored\n",
      "  warnings.warn(\n",
      "/usr/local/lib/python3.11/site-packages/sklearn/preprocessing/_label.py:900: UserWarning: unknown class(es) ['Cambodia', 'Dominican Republic', 'Ecuador', 'Kuwait', 'Libyan Arab Jamahiriya', 'Panama', 'Philippines'] will be ignored\n",
      "  warnings.warn(\n"
     ]
    },
    {
     "name": "stdout",
     "output_type": "stream",
     "text": [
      "[CV] END svc__C=8.091585642167235, svc__degree=4, svc__gamma=auto, svc__kernel=sigmoid; total time=27.4min\n",
      "[CV] END svc__C=8.091585642167235, svc__degree=4, svc__gamma=auto, svc__kernel=sigmoid; total time=27.1min\n",
      "[CV] END svc__C=8.091585642167235, svc__degree=4, svc__gamma=auto, svc__kernel=sigmoid; total time=27.2min\n"
     ]
    },
    {
     "name": "stderr",
     "output_type": "stream",
     "text": [
      "/usr/local/lib/python3.11/site-packages/sklearn/preprocessing/_label.py:900: UserWarning: unknown class(es) ['Bosnia and Herzegovina', 'Cuba', 'Macedonia', 'Malawi', 'Tunisia'] will be ignored\n",
      "  warnings.warn(\n",
      "/usr/local/lib/python3.11/site-packages/sklearn/preprocessing/_label.py:900: UserWarning: unknown class(es) ['Bahamas', 'Belarus', 'Bolivia', 'Botswana', 'Cyprus', 'Pakistan', 'Paraguay', 'Rwanda'] will be ignored\n",
      "  warnings.warn(\n"
     ]
    },
    {
     "name": "stdout",
     "output_type": "stream",
     "text": [
      "[CV] END svc__C=4.246619399905235, svc__degree=4, svc__gamma=scale, svc__kernel=sigmoid; total time= 8.2min\n",
      "[CV] END svc__C=8.091585642167235, svc__degree=4, svc__gamma=auto, svc__kernel=sigmoid; total time=27.8min\n"
     ]
    },
    {
     "name": "stderr",
     "output_type": "stream",
     "text": [
      "/usr/local/lib/python3.11/site-packages/sklearn/preprocessing/_label.py:900: UserWarning: unknown class(es) ['Congo', 'Iraq', 'Monaco'] will be ignored\n",
      "  warnings.warn(\n",
      "/usr/local/lib/python3.11/site-packages/sklearn/preprocessing/_label.py:900: UserWarning: unknown class(es) ['Albania', 'Angola', 'Egypt', 'Ethiopia', 'Jordan', 'Kenya', 'Namibia', 'Serbia and Montenegro'] will be ignored\n",
      "  warnings.warn(\n",
      "/usr/local/lib/python3.11/site-packages/sklearn/preprocessing/_label.py:900: UserWarning: unknown class(es) ['Cambodia', 'Dominican Republic', 'Ecuador', 'Kuwait', 'Libyan Arab Jamahiriya', 'Panama', 'Philippines'] will be ignored\n",
      "  warnings.warn(\n",
      "/usr/local/lib/python3.11/site-packages/sklearn/preprocessing/_label.py:900: UserWarning: unknown class(es) ['Bosnia and Herzegovina', 'Cuba', 'Macedonia', 'Malawi', 'Tunisia'] will be ignored\n",
      "  warnings.warn(\n"
     ]
    },
    {
     "name": "stdout",
     "output_type": "stream",
     "text": [
      "[CV] END svc__C=4.246619399905235, svc__degree=4, svc__gamma=scale, svc__kernel=sigmoid; total time= 7.4min\n",
      "[CV] END svc__C=4.246619399905235, svc__degree=4, svc__gamma=scale, svc__kernel=sigmoid; total time= 7.8min\n",
      "[CV] END svc__C=8.091585642167235, svc__degree=4, svc__gamma=auto, svc__kernel=sigmoid; total time=16.2min\n",
      "[CV] END svc__C=4.246619399905235, svc__degree=4, svc__gamma=scale, svc__kernel=sigmoid; total time= 7.4min\n"
     ]
    },
    {
     "name": "stderr",
     "output_type": "stream",
     "text": [
      "/usr/local/lib/python3.11/site-packages/sklearn/preprocessing/_label.py:900: UserWarning: unknown class(es) ['Albania', 'Angola', 'Egypt', 'Ethiopia', 'Jordan', 'Kenya', 'Namibia', 'Serbia and Montenegro'] will be ignored\n",
      "  warnings.warn(\n",
      "/usr/local/lib/python3.11/site-packages/sklearn/preprocessing/_label.py:900: UserWarning: unknown class(es) ['Bahamas', 'Belarus', 'Bolivia', 'Botswana', 'Cyprus', 'Pakistan', 'Paraguay', 'Rwanda'] will be ignored\n",
      "  warnings.warn(\n",
      "/usr/local/lib/python3.11/site-packages/sklearn/preprocessing/_label.py:900: UserWarning: unknown class(es) ['Bahamas', 'Belarus', 'Bolivia', 'Botswana', 'Cyprus', 'Pakistan', 'Paraguay', 'Rwanda'] will be ignored\n",
      "  warnings.warn(\n",
      "/usr/local/lib/python3.11/site-packages/sklearn/preprocessing/_label.py:900: UserWarning: unknown class(es) ['Cambodia', 'Dominican Republic', 'Ecuador', 'Kuwait', 'Libyan Arab Jamahiriya', 'Panama', 'Philippines'] will be ignored\n",
      "  warnings.warn(\n",
      "/usr/local/lib/python3.11/site-packages/sklearn/preprocessing/_label.py:900: UserWarning: unknown class(es) ['Bosnia and Herzegovina', 'Cuba', 'Macedonia', 'Malawi', 'Tunisia'] will be ignored\n",
      "  warnings.warn(\n",
      "/usr/local/lib/python3.11/site-packages/sklearn/preprocessing/_label.py:900: UserWarning: unknown class(es) ['Congo', 'Iraq', 'Monaco'] will be ignored\n",
      "  warnings.warn(\n",
      "/usr/local/lib/python3.11/site-packages/sklearn/preprocessing/_label.py:900: UserWarning: unknown class(es) ['Congo', 'Iraq', 'Monaco'] will be ignored\n",
      "  warnings.warn(\n",
      "/usr/local/lib/python3.11/site-packages/sklearn/preprocessing/_label.py:900: UserWarning: unknown class(es) ['Albania', 'Angola', 'Egypt', 'Ethiopia', 'Jordan', 'Kenya', 'Namibia', 'Serbia and Montenegro'] will be ignored\n",
      "  warnings.warn(\n"
     ]
    },
    {
     "name": "stdout",
     "output_type": "stream",
     "text": [
      "[CV] END svc__C=6.888795301189603, svc__degree=8, svc__gamma=scale, svc__kernel=poly; total time=19.2min\n"
     ]
    },
    {
     "name": "stderr",
     "output_type": "stream",
     "text": [
      "/usr/local/lib/python3.11/site-packages/sklearn/preprocessing/_label.py:900: UserWarning: unknown class(es) ['Cambodia', 'Dominican Republic', 'Ecuador', 'Kuwait', 'Libyan Arab Jamahiriya', 'Panama', 'Philippines'] will be ignored\n",
      "  warnings.warn(\n",
      "/usr/local/lib/python3.11/site-packages/sklearn/preprocessing/_label.py:900: UserWarning: unknown class(es) ['Bosnia and Herzegovina', 'Cuba', 'Macedonia', 'Malawi', 'Tunisia'] will be ignored\n",
      "  warnings.warn(\n",
      "/usr/local/lib/python3.11/site-packages/sklearn/preprocessing/_label.py:900: UserWarning: unknown class(es) ['Congo', 'Iraq', 'Monaco'] will be ignored\n",
      "  warnings.warn(\n"
     ]
    },
    {
     "name": "stdout",
     "output_type": "stream",
     "text": [
      "[CV] END svc__C=4.246619399905235, svc__degree=4, svc__gamma=scale, svc__kernel=sigmoid; total time= 7.3min\n",
      "[CV] END svc__C=6.888795301189603, svc__degree=8, svc__gamma=scale, svc__kernel=poly; total time=19.9min\n",
      "[CV] END svc__C=6.888795301189603, svc__degree=8, svc__gamma=scale, svc__kernel=poly; total time=19.6min\n",
      "[CV] END svc__C=6.888795301189603, svc__degree=8, svc__gamma=scale, svc__kernel=poly; total time=28.8min\n",
      "[CV] END svc__C=6.888795301189603, svc__degree=8, svc__gamma=scale, svc__kernel=poly; total time=28.5min\n"
     ]
    }
   ],
   "source": [
    "# Use randm search to find best hyperparameters\n",
    "param_dist = {\n",
    "    'svc__C': uniform(0.1, 10),\n",
    "    'svc__kernel': ['linear', 'poly', 'rbf', 'sigmoid'],\n",
    "    'svc__degree': randint(1, 10),\n",
    "    'svc__gamma': ['scale', 'auto']\n",
    "}\n",
    "\n",
    "random_search = RandomizedSearchCV(svm_pipeline, param_distributions=param_dist, n_iter=20, cv=5, scoring='accuracy', random_state=seed, verbose=2, n_jobs=-1)\n",
    "random_search.fit(X_train, Y_train_encoded)"
   ]
  },
  {
   "cell_type": "code",
   "execution_count": 112,
   "metadata": {},
   "outputs": [
    {
     "name": "stdout",
     "output_type": "stream",
     "text": [
      "Best hyperparameters:  {'svc__C': 0.48425426472734723, 'svc__degree': 5, 'svc__gamma': 'scale', 'svc__kernel': 'linear'}\n"
     ]
    }
   ],
   "source": [
    "# Print best hyperparameters\n",
    "print(\"Best hyperparameters: \", random_search.best_params_)"
   ]
  },
  {
   "cell_type": "code",
   "execution_count": 113,
   "metadata": {},
   "outputs": [],
   "source": [
    "# Predict using best model\n",
    "Y_pred = random_search.predict(X_test)\n",
    "Y_pred_labels = label_encoder.inverse_transform(Y_pred)\n"
   ]
  },
  {
   "cell_type": "code",
   "execution_count": 114,
   "metadata": {},
   "outputs": [
    {
     "name": "stdout",
     "output_type": "stream",
     "text": [
      "Accuracy:  0.632896983494593\n"
     ]
    }
   ],
   "source": [
    "accuracy = accuracy_score(Y_test_encoded, Y_pred)\n",
    "print(\"Accuracy: \", accuracy)"
   ]
  },
  {
   "cell_type": "code",
   "execution_count": 115,
   "metadata": {},
   "outputs": [
    {
     "name": "stdout",
     "output_type": "stream",
     "text": [
      "category\n",
      "bad         450\n",
      "mediocre    448\n",
      "good        430\n",
      "great       429\n",
      "Name: count, dtype: int64\n"
     ]
    }
   ],
   "source": [
    "print(Y_test.value_counts())"
   ]
  },
  {
   "cell_type": "code",
   "execution_count": 116,
   "metadata": {},
   "outputs": [
    {
     "name": "stdout",
     "output_type": "stream",
     "text": [
      "category\n",
      "great       1767\n",
      "good        1766\n",
      "mediocre    1748\n",
      "bad         1746\n",
      "Name: count, dtype: int64\n"
     ]
    }
   ],
   "source": [
    "print(Y_train.value_counts())"
   ]
  },
  {
   "cell_type": "code",
   "execution_count": 119,
   "metadata": {},
   "outputs": [
    {
     "data": {
      "text/plain": [
       "<sklearn.metrics._plot.confusion_matrix.ConfusionMatrixDisplay at 0x13fd0ce10>"
      ]
     },
     "execution_count": 119,
     "metadata": {},
     "output_type": "execute_result"
    },
    {
     "data": {
      "image/png": "[encoded data removed]",
      "text/plain": [
       "<Figure size 640x480 with 2 Axes>"
      ]
     },
     "metadata": {},
     "output_type": "display_data"
    }
   ],
   "source": [
    "# Print confusion matrix for the model\n",
    "cm = confusion_matrix(Y_test_encoded, Y_pred)\n",
    "disp = ConfusionMatrixDisplay(confusion_matrix=cm, display_labels=label_encoder.classes_)\n",
    "disp.plot()"
   ]
  }
 ],
 "metadata": {
  "kernelspec": {
   "display_name": "Python 3",
   "language": "python",
   "name": "python3"
  },
  "language_info": {
   "codemirror_mode": {
    "name": "ipython",
    "version": 3
   },
   "file_extension": ".py",
   "mimetype": "text/x-python",
   "name": "python",
   "nbconvert_exporter": "python",
   "pygments_lexer": "ipython3",
   "version": "3.11.7"
  }
 },
 "nbformat": 4,
 "nbformat_minor": 2
}
