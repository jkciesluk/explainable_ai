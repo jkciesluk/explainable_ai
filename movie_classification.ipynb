{
 "cells": [
  {
   "cell_type": "code",
   "execution_count": 97,
   "metadata": {},
   "outputs": [],
   "source": [
    "import pandas as pd\n",
    "import ast\n",
    "from sklearn.model_selection import train_test_split, GridSearchCV, RandomizedSearchCV\n",
    "\n",
    "from scipy.stats import randint, uniform\n",
    "from sklearn.metrics import accuracy_score, confusion_matrix, ConfusionMatrixDisplay, log_loss\n",
    "from tqdm.auto import tqdm\n",
    "from sklearn.calibration import LabelEncoder\n",
    "from sklearn.discriminant_analysis import StandardScaler\n",
    "from sklearn import svm\n",
    "from sklearn.model_selection import cross_val_score\n",
    "from sklearn.feature_extraction.text import TfidfVectorizer, CountVectorizer\n",
    "from sklearn.compose import ColumnTransformer\n",
    "from sklearn.impute import SimpleImputer\n",
    "from sklearn.pipeline import Pipeline\n",
    "from sklearn.preprocessing import OneHotEncoder\n",
    "\n",
    "# Set random seed\n",
    "seed = 0"
   ]
  },
  {
   "cell_type": "code",
   "execution_count": 82,
   "metadata": {},
   "outputs": [],
   "source": [
    "# Read cleaned data from csv\n",
    "df = pd.read_csv('input/movie_data_tmbd_cleaned.csv', sep='|')"
   ]
  },
  {
   "cell_type": "code",
   "execution_count": 83,
   "metadata": {},
   "outputs": [
    {
     "name": "stdout",
     "output_type": "stream",
     "text": [
      "<class 'pandas.core.frame.DataFrame'>\n",
      "RangeIndex: 17425 entries, 0 to 17424\n",
      "Data columns (total 22 columns):\n",
      " #   Column                Non-Null Count  Dtype  \n",
      "---  ------                --------------  -----  \n",
      " 0   adult                 17425 non-null  int64  \n",
      " 1   budget                17425 non-null  int64  \n",
      " 2   genres                17410 non-null  object \n",
      " 3   original_language     17425 non-null  object \n",
      " 4   overview              17425 non-null  object \n",
      " 5   popularity            17425 non-null  float64\n",
      " 6   production_companies  16811 non-null  object \n",
      " 7   production_countries  17253 non-null  object \n",
      " 8   revenue               17425 non-null  int64  \n",
      " 9   runtime               17425 non-null  float64\n",
      " 10  spoken_languages      17376 non-null  object \n",
      " 11  status                17425 non-null  object \n",
      " 12  tagline               17425 non-null  object \n",
      " 13  video                 17425 non-null  int64  \n",
      " 14  vote_average          17425 non-null  float64\n",
      " 15  vote_count            17425 non-null  float64\n",
      " 16  cast                  17404 non-null  object \n",
      " 17  directors             17415 non-null  object \n",
      " 18  release_year          17425 non-null  int64  \n",
      " 19  release_month         17425 non-null  int64  \n",
      " 20  release_day           17425 non-null  int64  \n",
      " 21  category              17425 non-null  object \n",
      "dtypes: float64(4), int64(7), object(11)\n",
      "memory usage: 2.9+ MB\n",
      "None\n",
      "   adult  budget         genres original_language  \\\n",
      "0      0       0  Drama,Western                en   \n",
      "1      0       0    Documentary                fr   \n",
      "2      0       0        History                it   \n",
      "3      0       0          Drama                en   \n",
      "4      0       0        Western                en   \n",
      "\n",
      "                                            overview  popularity  \\\n",
      "0  A fiercely independent cowboy arranges to have...       8.262   \n",
      "1  Documents the lives of infamous fakers Elmyr d...       7.830   \n",
      "2  While on holiday in Rhodes, Athenian war hero ...       9.668   \n",
      "3  In early 1960s London, barrister Melville Farr...       5.896   \n",
      "4  Respected black cavalry Sergeant Brax Rutledge...       6.003   \n",
      "\n",
      "                                production_companies  \\\n",
      "0                                   Joel Productions   \n",
      "1                                   SACI,Janus Films   \n",
      "2  Produzioni Atlas Consorziate,Procusa,Comptoir ...   \n",
      "3                                                NaN   \n",
      "4        John Ford Productions,Warner Bros. Pictures   \n",
      "\n",
      "       production_countries  revenue  runtime  ...  \\\n",
      "0  United States of America        0    107.0  ...   \n",
      "1       Germany,France,Iran        0     89.0  ...   \n",
      "2        Spain,France,Italy        0    127.0  ...   \n",
      "3            United Kingdom        0     90.0  ...   \n",
      "4  United States of America        0    111.0  ...   \n",
      "\n",
      "                                             tagline video vote_average  \\\n",
      "0               Life can never cage a man like this!     0          7.5   \n",
      "1                                            Unknown     0          7.5   \n",
      "2  A monster statue of bronze and stone...A fabul...     0          6.0   \n",
      "3  A Daring Picture About the World's Most Un-tal...     0          7.5   \n",
      "4  Forget all the suspense you have ever seen! Fo...     0          7.0   \n",
      "\n",
      "   vote_count                                               cast  \\\n",
      "0        70.0  Kirk Douglas,Gena Rowlands,Walter Matthau,Carr...   \n",
      "1       178.0  Orson Welles,Elmyr de Hory,Clifford Irving,Oja...   \n",
      "2        94.0  Rory Calhoun,Lea Massari,Georges Marchal,Conra...   \n",
      "3        57.0  Dirk Bogarde,Sylvia Syms,Dennis Price,Anthony ...   \n",
      "4        59.0  Jeffrey Hunter,Woody Strode,Constance Towers,B...   \n",
      "\n",
      "       directors release_year release_month  release_day  category  \n",
      "0   David Miller         1962             5           24     great  \n",
      "1   Orson Welles         1975             3           12     great  \n",
      "2   Sergio Leone         1961             6           15  mediocre  \n",
      "3  Basil Dearden         1961             8            1     great  \n",
      "4      John Ford         1960             5           18      good  \n",
      "\n",
      "[5 rows x 22 columns]\n"
     ]
    }
   ],
   "source": [
    "# Print info about the data\n",
    "print(df.info())\n",
    "print(df.head())"
   ]
  },
  {
   "cell_type": "markdown",
   "metadata": {},
   "source": [
    "# Score prediction"
   ]
  },
  {
   "cell_type": "code",
   "execution_count": 84,
   "metadata": {},
   "outputs": [],
   "source": [
    "X = df.drop(columns=['vote_average', 'category'])\n",
    "Y = df['category']\n"
   ]
  },
  {
   "cell_type": "code",
   "execution_count": 98,
   "metadata": {},
   "outputs": [
    {
     "name": "stdout",
     "output_type": "stream",
     "text": [
      "Training set size:  13940\n",
      "Test set size:  3485\n"
     ]
    }
   ],
   "source": [
    "X_train, X_test, Y_train, Y_test = train_test_split(X, Y, test_size=0.2, random_state=seed)\n",
    "\n",
    "# Encode target variable (Y) using LabelEncoder\n",
    "label_encoder = LabelEncoder()\n",
    "Y_train_encoded = label_encoder.fit_transform(Y_train)\n",
    "Y_test_encoded = label_encoder.transform(Y_test)\n",
    "\n",
    "\n",
    "print(\"Training set size: \", len(X_train))\n",
    "print(\"Test set size: \", len(X_test))"
   ]
  },
  {
   "cell_type": "markdown",
   "metadata": {},
   "source": [
    "# Feature encoding"
   ]
  },
  {
   "cell_type": "code",
   "execution_count": 86,
   "metadata": {},
   "outputs": [
    {
     "name": "stdout",
     "output_type": "stream",
     "text": [
      "<class 'pandas.core.frame.DataFrame'>\n",
      "RangeIndex: 17425 entries, 0 to 17424\n",
      "Data columns (total 20 columns):\n",
      " #   Column                Non-Null Count  Dtype  \n",
      "---  ------                --------------  -----  \n",
      " 0   adult                 17425 non-null  int64  \n",
      " 1   budget                17425 non-null  int64  \n",
      " 2   genres                17410 non-null  object \n",
      " 3   original_language     17425 non-null  object \n",
      " 4   overview              17425 non-null  object \n",
      " 5   popularity            17425 non-null  float64\n",
      " 6   production_companies  16811 non-null  object \n",
      " 7   production_countries  17253 non-null  object \n",
      " 8   revenue               17425 non-null  int64  \n",
      " 9   runtime               17425 non-null  float64\n",
      " 10  spoken_languages      17376 non-null  object \n",
      " 11  status                17425 non-null  object \n",
      " 12  tagline               17425 non-null  object \n",
      " 13  video                 17425 non-null  int64  \n",
      " 14  vote_count            17425 non-null  float64\n",
      " 15  cast                  17404 non-null  object \n",
      " 16  directors             17415 non-null  object \n",
      " 17  release_year          17425 non-null  int64  \n",
      " 18  release_month         17425 non-null  int64  \n",
      " 19  release_day           17425 non-null  int64  \n",
      "dtypes: float64(3), int64(7), object(10)\n",
      "memory usage: 2.7+ MB\n",
      "None\n"
     ]
    }
   ],
   "source": [
    "print(X.info())"
   ]
  },
  {
   "cell_type": "code",
   "execution_count": 87,
   "metadata": {},
   "outputs": [
    {
     "name": "stdout",
     "output_type": "stream",
     "text": [
      "   adult  budget         genres original_language  \\\n",
      "0      0       0  Drama,Western                en   \n",
      "1      0       0    Documentary                fr   \n",
      "2      0       0        History                it   \n",
      "3      0       0          Drama                en   \n",
      "4      0       0        Western                en   \n",
      "\n",
      "                                            overview  popularity  \\\n",
      "0  A fiercely independent cowboy arranges to have...       8.262   \n",
      "1  Documents the lives of infamous fakers Elmyr d...       7.830   \n",
      "2  While on holiday in Rhodes, Athenian war hero ...       9.668   \n",
      "3  In early 1960s London, barrister Melville Farr...       5.896   \n",
      "4  Respected black cavalry Sergeant Brax Rutledge...       6.003   \n",
      "\n",
      "                                production_companies  \\\n",
      "0                                   Joel Productions   \n",
      "1                                   SACI,Janus Films   \n",
      "2  Produzioni Atlas Consorziate,Procusa,Comptoir ...   \n",
      "3                                                NaN   \n",
      "4        John Ford Productions,Warner Bros. Pictures   \n",
      "\n",
      "       production_countries  revenue  runtime          spoken_languages  \\\n",
      "0  United States of America        0    107.0           Español,English   \n",
      "1       Germany,France,Iran        0     89.0  English,Français,Español   \n",
      "2        Spain,France,Italy        0    127.0                  Italiano   \n",
      "3            United Kingdom        0     90.0                   English   \n",
      "4  United States of America        0    111.0                   English   \n",
      "\n",
      "     status                                            tagline  video  \\\n",
      "0  Released               Life can never cage a man like this!      0   \n",
      "1  Released                                            Unknown      0   \n",
      "2  Released  A monster statue of bronze and stone...A fabul...      0   \n",
      "3  Released  A Daring Picture About the World's Most Un-tal...      0   \n",
      "4  Released  Forget all the suspense you have ever seen! Fo...      0   \n",
      "\n",
      "   vote_count                                               cast  \\\n",
      "0        70.0  Kirk Douglas,Gena Rowlands,Walter Matthau,Carr...   \n",
      "1       178.0  Orson Welles,Elmyr de Hory,Clifford Irving,Oja...   \n",
      "2        94.0  Rory Calhoun,Lea Massari,Georges Marchal,Conra...   \n",
      "3        57.0  Dirk Bogarde,Sylvia Syms,Dennis Price,Anthony ...   \n",
      "4        59.0  Jeffrey Hunter,Woody Strode,Constance Towers,B...   \n",
      "\n",
      "       directors  release_year  release_month  release_day  \n",
      "0   David Miller          1962              5           24  \n",
      "1   Orson Welles          1975              3           12  \n",
      "2   Sergio Leone          1961              6           15  \n",
      "3  Basil Dearden          1961              8            1  \n",
      "4      John Ford          1960              5           18  \n"
     ]
    }
   ],
   "source": [
    "print(X.head())"
   ]
  },
  {
   "cell_type": "code",
   "execution_count": 88,
   "metadata": {},
   "outputs": [],
   "source": [
    "# Define numerical, categorical, boolean, and text features\n",
    "from sklearn.pipeline import FunctionTransformer\n",
    "\n",
    "\n",
    "numerical_features = ['budget', 'revenue', 'popularity', 'runtime', 'vote_count', 'release_year', 'release_month', 'release_day']\n",
    "categorical_features = ['original_language', 'status']\n",
    "boolean_features = ['adult', 'video']\n",
    "text_features = ['overview', 'tagline']\n",
    "list_based_features = ['genres', 'production_companies', 'production_countries', 'cast', 'directors']\n",
    "\n",
    "# 1. Numerical transformer: Impute missing values and standardize\n",
    "numeric_transformer = Pipeline(steps=[\n",
    "    ('imputer', SimpleImputer(strategy='median')),\n",
    "    ('scaler', StandardScaler())\n",
    "])\n",
    "\n",
    "# 2. Categorical transformer: Impute missing values and one-hot encode\n",
    "categorical_transformer = Pipeline(steps=[\n",
    "    ('imputer', SimpleImputer(strategy='most_frequent')),\n",
    "    ('onehot', OneHotEncoder(handle_unknown='ignore'))\n",
    "])\n",
    "\n",
    "# 3. Boolean transformer: Ensure 0/1 values\n",
    "boolean_transformer = Pipeline(steps=[\n",
    "    ('imputer', SimpleImputer(strategy='most_frequent'))\n",
    "])\n",
    "\n",
    "# 4. Text transformer: Use TF-IDF for text columns\n",
    "text_transformer = Pipeline(steps=[\n",
    "    ('tfidf', TfidfVectorizer(stop_words='english', max_features=100))  # Adjust max_features as needed\n",
    "])\n",
    "\n",
    "# 5. List-based transformer: Convert list of items into count vectors (like multi-hot encoding)\n",
    "def list_to_str(column):\n",
    "    return column.apply(lambda x: ','.join(x) if isinstance(x, list) else '')\n",
    "\n",
    "list_transformer = Pipeline(steps=[\n",
    "    ('to_string', FunctionTransformer(list_to_str, validate=False)),\n",
    "    ('countvec', CountVectorizer(tokenizer=lambda x: x.split(','), max_features=100))  # Adjust max_features as needed\n",
    "])\n",
    "\n",
    "# Combine all transformers into a ColumnTransformer\n",
    "preprocessor = ColumnTransformer(\n",
    "    transformers=[\n",
    "        ('num', numeric_transformer, numerical_features),\n",
    "        ('cat', categorical_transformer, categorical_features),\n",
    "        ('bool', boolean_transformer, boolean_features),\n",
    "        ('overview', text_transformer, 'overview'),\n",
    "        ('tagline', text_transformer, 'tagline'),\n",
    "        ('genres', list_transformer, 'genres'),\n",
    "        ('production_companies', list_transformer, 'production_companies'),\n",
    "        ('production_countries', list_transformer, 'production_countries'),\n",
    "        ('cast', list_transformer, 'cast'),\n",
    "        ('directors', list_transformer, 'directors')\n",
    "    ]\n",
    ")\n",
    "\n"
   ]
  },
  {
   "cell_type": "markdown",
   "metadata": {},
   "source": [
    "# Opaque models"
   ]
  },
  {
   "cell_type": "markdown",
   "metadata": {},
   "source": [
    "## SVM"
   ]
  },
  {
   "cell_type": "code",
   "execution_count": 99,
   "metadata": {},
   "outputs": [
    {
     "name": "stderr",
     "output_type": "stream",
     "text": [
      "/usr/local/lib/python3.11/site-packages/sklearn/feature_extraction/text.py:525: UserWarning: The parameter 'token_pattern' will not be used since 'tokenizer' is not None'\n",
      "  warnings.warn(\n"
     ]
    },
    {
     "name": "stdout",
     "output_type": "stream",
     "text": [
      "Accuracy:  0.48321377331420373\n",
      "Predicted labels: ['mediocre' 'good' 'mediocre' ... 'good' 'good' 'good']\n"
     ]
    }
   ],
   "source": [
    "clf = svm.SVC(gamma='auto')\n",
    "\n",
    "# Define your pipeline with preprocessor\n",
    "svm_pipeline = Pipeline(steps=[\n",
    "    ('preprocessor', preprocessor),\n",
    "    ('svc', clf)\n",
    "])\n",
    "\n",
    "svm_pipeline.fit(X_train, Y_train_encoded)\n",
    "Y_pred = svm_pipeline.predict(X_test)\n",
    "\n",
    "# Convert predicted labels back to original categories\n",
    "Y_pred_labels = label_encoder.inverse_transform(Y_pred)\n",
    "\n",
    "accuracy = accuracy_score(Y_test_encoded, Y_pred)\n",
    "print(\"Accuracy: \", accuracy)\n",
    "\n",
    "# Optionally: Check predicted labels\n",
    "print(\"Predicted labels:\", Y_pred_labels)"
   ]
  },
  {
   "cell_type": "code",
   "execution_count": 100,
   "metadata": {},
   "outputs": [
    {
     "name": "stdout",
     "output_type": "stream",
     "text": [
      "Predicted labels: ['mediocre' 'good' 'mediocre' ... 'good' 'good' 'good']\n"
     ]
    }
   ],
   "source": [
    "# Optionally: Check predicted labels\n",
    "print(\"Predicted labels:\", Y_pred_labels)"
   ]
  },
  {
   "cell_type": "code",
   "execution_count": 101,
   "metadata": {},
   "outputs": [
    {
     "name": "stdout",
     "output_type": "stream",
     "text": [
      "category\n",
      "good        1381\n",
      "mediocre    1117\n",
      "great        631\n",
      "bad          356\n",
      "Name: count, dtype: int64\n"
     ]
    }
   ],
   "source": [
    "print(Y_test.value_counts())"
   ]
  },
  {
   "cell_type": "code",
   "execution_count": 102,
   "metadata": {},
   "outputs": [
    {
     "name": "stdout",
     "output_type": "stream",
     "text": [
      "category\n",
      "good        5683\n",
      "mediocre    4290\n",
      "great       2529\n",
      "bad         1438\n",
      "Name: count, dtype: int64\n"
     ]
    }
   ],
   "source": [
    "print(Y_train.value_counts())"
   ]
  },
  {
   "cell_type": "code",
   "execution_count": 103,
   "metadata": {},
   "outputs": [
    {
     "data": {
      "text/plain": [
       "<sklearn.metrics._plot.confusion_matrix.ConfusionMatrixDisplay at 0x1421470d0>"
      ]
     },
     "execution_count": 103,
     "metadata": {},
     "output_type": "execute_result"
    },
    {
     "data": {
      "image/png": "[encoded data removed]",
      "text/plain": [
       "<Figure size 640x480 with 2 Axes>"
      ]
     },
     "metadata": {},
     "output_type": "display_data"
    }
   ],
   "source": [
    "# Print confusion matrix for the model\n",
    "cm = confusion_matrix(Y_test_encoded, Y_pred)\n",
    "disp = ConfusionMatrixDisplay(confusion_matrix=cm, display_labels=label_encoder.classes_)\n",
    "disp.plot()"
   ]
  }
 ],
 "metadata": {
  "kernelspec": {
   "display_name": "Python 3",
   "language": "python",
   "name": "python3"
  },
  "language_info": {
   "codemirror_mode": {
    "name": "ipython",
    "version": 3
   },
   "file_extension": ".py",
   "mimetype": "text/x-python",
   "name": "python",
   "nbconvert_exporter": "python",
   "pygments_lexer": "ipython3",
   "version": "3.11.7"
  }
 },
 "nbformat": 4,
 "nbformat_minor": 2
}
