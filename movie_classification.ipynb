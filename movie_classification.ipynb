{
 "cells": [
  {
   "cell_type": "code",
   "execution_count": 64,
   "metadata": {},
   "outputs": [],
   "source": [
    "import pandas as pd\n",
    "import numpy as np\n",
    "import matplotlib.pyplot as plt\n",
    "import seaborn as sns\n",
    "from sklearn.model_selection import train_test_split, GridSearchCV, RandomizedSearchCV\n",
    "\n",
    "from scipy.stats import randint, uniform\n",
    "from sklearn.neighbors import KNeighborsClassifier\n",
    "from sklearn.metrics import accuracy_score, confusion_matrix, ConfusionMatrixDisplay, log_loss\n",
    "from tqdm.auto import tqdm\n",
    "from sklearn.naive_bayes import GaussianNB\n",
    "from sklearn.tree import DecisionTreeClassifier\n",
    "from sklearn.ensemble import RandomForestClassifier\n",
    "from sklearn.linear_model import LogisticRegression\n",
    "from sklearn.ensemble import AdaBoostClassifier\n",
    "from sklearn.ensemble import BaggingClassifier\n",
    "from sklearn.discriminant_analysis import StandardScaler\n",
    "from sklearn.pipeline import make_pipeline\n",
    "from sklearn import svm\n",
    "from sklearn.model_selection import cross_val_score\n",
    "from sklearn.metrics import log_loss\n",
    "from sklearn.preprocessing import label_binarize"
   ]
  },
  {
   "cell_type": "code",
   "execution_count": 65,
   "metadata": {},
   "outputs": [],
   "source": [
    "# Read cleaned data from csv\n",
    "df = pd.read_csv('input/movie_data_tmbd_cleaned.csv', sep='|')"
   ]
  },
  {
   "cell_type": "code",
   "execution_count": 66,
   "metadata": {},
   "outputs": [
    {
     "name": "stdout",
     "output_type": "stream",
     "text": [
      "<class 'pandas.core.frame.DataFrame'>\n",
      "RangeIndex: 17426 entries, 0 to 17425\n",
      "Data columns (total 27 columns):\n",
      " #   Column                 Non-Null Count  Dtype  \n",
      "---  ------                 --------------  -----  \n",
      " 0   adult                  17426 non-null  bool   \n",
      " 1   backdrop_path          16267 non-null  object \n",
      " 2   belongs_to_collection  3369 non-null   object \n",
      " 3   budget                 17426 non-null  int64  \n",
      " 4   genres                 17426 non-null  object \n",
      " 5   homepage               4959 non-null   object \n",
      " 6   id                     17426 non-null  float64\n",
      " 7   imdb_id                17420 non-null  object \n",
      " 8   original_language      17426 non-null  object \n",
      " 9   original_title         17426 non-null  object \n",
      " 10  overview               17365 non-null  object \n",
      " 11  popularity             17426 non-null  float64\n",
      " 12  poster_path            17426 non-null  object \n",
      " 13  production_companies   17426 non-null  object \n",
      " 14  production_countries   17426 non-null  object \n",
      " 15  release_date           17425 non-null  object \n",
      " 16  revenue                17426 non-null  int64  \n",
      " 17  runtime                17426 non-null  float64\n",
      " 18  spoken_languages       17426 non-null  object \n",
      " 19  status                 17426 non-null  object \n",
      " 20  tagline                11746 non-null  object \n",
      " 21  title                  17426 non-null  object \n",
      " 22  video                  17426 non-null  bool   \n",
      " 23  vote_average           17426 non-null  float64\n",
      " 24  vote_count             17426 non-null  float64\n",
      " 25  cast                   17426 non-null  object \n",
      " 26  directors              17426 non-null  object \n",
      "dtypes: bool(2), float64(5), int64(2), object(18)\n",
      "memory usage: 3.4+ MB\n",
      "None\n",
      "   adult                     backdrop_path belongs_to_collection  budget  \\\n",
      "0  False   /7hbpOpGDOYZ4G8ddLuzNmzxZP6.jpg                   NaN       0   \n",
      "1  False  /28a0wvZb8kyjVBd6BcPEnrHbrhm.jpg                   NaN       0   \n",
      "2  False  /lJPzIsddMSc7aGqv6T25uwG7fzm.jpg                   NaN       0   \n",
      "3  False  /lFTIB7obHpTYTMOruePsxigthQN.jpg                   NaN       0   \n",
      "4  False  /jHuEVaTKVJPQtMeSt4uzVFbTsH3.jpg                   NaN       0   \n",
      "\n",
      "                                              genres homepage       id  \\\n",
      "0  [{'id': 18, 'name': 'Drama'}, {'id': 37, 'name...      NaN  43002.0   \n",
      "1                [{'id': 99, 'name': 'Documentary'}]      NaN  43003.0   \n",
      "2                    [{'id': 36, 'name': 'History'}]      NaN  43020.0   \n",
      "3                      [{'id': 18, 'name': 'Drama'}]      NaN  43028.0   \n",
      "4                    [{'id': 37, 'name': 'Western'}]      NaN  43040.0   \n",
      "\n",
      "     imdb_id original_language        original_title  ... runtime  \\\n",
      "0  tt0056195                en  Lonely Are the Brave  ...   107.0   \n",
      "1  tt0072962                fr  Vérités et Mensonges  ...    89.0   \n",
      "2  tt0054756                it    Il colosso di Rodi  ...   127.0   \n",
      "3  tt0055597                en                Victim  ...    90.0   \n",
      "4  tt0054292                en     Sergeant Rutledge  ...   111.0   \n",
      "\n",
      "                                    spoken_languages    status  \\\n",
      "0  [{'iso_639_1': 'es', 'name': 'Español'}, {'iso...  Released   \n",
      "1  [{'iso_639_1': 'en', 'name': 'English'}, {'iso...  Released   \n",
      "2          [{'iso_639_1': 'it', 'name': 'Italiano'}]  Released   \n",
      "3           [{'iso_639_1': 'en', 'name': 'English'}]  Released   \n",
      "4           [{'iso_639_1': 'en', 'name': 'English'}]  Released   \n",
      "\n",
      "                                             tagline                   title  \\\n",
      "0               Life can never cage a man like this!    Lonely Are the Brave   \n",
      "1                                                NaN              F for Fake   \n",
      "2  A monster statue of bronze and stone...A fabul...  The Colossus of Rhodes   \n",
      "3  A Daring Picture About the World's Most Un-tal...                  Victim   \n",
      "4  Forget all the suspense you have ever seen! Fo...       Sergeant Rutledge   \n",
      "\n",
      "   video  vote_average  vote_count  \\\n",
      "0  False           7.5        70.0   \n",
      "1  False           7.5       178.0   \n",
      "2  False           6.1        94.0   \n",
      "3  False           7.3        57.0   \n",
      "4  False           7.2        59.0   \n",
      "\n",
      "                                                cast  \\\n",
      "0  [{'cast_id': 1, 'character': 'John W. \"Jack\" B...   \n",
      "1  [{'cast_id': 3, 'character': 'Himself', 'credi...   \n",
      "2  [{'cast_id': 3, 'character': 'Dario', 'credit_...   \n",
      "3  [{'cast_id': 4, 'character': 'Melville Farr', ...   \n",
      "4  [{'cast_id': 2, 'character': 'Lt. Tom Cantrell...   \n",
      "\n",
      "                                           directors  \n",
      "0  [{'credit_id': '52fe4626c3a36847f80ef733', 'de...  \n",
      "1  [{'credit_id': '52fe4626c3a36847f80ef75b', 'de...  \n",
      "2  [{'credit_id': '52fe4627c3a36847f80efb67', 'de...  \n",
      "3  [{'credit_id': '52fe4627c3a36847f80efcaf', 'de...  \n",
      "4  [{'credit_id': '52fe4628c3a36847f80f0053', 'de...  \n",
      "\n",
      "[5 rows x 27 columns]\n"
     ]
    }
   ],
   "source": [
    "# Print info about the data\n",
    "print(df.info())\n",
    "print(df.head())"
   ]
  },
  {
   "cell_type": "markdown",
   "metadata": {},
   "source": [
    "# Scoring prediction"
   ]
  },
  {
   "cell_type": "code",
   "execution_count": 67,
   "metadata": {},
   "outputs": [
    {
     "name": "stdout",
     "output_type": "stream",
     "text": [
      "         original_title original_language release_date  popularity  \\\n",
      "0  Lonely Are the Brave                en   1962-05-24       8.262   \n",
      "1  Vérités et Mensonges                fr   1975-03-12       7.830   \n",
      "2    Il colosso di Rodi                it   1961-06-15       9.668   \n",
      "3                Victim                en   1961-08-01       5.896   \n",
      "4     Sergeant Rutledge                en   1960-05-18       6.003   \n",
      "\n",
      "   vote_count                                             genres  \\\n",
      "0        70.0  [{'id': 18, 'name': 'Drama'}, {'id': 37, 'name...   \n",
      "1       178.0                [{'id': 99, 'name': 'Documentary'}]   \n",
      "2        94.0                    [{'id': 36, 'name': 'History'}]   \n",
      "3        57.0                      [{'id': 18, 'name': 'Drama'}]   \n",
      "4        59.0                    [{'id': 37, 'name': 'Western'}]   \n",
      "\n",
      "                                            overview  budget  revenue  \\\n",
      "0  A fiercely independent cowboy arranges to have...       0        0   \n",
      "1  Documents the lives of infamous fakers Elmyr d...       0        0   \n",
      "2  While on holiday in Rhodes, Athenian war hero ...       0        0   \n",
      "3  In early 1960s London, barrister Melville Farr...       0        0   \n",
      "4  Respected black cavalry Sergeant Brax Rutledge...       0        0   \n",
      "\n",
      "                                    spoken_languages  runtime  vote_average  \n",
      "0  [{'iso_639_1': 'es', 'name': 'Español'}, {'iso...    107.0           7.5  \n",
      "1  [{'iso_639_1': 'en', 'name': 'English'}, {'iso...     89.0           7.5  \n",
      "2          [{'iso_639_1': 'it', 'name': 'Italiano'}]    127.0           6.1  \n",
      "3           [{'iso_639_1': 'en', 'name': 'English'}]     90.0           7.3  \n",
      "4           [{'iso_639_1': 'en', 'name': 'English'}]    111.0           7.2  \n"
     ]
    }
   ],
   "source": [
    "# Take only the columns we need\n",
    "df = df[['original_title', 'original_language', 'release_date', 'popularity', 'vote_count', 'genres', 'overview', 'budget', 'revenue', 'spoken_languages', 'runtime', 'vote_average']]\n",
    "print(df.head())"
   ]
  },
  {
   "cell_type": "code",
   "execution_count": 68,
   "metadata": {},
   "outputs": [
    {
     "name": "stdout",
     "output_type": "stream",
     "text": [
      "Axes(0.125,0.11;0.775x0.77)\n"
     ]
    },
    {
     "data": {
      "image/png": "[encoded data removed]",
      "text/plain": [
       "<Figure size 640x480 with 1 Axes>"
      ]
     },
     "metadata": {},
     "output_type": "display_data"
    }
   ],
   "source": [
    "# Map 'vote_average' to nearest 0.5\n",
    "df['vote_average'] = ((df['vote_average'] * 2).round() / 2)\n",
    "print(df['vote_average'].value_counts().sort_index().plot(kind='bar'))"
   ]
  },
  {
   "cell_type": "code",
   "execution_count": 69,
   "metadata": {},
   "outputs": [
    {
     "name": "stdout",
     "output_type": "stream",
     "text": [
      "category\n",
      "good        7064\n",
      "mediocre    5407\n",
      "great       3161\n",
      "bad         1794\n",
      "Name: count, dtype: int64\n"
     ]
    }
   ],
   "source": [
    "#Group vote_average into categories:\n",
    "# 0.0-5.0 -> bad\n",
    "# 5.5-6.0 -> mediocre\n",
    "# 6.5-7.0 -> good\n",
    "# 7.5-9.9 -> great\n",
    "\n",
    "# Define the bins and labels\n",
    "bins = [0.0, 5.0, 6.0, 7.0, 9.9]\n",
    "labels = ['bad', 'mediocre', 'good', 'great']\n",
    "\n",
    "# Group vote_average into categories\n",
    "df['category'] = pd.cut(df['vote_average'], bins=bins, labels=labels, right=True)\n",
    "\n",
    "# Display the DataFrame\n",
    "print(df['category'].value_counts())"
   ]
  },
  {
   "cell_type": "code",
   "execution_count": 70,
   "metadata": {},
   "outputs": [],
   "source": [
    "# For now drop non-numerical columns\n",
    "df = df.drop(columns=['original_title', 'original_language', 'release_date', 'genres', 'overview', 'spoken_languages'])"
   ]
  },
  {
   "cell_type": "code",
   "execution_count": 71,
   "metadata": {},
   "outputs": [
    {
     "name": "stdout",
     "output_type": "stream",
     "text": [
      "<class 'pandas.core.frame.DataFrame'>\n",
      "RangeIndex: 17426 entries, 0 to 17425\n",
      "Data columns (total 7 columns):\n",
      " #   Column        Non-Null Count  Dtype   \n",
      "---  ------        --------------  -----   \n",
      " 0   popularity    17426 non-null  float64 \n",
      " 1   vote_count    17426 non-null  float64 \n",
      " 2   budget        17426 non-null  int64   \n",
      " 3   revenue       17426 non-null  int64   \n",
      " 4   runtime       17426 non-null  float64 \n",
      " 5   vote_average  17426 non-null  float64 \n",
      " 6   category      17426 non-null  category\n",
      "dtypes: category(1), float64(4), int64(2)\n",
      "memory usage: 834.2 KB\n",
      "None\n",
      "Duplicates: 1\n"
     ]
    }
   ],
   "source": [
    "print(df.info())\n",
    "print(\"Duplicates: \" + str(df.duplicated().sum()))"
   ]
  },
  {
   "cell_type": "code",
   "execution_count": 72,
   "metadata": {},
   "outputs": [],
   "source": [
    "X = df.drop(columns=['vote_average', 'category'])\n",
    "Y = df['category']\n"
   ]
  },
  {
   "cell_type": "code",
   "execution_count": 73,
   "metadata": {},
   "outputs": [
    {
     "name": "stdout",
     "output_type": "stream",
     "text": [
      "Training set size:  13940\n",
      "Test set size:  3486\n"
     ]
    }
   ],
   "source": [
    "X_train, X_test, Y_train, Y_test = train_test_split(X, Y, test_size=0.2, random_state=42)\n",
    "\n",
    "print(\"Training set size: \", len(X_train))\n",
    "print(\"Test set size: \", len(X_test))"
   ]
  },
  {
   "cell_type": "markdown",
   "metadata": {},
   "source": [
    "# Opaque models"
   ]
  },
  {
   "cell_type": "markdown",
   "metadata": {},
   "source": [
    "## SVM"
   ]
  },
  {
   "cell_type": "code",
   "execution_count": 74,
   "metadata": {},
   "outputs": [
    {
     "name": "stdout",
     "output_type": "stream",
     "text": [
      "Accuracy:  0.39615605278255883\n"
     ]
    }
   ],
   "source": [
    "# clf = make_pipeline(StandardScaler(), svm.SVC(gamma='auto'))\n",
    "clf = svm.SVC(gamma='auto')\n",
    "clf.fit(X_train, Y_train)\n",
    "Y_pred = clf.predict(X_test)\n",
    "\n",
    "accuracy = accuracy_score(Y_test, Y_pred)\n",
    "print(\"Accuracy: \", accuracy)"
   ]
  },
  {
   "cell_type": "code",
   "execution_count": 75,
   "metadata": {},
   "outputs": [
    {
     "name": "stdout",
     "output_type": "stream",
     "text": [
      "['bad', 'good', 'great', 'mediocre']\n"
     ]
    }
   ],
   "source": [
    "print(sorted(Y_test.unique()))"
   ]
  },
  {
   "cell_type": "code",
   "execution_count": 76,
   "metadata": {},
   "outputs": [
    {
     "name": "stdout",
     "output_type": "stream",
     "text": [
      "category\n",
      "good        1398\n",
      "mediocre    1098\n",
      "great        642\n",
      "bad          348\n",
      "Name: count, dtype: int64\n"
     ]
    }
   ],
   "source": [
    "print(Y_test.value_counts())"
   ]
  },
  {
   "cell_type": "code",
   "execution_count": 78,
   "metadata": {},
   "outputs": [
    {
     "data": {
      "text/plain": [
       "<sklearn.metrics._plot.confusion_matrix.ConfusionMatrixDisplay at 0x1433d91d0>"
      ]
     },
     "execution_count": 78,
     "metadata": {},
     "output_type": "execute_result"
    },
    {
     "data": {
      "image/png": "[encoded data removed]",
      "text/plain": [
       "<Figure size 640x480 with 2 Axes>"
      ]
     },
     "metadata": {},
     "output_type": "display_data"
    }
   ],
   "source": [
    "# Print confusion matrix for the model\n",
    "cm = confusion_matrix(Y_test, Y_pred)\n",
    "disp = ConfusionMatrixDisplay(confusion_matrix=cm, display_labels=sorted(Y_test.unique()))\n",
    "disp.plot()"
   ]
  }
 ],
 "metadata": {
  "kernelspec": {
   "display_name": "Python 3",
   "language": "python",
   "name": "python3"
  },
  "language_info": {
   "codemirror_mode": {
    "name": "ipython",
    "version": 3
   },
   "file_extension": ".py",
   "mimetype": "text/x-python",
   "name": "python",
   "nbconvert_exporter": "python",
   "pygments_lexer": "ipython3",
   "version": "3.11.7"
  }
 },
 "nbformat": 4,
 "nbformat_minor": 2
}
