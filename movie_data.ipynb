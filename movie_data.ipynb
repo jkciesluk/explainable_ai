{
 "cells": [
  {
   "cell_type": "markdown",
   "metadata": {},
   "source": [
    "# Loading the data"
   ]
  },
  {
   "cell_type": "code",
   "execution_count": 5,
   "metadata": {},
   "outputs": [],
   "source": [
    "import pandas as pd\n",
    "import ast\n"
   ]
  },
  {
   "cell_type": "code",
   "execution_count": 6,
   "metadata": {},
   "outputs": [],
   "source": [
    "# First you need to download the data from https://www.kaggle.com/datasets/kakarlaramcharan/tmdb-data-0920\n",
    "# Unzip it and place it in the `input` directory"
   ]
  },
  {
   "cell_type": "code",
   "execution_count": 7,
   "metadata": {},
   "outputs": [],
   "source": [
    "# Import data from input/movie_data_tmbd.csv, use engine=python, because the file is too big for the default engine\n",
    "df = pd.read_csv('input/movie_data_tmbd.csv', sep='|', engine='python')"
   ]
  },
  {
   "cell_type": "code",
   "execution_count": 8,
   "metadata": {},
   "outputs": [
    {
     "name": "stdout",
     "output_type": "stream",
     "text": [
      "<class 'pandas.core.frame.DataFrame'>\n",
      "RangeIndex: 119938 entries, 0 to 119937\n",
      "Data columns (total 27 columns):\n",
      " #   Column                 Non-Null Count   Dtype  \n",
      "---  ------                 --------------   -----  \n",
      " 0   adult                  119938 non-null  object \n",
      " 1   backdrop_path          67084 non-null   object \n",
      " 2   belongs_to_collection  9488 non-null    object \n",
      " 3   budget                 119394 non-null  object \n",
      " 4   genres                 119394 non-null  object \n",
      " 5   homepage               20134 non-null   object \n",
      " 6   id                     119394 non-null  float64\n",
      " 7   imdb_id                114477 non-null  object \n",
      " 8   original_language      119394 non-null  object \n",
      " 9   original_title         119394 non-null  object \n",
      " 10  overview               116539 non-null  object \n",
      " 11  popularity             119073 non-null  object \n",
      " 12  poster_path            119073 non-null  object \n",
      " 13  production_companies   119073 non-null  object \n",
      " 14  production_countries   119073 non-null  object \n",
      " 15  release_date           118644 non-null  object \n",
      " 16  revenue                119073 non-null  object \n",
      " 17  runtime                118752 non-null  float64\n",
      " 18  spoken_languages       118752 non-null  object \n",
      " 19  status                 118752 non-null  object \n",
      " 20  tagline                39313 non-null   object \n",
      " 21  title                  118752 non-null  object \n",
      " 22  video                  118752 non-null  object \n",
      " 23  vote_average           118752 non-null  float64\n",
      " 24  vote_count             118752 non-null  float64\n",
      " 25  cast                   118752 non-null  object \n",
      " 26  directors              118752 non-null  object \n",
      "dtypes: float64(4), object(23)\n",
      "memory usage: 24.7+ MB\n",
      "None\n",
      "   adult                     backdrop_path belongs_to_collection  budget  \\\n",
      "0  False  /zjLR7DbWujKiG7VhtjQ4r3gsjou.jpg                   NaN       0   \n",
      "1  False                               NaN                   NaN       0   \n",
      "2  False   /7hbpOpGDOYZ4G8ddLuzNmzxZP6.jpg                   NaN       0   \n",
      "3  False  /28a0wvZb8kyjVBd6BcPEnrHbrhm.jpg                   NaN       0   \n",
      "4  False  /bQzj8DnIghVqUSe5EsH4uTV3jQb.jpg                   NaN  500000   \n",
      "\n",
      "                                              genres homepage       id  \\\n",
      "0  [{'id': 35, 'name': 'Comedy'}, {'id': 18, 'nam...      NaN  43000.0   \n",
      "1                      [{'id': 18, 'name': 'Drama'}]      NaN  43001.0   \n",
      "2  [{'id': 18, 'name': 'Drama'}, {'id': 37, 'name...      NaN  43002.0   \n",
      "3                [{'id': 99, 'name': 'Documentary'}]      NaN  43003.0   \n",
      "4  [{'id': 18, 'name': 'Drama'}, {'id': 36, 'name...      NaN  43004.0   \n",
      "\n",
      "     imdb_id original_language                            original_title  ...  \\\n",
      "0  tt0055827                fr                        Le Caporal épinglé  ...   \n",
      "1  tt0055910                fr  Cybèle ou les dimanches de ville d'Avray  ...   \n",
      "2  tt0056195                en                      Lonely Are the Brave  ...   \n",
      "3  tt0072962                fr                      Vérités et Mensonges  ...   \n",
      "4  tt0056196                en             Long Day's Journey Into Night  ...   \n",
      "\n",
      "  runtime                                   spoken_languages    status  \\\n",
      "0    90.0  [{'iso_639_1': 'fr', 'name': 'Français'}, {'is...  Released   \n",
      "1   110.0          [{'iso_639_1': 'fr', 'name': 'Français'}]  Released   \n",
      "2   107.0  [{'iso_639_1': 'es', 'name': 'Español'}, {'iso...  Released   \n",
      "3    89.0  [{'iso_639_1': 'en', 'name': 'English'}, {'iso...  Released   \n",
      "4   174.0           [{'iso_639_1': 'en', 'name': 'English'}]  Released   \n",
      "\n",
      "                                tagline                          title  video  \\\n",
      "0                                   NaN           The Elusive Corporal  False   \n",
      "1                                   NaN             Sundays and Cybele  False   \n",
      "2  Life can never cage a man like this!           Lonely Are the Brave  False   \n",
      "3                                   NaN                     F for Fake  False   \n",
      "4       PRIDE...POWER...PASSION...PAIN!  Long Day's Journey Into Night  False   \n",
      "\n",
      "  vote_average  vote_count                                               cast  \\\n",
      "0          5.9        10.0  [{'cast_id': 3, 'character': 'Caporal', 'credi...   \n",
      "1          7.4        28.0  [{'cast_id': 4, 'character': 'Pierre', 'credit...   \n",
      "2          7.5        70.0  [{'cast_id': 1, 'character': 'John W. \"Jack\" B...   \n",
      "3          7.5       178.0  [{'cast_id': 3, 'character': 'Himself', 'credi...   \n",
      "4          6.9        32.0  [{'cast_id': 1, 'character': 'Mary Tyrone', 'c...   \n",
      "\n",
      "                                           directors  \n",
      "0  [{'credit_id': '52fe4626c3a36847f80ef68b', 'de...  \n",
      "1  [{'credit_id': '52fe4626c3a36847f80ef6c7', 'de...  \n",
      "2  [{'credit_id': '52fe4626c3a36847f80ef733', 'de...  \n",
      "3  [{'credit_id': '52fe4626c3a36847f80ef75b', 'de...  \n",
      "4  [{'credit_id': '52fe4626c3a36847f80ef791', 'de...  \n",
      "\n",
      "[5 rows x 27 columns]\n"
     ]
    }
   ],
   "source": [
    "# Print info about the data\n",
    "print(df.info())\n",
    "print(df.head())\n"
   ]
  },
  {
   "cell_type": "code",
   "execution_count": 9,
   "metadata": {},
   "outputs": [
    {
     "name": "stdout",
     "output_type": "stream",
     "text": [
      "119938\n",
      "29817\n"
     ]
    }
   ],
   "source": [
    "# How many titles are there in the dataset?\n",
    "print(df.shape[0])\n",
    "# How many titles have no less than 10 votes?\n",
    "print(df[df['vote_count'] >= 20].shape[0])"
   ]
  },
  {
   "cell_type": "code",
   "execution_count": 10,
   "metadata": {},
   "outputs": [],
   "source": [
    "# Drop rows with less than 10 votes\n",
    "df = df[df['vote_count'] >= 20]"
   ]
  },
  {
   "cell_type": "code",
   "execution_count": 11,
   "metadata": {},
   "outputs": [
    {
     "name": "stdout",
     "output_type": "stream",
     "text": [
      "vote_average\n",
      "6    12136\n",
      "5     7170\n",
      "7     6965\n",
      "4     2226\n",
      "8      683\n",
      "3      510\n",
      "2      103\n",
      "9       12\n",
      "1       12\n",
      "Name: count, dtype: int64\n"
     ]
    }
   ],
   "source": [
    "print(df['vote_average'].map(lambda x: int(x)).value_counts())"
   ]
  },
  {
   "cell_type": "code",
   "execution_count": 27,
   "metadata": {},
   "outputs": [
    {
     "name": "stdout",
     "output_type": "stream",
     "text": [
      "Axes(0.125,0.11;0.775x0.77)\n"
     ]
    },
    {
     "data": {
      "image/png": "[encoded data removed]",
      "text/plain": [
       "<Figure size 640x480 with 1 Axes>"
      ]
     },
     "metadata": {},
     "output_type": "display_data"
    }
   ],
   "source": [
    "# Map 'vote_average' to nearest 0.5\n",
    "print(((df['vote_average'] * 2).round() / 2).value_counts().sort_index().plot(kind='bar'))\n"
   ]
  },
  {
   "cell_type": "markdown",
   "metadata": {},
   "source": [
    "# Data preprocessing"
   ]
  },
  {
   "cell_type": "code",
   "execution_count": 28,
   "metadata": {},
   "outputs": [
    {
     "name": "stdout",
     "output_type": "stream",
     "text": [
      "<class 'pandas.core.frame.DataFrame'>\n",
      "Index: 29817 entries, 1 to 119916\n",
      "Data columns (total 27 columns):\n",
      " #   Column                 Non-Null Count  Dtype  \n",
      "---  ------                 --------------  -----  \n",
      " 0   adult                  29817 non-null  object \n",
      " 1   backdrop_path          25473 non-null  object \n",
      " 2   belongs_to_collection  4804 non-null   object \n",
      " 3   budget                 29817 non-null  object \n",
      " 4   genres                 29817 non-null  object \n",
      " 5   homepage               7273 non-null   object \n",
      " 6   id                     29817 non-null  float64\n",
      " 7   imdb_id                29790 non-null  object \n",
      " 8   original_language      29817 non-null  object \n",
      " 9   original_title         29817 non-null  object \n",
      " 10  overview               29655 non-null  object \n",
      " 11  popularity             29817 non-null  object \n",
      " 12  poster_path            29817 non-null  object \n",
      " 13  production_companies   29817 non-null  object \n",
      " 14  production_countries   29817 non-null  object \n",
      " 15  release_date           29816 non-null  object \n",
      " 16  revenue                29817 non-null  object \n",
      " 17  runtime                29817 non-null  float64\n",
      " 18  spoken_languages       29817 non-null  object \n",
      " 19  status                 29817 non-null  object \n",
      " 20  tagline                16974 non-null  object \n",
      " 21  title                  29817 non-null  object \n",
      " 22  video                  29817 non-null  object \n",
      " 23  vote_average           29817 non-null  float64\n",
      " 24  vote_count             29817 non-null  float64\n",
      " 25  cast                   29817 non-null  object \n",
      " 26  directors              29817 non-null  object \n",
      "dtypes: float64(4), object(23)\n",
      "memory usage: 6.4+ MB\n",
      "None\n",
      "   adult                     backdrop_path belongs_to_collection  budget  \\\n",
      "1  False                               NaN                   NaN       0   \n",
      "2  False   /7hbpOpGDOYZ4G8ddLuzNmzxZP6.jpg                   NaN       0   \n",
      "3  False  /28a0wvZb8kyjVBd6BcPEnrHbrhm.jpg                   NaN       0   \n",
      "4  False  /bQzj8DnIghVqUSe5EsH4uTV3jQb.jpg                   NaN  500000   \n",
      "7  False  /nbUnIkRlBmUEnI3Y9shgirevAvc.jpg                   NaN       0   \n",
      "\n",
      "                                              genres homepage       id  \\\n",
      "1                      [{'id': 18, 'name': 'Drama'}]      NaN  43001.0   \n",
      "2  [{'id': 18, 'name': 'Drama'}, {'id': 37, 'name...      NaN  43002.0   \n",
      "3                [{'id': 99, 'name': 'Documentary'}]      NaN  43003.0   \n",
      "4  [{'id': 18, 'name': 'Drama'}, {'id': 36, 'name...      NaN  43004.0   \n",
      "7                    [{'id': 37, 'name': 'Western'}]      NaN  43008.0   \n",
      "\n",
      "     imdb_id original_language                            original_title  ...  \\\n",
      "1  tt0055910                fr  Cybèle ou les dimanches de ville d'Avray  ...   \n",
      "2  tt0056195                en                      Lonely Are the Brave  ...   \n",
      "3  tt0072962                fr                      Vérités et Mensonges  ...   \n",
      "4  tt0056196                en             Long Day's Journey Into Night  ...   \n",
      "7  tt0052876                en                          The Hanging Tree  ...   \n",
      "\n",
      "  runtime                                   spoken_languages    status  \\\n",
      "1   110.0          [{'iso_639_1': 'fr', 'name': 'Français'}]  Released   \n",
      "2   107.0  [{'iso_639_1': 'es', 'name': 'Español'}, {'iso...  Released   \n",
      "3    89.0  [{'iso_639_1': 'en', 'name': 'English'}, {'iso...  Released   \n",
      "4   174.0           [{'iso_639_1': 'en', 'name': 'English'}]  Released   \n",
      "7   107.0           [{'iso_639_1': 'en', 'name': 'English'}]  Released   \n",
      "\n",
      "                                             tagline  \\\n",
      "1                                                NaN   \n",
      "2               Life can never cage a man like this!   \n",
      "3                                                NaN   \n",
      "4                    PRIDE...POWER...PASSION...PAIN!   \n",
      "7  From The Prize Novel -- A Picture Of Thunderin...   \n",
      "\n",
      "                           title  video vote_average  vote_count  \\\n",
      "1             Sundays and Cybele  False          7.4        28.0   \n",
      "2           Lonely Are the Brave  False          7.5        70.0   \n",
      "3                     F for Fake  False          7.5       178.0   \n",
      "4  Long Day's Journey Into Night  False          6.9        32.0   \n",
      "7               The Hanging Tree  False          6.6        47.0   \n",
      "\n",
      "                                                cast  \\\n",
      "1  [{'cast_id': 4, 'character': 'Pierre', 'credit...   \n",
      "2  [{'cast_id': 1, 'character': 'John W. \"Jack\" B...   \n",
      "3  [{'cast_id': 3, 'character': 'Himself', 'credi...   \n",
      "4  [{'cast_id': 1, 'character': 'Mary Tyrone', 'c...   \n",
      "7  [{'cast_id': 2, 'character': \"Dr. Joseph 'Doc'...   \n",
      "\n",
      "                                           directors  \n",
      "1  [{'credit_id': '52fe4626c3a36847f80ef6c7', 'de...  \n",
      "2  [{'credit_id': '52fe4626c3a36847f80ef733', 'de...  \n",
      "3  [{'credit_id': '52fe4626c3a36847f80ef75b', 'de...  \n",
      "4  [{'credit_id': '52fe4626c3a36847f80ef791', 'de...  \n",
      "7  [{'credit_id': '52fe4626c3a36847f80ef88b', 'de...  \n",
      "\n",
      "[5 rows x 27 columns]\n"
     ]
    }
   ],
   "source": [
    "# Print info about the data\n",
    "print(df.info())\n",
    "print(df.head())"
   ]
  },
  {
   "cell_type": "code",
   "execution_count": 29,
   "metadata": {},
   "outputs": [
    {
     "name": "stdout",
     "output_type": "stream",
     "text": [
      "12843\n",
      "162\n"
     ]
    }
   ],
   "source": [
    "# Find missing values in `tagline`, `overview`\n",
    "print(df['tagline'].isna().sum())\n",
    "print(df['overview'].isna().sum())"
   ]
  },
  {
   "cell_type": "code",
   "execution_count": 30,
   "metadata": {},
   "outputs": [],
   "source": [
    "# Fill missing values\n",
    "df['tagline'] = df['tagline'].fillna('Unknown')\n",
    "df['overview'] = df['overview'].fillna('Unknown')"
   ]
  },
  {
   "cell_type": "code",
   "execution_count": 31,
   "metadata": {},
   "outputs": [],
   "source": [
    "# Drop rows with mising release date\n",
    "df = df.dropna(subset=['release_date'])\n",
    "\n",
    "# Convert 'release_date' to datetime and extract year, month, day\n",
    "df['release_date'] = pd.to_datetime(df['release_date'], errors='coerce')\n",
    "df['release_year'] = df['release_date'].dt.year\n",
    "df['release_month'] = df['release_date'].dt.month\n",
    "df['release_day'] = df['release_date'].dt.day"
   ]
  },
  {
   "cell_type": "code",
   "execution_count": 32,
   "metadata": {},
   "outputs": [],
   "source": [
    "# Handle boolean columns by converting them to integers\n",
    "# Map `False`/True` to 0/1\n",
    "df['adult'] = df['adult'].replace({'True': 1, 'False': 0})\n",
    "df['video'] = df['video'].astype(int)"
   ]
  },
  {
   "cell_type": "code",
   "execution_count": 33,
   "metadata": {},
   "outputs": [],
   "source": [
    "# Define a helper function to extract names from nested dictionaries in a column\n",
    "def extract_names(column):\n",
    "    return column.apply(lambda x: ','.join([d.get('name') for d in ast.literal_eval(x)] if pd.notnull(x) and x != '[]' else []))\n",
    "\n",
    "# Extract relevant data from nested dictionaries\n",
    "df['genres'] = extract_names(df['genres'])\n",
    "df['production_companies'] = extract_names(df['production_companies'])\n",
    "df['production_countries'] = extract_names(df['production_countries'])\n",
    "df['cast'] = extract_names(df['cast'])\n",
    "df['directors'] = extract_names(df['directors'])\n",
    "df['spoken_languages'] = extract_names(df['spoken_languages'])"
   ]
  },
  {
   "cell_type": "code",
   "execution_count": 34,
   "metadata": {},
   "outputs": [],
   "source": [
    "# Drop unnecessary columns\n",
    "df = df.drop(['belongs_to_collection', 'backdrop_path', 'poster_path', 'imdb_id', 'original_title', 'title', 'id', 'homepage', 'release_date'], axis=1)"
   ]
  },
  {
   "cell_type": "code",
   "execution_count": 35,
   "metadata": {},
   "outputs": [
    {
     "name": "stdout",
     "output_type": "stream",
     "text": [
      "   adult  budget         genres original_language  \\\n",
      "1      0       0          Drama                fr   \n",
      "2      0       0  Drama,Western                en   \n",
      "3      0       0    Documentary                fr   \n",
      "4      0  500000  Drama,History                en   \n",
      "7      0       0        Western                en   \n",
      "\n",
      "                                            overview popularity  \\\n",
      "1  The tragic story of a young orphan girl who is...      5.482   \n",
      "2  A fiercely independent cowboy arranges to have...      8.262   \n",
      "3  Documents the lives of infamous fakers Elmyr d...       7.83   \n",
      "4  The film follows one day in the lives of the T...      5.694   \n",
      "7  Character study of a Doctor who saves a local ...      7.869   \n",
      "\n",
      "                    production_companies      production_countries revenue  \\\n",
      "1  Fidès,Les Films Trocadero,Orsay Films            Austria,France       0   \n",
      "2                       Joel Productions  United States of America       0   \n",
      "3                       SACI,Janus Films       Germany,France,Iran       0   \n",
      "4                          First Company  United States of America       0   \n",
      "7           Baroda,Warner Bros. Pictures  United States of America       0   \n",
      "\n",
      "   runtime  ...    status                                            tagline  \\\n",
      "1    110.0  ...  Released                                            Unknown   \n",
      "2    107.0  ...  Released               Life can never cage a man like this!   \n",
      "3     89.0  ...  Released                                            Unknown   \n",
      "4    174.0  ...  Released                    PRIDE...POWER...PASSION...PAIN!   \n",
      "7    107.0  ...  Released  From The Prize Novel -- A Picture Of Thunderin...   \n",
      "\n",
      "  video  vote_average  vote_count  \\\n",
      "1     0           7.4        28.0   \n",
      "2     0           7.5        70.0   \n",
      "3     0           7.5       178.0   \n",
      "4     0           6.9        32.0   \n",
      "7     0           6.6        47.0   \n",
      "\n",
      "                                                cast          directors  \\\n",
      "1  Hardy Krüger,Nicole Courcel,Patricia Gozzi,Dan...  Serge Bourguignon   \n",
      "2  Kirk Douglas,Gena Rowlands,Walter Matthau,Carr...       David Miller   \n",
      "3  Orson Welles,Elmyr de Hory,Clifford Irving,Oja...       Orson Welles   \n",
      "4  Katharine Hepburn,Ralph Richardson,Jason Robar...       Sidney Lumet   \n",
      "7  Gary Cooper,Maria Schell,Karl Malden,George C....       Delmer Daves   \n",
      "\n",
      "  release_year  release_month  release_day  \n",
      "1         1962             11           12  \n",
      "2         1962              5           24  \n",
      "3         1975              3           12  \n",
      "4         1962             10            9  \n",
      "7         1959              3           13  \n",
      "\n",
      "[5 rows x 21 columns]\n"
     ]
    }
   ],
   "source": [
    "print(df.head())"
   ]
  },
  {
   "cell_type": "code",
   "execution_count": 36,
   "metadata": {},
   "outputs": [
    {
     "name": "stdout",
     "output_type": "stream",
     "text": [
      "Axes(0.125,0.11;0.775x0.77)\n"
     ]
    },
    {
     "data": {
      "image/png": "[encoded data removed]",
      "text/plain": [
       "<Figure size 640x480 with 1 Axes>"
      ]
     },
     "metadata": {},
     "output_type": "display_data"
    }
   ],
   "source": [
    "# Map 'vote_average' to nearest 0.5\n",
    "df['vote_average'] = ((df['vote_average'] * 2).round() / 2)\n",
    "print(df['vote_average'].value_counts().sort_index().plot(kind='bar'))"
   ]
  },
  {
   "cell_type": "code",
   "execution_count": 37,
   "metadata": {},
   "outputs": [
    {
     "name": "stdout",
     "output_type": "stream",
     "text": [
      "category\n",
      "good        11667\n",
      "mediocre     9273\n",
      "great        4598\n",
      "bad          4278\n",
      "Name: count, dtype: int64\n"
     ]
    }
   ],
   "source": [
    "#Group vote_average into categories:\n",
    "# 0.0-5.0 -> bad\n",
    "# 5.5-6.0 -> mediocre\n",
    "# 6.5-7.0 -> good\n",
    "# 7.5-9.9 -> great\n",
    "\n",
    "# Define the bins and labels\n",
    "bins = [0.0, 5.0, 6.0, 7.0, 9.9]\n",
    "labels = ['bad', 'mediocre', 'good', 'great']\n",
    "\n",
    "# Group vote_average into categories\n",
    "df['category'] = pd.cut(df['vote_average'], bins=bins, labels=labels, right=True)\n",
    "\n",
    "# Display the DataFrame\n",
    "print(df['category'].value_counts())"
   ]
  },
  {
   "cell_type": "code",
   "execution_count": 38,
   "metadata": {},
   "outputs": [
    {
     "name": "stdout",
     "output_type": "stream",
     "text": [
      "category\n",
      "bad         4278\n",
      "mediocre    4278\n",
      "good        4278\n",
      "great       4278\n",
      "Name: count, dtype: int64\n"
     ]
    },
    {
     "name": "stderr",
     "output_type": "stream",
     "text": [
      "/var/folders/ft/_sldpfqn58ggpktbrsrt5gmm0000gn/T/ipykernel_98423/184831406.py:3: FutureWarning: The default of observed=False is deprecated and will be changed to True in a future version of pandas. Pass observed=False to retain current behavior or observed=True to adopt the future default and silence this warning.\n",
      "  df = df.groupby('category').apply(lambda x: x.sample(n=n)).reset_index(drop=True)\n"
     ]
    }
   ],
   "source": [
    "# Take the same number of samples from each category\n",
    "n = df['category'].value_counts().min()\n",
    "df = df.groupby('category').apply(lambda x: x.sample(n=n)).reset_index(drop=True)\n",
    "\n",
    "# Display the DataFrame\n",
    "print(df['category'].value_counts())"
   ]
  },
  {
   "cell_type": "markdown",
   "metadata": {},
   "source": [
    "# Save data to file"
   ]
  },
  {
   "cell_type": "code",
   "execution_count": 39,
   "metadata": {},
   "outputs": [
    {
     "name": "stdout",
     "output_type": "stream",
     "text": [
      "<class 'pandas.core.frame.DataFrame'>\n",
      "Index: 17426 entries, 2 to 119913\n",
      "Data columns (total 27 columns):\n",
      " #   Column                 Non-Null Count  Dtype  \n",
      "---  ------                 --------------  -----  \n",
      " 0   adult                  17426 non-null  object \n",
      " 1   backdrop_path          16267 non-null  object \n",
      " 2   belongs_to_collection  3369 non-null   object \n",
      " 3   budget                 17426 non-null  object \n",
      " 4   genres                 17426 non-null  object \n",
      " 5   homepage               4959 non-null   object \n",
      " 6   id                     17426 non-null  float64\n",
      " 7   imdb_id                17420 non-null  object \n",
      " 8   original_language      17426 non-null  object \n",
      " 9   original_title         17426 non-null  object \n",
      " 10  overview               17365 non-null  object \n",
      " 11  popularity             17426 non-null  object \n",
      " 12  poster_path            17426 non-null  object \n",
      " 13  production_companies   17426 non-null  object \n",
      " 14  production_countries   17426 non-null  object \n",
      " 15  release_date           17425 non-null  object \n",
      " 16  revenue                17426 non-null  object \n",
      " 17  runtime                17426 non-null  float64\n",
      " 18  spoken_languages       17426 non-null  object \n",
      " 19  status                 17426 non-null  object \n",
      " 20  tagline                11746 non-null  object \n",
      " 21  title                  17426 non-null  object \n",
      " 22  video                  17426 non-null  object \n",
      " 23  vote_average           17426 non-null  float64\n",
      " 24  vote_count             17426 non-null  float64\n",
      " 25  cast                   17426 non-null  object \n",
      " 26  directors              17426 non-null  object \n",
      "dtypes: float64(4), object(23)\n",
      "memory usage: 3.7+ MB\n",
      "None\n",
      "    adult                     backdrop_path belongs_to_collection budget  \\\n",
      "2   False   /7hbpOpGDOYZ4G8ddLuzNmzxZP6.jpg                   NaN      0   \n",
      "3   False  /28a0wvZb8kyjVBd6BcPEnrHbrhm.jpg                   NaN      0   \n",
      "18  False  /lJPzIsddMSc7aGqv6T25uwG7fzm.jpg                   NaN      0   \n",
      "24  False  /lFTIB7obHpTYTMOruePsxigthQN.jpg                   NaN      0   \n",
      "36  False  /jHuEVaTKVJPQtMeSt4uzVFbTsH3.jpg                   NaN      0   \n",
      "\n",
      "                                               genres homepage       id  \\\n",
      "2   [{'id': 18, 'name': 'Drama'}, {'id': 37, 'name...      NaN  43002.0   \n",
      "3                 [{'id': 99, 'name': 'Documentary'}]      NaN  43003.0   \n",
      "18                    [{'id': 36, 'name': 'History'}]      NaN  43020.0   \n",
      "24                      [{'id': 18, 'name': 'Drama'}]      NaN  43028.0   \n",
      "36                    [{'id': 37, 'name': 'Western'}]      NaN  43040.0   \n",
      "\n",
      "      imdb_id original_language        original_title  ... runtime  \\\n",
      "2   tt0056195                en  Lonely Are the Brave  ...   107.0   \n",
      "3   tt0072962                fr  Vérités et Mensonges  ...    89.0   \n",
      "18  tt0054756                it    Il colosso di Rodi  ...   127.0   \n",
      "24  tt0055597                en                Victim  ...    90.0   \n",
      "36  tt0054292                en     Sergeant Rutledge  ...   111.0   \n",
      "\n",
      "                                     spoken_languages    status  \\\n",
      "2   [{'iso_639_1': 'es', 'name': 'Español'}, {'iso...  Released   \n",
      "3   [{'iso_639_1': 'en', 'name': 'English'}, {'iso...  Released   \n",
      "18          [{'iso_639_1': 'it', 'name': 'Italiano'}]  Released   \n",
      "24           [{'iso_639_1': 'en', 'name': 'English'}]  Released   \n",
      "36           [{'iso_639_1': 'en', 'name': 'English'}]  Released   \n",
      "\n",
      "                                              tagline                   title  \\\n",
      "2                Life can never cage a man like this!    Lonely Are the Brave   \n",
      "3                                                 NaN              F for Fake   \n",
      "18  A monster statue of bronze and stone...A fabul...  The Colossus of Rhodes   \n",
      "24  A Daring Picture About the World's Most Un-tal...                  Victim   \n",
      "36  Forget all the suspense you have ever seen! Fo...       Sergeant Rutledge   \n",
      "\n",
      "    video vote_average  vote_count  \\\n",
      "2   False          7.5        70.0   \n",
      "3   False          7.5       178.0   \n",
      "18  False          6.1        94.0   \n",
      "24  False          7.3        57.0   \n",
      "36  False          7.2        59.0   \n",
      "\n",
      "                                                 cast  \\\n",
      "2   [{'cast_id': 1, 'character': 'John W. \"Jack\" B...   \n",
      "3   [{'cast_id': 3, 'character': 'Himself', 'credi...   \n",
      "18  [{'cast_id': 3, 'character': 'Dario', 'credit_...   \n",
      "24  [{'cast_id': 4, 'character': 'Melville Farr', ...   \n",
      "36  [{'cast_id': 2, 'character': 'Lt. Tom Cantrell...   \n",
      "\n",
      "                                            directors  \n",
      "2   [{'credit_id': '52fe4626c3a36847f80ef733', 'de...  \n",
      "3   [{'credit_id': '52fe4626c3a36847f80ef75b', 'de...  \n",
      "18  [{'credit_id': '52fe4627c3a36847f80efb67', 'de...  \n",
      "24  [{'credit_id': '52fe4627c3a36847f80efcaf', 'de...  \n",
      "36  [{'credit_id': '52fe4628c3a36847f80f0053', 'de...  \n",
      "\n",
      "[5 rows x 27 columns]\n"
     ]
    }
   ],
   "source": [
    "# Print info about the data\n",
    "print(df.info())\n",
    "print(df.head())"
   ]
  },
  {
   "cell_type": "code",
   "execution_count": 14,
   "metadata": {},
   "outputs": [
    {
     "name": "stdout",
     "output_type": "stream",
     "text": [
      "5680\n",
      "61\n"
     ]
    }
   ],
   "source": [
    "# Find missing values in `tagline`, `overview`\n",
    "print(df['tagline'].isna().sum())\n",
    "print(df['overview'].isna().sum())"
   ]
  },
  {
   "cell_type": "code",
   "execution_count": 15,
   "metadata": {},
   "outputs": [],
   "source": [
    "# Fill missing values\n",
    "df['tagline'] = df['tagline'].fillna('Unknown')\n",
    "df['overview'] = df['overview'].fillna('Unknown')"
   ]
  },
  {
   "cell_type": "code",
   "execution_count": 16,
   "metadata": {},
   "outputs": [],
   "source": [
    "# Drop rows with mising release date\n",
    "df = df.dropna(subset=['release_date'])\n",
    "\n",
    "# Convert 'release_date' to datetime and extract year, month, day\n",
    "df['release_date'] = pd.to_datetime(df['release_date'], errors='coerce')\n",
    "df['release_year'] = df['release_date'].dt.year\n",
    "df['release_month'] = df['release_date'].dt.month\n",
    "df['release_day'] = df['release_date'].dt.day"
   ]
  },
  {
   "cell_type": "code",
   "execution_count": 17,
   "metadata": {},
   "outputs": [],
   "source": [
    "# Handle boolean columns by converting them to integers\n",
    "# Map `False`/True` to 0/1\n",
    "df['adult'] = df['adult'].replace({'True': 1, 'False': 0})\n",
    "df['video'] = df['video'].astype(int)"
   ]
  },
  {
   "cell_type": "code",
   "execution_count": 18,
   "metadata": {},
   "outputs": [],
   "source": [
    "# Define a helper function to extract names from nested dictionaries in a column\n",
    "def extract_names(column):\n",
    "    return column.apply(lambda x: ','.join([d.get('name') for d in ast.literal_eval(x)] if pd.notnull(x) and x != '[]' else []))\n",
    "\n",
    "# Extract relevant data from nested dictionaries\n",
    "df['genres'] = extract_names(df['genres'])\n",
    "df['production_companies'] = extract_names(df['production_companies'])\n",
    "df['production_countries'] = extract_names(df['production_countries'])\n",
    "df['cast'] = extract_names(df['cast'])\n",
    "df['directors'] = extract_names(df['directors'])\n",
    "df['spoken_languages'] = extract_names(df['spoken_languages'])"
   ]
  },
  {
   "cell_type": "code",
   "execution_count": 19,
   "metadata": {},
   "outputs": [],
   "source": [
    "# Drop unnecessary columns\n",
    "df = df.drop(['belongs_to_collection', 'backdrop_path', 'poster_path', 'imdb_id', 'original_title', 'title', 'id', 'homepage', 'release_date'], axis=1)"
   ]
  },
  {
   "cell_type": "code",
   "execution_count": 20,
   "metadata": {},
   "outputs": [
    {
     "name": "stdout",
     "output_type": "stream",
     "text": [
      "    adult budget         genres original_language  \\\n",
      "2       0      0  Drama,Western                en   \n",
      "3       0      0    Documentary                fr   \n",
      "18      0      0        History                it   \n",
      "24      0      0          Drama                en   \n",
      "36      0      0        Western                en   \n",
      "\n",
      "                                             overview popularity  \\\n",
      "2   A fiercely independent cowboy arranges to have...      8.262   \n",
      "3   Documents the lives of infamous fakers Elmyr d...       7.83   \n",
      "18  While on holiday in Rhodes, Athenian war hero ...      9.668   \n",
      "24  In early 1960s London, barrister Melville Farr...      5.896   \n",
      "36  Respected black cavalry Sergeant Brax Rutledge...      6.003   \n",
      "\n",
      "                                 production_companies  \\\n",
      "2                                    Joel Productions   \n",
      "3                                    SACI,Janus Films   \n",
      "18  Produzioni Atlas Consorziate,Procusa,Comptoir ...   \n",
      "24                                                      \n",
      "36        John Ford Productions,Warner Bros. Pictures   \n",
      "\n",
      "        production_countries revenue  runtime  ...    status  \\\n",
      "2   United States of America       0    107.0  ...  Released   \n",
      "3        Germany,France,Iran       0     89.0  ...  Released   \n",
      "18        Spain,France,Italy       0    127.0  ...  Released   \n",
      "24            United Kingdom       0     90.0  ...  Released   \n",
      "36  United States of America       0    111.0  ...  Released   \n",
      "\n",
      "                                              tagline video  vote_average  \\\n",
      "2                Life can never cage a man like this!     0           7.5   \n",
      "3                                             Unknown     0           7.5   \n",
      "18  A monster statue of bronze and stone...A fabul...     0           6.1   \n",
      "24  A Daring Picture About the World's Most Un-tal...     0           7.3   \n",
      "36  Forget all the suspense you have ever seen! Fo...     0           7.2   \n",
      "\n",
      "    vote_count                                               cast  \\\n",
      "2         70.0  Kirk Douglas,Gena Rowlands,Walter Matthau,Carr...   \n",
      "3        178.0  Orson Welles,Elmyr de Hory,Clifford Irving,Oja...   \n",
      "18        94.0  Rory Calhoun,Lea Massari,Georges Marchal,Conra...   \n",
      "24        57.0  Dirk Bogarde,Sylvia Syms,Dennis Price,Anthony ...   \n",
      "36        59.0  Jeffrey Hunter,Woody Strode,Constance Towers,B...   \n",
      "\n",
      "        directors release_year  release_month  release_day  \n",
      "2    David Miller         1962              5           24  \n",
      "3    Orson Welles         1975              3           12  \n",
      "18   Sergio Leone         1961              6           15  \n",
      "24  Basil Dearden         1961              8            1  \n",
      "36      John Ford         1960              5           18  \n",
      "\n",
      "[5 rows x 21 columns]\n"
     ]
    }
   ],
   "source": [
    "print(df.head())"
   ]
  },
  {
   "cell_type": "code",
   "execution_count": 21,
   "metadata": {},
   "outputs": [
    {
     "name": "stdout",
     "output_type": "stream",
     "text": [
      "Axes(0.125,0.11;0.775x0.77)\n"
     ]
    },
    {
     "data": {
      "image/png": "[encoded data removed]",
      "text/plain": [
       "<Figure size 640x480 with 1 Axes>"
      ]
     },
     "metadata": {},
     "output_type": "display_data"
    }
   ],
   "source": [
    "# Map 'vote_average' to nearest 0.5\n",
    "df['vote_average'] = ((df['vote_average'] * 2).round() / 2)\n",
    "print(df['vote_average'].value_counts().sort_index().plot(kind='bar'))"
   ]
  },
  {
   "cell_type": "code",
   "execution_count": 22,
   "metadata": {},
   "outputs": [
    {
     "name": "stdout",
     "output_type": "stream",
     "text": [
      "category\n",
      "good        7064\n",
      "mediocre    5407\n",
      "great       3160\n",
      "bad         1794\n",
      "Name: count, dtype: int64\n"
     ]
    }
   ],
   "source": [
    "#Group vote_average into categories:\n",
    "# 0.0-5.0 -> bad\n",
    "# 5.5-6.0 -> mediocre\n",
    "# 6.5-7.0 -> good\n",
    "# 7.5-9.9 -> great\n",
    "\n",
    "# Define the bins and labels\n",
    "bins = [0.0, 5.0, 6.0, 7.0, 9.9]\n",
    "labels = ['bad', 'mediocre', 'good', 'great']\n",
    "\n",
    "# Group vote_average into categories\n",
    "df['category'] = pd.cut(df['vote_average'], bins=bins, labels=labels, right=True)\n",
    "\n",
    "# Display the DataFrame\n",
    "print(df['category'].value_counts())"
   ]
  },
  {
   "cell_type": "markdown",
   "metadata": {},
   "source": [
    "# Save data to file"
   ]
  },
  {
   "cell_type": "code",
   "execution_count": 23,
   "metadata": {},
   "outputs": [],
   "source": [
    "# Save the cleaned data to input/movie_data_tmbd_cleaned.csv\n",
    "df.to_csv('input/movie_data_tmbd_cleaned.csv', sep='|', index=False)"
   ]
  },
  {
   "cell_type": "code",
   "execution_count": null,
   "metadata": {},
   "outputs": [],
   "source": []
  }
 ],
 "metadata": {
  "kernelspec": {
   "display_name": "Python 3",
   "language": "python",
   "name": "python3"
  },
  "language_info": {
   "codemirror_mode": {
    "name": "ipython",
    "version": 3
   },
   "file_extension": ".py",
   "mimetype": "text/x-python",
   "name": "python",
   "nbconvert_exporter": "python",
   "pygments_lexer": "ipython3",
   "version": "3.10.11"
  }
 },
 "nbformat": 4,
 "nbformat_minor": 2
}
